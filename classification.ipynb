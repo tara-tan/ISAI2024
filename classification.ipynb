{
 "cells": [
  {
   "cell_type": "code",
   "execution_count": 217,
   "metadata": {},
   "outputs": [],
   "source": [
    "import pandas as pd\n",
    "import numpy as np\n",
    "import matplotlib.pyplot as plt\n",
    "import os\n",
    "from sklearn.metrics import classification_report,confusion_matrix\n",
    "import torch\n",
    "from abc import ABC,abstractmethod"
   ]
  },
  {
   "cell_type": "markdown",
   "metadata": {},
   "source": [
    "## DATASET PREP"
   ]
  },
  {
   "cell_type": "code",
   "execution_count": 218,
   "metadata": {},
   "outputs": [
    {
     "name": "stdout",
     "output_type": "stream",
     "text": [
      "['.\\\\ExperimentSet/normal/N10.jpg', '.\\\\ExperimentSet/normal/N100.jpg', '.\\\\ExperimentSet/normal/N100Rn.jpg', '.\\\\ExperimentSet/normal/N100Rp.jpg', '.\\\\ExperimentSet/normal/N100Sdown.jpg']\n"
     ]
    }
   ],
   "source": [
    "#import data\n",
    "def getAllPaths(path:str, excludeList = []):\n",
    "    path = path\n",
    "    pathList = []\n",
    "    labelList = []\n",
    "    dirList = os.listdir(path)[:3]\n",
    "    for idx, x in enumerate(dirList):\n",
    "        for xx in os.listdir(f\"{path}/{x}\"):\n",
    "            if not any(xxx in xx for xxx in excludeList):\n",
    "                pathList.append(f\"{path}/{x}/{xx}\")\n",
    "                labelList.append(idx)\n",
    "    return pathList, labelList\n",
    "\n",
    "trainPathFull = r\".\\ExperimentSet\"\n",
    "trainPathRaw = r\".\\ExperimentSetRaw\"\n",
    "trainPathSeg = r\".\\ExperimentSetNoFlip\"\n",
    "\n",
    "valPath = r\".\\ValidationSet\"\n",
    "originalPath = r\".\\Osteoporosis Knee X-ray\"\n",
    "\n",
    "trainPathListRaw,trainLabelListRaw = getAllPaths(trainPathRaw)\n",
    "trainPathListSeg,trainLabelListSeg = getAllPaths(trainPathSeg)\n",
    "trainPathListFlip,trainLabelListFlip = getAllPaths(trainPathFull,['Rp','Rn','Sup','Sdown','Sleft','Sright'])\n",
    "trainPathListAug,trainLabelListAug = getAllPaths(trainPathFull)\n",
    "# trainPathListRotate,trainLabelListRotate = getAllPaths(trainPathFull,['Rp','Rn'])\n",
    "\n",
    "valPathList,valLabelList = getAllPaths(valPath)\n",
    "originalPathList,originalLabelList = getAllPaths(originalPath)\n",
    "\n",
    "trainDirList = os.listdir(trainPathFull)[:3]\n",
    "valDirList = os.listdir(valPath)[:3]\n",
    "print(trainPathListAug[:5])"
   ]
  },
  {
   "cell_type": "code",
   "execution_count": 219,
   "metadata": {},
   "outputs": [
    {
     "name": "stdout",
     "output_type": "stream",
     "text": [
      "val normal: 10\n",
      "val osteopenia: 10\n",
      "val osteoporosis: 10\n",
      "train normal: 315\n",
      "train osteopenia: 1645\n",
      "train osteoporosis: 455\n"
     ]
    }
   ],
   "source": [
    "#check val distribution (this should be 10,10,10)\n",
    "#this does not account for excluded names\n",
    "trainDist = []\n",
    "for idx,x in enumerate(valDirList):\n",
    "    print(f\"val {x}: {len(os.listdir(f'{valPath}/{x}'))}\")\n",
    "\n",
    "for idx,x in enumerate(trainDirList):\n",
    "    print(f\"train {x}: {len(os.listdir(f'{trainPathFull}/{x}'))}\")\n",
    "    \n",
    "    trainDist.append(len(os.listdir(f'{trainPathFull}/{x}')))"
   ]
  },
  {
   "cell_type": "code",
   "execution_count": null,
   "metadata": {},
   "outputs": [],
   "source": [
    "#check image sizes\n",
    "from PIL import Image\n",
    "imageSizes = {}\n",
    "for x in trainPathListSeg:\n",
    "    img = Image.open(x).size\n",
    "    try:\n",
    "        imageSizes[str(img)] = imageSizes[str(img)] + 1\n",
    "    except KeyError:\n",
    "        imageSizes[str(img)] = 1\n",
    "imageSizes #varied image sizes, have to resize to 1024,1024"
   ]
  },
  {
   "cell_type": "code",
   "execution_count": 220,
   "metadata": {},
   "outputs": [
    {
     "data": {
      "text/plain": [
       "Index(['S.No', 'Patient Id', 'Joint Pain:', 'Gender', 'Age', 'Menopause Age',\n",
       "       'height  (meter)', 'Weight (KG) ', 'Smoker', 'Alcoholic', 'Diabetic',\n",
       "       'Hypothyroidism', 'Number of Pregnancies', 'Seizer Disorder',\n",
       "       'Estrogen Use', 'Occupation ', 'History of Fracture', 'Dialysis:',\n",
       "       'Family History of Osteoporosis', 'Maximum Walking distance (km)',\n",
       "       'Daily Eating habits', 'Medical History', 'T-score Value',\n",
       "       'Z-Score Value', 'BMI: ', 'Site', 'Obesity', 'Diagnosis'],\n",
       "      dtype='object')"
      ]
     },
     "execution_count": 220,
     "metadata": {},
     "output_type": "execute_result"
    }
   ],
   "source": [
    "df = pd.read_excel(\"Osteoporosis Knee X-ray/patient details.xlsx\")\n",
    "df.columns"
   ]
  },
  {
   "cell_type": "markdown",
   "metadata": {},
   "source": [
    "# DataLoader & Transforms"
   ]
  },
  {
   "cell_type": "code",
   "execution_count": 204,
   "metadata": {},
   "outputs": [],
   "source": [
    "import torch.utils\n",
    "import torchvision\n",
    "import torch\n",
    "import torchvision.transforms.functional as vF\n",
    "from torch.utils.data.dataloader import DataLoader\n",
    "from torch.utils.data import WeightedRandomSampler\n",
    "\n",
    "class OsteoTorchDataset(torch.utils.data.Dataset):\n",
    "    def __init__(self, itemsPath:list, labels:list, transform=None): \n",
    "        \n",
    "        self.itemsPath = itemsPath\n",
    "        self.labels = labels\n",
    "        self.transform = transform\n",
    "\n",
    "    def __len__(self):\n",
    "        return len(self.itemsPath)\n",
    "\n",
    "    def __getitem__(self,idx):\n",
    "        try:\n",
    "            image = Image.open(self.itemsPath[idx]).convert('RGB')\n",
    "        except Exception as e:\n",
    "            print(idx)\n",
    "            print(self.itemsPath)\n",
    "            raise e\n",
    "        if self.transform:\n",
    "            image = self.transform(image)  \n",
    "        \n",
    "        image.to(device = torch.device('cuda'))\n",
    "\n",
    "        return image, self.labels[idx], self.itemsPath[idx]       \n",
    "\n",
    "class OsteoSetWithPatientDetails(torch.utils.data.Dataset): #ONLY WORKS WITH SEGMENTED IMAGES with extra digit at the back\n",
    "    def __init__(self, itemsPath:list, labels:list, transform=None): \n",
    "        \n",
    "        df = pd.read_excel(\"Osteoporosis Knee X-ray/patient details.xlsx\")\n",
    "        \n",
    "        bmi = df.columns[-4]\n",
    "        \n",
    "        df = df[['Patient Id',\n",
    "                 'Gender',\n",
    "                 'Age',\n",
    "                 'Weight (KG) ',\n",
    "                 bmi]]\n",
    "        df = df.dropna()\n",
    "        df.reset_index(drop=True,inplace=True)\n",
    "        df.Gender = df.Gender.apply(lambda x: 1 if x == 'male' else 0)\n",
    "        # df['Family History of Osteoporosis'] = df['Family History of Osteoporosis'].apply(lambda x: 1 if x == 'yes' else 0)\n",
    "        df['Age'] = ((df['Age']/df['Age'].mean())*2)-1\n",
    "        df['Weight (KG) '] = ((df['Weight (KG) ']/df['Weight (KG) '].mean())*2)-0.1\n",
    "        df[bmi] = ((df[bmi]/df[bmi].mean())*2) - 1\n",
    "        df[df['Patient Id'] == 'N12']\n",
    "\n",
    "        words = [x.split(r'/')[-1].split(r'.')[0] for x in itemsPath]\n",
    "        augments = ['Rp','Rn','Sup','Sdown','Sleft','Sright']\n",
    "        for x in augments:\n",
    "            words = [w.replace(x,'') for w in words]\n",
    "        pathNames = [x[:-1] for x in words]\n",
    "\n",
    "        for i in range(len(pathNames)):\n",
    "            pathNames[i] = df[df['Patient Id'] == pathNames[i]].to_numpy()\n",
    "            pathNames[i] = list(np.append(pathNames[i],itemsPath[i]))\n",
    "\n",
    "        \n",
    "        self.itemsPath = pathNames\n",
    "        self.labels = labels\n",
    "        self.transform = transform\n",
    "        \n",
    "\n",
    "    def __len__(self):\n",
    "        return len(self.labels)\n",
    "\n",
    "    def __getitem__(self,idx):\n",
    "        try:\n",
    "            image = Image.open(self.itemsPath[idx][-1]).convert('RGB')\n",
    "        except Exception as e:\n",
    "            print(idx)\n",
    "            print(self.itemsPath)\n",
    "            raise e\n",
    "        \n",
    "        if self.transform:\n",
    "            image = self.transform(image)  \n",
    "        \n",
    "        image.to(device = torch.device('cuda'))\n",
    "\n",
    "        # last element returned is Gender, Age, Weight, Family History\n",
    "        return [image,torch.tensor(self.itemsPath[idx][1:-1],dtype=torch.float16)], self.labels[idx], self.itemsPath[idx][-1]\n",
    "                    \n",
    "\n",
    "#inits dataset and dataloader + resamples training data to balance classes\n",
    "def balanceSet(trainPathList,trainLabelList,transform,replacement = False,offset = 3,batchSize = 10,dataset = None):\n",
    "    if isinstance(dataset,OsteoSetWithPatientDetails): \n",
    "        trainDataset = dataset\n",
    "    else:\n",
    "        trainDataset = OsteoTorchDataset(trainPathList,trainLabelList,transform)    \n",
    "          \n",
    "    unique_elements, counts = torch.unique(torch.tensor(trainLabelList), return_counts=True)\n",
    "    sampleWeights = 1. / counts.float() #I HAVE NO IDEA WHY THIS WORKS BUT IT DOES\n",
    "    # MORAL OF THE STORY: FOLLOW THE FUCKING TUTORIAL DONT TRY CHANGING SHIT ON YOUR OWN ***EVEN IF THE DOCUMENTATION SAYS YOU SHOULD***\n",
    "    # trainSampler = WeightedRandomSampler(weights=[sampleWeights[x] for x in trainLabelList],num_samples=len(trainDataset),replacement=True)\n",
    "\n",
    "    # trainSampler = WeightedRandomSampler(weights=[sampleWeights[x] for x in trainLabelList],num_samples=min(trainDist)*8,replacement=False)\n",
    "\n",
    "    trainSampler = WeightedRandomSampler(weights=[sampleWeights[x] for x in trainLabelList],num_samples=counts.min().item()*(3+offset),replacement= replacement)\n",
    "\n",
    "    trainLoader = DataLoader(trainDataset, batch_size = batchSize,shuffle=False,num_workers=0,sampler=trainSampler)\n",
    "    return trainLoader"
   ]
  },
  {
   "cell_type": "code",
   "execution_count": 205,
   "metadata": {},
   "outputs": [],
   "source": [
    "# # Code to save Processed images to disk to save on processing time\n",
    "# import PIL\n",
    "# # trainDataset = OsteoTorchDataset(trainPathList,trainLabelList,transformCenter)\n",
    "\n",
    "# valDataset = OsteoTorchDataset(valPathList,valLabelList,transformCenter)\n",
    "# for x in valDataset:\n",
    "#     arr = ((x[0].permute(1,2,0)*255).numpy().astype(np.uint8))\n",
    "#     img = PIL.Image.fromarray(arr,mode=\"RGB\")\n",
    "#     img.save(x[2].replace('ValidationSet','ValidationSet copy'))"
   ]
  },
  {
   "cell_type": "markdown",
   "metadata": {},
   "source": [
    "## Visualization (can skip this)"
   ]
  },
  {
   "cell_type": "code",
   "execution_count": 206,
   "metadata": {},
   "outputs": [],
   "source": [
    "transformNone = torchvision.transforms.Compose([\n",
    "                                            torchvision.transforms.ToTensor(),\n",
    "                                            torchvision.transforms.Resize((224,224)),\n",
    "                                            # torchvision.transforms.CenterCrop((224,224)),\n",
    "                                            torchvision.transforms.Normalize((0.5,0.5,0.5), (0.5,0.5,0.5)),\n",
    "                                            ])                      \n",
    "\n",
    "valTransform = torchvision.transforms.Compose([\n",
    "                                            torchvision.transforms.ToTensor(),\n",
    "                                            torchvision.transforms.Resize((224,224)),\n",
    "                                            torchvision.transforms.Normalize((0.5,0.5,0.5), (0.5,0.5,0.5)),\n",
    "                                            ])   \n",
    "\n",
    "transformCenter = torchvision.transforms.Compose([\n",
    "                                            torchvision.transforms.ToTensor(),\n",
    "                                            torchvision.transforms.Resize((269,269)),\n",
    "                                            torchvision.transforms.CenterCrop((224,224)),\n",
    "                                            torchvision.transforms.Normalize((0.5,0.5,0.5), (0.5,0.5,0.5)),\n",
    "                                            ])                      "
   ]
  },
  {
   "cell_type": "code",
   "execution_count": 207,
   "metadata": {},
   "outputs": [
    {
     "data": {
      "text/plain": [
       "tensor([ 315, 1130,  445])"
      ]
     },
     "execution_count": 207,
     "metadata": {},
     "output_type": "execute_result"
    }
   ],
   "source": [
    "trainLoader = balanceSet(trainPathListAug,trainLabelListAug,transformCenter)\n",
    "\n",
    "valDataset = OsteoTorchDataset(valPathList,valLabelList,valTransform)\n",
    "valLoader = DataLoader(valDataset, batch_size = 8,shuffle=False,num_workers=0)\n",
    "\n",
    "unique_elements, counts = torch.unique(torch.cat([y for x,y,z in trainLoader]), return_counts=True)#delete this\n",
    "counts"
   ]
  },
  {
   "cell_type": "code",
   "execution_count": 208,
   "metadata": {},
   "outputs": [
    {
     "data": {
      "text/plain": [
       "tensor([10, 10, 10])"
      ]
     },
     "execution_count": 208,
     "metadata": {},
     "output_type": "execute_result"
    }
   ],
   "source": [
    "unique_elements, counts = torch.unique(torch.cat([x for y,x,z in valLoader]), return_counts=True)#delete this\n",
    "counts"
   ]
  },
  {
   "cell_type": "code",
   "execution_count": 209,
   "metadata": {},
   "outputs": [
    {
     "data": {
      "text/plain": [
       "tensor(0.8273)"
      ]
     },
     "execution_count": 209,
     "metadata": {},
     "output_type": "execute_result"
    }
   ],
   "source": [
    "temp = next(iter(trainLoader))\n",
    "index = -1\n",
    "\n",
    "temp[0][0].max()"
   ]
  },
  {
   "cell_type": "code",
   "execution_count": 210,
   "metadata": {},
   "outputs": [
    {
     "name": "stdout",
     "output_type": "stream",
     "text": [
      "210\n",
      ".\\ExperimentSet/normal/N71Sup.jpg\n"
     ]
    },
    {
     "data": {
      "image/png": "[encoded data removed]",
      "text/plain": [
       "<Figure size 640x480 with 2 Axes>"
      ]
     },
     "metadata": {},
     "output_type": "display_data"
    }
   ],
   "source": [
    "# temp[0][0].min()\n",
    "\n",
    "import matplotlib.pyplot as plt\n",
    "index += 1\n",
    "# print(temp[1][index],temp[2][index])\n",
    "print((temp[0][index].numpy()*255).max().astype(np.uint8))\n",
    "\n",
    "fig, axs = plt.subplots(1, 2)\n",
    "\n",
    "print(str(temp[2][index]))\n",
    "# Plot the first image\n",
    "axs[0].imshow(((temp[0][index]+1)/2).permute(1, 2, 0))\n",
    "axs[0].set_title('Image 1')\n",
    "\n",
    "# Plot the second image\n",
    "axs[1].imshow(Image.open(temp[2][index]).convert('RGB'))\n",
    "axs[1].set_title('Image 2')\n",
    "\n",
    "plt.show()"
   ]
  },
  {
   "cell_type": "markdown",
   "metadata": {},
   "source": [
    "## MODEL PREP\n"
   ]
  },
  {
   "cell_type": "code",
   "execution_count": 211,
   "metadata": {},
   "outputs": [],
   "source": [
    "# import models here\n",
    "import sklearn.metrics\n",
    "from resnetModel import ResNet50\n",
    "import sklearn\n",
    "import lightning as L\n",
    "from lightning.pytorch.callbacks import ModelCheckpoint\n",
    "from torcheval.metrics.functional import multiclass_f1_score,multiclass_confusion_matrix,multiclass_accuracy\n",
    "from torchmetrics.classification import MulticlassConfusionMatrix\n",
    "from matplotlib import pyplot as plt\n",
    "import cv2\n",
    "from torch import mode\n",
    "import torch.nn.functional as F\n",
    "import itertools\n",
    "import seaborn as sns\n",
    "from abc import ABC\n",
    "import typing\n",
    "\n",
    "#FIXME clean up my fucking code ffs its so UGLY\n",
    "\n",
    "class ExperimentModel(L.LightningModule,ABC):\n",
    "\n",
    "    existingModels = []\n",
    "\n",
    "    def __init__(self) -> None:\n",
    "        ExperimentModel.existingModels.append(self)\n",
    "        super().__init__()\n",
    "\n",
    "        #init the models here in a subclass\n",
    "        self.name = self.__class__.__name__\n",
    "        self.num_class = 3\n",
    "        self.classWeight = torch.tensor([0.204, 0.052, 0.175],device='cuda')\n",
    "        self.LOGPATH = None\n",
    "        self.trainLoader = None\n",
    "        self.valLoader = None\n",
    "        \n",
    "        # if (torch.tensor([0.204, 0.052, 0.175],device='cuda')*0).detach()[0].item() == 0:\n",
    "        #   self.classWeight = torch.ones(self.classWeight.size(),device='cuda')\n",
    "\n",
    "        self.dump = []\n",
    "\n",
    "    def setLogPath(self,logPath): # this should be the general logging dir of the model's current version (refer to tblogger in training loop)\n",
    "        self.LOGPATH = logPath\n",
    "    \n",
    "    def setDataLoader(self,trainLoader:typing.Optional[DataLoader] = None,valLoader:typing.Optional[DataLoader] = None):\n",
    "        self.trainLoader = trainLoader\n",
    "        self.valLoader = valLoader  \n",
    "    \n",
    "    @abstractmethod\n",
    "    def forward():\n",
    "        pass\n",
    "    \n",
    "    def training_step(self,batch):\n",
    "        data,label,path = batch\n",
    "\n",
    "        output = self(data)\n",
    "        self.dump.append([path,label])\n",
    "        # loss = F.cross_entropy(output,label,weight=self.classWeight)\n",
    "        loss = F.cross_entropy(output,label)\n",
    "        self.log(\"train_loss\", loss, on_step=False, on_epoch=True, prog_bar=True, logger=True)\n",
    "        self.log(\"train_acc\", multiclass_accuracy(output.argmax(1),label,num_classes=self.num_class), on_step=False, on_epoch=True, prog_bar=True, logger=True)\n",
    "        return loss\n",
    "\n",
    "    def validation_step(self, batch, batch_idx) -> None:\n",
    "        pass\n",
    "        # f1 macro and accuracy logs have been moved to GradCamTrak\n",
    "\n",
    "        \n",
    "    def configure_optimizers(self):\n",
    "        optimizer = torch.optim.SGD(self.parameters(), lr=0.01, momentum=0.9)\n",
    "        return optimizer\n",
    "\n",
    "    def test_step(self,batch, batch_idx):\n",
    "        self.validation_step(batch,batch_idx)"
   ]
  },
  {
   "cell_type": "code",
   "execution_count": 212,
   "metadata": {},
   "outputs": [],
   "source": [
    "import functools\n",
    "import re\n",
    "import io\n",
    "\n",
    "import torchvision.transforms.functional\n",
    "import resnetModel\n",
    "import shutil\n",
    "\n",
    "class GradCamTrack(ExperimentModel): #Class for GradCam visualization, should be subclassed by the model to be visualized with a new init and a forward + hook\n",
    "    \n",
    "    def __init__(self,) -> None:\n",
    "        super().__init__()\n",
    "        \n",
    "        self.gradients = None\n",
    "        self.cachedActivation = None\n",
    "\n",
    "    # cachedActivation is no longer needed, but kept for legacy purposes\n",
    "    def activations_hook(self, grad, imageActivation = None):\n",
    "        if imageActivation != None:\n",
    "            self.cachedActivation = imageActivation\n",
    "        self.gradients = grad\n",
    "\n",
    "    # method for the gradient extraction\n",
    "    def get_activations_gradient(self):\n",
    "        return self.gradients\n",
    "    \n",
    "    # method for the activation exctraction\n",
    "    def get_activations(self, x):\n",
    "        return self.features_conv(x.to(device = torch.device('cuda')))\n",
    "     \n",
    "    # Runs CAM and overlays the image\n",
    "    # this is the function to call for visualization\n",
    "    def visualize(self,dataloader:torch.utils.data.dataloader.DataLoader): #TODO FIX THIS for generalization\n",
    "        \n",
    "        with torch.inference_mode(False):\n",
    "            out,path,pred = self.CAM(dataloader)\n",
    "        \n",
    "        #visualize saves the images in 2 locations, one for the current epoch(same path as logdir) and one for the latest model (visualizations/gradCam)\n",
    "       \n",
    "        try:\n",
    "            os.mkdir(rf'./{self.LOGPATH}/gradCam')\n",
    "        except OSError:\n",
    "            pass\n",
    "\n",
    "        try:\n",
    "            shutil.rmtree(rf'./{self.LOGPATH}/gradCam/{self.current_epoch}')\n",
    "        except FileNotFoundError:\n",
    "            pass\n",
    "        \n",
    "        os.mkdir(rf'./{self.LOGPATH}/gradCam/{self.current_epoch}')\n",
    "\n",
    "        for i in range(len(out)):\n",
    "            self.visualizeAndWrite(out[i],path[i],pred[i],rf'./{self.LOGPATH}/gradCam/{self.current_epoch}')\n",
    "        return pred,path\n",
    "    \n",
    "    # Visualizes the Gradients of the last conv layer of model\n",
    "    # can take in torch dataloader or ([img],[label],[path])\n",
    "    def CAM(self,dataloader:torch.utils.data.dataloader.DataLoader):\n",
    "        \n",
    "        self.eval()\n",
    "        self.requires_grad_()\n",
    "        predList = []\n",
    "\n",
    "        pathList = []\n",
    "        \n",
    "        heatmapList = []\n",
    "\n",
    "        for x in dataloader:\n",
    "            if isinstance(dataloader.dataset,OsteoSetWithPatientDetails):\n",
    "                img,label,path = x\n",
    "            else:\n",
    "                img,label,path = x\n",
    "                img = [img]\n",
    "\n",
    "            \n",
    "            for x in img:\n",
    "                x = x.to(device = torch.device('cuda'))\n",
    "                \n",
    "            for i in range(len(img[0])):\n",
    "                if isinstance(dataloader.dataset,OsteoSetWithPatientDetails):\n",
    "                    temp = [torch.unsqueeze(img[0][i],0),torch.unsqueeze(img[1][i],0)]\n",
    "                    [x.requires_grad_() for x in temp]\n",
    "                    out = self(temp)\n",
    "                else:\n",
    "                    out = self(torch.unsqueeze(img[0][i],0).requires_grad_())\n",
    "                pred = out.argmax(1).item()\n",
    "                predList.append(pred)\n",
    "                # get the gradient of the output with respect to the parameters of the model\n",
    "                out[:, pred].backward()\n",
    "\n",
    "                # pull the gradients out of the model\n",
    "                gradients = self.get_activations_gradient()\n",
    "\n",
    "                # pool the gradients across the channels\n",
    "                pooled_gradients = torch.mean(gradients, dim=[0, 2, 3])\n",
    "\n",
    "                # get the activations of the last convolutional layer\n",
    "                if self.cachedActivation != None:\n",
    "                    activations = self.cachedActivation.detach()\n",
    "                else:\n",
    "                    activations = self.get_activations(torch.unsqueeze(img[0][i],0)).detach() # DONT forget to apply image changes here too\n",
    "                # weight the channels by corresponding gradients\n",
    "                for j in range(pooled_gradients.shape[0]):\n",
    "                    activations[:, j, :, :] *= pooled_gradients[j]\n",
    "                    \n",
    "                # average the channels of the activations\n",
    "                heatmap = torch.mean(activations, dim=1).squeeze()\n",
    "\n",
    "                # relu on top of the heatmap\n",
    "                # expression (2) in https://arxiv.org/pdf/1610.02391.pdf\n",
    "                heatmap = np.maximum(heatmap.detach().cpu(), 0)\n",
    "\n",
    "                # normalize the heatmap\n",
    "                heatmap /= torch.max(heatmap)\n",
    "\n",
    "                # draw the heatmap\n",
    "                heatmapList.append(heatmap)\n",
    "                \n",
    "                pathList.append(path[i])\n",
    "\n",
    "                self.zero_grad()\n",
    "\n",
    "        return heatmapList,pathList,predList\n",
    "    \n",
    "\n",
    "    #writes files to disk for visualization, format: model_epoch_label_pred/image.jpg\n",
    "    #logPath should be the \"{logging directory of the model}/gradCam/epoch\"\n",
    "    def visualizeAndWrite(self,out:torch.tensor,path:str,pred:str,logPath:str): #TODO Implement this with logger\n",
    "\n",
    "        labelDict = {0:'N',1:'OP',2:'OS'}\n",
    "            \n",
    "        img = cv2.imread(path)\n",
    "        heatmap = cv2.resize(out.numpy(), (img.shape[1], img.shape[0]))\n",
    "        heatmap = np.uint8(255 * heatmap)\n",
    "        heatmap = cv2.applyColorMap(heatmap, cv2.COLORMAP_JET)\n",
    "        # print(max(heatmap.flatten()),min(heatmap.flatten()))\n",
    "        superimposed_img = heatmap * 0.4 + img\n",
    "        # superimposed_img = superimposed_img / np.max(superimposed_img)\n",
    "        # self.logger.experiment.add_image(f'{path.split(r\"/\")[-1]}',superimposed_img,self.current_epoch,dataformats = 'HWC')\n",
    "        cv2.imwrite(rf'{logPath}/pred{labelDict[pred]}_{path.split(r\"/\")[-1].split(r\".\")[0]}.jpg', superimposed_img)\n",
    "\n",
    "    def on_validation_epoch_end(self) -> None:\n",
    "        super().on_validation_epoch_end()\n",
    "        pred,path = self.visualize(self.valLoader)\n",
    "        label = [x.split(r\"/\")[-2] for x in path]\n",
    "        labelDict = {'normal':0,'osteopenia':1,'osteoporosis':2}\n",
    "        \n",
    "        label = [labelDict[x] for x in label]\n",
    "        # self.log(\"classification report\",classification_report(label,pred))\n",
    "        print(classification_report(label,pred))\n",
    "        \n",
    "        self.log(\"val_acc_F1_macro\", sklearn.metrics.f1_score(label,pred,labels = range(self.num_class),average = 'macro'), on_step=False, on_epoch=True, prog_bar=True, logger=True)\n",
    "        self.log(\"val_acc\", multiclass_accuracy(torch.tensor(pred),torch.tensor(label),num_classes=self.num_class), on_step=False, on_epoch=True, prog_bar=True, logger=True)\n",
    "\n",
    "        plt.clf()\n",
    "        cm= confusion_matrix(label,pred,labels=[0,1,2],normalize='true')\n",
    "        sns.heatmap(cm, annot=True, cmap='Blues', fmt='.2f',vmax=1,vmin=0)\n",
    "        plt.xlabel('Predicted')\n",
    "        plt.ylabel('Actual')\n",
    "        plt.title('Confusion Matrix')\n",
    "        # plt.axis('off')\n",
    "        # plt.savefig(\"out.png\",bbox_inches='tight',pad_inches=0)\n",
    "        # fig = plt.gcf()\n",
    "\n",
    "        buf = io.BytesIO()\n",
    "        plt.savefig(buf)\n",
    "        buf.seek(0)\n",
    "        img = Image.open(buf)\n",
    "\n",
    "        # img = Image.frombytes('RGB', \n",
    "        #     fig.canvas.get_width_height(),fig.canvas.tostring_rgb())\n",
    "    \n",
    "        img.save(rf'{self.LOGPATH}/gradCam/{self.current_epoch}/confusionMatrix.PNG')\n",
    "\n",
    "        grid = torchvision.utils.make_grid(torchvision.transforms.functional.pil_to_tensor(img)) \n",
    "        self.logger.experiment.add_image('Confusion Matrix',grid,self.current_epoch)\n",
    "        # self.log({'Confusion Matrix': plt.gcf()}) #watch out for BUG\n",
    "\n",
    "    \n",
    "    def on_test_epoch_end(self)->None:\n",
    "        self.on_validation_epoch_end()"
   ]
  },
  {
   "cell_type": "code",
   "execution_count": 213,
   "metadata": {},
   "outputs": [],
   "source": [
    "\n",
    "class VGGModel(GradCamTrack):\n",
    "    def __init__(self,vgg:torchvision.models.vgg.VGG) -> None:\n",
    "        super().__init__()\n",
    "        self.features_conv = vgg.features[:-1]\n",
    "        # get the max pool of the features stem\n",
    "        self.max_pool = torch.nn.MaxPool2d(kernel_size=2, stride=2, padding=0, dilation=1, ceil_mode=False)\n",
    "        \n",
    "        # get the classifier of the vgg19\n",
    "        self.classifier = vgg.classifier\n",
    "        self.classifier[6] = torch.nn.Linear(4096,self.num_class)\n",
    "\n",
    "\n",
    "    def forward(self,inTensor):\n",
    "        x = self.features_conv(inTensor)\n",
    "        \n",
    "        # # register the hook\n",
    "        if x.requires_grad:\n",
    "            hook = x.register_hook(self.activations_hook)\n",
    "        \n",
    "        x = self.max_pool(x)\n",
    "        x = x.flatten(1,-1)\n",
    "        x = self.classifier(x)\n",
    "        return x\n",
    "    \n",
    "class VGGModeWithDetails(GradCamTrack):\n",
    "    def __init__(self,vgg:torchvision.models.vgg.VGG) -> None:\n",
    "        super().__init__()\n",
    "        self.features_conv = vgg.features[:-1]\n",
    "        # get the max pool of the features stem\n",
    "        self.max_pool = torch.nn.MaxPool2d(kernel_size=2, stride=2, padding=0, dilation=1, ceil_mode=False)\n",
    "        \n",
    "        # get the classifier of the vgg19\n",
    "        self.classifier = vgg.classifier\n",
    "        self.classifier[6] = torch.nn.Linear(4096,128)\n",
    "\n",
    "        self.MLP = torch.nn.Sequential(\n",
    "            torch.nn.Linear(132,1024),\n",
    "            torch.nn.ELU(),\n",
    "            torch.nn.Linear(1024,1024),\n",
    "            torch.nn.ELU(),\n",
    "            torch.nn.Linear(1024,128),\n",
    "            torch.nn.ELU(),\n",
    "            torch.nn.Linear(128,self.num_class)\n",
    "        )\n",
    "\n",
    "    def forward(self,inTensor):\n",
    "        x = self.features_conv(inTensor[:][0].to(device = torch.device('cuda')))\n",
    "        \n",
    "        # # register the hook\n",
    "        if x.requires_grad:\n",
    "            hook = x.register_hook(self.activations_hook)\n",
    "        \n",
    "        x = self.max_pool(x)\n",
    "        x = x.flatten(1,-1)\n",
    "        x = self.classifier(x)\n",
    "        x = self.MLP(torch.cat([x,inTensor[:][1].to(device=torch.device('cuda'))],dim=1))\n",
    "        return x\n",
    "\n",
    "class ResnetModel(GradCamTrack):\n",
    "    def __init__(self,resnet:torchvision.models.resnet.ResNet) -> None:\n",
    "        super().__init__()\n",
    "        self.features_conv = torch.nn.Sequential(*[x for x in resnet.children()][:-2])\n",
    "        self.avgpool = torch.nn.AdaptiveAvgPool2d((1,1))\n",
    "        self.fc = torch.nn.Linear(2048, self.num_class)\n",
    "        # self.model.layer4[2] = resnetModel.CustBottleneck(2048,512,self.activations_hook)\n",
    "        # self.model.fc = torch.nn.Linear(2048,3)\n",
    "        \n",
    "    def forward(self,inTensor:torch.tensor):\n",
    "        x = self.features_conv(inTensor)\n",
    "        \n",
    "        if x.requires_grad:\n",
    "            hook = x.register_hook(self.activations_hook)\n",
    "        \n",
    "        x = self.avgpool(x)\n",
    "        x = x.reshape(x.shape[0], -1)\n",
    "        x = self.fc(x)\n",
    "        return x\n",
    "\n",
    "class EfficientNetModel(GradCamTrack):\n",
    "    \n",
    "    def __init__(self,effNet:torchvision.models.efficientnet) -> None:\n",
    "        super().__init__()\n",
    "        self.features_conv = effNet.features\n",
    "        self.avgpool = effNet.avgpool\n",
    "        self.classifier = effNet.classifier\n",
    "        self.classifier[1] = torch.nn.Linear(1280,self.num_class)\n",
    "        \n",
    "        \n",
    "    def forward(self,inTensor:torch.tensor):\n",
    "        x = self.features_conv(inTensor)\n",
    "        \n",
    "        if x.requires_grad:\n",
    "            hook = x.register_hook(self.activations_hook)\n",
    "        \n",
    "        x = self.avgpool(x)\n",
    "        x = x.reshape(x.shape[0], -1)\n",
    "        x = self.classifier(x)\n",
    "        return x"
   ]
  },
  {
   "cell_type": "markdown",
   "metadata": {},
   "source": [
    "## Model Run"
   ]
  },
  {
   "cell_type": "code",
   "execution_count": 214,
   "metadata": {},
   "outputs": [],
   "source": [
    "transformNone = torchvision.transforms.Compose([\n",
    "                                            torchvision.transforms.ToTensor(),\n",
    "                                            torchvision.transforms.Resize((224,224)),\n",
    "                                            # torchvision.transforms.CenterCrop((224,224)),\n",
    "                                            torchvision.transforms.Normalize((0.5,0.5,0.5), (0.5,0.5,0.5)),\n",
    "                                            ])                      \n",
    "\n",
    "valTransform = torchvision.transforms.Compose([\n",
    "                                            torchvision.transforms.ToTensor(),\n",
    "                                            torchvision.transforms.Resize((224,224)),\n",
    "                                            torchvision.transforms.Normalize((0.5,0.5,0.5), (0.5,0.5,0.5)),\n",
    "                                            ])   \n",
    "\n",
    "\n",
    "transformCenter = torchvision.transforms.Compose([\n",
    "                                            torchvision.transforms.ToTensor(),\n",
    "                                            torchvision.transforms.Resize((269,269)),\n",
    "                                            torchvision.transforms.CenterCrop((224,224)),\n",
    "                                            torchvision.transforms.Normalize((0.5,0.5,0.5), (0.5,0.5,0.5)),\n",
    "                                            ])                      "
   ]
  },
  {
   "cell_type": "code",
   "execution_count": null,
   "metadata": {},
   "outputs": [],
   "source": [
    "# Init models here\n",
    "\n",
    "valDataset = OsteoTorchDataset(valPathList,valLabelList,valTransform)\n",
    "valLoader = DataLoader(valDataset, batch_size = 8,shuffle=False,num_workers=0)\n",
    "\n",
    "ExperimentModel.existingModels = []\n",
    "\n",
    "# resnet101 = ResnetModel(torch.hub.load('pytorch/vision:v0.19.0', 'resnet50', pretrained=True))\n",
    "# resnet101.setDataLoader(balanceSet(trainPathListAug,trainLabelListAug,transformNone,replacement=True,offset=6,batchSize = 32),valLoader)\n",
    "# resnet101.name = 'Resnet50Raw'\n",
    "\n",
    "# resnet102 = ResnetModel(torch.hub.load('pytorch/vision:v0.19.0', 'resnet50', pretrained=True))\n",
    "# resnet102.setDataLoader(balanceSet(trainPathListAug,trainLabelListAug,transformNone,replacement=True,offset=6,batchSize = 32),valLoader)\n",
    "# resnet102.name = 'Resnet50Seg'\n",
    "\n",
    "# resnet103 = ResnetModel(torch.hub.load('pytorch/vision:v0.19.0', 'resnet50', pretrained=True))\n",
    "# resnet103.setDataLoader(balanceSet(trainPathListAug,trainLabelListAug,transformNone,replacement=True,offset=6,batchSize = 32),valLoader)\n",
    "# resnet103.name = 'Resnet50Flip'\n",
    "\n",
    "# resnet101 = ResnetModel(torch.hub.load('pytorch/vision:v0.19.0', 'resnet50', pretrained=True))\n",
    "# resnet101.setDataLoader(balanceSet(trainPathListAug,trainLabelListAug,transformNone,replacement=True,offset=6,batchSize = 32),valLoader)\n",
    "# resnet101.name = 'Resnet50Aug'\n",
    "\n",
    "\n",
    "vgg191 = VGGModel(torchvision.models.vgg16(pretrained=True))\n",
    "vgg191.setDataLoader(balanceSet(trainPathListRaw,trainLabelListRaw,transformNone,replacement=True,offset=6),valLoader)\n",
    "vgg191.name = 'VGG16Raw'\n",
    "\n",
    "vgg192 = VGGModel(torchvision.models.vgg16(pretrained=True))\n",
    "vgg192.setDataLoader(balanceSet(trainPathListSeg,trainLabelListSeg,transformNone,replacement=True,offset=6),valLoader)\n",
    "vgg192.name = 'VGG16Seg'\n",
    "\n",
    "vgg193 = VGGModel(torchvision.models.vgg16(pretrained=True))\n",
    "vgg193.setDataLoader(balanceSet(trainPathListFlip,trainLabelListFlip,transformNone,replacement=True,offset=6),valLoader)\n",
    "vgg193.name = 'VGG16Flip'\n",
    "\n",
    "vgg194 = VGGModel(torchvision.models.vgg16(pretrained=True))\n",
    "vgg194.setDataLoader(balanceSet(trainPathListAug,trainLabelListAug,transformNone,replacement=True,offset=6),valLoader)\n",
    "vgg194.name = 'VGG16Aug'\n",
    "\n",
    "vgg195 = VGGModel(torchvision.models.vgg16(pretrained=True))\n",
    "vgg195.setDataLoader(balanceSet(trainPathListRaw,trainLabelListRaw,transformNone,replacement=True,offset=9),valLoader)\n",
    "vgg195.name = 'VGG16Raw'\n",
    "\n",
    "vgg196 = VGGModel(torchvision.models.vgg16(pretrained=True))\n",
    "vgg196.setDataLoader(balanceSet(trainPathListSeg,trainLabelListSeg,transformNone,replacement=True,offset=9),valLoader)\n",
    "vgg196.name = 'VGG16Seg'\n",
    "\n",
    "vgg197 = VGGModel(torchvision.models.vgg16(pretrained=True))\n",
    "vgg197.setDataLoader(balanceSet(trainPathListFlip,trainLabelListFlip,transformNone,replacement=True,offset=9),valLoader)\n",
    "vgg197.name = 'VGG16Flip'\n",
    "\n",
    "vgg198 = VGGModel(torchvision.models.vgg16(pretrained=True))\n",
    "vgg198.setDataLoader(balanceSet(trainPathListAug,trainLabelListAug,transformNone,replacement=True,offset=9),valLoader)\n",
    "vgg198.name = 'VGG16Aug'\n",
    "\n",
    "\n",
    "# vgg19x = VGGModel(torchvision.models.vgg19(pretrained=True))\n",
    "# vgg19x.setDataLoader(balanceSet(trainPathListAug,trainLabelListAug,transformCenter,replacement=True,offset=12),valLoader)\n",
    "# vgg19x.name = 'VGGModelBalancedBig'\n",
    "\n",
    "# vgg19x2 = VGGModel(torchvision.models.vgg19(pretrained=True))\n",
    "# vgg19x2.setDataLoader(balanceSet(trainPathListAug,trainLabelListAug,transformCenter,replacement=True,offset=9),valLoader)\n",
    "# vgg19x2.name = 'VGGModelBalanced'\n",
    "\n",
    "# vgg19x2 = VGGModel(torchvision.models.vgg19(pretrained=True))\n",
    "# vgg19x2.setDataLoader(balanceSet(trainPathListAug,trainLabelListAug,transformCenter,replacement=True,offset=6),valLoader)\n",
    "# vgg19x2.name = 'VGGModelBalancedCenterCrop'\n",
    "\n",
    "# vgg19x3 = VGGModel(torchvision.models.vgg19(pretrained=True))\n",
    "# vgg19x3.setDataLoader(balanceSet(trainPathListAug,trainLabelListAug,transformCenter,replacement=True,offset=3),valLoader)\n",
    "# vgg19x3.name = 'VGGModelBalancedSmall'\n",
    "\n",
    "\n",
    "# efficientNetv2 = EfficientNetModel(torch.hub.load('pytorch/vision:v0.19.0', 'efficientnet_v2_l', pretrained=True))\n",
    "[x.name for x in ExperimentModel.existingModels] "
   ]
  },
  {
   "cell_type": "code",
   "execution_count": null,
   "metadata": {},
   "outputs": [],
   "source": [
    "# Init models here\n",
    "\n",
    "valDataset = OsteoTorchDataset(valPathList,valLabelList,valTransform)\n",
    "valLoader = DataLoader(valDataset, batch_size = 8,shuffle=False,num_workers=0)\n",
    "\n",
    "ExperimentModel.existingModels = []\n",
    "\n",
    "# resnet101 = ResnetModel(torch.hub.load('pytorch/vision:v0.19.0', 'resnet101', pretrained=True))\n",
    "\n",
    "# # vgg191 = VGGModel(torchvision.models.vgg19(pretrained=True))\n",
    "# # vgg191.setDataLoader(balanceSet(trainPathListAug,trainLabelListAug,transformNone,batchSize=8),valLoader)\n",
    "# # vgg191.name = 'VGGModelNoTransform'\n",
    "\n",
    "# # vgg192 = VGGModel(torchvision.models.vgg19(pretrained=True))\n",
    "# # vgg192.setDataLoader(balanceSet(trainPathListAug,trainLabelListAug,transformCenter,batchSize=8),valLoader)\n",
    "# # vgg192.name = 'VGGModelCenterCrop'\n",
    "\n",
    "# # vgg193 = VGGModel(torchvision.models.vgg19(pretrained=True))\n",
    "# # vgg193.setDataLoader(balanceSet(trainPathListAug,trainLabelListAug,transformCenter,replacement=True,offset=6,batchSize=8),valLoader)\n",
    "# # vgg193.name = 'VGGModelCenterCropBalanced'\n",
    "\n",
    "# # vgg194 = VGGModel(torchvision.models.vgg19(pretrained=True))\n",
    "# # vgg194.setDataLoader(balanceSet(trainPathListFlip,trainLabelListFlip,transformNone,batchSize=8),valLoader)\n",
    "# # vgg194.name = 'VGGModelNoAugNoTransform'\n",
    "\n",
    "# # vgg195 = VGGModel(torchvision.models.vgg19(pretrained=True))\n",
    "# # vgg195.setDataLoader(balanceSet(trainPathListFlip,trainLabelListFlip,transformCenter,batchSize=8),valLoader)\n",
    "# # vgg195.name = 'VGGModelNoAugCenterCrop'\n",
    "\n",
    "# vgg196 = VGGModel(torchvision.models.vgg19(pretrained=True))\n",
    "# vgg196.setDataLoader(balanceSet(trainPathListNoAug,trainLabelListNoAug,transformCenter,replacement=True,offset=6),valLoader)\n",
    "# vgg196.name = 'VGGModelBalancedBig'\n",
    "\n",
    "# vgg197 = VGGModel(torchvision.models.vgg19(pretrained=True))\n",
    "# vgg197.setDataLoader(balanceSet(trainPathListNoAug,trainLabelListNoAug,transformCenter,replacement=False,offset=0),valLoader)\n",
    "# vgg197.name = 'VGGModelUnderSample'\n",
    "\n",
    "# vgg198 = VGGModel(torchvision.models.vgg19(pretrained=True))\n",
    "# vgg198.setDataLoader(balanceSet(trainPathList,trainLabelList,transformNone),valLoader)\n",
    "# vgg198.name = 'VGGModelRotate'\n",
    "\n",
    "# vgg199 = VGGModel(torchvision.models.vgg19(pretrained=True))\n",
    "# vgg199.setDataLoader(balanceSet(trainPathList,trainLabelList,transformCenter),valLoader)\n",
    "# vgg199.name = 'VGGModelRotateCrop'\n",
    "\n",
    "# vggCont2 = VGGModel.load_from_checkpoint(r\".\\lightning_logs\\VGGModelCenterCropBalanced\\version_0\\epoch=23-step=8520.ckpt\",vgg=torchvision.models.vgg19(pretrained=True))\n",
    "# vggCont2.setDataLoader(balanceSet(trainPathList,trainLabelList,transformCenter,replacement=True,offset=6),valLoader2)\n",
    "# vggCont2.name = 'VGGCont2'\n",
    "\n",
    "\n",
    "# efficientNetv2 = EfficientNetModel(torch.hub.load('pytorch/vision:v0.19.0', 'efficientnet_v2_l', pretrained=True))\n",
    "[x.name for x in ExperimentModel.existingModels] "
   ]
  },
  {
   "cell_type": "code",
   "execution_count": 215,
   "metadata": {},
   "outputs": [
    {
     "name": "stderr",
     "output_type": "stream",
     "text": [
      "C:\\Users\\assaw\\AppData\\Roaming\\Python\\Python310\\site-packages\\torchvision\\models\\_utils.py:208: UserWarning: The parameter 'pretrained' is deprecated since 0.13 and may be removed in the future, please use 'weights' instead.\n",
      "  warnings.warn(\n",
      "C:\\Users\\assaw\\AppData\\Roaming\\Python\\Python310\\site-packages\\torchvision\\models\\_utils.py:223: UserWarning: Arguments other than a weight enum or `None` for 'weights' are deprecated since 0.13 and may be removed in the future. The current behavior is equivalent to passing `weights=VGG19_Weights.IMAGENET1K_V1`. You can also use `weights=VGG19_Weights.DEFAULT` to get the most up-to-date weights.\n",
      "  warnings.warn(msg)\n"
     ]
    },
    {
     "data": {
      "text/plain": [
       "['VGGDetailsbalanced']"
      ]
     },
     "execution_count": 215,
     "metadata": {},
     "output_type": "execute_result"
    }
   ],
   "source": [
    "ExperimentModel.existingModels = []\n",
    "trainDetailsDataset = OsteoSetWithPatientDetails(trainPathListAug,trainLabelListAug,transformNone)\n",
    "\n",
    "valDataset = OsteoSetWithPatientDetails(valPathList,valLabelList,valTransform)\n",
    "valLoader = DataLoader(valDataset, batch_size = 8,shuffle=False,num_workers=0)\n",
    "\n",
    "vgg193 = VGGModeWithDetails(torchvision.models.vgg19(pretrained=True))\n",
    "vgg193.setDataLoader(balanceSet(trainPathListAug,trainLabelListAug,transformCenter,replacement=True,offset=6,batchSize=8,dataset=trainDetailsDataset),valLoader)\n",
    "vgg193.name = 'VGGDetailsbalanced'\n",
    "[x.name for x in ExperimentModel.existingModels] "
   ]
  },
  {
   "cell_type": "code",
   "execution_count": 168,
   "metadata": {},
   "outputs": [],
   "source": [
    "# ExperimentModel.existingModels = []\n",
    "\n",
    "# ckptPath = r\"lightning_logs\\VGGModelCenterCropBalanced\\version_0\\epoch=23-step=8520.ckpt\"\n",
    "# VGGCkptTest = VGGModel.load_from_checkpoint(ckptPath,vgg=torchvision.models.vgg19(pretrained=True))\n",
    "# VGGCkptTest.setDataLoader(balanceSet(trainPathListAug,trainLabelListAug,transformCenter,replacement=True,offset=6),valLoader)\n",
    "# VGGCkptTest.name = 'VGGCkptTest'"
   ]
  },
  {
   "cell_type": "code",
   "execution_count": 216,
   "metadata": {},
   "outputs": [
    {
     "name": "stderr",
     "output_type": "stream",
     "text": [
      "Using 16bit Automatic Mixed Precision (AMP)\n",
      "GPU available: True (cuda), used: True\n",
      "TPU available: False, using: 0 TPU cores\n",
      "HPU available: False, using: 0 HPUs\n",
      "c:\\Users\\assaw\\.conda\\envs\\AI\\lib\\site-packages\\lightning\\pytorch\\callbacks\\model_checkpoint.py:654: Checkpoint directory C:\\Users\\assaw\\Documents\\c_stuff\\Python\\machine learning\\ISAIConference\\lightning_logs\\VGGDetailsbalanced\\version_24 exists and is not empty.\n",
      "LOCAL_RANK: 0 - CUDA_VISIBLE_DEVICES: [0]\n",
      "\n",
      "  | Name          | Type       | Params | Mode \n",
      "-----------------------------------------------------\n",
      "0 | features_conv | Sequential | 20.0 M | train\n",
      "1 | max_pool      | MaxPool2d  | 0      | train\n",
      "2 | classifier    | Sequential | 120 M  | train\n",
      "3 | MLP           | Sequential | 1.3 M  | train\n",
      "-----------------------------------------------------\n",
      "141 M     Trainable params\n",
      "0         Non-trainable params\n",
      "141 M     Total params\n",
      "565.648   Total estimated model params size (MB)\n",
      "54        Modules in train mode\n",
      "0         Modules in eval mode\n"
     ]
    },
    {
     "data": {
      "application/vnd.jupyter.widget-view+json": {
       "model_id": "8b85a57e87d9496ea3d133d5116dd87e",
       "version_major": 2,
       "version_minor": 0
      },
      "text/plain": [
       "Sanity Checking: |          | 0/? [00:00<?, ?it/s]"
      ]
     },
     "metadata": {},
     "output_type": "display_data"
    },
    {
     "name": "stderr",
     "output_type": "stream",
     "text": [
      "c:\\Users\\assaw\\.conda\\envs\\AI\\lib\\site-packages\\lightning\\pytorch\\trainer\\connectors\\data_connector.py:424: The 'val_dataloader' does not have many workers which may be a bottleneck. Consider increasing the value of the `num_workers` argument` to `num_workers=15` in the `DataLoader` to improve performance.\n"
     ]
    },
    {
     "name": "stdout",
     "output_type": "stream",
     "text": [
      "              precision    recall  f1-score   support\n",
      "\n",
      "           0       0.00      0.00      0.00        10\n",
      "           1       0.33      1.00      0.50        10\n",
      "           2       0.00      0.00      0.00        10\n",
      "\n",
      "    accuracy                           0.33        30\n",
      "   macro avg       0.11      0.33      0.17        30\n",
      "weighted avg       0.11      0.33      0.17        30\n",
      "\n"
     ]
    },
    {
     "name": "stderr",
     "output_type": "stream",
     "text": [
      "c:\\Users\\assaw\\.conda\\envs\\AI\\lib\\site-packages\\lightning\\pytorch\\trainer\\connectors\\data_connector.py:424: The 'train_dataloader' does not have many workers which may be a bottleneck. Consider increasing the value of the `num_workers` argument` to `num_workers=15` in the `DataLoader` to improve performance.\n"
     ]
    },
    {
     "data": {
      "application/vnd.jupyter.widget-view+json": {
       "model_id": "9afbcc2171d44e14a5a6bb9206665c0c",
       "version_major": 2,
       "version_minor": 0
      },
      "text/plain": [
       "Training: |          | 0/? [00:00<?, ?it/s]"
      ]
     },
     "metadata": {},
     "output_type": "display_data"
    },
    {
     "data": {
      "application/vnd.jupyter.widget-view+json": {
       "model_id": "c24c9708bccd419fa8c60f0f6006b4bf",
       "version_major": 2,
       "version_minor": 0
      },
      "text/plain": [
       "Validation: |          | 0/? [00:00<?, ?it/s]"
      ]
     },
     "metadata": {},
     "output_type": "display_data"
    },
    {
     "name": "stdout",
     "output_type": "stream",
     "text": [
      "              precision    recall  f1-score   support\n",
      "\n",
      "           0       0.90      0.90      0.90        10\n",
      "           1       0.54      0.70      0.61        10\n",
      "           2       0.71      0.50      0.59        10\n",
      "\n",
      "    accuracy                           0.70        30\n",
      "   macro avg       0.72      0.70      0.70        30\n",
      "weighted avg       0.72      0.70      0.70        30\n",
      "\n"
     ]
    },
    {
     "data": {
      "application/vnd.jupyter.widget-view+json": {
       "model_id": "b0ecc67ad50f4eadaab4f4ca1207a7a3",
       "version_major": 2,
       "version_minor": 0
      },
      "text/plain": [
       "Validation: |          | 0/? [00:00<?, ?it/s]"
      ]
     },
     "metadata": {},
     "output_type": "display_data"
    },
    {
     "name": "stdout",
     "output_type": "stream",
     "text": [
      "              precision    recall  f1-score   support\n",
      "\n",
      "           0       0.90      0.90      0.90        10\n",
      "           1       0.54      0.70      0.61        10\n",
      "           2       0.71      0.50      0.59        10\n",
      "\n",
      "    accuracy                           0.70        30\n",
      "   macro avg       0.72      0.70      0.70        30\n",
      "weighted avg       0.72      0.70      0.70        30\n",
      "\n"
     ]
    },
    {
     "data": {
      "application/vnd.jupyter.widget-view+json": {
       "model_id": "5a97186fbcaf411780fc7c97e11e580f",
       "version_major": 2,
       "version_minor": 0
      },
      "text/plain": [
       "Validation: |          | 0/? [00:00<?, ?it/s]"
      ]
     },
     "metadata": {},
     "output_type": "display_data"
    },
    {
     "name": "stdout",
     "output_type": "stream",
     "text": [
      "              precision    recall  f1-score   support\n",
      "\n",
      "           0       0.83      1.00      0.91        10\n",
      "           1       0.56      0.50      0.53        10\n",
      "           2       0.67      0.60      0.63        10\n",
      "\n",
      "    accuracy                           0.70        30\n",
      "   macro avg       0.69      0.70      0.69        30\n",
      "weighted avg       0.69      0.70      0.69        30\n",
      "\n"
     ]
    },
    {
     "data": {
      "application/vnd.jupyter.widget-view+json": {
       "model_id": "43c7eab9c1b74920ac8fca5de7274688",
       "version_major": 2,
       "version_minor": 0
      },
      "text/plain": [
       "Validation: |          | 0/? [00:00<?, ?it/s]"
      ]
     },
     "metadata": {},
     "output_type": "display_data"
    },
    {
     "name": "stdout",
     "output_type": "stream",
     "text": [
      "              precision    recall  f1-score   support\n",
      "\n",
      "           0       0.83      1.00      0.91        10\n",
      "           1       0.58      0.70      0.64        10\n",
      "           2       0.83      0.50      0.62        10\n",
      "\n",
      "    accuracy                           0.73        30\n",
      "   macro avg       0.75      0.73      0.72        30\n",
      "weighted avg       0.75      0.73      0.72        30\n",
      "\n"
     ]
    },
    {
     "data": {
      "application/vnd.jupyter.widget-view+json": {
       "model_id": "eb1fe7e23f9449ea96d9a67746750d52",
       "version_major": 2,
       "version_minor": 0
      },
      "text/plain": [
       "Validation: |          | 0/? [00:00<?, ?it/s]"
      ]
     },
     "metadata": {},
     "output_type": "display_data"
    },
    {
     "name": "stderr",
     "output_type": "stream",
     "text": [
      "C:\\Users\\assaw\\AppData\\Local\\Temp\\ipykernel_14516\\1930193830.py:134: RuntimeWarning: invalid value encountered in cast\n",
      "  heatmap = np.uint8(255 * heatmap)\n"
     ]
    },
    {
     "name": "stdout",
     "output_type": "stream",
     "text": [
      "              precision    recall  f1-score   support\n",
      "\n",
      "           0       0.83      1.00      0.91        10\n",
      "           1       0.58      0.70      0.64        10\n",
      "           2       0.83      0.50      0.62        10\n",
      "\n",
      "    accuracy                           0.73        30\n",
      "   macro avg       0.75      0.73      0.72        30\n",
      "weighted avg       0.75      0.73      0.72        30\n",
      "\n"
     ]
    },
    {
     "data": {
      "application/vnd.jupyter.widget-view+json": {
       "model_id": "78b2897d17334b389f1403d885351972",
       "version_major": 2,
       "version_minor": 0
      },
      "text/plain": [
       "Validation: |          | 0/? [00:00<?, ?it/s]"
      ]
     },
     "metadata": {},
     "output_type": "display_data"
    },
    {
     "name": "stderr",
     "output_type": "stream",
     "text": [
      "C:\\Users\\assaw\\AppData\\Local\\Temp\\ipykernel_14516\\1930193830.py:134: RuntimeWarning: invalid value encountered in cast\n",
      "  heatmap = np.uint8(255 * heatmap)\n"
     ]
    },
    {
     "name": "stdout",
     "output_type": "stream",
     "text": [
      "              precision    recall  f1-score   support\n",
      "\n",
      "           0       0.91      1.00      0.95        10\n",
      "           1       0.58      0.70      0.64        10\n",
      "           2       0.71      0.50      0.59        10\n",
      "\n",
      "    accuracy                           0.73        30\n",
      "   macro avg       0.74      0.73      0.73        30\n",
      "weighted avg       0.74      0.73      0.73        30\n",
      "\n"
     ]
    },
    {
     "data": {
      "application/vnd.jupyter.widget-view+json": {
       "model_id": "bca9a326808d4ae084585d4b897f890b",
       "version_major": 2,
       "version_minor": 0
      },
      "text/plain": [
       "Validation: |          | 0/? [00:00<?, ?it/s]"
      ]
     },
     "metadata": {},
     "output_type": "display_data"
    },
    {
     "name": "stdout",
     "output_type": "stream",
     "text": [
      "              precision    recall  f1-score   support\n",
      "\n",
      "           0       0.83      1.00      0.91        10\n",
      "           1       0.50      0.50      0.50        10\n",
      "           2       0.62      0.50      0.56        10\n",
      "\n",
      "    accuracy                           0.67        30\n",
      "   macro avg       0.65      0.67      0.65        30\n",
      "weighted avg       0.65      0.67      0.65        30\n",
      "\n"
     ]
    },
    {
     "data": {
      "application/vnd.jupyter.widget-view+json": {
       "model_id": "c5107a15aed446448e9392999cb48f5f",
       "version_major": 2,
       "version_minor": 0
      },
      "text/plain": [
       "Validation: |          | 0/? [00:00<?, ?it/s]"
      ]
     },
     "metadata": {},
     "output_type": "display_data"
    },
    {
     "name": "stderr",
     "output_type": "stream",
     "text": [
      "C:\\Users\\assaw\\AppData\\Local\\Temp\\ipykernel_14516\\1930193830.py:134: RuntimeWarning: invalid value encountered in cast\n",
      "  heatmap = np.uint8(255 * heatmap)\n"
     ]
    },
    {
     "name": "stdout",
     "output_type": "stream",
     "text": [
      "              precision    recall  f1-score   support\n",
      "\n",
      "           0       0.90      0.90      0.90        10\n",
      "           1       0.54      0.70      0.61        10\n",
      "           2       0.71      0.50      0.59        10\n",
      "\n",
      "    accuracy                           0.70        30\n",
      "   macro avg       0.72      0.70      0.70        30\n",
      "weighted avg       0.72      0.70      0.70        30\n",
      "\n"
     ]
    },
    {
     "data": {
      "application/vnd.jupyter.widget-view+json": {
       "model_id": "26acf0812c5a45bfa5ebebe495b27ff8",
       "version_major": 2,
       "version_minor": 0
      },
      "text/plain": [
       "Validation: |          | 0/? [00:00<?, ?it/s]"
      ]
     },
     "metadata": {},
     "output_type": "display_data"
    },
    {
     "name": "stdout",
     "output_type": "stream",
     "text": [
      "              precision    recall  f1-score   support\n",
      "\n",
      "           0       0.83      1.00      0.91        10\n",
      "           1       0.58      0.70      0.64        10\n",
      "           2       0.83      0.50      0.62        10\n",
      "\n",
      "    accuracy                           0.73        30\n",
      "   macro avg       0.75      0.73      0.72        30\n",
      "weighted avg       0.75      0.73      0.72        30\n",
      "\n"
     ]
    },
    {
     "data": {
      "application/vnd.jupyter.widget-view+json": {
       "model_id": "ddf27f87d9714fec8613813c608474c2",
       "version_major": 2,
       "version_minor": 0
      },
      "text/plain": [
       "Validation: |          | 0/? [00:00<?, ?it/s]"
      ]
     },
     "metadata": {},
     "output_type": "display_data"
    },
    {
     "name": "stdout",
     "output_type": "stream",
     "text": [
      "              precision    recall  f1-score   support\n",
      "\n",
      "           0       0.89      0.80      0.84        10\n",
      "           1       0.50      0.60      0.55        10\n",
      "           2       0.67      0.60      0.63        10\n",
      "\n",
      "    accuracy                           0.67        30\n",
      "   macro avg       0.69      0.67      0.67        30\n",
      "weighted avg       0.69      0.67      0.67        30\n",
      "\n"
     ]
    },
    {
     "data": {
      "application/vnd.jupyter.widget-view+json": {
       "model_id": "e83eb66e670640cd9686db2d7955f0cd",
       "version_major": 2,
       "version_minor": 0
      },
      "text/plain": [
       "Validation: |          | 0/? [00:00<?, ?it/s]"
      ]
     },
     "metadata": {},
     "output_type": "display_data"
    },
    {
     "name": "stdout",
     "output_type": "stream",
     "text": [
      "              precision    recall  f1-score   support\n",
      "\n",
      "           0       0.90      0.90      0.90        10\n",
      "           1       0.53      0.90      0.67        10\n",
      "           2       1.00      0.30      0.46        10\n",
      "\n",
      "    accuracy                           0.70        30\n",
      "   macro avg       0.81      0.70      0.68        30\n",
      "weighted avg       0.81      0.70      0.68        30\n",
      "\n"
     ]
    },
    {
     "data": {
      "application/vnd.jupyter.widget-view+json": {
       "model_id": "70c141b448d24aa294122f3576c448e7",
       "version_major": 2,
       "version_minor": 0
      },
      "text/plain": [
       "Validation: |          | 0/? [00:00<?, ?it/s]"
      ]
     },
     "metadata": {},
     "output_type": "display_data"
    },
    {
     "name": "stdout",
     "output_type": "stream",
     "text": [
      "              precision    recall  f1-score   support\n",
      "\n",
      "           0       0.89      0.80      0.84        10\n",
      "           1       0.46      0.60      0.52        10\n",
      "           2       0.62      0.50      0.56        10\n",
      "\n",
      "    accuracy                           0.63        30\n",
      "   macro avg       0.66      0.63      0.64        30\n",
      "weighted avg       0.66      0.63      0.64        30\n",
      "\n"
     ]
    },
    {
     "data": {
      "application/vnd.jupyter.widget-view+json": {
       "model_id": "bc0d9edb6b074df3b8542acc5ee3aa84",
       "version_major": 2,
       "version_minor": 0
      },
      "text/plain": [
       "Validation: |          | 0/? [00:00<?, ?it/s]"
      ]
     },
     "metadata": {},
     "output_type": "display_data"
    },
    {
     "name": "stdout",
     "output_type": "stream",
     "text": [
      "              precision    recall  f1-score   support\n",
      "\n",
      "           0       0.86      0.60      0.71        10\n",
      "           1       0.33      0.30      0.32        10\n",
      "           2       0.57      0.80      0.67        10\n",
      "\n",
      "    accuracy                           0.57        30\n",
      "   macro avg       0.59      0.57      0.56        30\n",
      "weighted avg       0.59      0.57      0.56        30\n",
      "\n"
     ]
    },
    {
     "data": {
      "application/vnd.jupyter.widget-view+json": {
       "model_id": "048a2bf61c394b638f015431c630ea6f",
       "version_major": 2,
       "version_minor": 0
      },
      "text/plain": [
       "Validation: |          | 0/? [00:00<?, ?it/s]"
      ]
     },
     "metadata": {},
     "output_type": "display_data"
    },
    {
     "name": "stdout",
     "output_type": "stream",
     "text": [
      "              precision    recall  f1-score   support\n",
      "\n",
      "           0       0.80      0.80      0.80        10\n",
      "           1       0.54      0.70      0.61        10\n",
      "           2       0.71      0.50      0.59        10\n",
      "\n",
      "    accuracy                           0.67        30\n",
      "   macro avg       0.68      0.67      0.67        30\n",
      "weighted avg       0.68      0.67      0.67        30\n",
      "\n"
     ]
    },
    {
     "data": {
      "application/vnd.jupyter.widget-view+json": {
       "model_id": "470daf6002ba4bb5942dd6910207960d",
       "version_major": 2,
       "version_minor": 0
      },
      "text/plain": [
       "Validation: |          | 0/? [00:00<?, ?it/s]"
      ]
     },
     "metadata": {},
     "output_type": "display_data"
    },
    {
     "name": "stdout",
     "output_type": "stream",
     "text": [
      "              precision    recall  f1-score   support\n",
      "\n",
      "           0       0.86      0.60      0.71        10\n",
      "           1       0.30      0.30      0.30        10\n",
      "           2       0.54      0.70      0.61        10\n",
      "\n",
      "    accuracy                           0.53        30\n",
      "   macro avg       0.57      0.53      0.54        30\n",
      "weighted avg       0.57      0.53      0.54        30\n",
      "\n"
     ]
    },
    {
     "data": {
      "application/vnd.jupyter.widget-view+json": {
       "model_id": "52e081b12e404159a6a69805780e10f6",
       "version_major": 2,
       "version_minor": 0
      },
      "text/plain": [
       "Validation: |          | 0/? [00:00<?, ?it/s]"
      ]
     },
     "metadata": {},
     "output_type": "display_data"
    },
    {
     "name": "stdout",
     "output_type": "stream",
     "text": [
      "              precision    recall  f1-score   support\n",
      "\n",
      "           0       0.77      1.00      0.87        10\n",
      "           1       0.56      0.50      0.53        10\n",
      "           2       0.62      0.50      0.56        10\n",
      "\n",
      "    accuracy                           0.67        30\n",
      "   macro avg       0.65      0.67      0.65        30\n",
      "weighted avg       0.65      0.67      0.65        30\n",
      "\n"
     ]
    },
    {
     "name": "stderr",
     "output_type": "stream",
     "text": [
      "Trainer was signaled to stop but the required `min_epochs=30` or `min_steps=None` has not been met. Training will continue...\n"
     ]
    },
    {
     "data": {
      "application/vnd.jupyter.widget-view+json": {
       "model_id": "0b234c181d644692b2fba4e26ee2203e",
       "version_major": 2,
       "version_minor": 0
      },
      "text/plain": [
       "Validation: |          | 0/? [00:00<?, ?it/s]"
      ]
     },
     "metadata": {},
     "output_type": "display_data"
    },
    {
     "name": "stderr",
     "output_type": "stream",
     "text": [
      "C:\\Users\\assaw\\AppData\\Local\\Temp\\ipykernel_14516\\1930193830.py:134: RuntimeWarning: invalid value encountered in cast\n",
      "  heatmap = np.uint8(255 * heatmap)\n"
     ]
    },
    {
     "name": "stdout",
     "output_type": "stream",
     "text": [
      "              precision    recall  f1-score   support\n",
      "\n",
      "           0       0.82      0.90      0.86        10\n",
      "           1       0.55      0.60      0.57        10\n",
      "           2       0.62      0.50      0.56        10\n",
      "\n",
      "    accuracy                           0.67        30\n",
      "   macro avg       0.66      0.67      0.66        30\n",
      "weighted avg       0.66      0.67      0.66        30\n",
      "\n"
     ]
    },
    {
     "data": {
      "application/vnd.jupyter.widget-view+json": {
       "model_id": "5b420d5a115c46e8929f5d43a752bc6d",
       "version_major": 2,
       "version_minor": 0
      },
      "text/plain": [
       "Validation: |          | 0/? [00:00<?, ?it/s]"
      ]
     },
     "metadata": {},
     "output_type": "display_data"
    },
    {
     "name": "stdout",
     "output_type": "stream",
     "text": [
      "              precision    recall  f1-score   support\n",
      "\n",
      "           0       0.83      0.50      0.62        10\n",
      "           1       0.33      0.50      0.40        10\n",
      "           2       0.56      0.50      0.53        10\n",
      "\n",
      "    accuracy                           0.50        30\n",
      "   macro avg       0.57      0.50      0.52        30\n",
      "weighted avg       0.57      0.50      0.52        30\n",
      "\n"
     ]
    },
    {
     "data": {
      "application/vnd.jupyter.widget-view+json": {
       "model_id": "53adfa559bd74c0b96c15553dac6edeb",
       "version_major": 2,
       "version_minor": 0
      },
      "text/plain": [
       "Validation: |          | 0/? [00:00<?, ?it/s]"
      ]
     },
     "metadata": {},
     "output_type": "display_data"
    },
    {
     "name": "stdout",
     "output_type": "stream",
     "text": [
      "              precision    recall  f1-score   support\n",
      "\n",
      "           0       0.80      0.40      0.53        10\n",
      "           1       0.20      0.20      0.20        10\n",
      "           2       0.53      0.80      0.64        10\n",
      "\n",
      "    accuracy                           0.47        30\n",
      "   macro avg       0.51      0.47      0.46        30\n",
      "weighted avg       0.51      0.47      0.46        30\n",
      "\n"
     ]
    },
    {
     "data": {
      "application/vnd.jupyter.widget-view+json": {
       "model_id": "bc6745fd869b4bcaa643409394f71397",
       "version_major": 2,
       "version_minor": 0
      },
      "text/plain": [
       "Validation: |          | 0/? [00:00<?, ?it/s]"
      ]
     },
     "metadata": {},
     "output_type": "display_data"
    },
    {
     "name": "stderr",
     "output_type": "stream",
     "text": [
      "C:\\Users\\assaw\\AppData\\Local\\Temp\\ipykernel_14516\\1930193830.py:134: RuntimeWarning: invalid value encountered in cast\n",
      "  heatmap = np.uint8(255 * heatmap)\n"
     ]
    },
    {
     "name": "stdout",
     "output_type": "stream",
     "text": [
      "              precision    recall  f1-score   support\n",
      "\n",
      "           0       0.80      0.40      0.53        10\n",
      "           1       0.31      0.40      0.35        10\n",
      "           2       0.58      0.70      0.64        10\n",
      "\n",
      "    accuracy                           0.50        30\n",
      "   macro avg       0.56      0.50      0.51        30\n",
      "weighted avg       0.56      0.50      0.51        30\n",
      "\n"
     ]
    },
    {
     "data": {
      "application/vnd.jupyter.widget-view+json": {
       "model_id": "fa57fe8bd1124969ae777ea87a9ebc59",
       "version_major": 2,
       "version_minor": 0
      },
      "text/plain": [
       "Validation: |          | 0/? [00:00<?, ?it/s]"
      ]
     },
     "metadata": {},
     "output_type": "display_data"
    },
    {
     "name": "stdout",
     "output_type": "stream",
     "text": [
      "              precision    recall  f1-score   support\n",
      "\n",
      "           0       0.83      0.50      0.62        10\n",
      "           1       0.31      0.40      0.35        10\n",
      "           2       0.55      0.60      0.57        10\n",
      "\n",
      "    accuracy                           0.50        30\n",
      "   macro avg       0.56      0.50      0.51        30\n",
      "weighted avg       0.56      0.50      0.51        30\n",
      "\n"
     ]
    },
    {
     "data": {
      "application/vnd.jupyter.widget-view+json": {
       "model_id": "e9e1827355ee4d2abdef77aee702ccec",
       "version_major": 2,
       "version_minor": 0
      },
      "text/plain": [
       "Validation: |          | 0/? [00:00<?, ?it/s]"
      ]
     },
     "metadata": {},
     "output_type": "display_data"
    },
    {
     "name": "stderr",
     "output_type": "stream",
     "text": [
      "C:\\Users\\assaw\\AppData\\Local\\Temp\\ipykernel_14516\\1930193830.py:134: RuntimeWarning: invalid value encountered in cast\n",
      "  heatmap = np.uint8(255 * heatmap)\n"
     ]
    },
    {
     "name": "stdout",
     "output_type": "stream",
     "text": [
      "              precision    recall  f1-score   support\n",
      "\n",
      "           0       0.89      0.80      0.84        10\n",
      "           1       0.42      0.50      0.45        10\n",
      "           2       0.56      0.50      0.53        10\n",
      "\n",
      "    accuracy                           0.60        30\n",
      "   macro avg       0.62      0.60      0.61        30\n",
      "weighted avg       0.62      0.60      0.61        30\n",
      "\n"
     ]
    },
    {
     "data": {
      "application/vnd.jupyter.widget-view+json": {
       "model_id": "56a5c165a79a45f5a1b0cabcb54de34f",
       "version_major": 2,
       "version_minor": 0
      },
      "text/plain": [
       "Validation: |          | 0/? [00:00<?, ?it/s]"
      ]
     },
     "metadata": {},
     "output_type": "display_data"
    },
    {
     "name": "stdout",
     "output_type": "stream",
     "text": [
      "              precision    recall  f1-score   support\n",
      "\n",
      "           0       0.90      0.90      0.90        10\n",
      "           1       0.50      0.60      0.55        10\n",
      "           2       0.62      0.50      0.56        10\n",
      "\n",
      "    accuracy                           0.67        30\n",
      "   macro avg       0.67      0.67      0.67        30\n",
      "weighted avg       0.68      0.67      0.67        30\n",
      "\n"
     ]
    },
    {
     "data": {
      "application/vnd.jupyter.widget-view+json": {
       "model_id": "b7ba4dce3cfb4f2886c9016997050174",
       "version_major": 2,
       "version_minor": 0
      },
      "text/plain": [
       "Validation: |          | 0/? [00:00<?, ?it/s]"
      ]
     },
     "metadata": {},
     "output_type": "display_data"
    },
    {
     "name": "stderr",
     "output_type": "stream",
     "text": [
      "C:\\Users\\assaw\\AppData\\Local\\Temp\\ipykernel_14516\\1930193830.py:134: RuntimeWarning: invalid value encountered in cast\n",
      "  heatmap = np.uint8(255 * heatmap)\n"
     ]
    },
    {
     "name": "stdout",
     "output_type": "stream",
     "text": [
      "              precision    recall  f1-score   support\n",
      "\n",
      "           0       0.78      0.70      0.74        10\n",
      "           1       0.33      0.30      0.32        10\n",
      "           2       0.50      0.60      0.55        10\n",
      "\n",
      "    accuracy                           0.53        30\n",
      "   macro avg       0.54      0.53      0.53        30\n",
      "weighted avg       0.54      0.53      0.53        30\n",
      "\n"
     ]
    },
    {
     "data": {
      "application/vnd.jupyter.widget-view+json": {
       "model_id": "7e08b611e3ad49429eb1a5ac28599499",
       "version_major": 2,
       "version_minor": 0
      },
      "text/plain": [
       "Validation: |          | 0/? [00:00<?, ?it/s]"
      ]
     },
     "metadata": {},
     "output_type": "display_data"
    },
    {
     "name": "stderr",
     "output_type": "stream",
     "text": [
      "C:\\Users\\assaw\\AppData\\Local\\Temp\\ipykernel_14516\\1930193830.py:134: RuntimeWarning: invalid value encountered in cast\n",
      "  heatmap = np.uint8(255 * heatmap)\n"
     ]
    },
    {
     "name": "stdout",
     "output_type": "stream",
     "text": [
      "              precision    recall  f1-score   support\n",
      "\n",
      "           0       0.83      0.50      0.62        10\n",
      "           1       0.22      0.20      0.21        10\n",
      "           2       0.53      0.80      0.64        10\n",
      "\n",
      "    accuracy                           0.50        30\n",
      "   macro avg       0.53      0.50      0.49        30\n",
      "weighted avg       0.53      0.50      0.49        30\n",
      "\n"
     ]
    },
    {
     "data": {
      "application/vnd.jupyter.widget-view+json": {
       "model_id": "a8fdc139061548678994d24ed8173edb",
       "version_major": 2,
       "version_minor": 0
      },
      "text/plain": [
       "Validation: |          | 0/? [00:00<?, ?it/s]"
      ]
     },
     "metadata": {},
     "output_type": "display_data"
    },
    {
     "name": "stderr",
     "output_type": "stream",
     "text": [
      "C:\\Users\\assaw\\AppData\\Local\\Temp\\ipykernel_14516\\1930193830.py:134: RuntimeWarning: invalid value encountered in cast\n",
      "  heatmap = np.uint8(255 * heatmap)\n"
     ]
    },
    {
     "name": "stdout",
     "output_type": "stream",
     "text": [
      "              precision    recall  f1-score   support\n",
      "\n",
      "           0       0.86      0.60      0.71        10\n",
      "           1       0.44      0.70      0.54        10\n",
      "           2       0.71      0.50      0.59        10\n",
      "\n",
      "    accuracy                           0.60        30\n",
      "   macro avg       0.67      0.60      0.61        30\n",
      "weighted avg       0.67      0.60      0.61        30\n",
      "\n"
     ]
    },
    {
     "data": {
      "application/vnd.jupyter.widget-view+json": {
       "model_id": "7793e3e8a7914190a8334570141905d4",
       "version_major": 2,
       "version_minor": 0
      },
      "text/plain": [
       "Validation: |          | 0/? [00:00<?, ?it/s]"
      ]
     },
     "metadata": {},
     "output_type": "display_data"
    },
    {
     "name": "stderr",
     "output_type": "stream",
     "text": [
      "C:\\Users\\assaw\\AppData\\Local\\Temp\\ipykernel_14516\\1930193830.py:134: RuntimeWarning: invalid value encountered in cast\n",
      "  heatmap = np.uint8(255 * heatmap)\n"
     ]
    },
    {
     "name": "stdout",
     "output_type": "stream",
     "text": [
      "              precision    recall  f1-score   support\n",
      "\n",
      "           0       0.83      0.50      0.62        10\n",
      "           1       0.31      0.40      0.35        10\n",
      "           2       0.55      0.60      0.57        10\n",
      "\n",
      "    accuracy                           0.50        30\n",
      "   macro avg       0.56      0.50      0.51        30\n",
      "weighted avg       0.56      0.50      0.51        30\n",
      "\n"
     ]
    },
    {
     "data": {
      "application/vnd.jupyter.widget-view+json": {
       "model_id": "d4e5df4385a447a4a972664364696570",
       "version_major": 2,
       "version_minor": 0
      },
      "text/plain": [
       "Validation: |          | 0/? [00:00<?, ?it/s]"
      ]
     },
     "metadata": {},
     "output_type": "display_data"
    },
    {
     "name": "stderr",
     "output_type": "stream",
     "text": [
      "C:\\Users\\assaw\\AppData\\Local\\Temp\\ipykernel_14516\\1930193830.py:134: RuntimeWarning: invalid value encountered in cast\n",
      "  heatmap = np.uint8(255 * heatmap)\n"
     ]
    },
    {
     "name": "stdout",
     "output_type": "stream",
     "text": [
      "              precision    recall  f1-score   support\n",
      "\n",
      "           0       0.83      0.50      0.62        10\n",
      "           1       0.36      0.50      0.42        10\n",
      "           2       0.60      0.60      0.60        10\n",
      "\n",
      "    accuracy                           0.53        30\n",
      "   macro avg       0.60      0.53      0.55        30\n",
      "weighted avg       0.60      0.53      0.55        30\n",
      "\n"
     ]
    },
    {
     "data": {
      "application/vnd.jupyter.widget-view+json": {
       "model_id": "03db96bb1a9b40989eee32da21051900",
       "version_major": 2,
       "version_minor": 0
      },
      "text/plain": [
       "Validation: |          | 0/? [00:00<?, ?it/s]"
      ]
     },
     "metadata": {},
     "output_type": "display_data"
    },
    {
     "name": "stderr",
     "output_type": "stream",
     "text": [
      "C:\\Users\\assaw\\AppData\\Local\\Temp\\ipykernel_14516\\1930193830.py:134: RuntimeWarning: invalid value encountered in cast\n",
      "  heatmap = np.uint8(255 * heatmap)\n"
     ]
    },
    {
     "name": "stdout",
     "output_type": "stream",
     "text": [
      "              precision    recall  f1-score   support\n",
      "\n",
      "           0       0.83      0.50      0.62        10\n",
      "           1       0.40      0.60      0.48        10\n",
      "           2       0.67      0.60      0.63        10\n",
      "\n",
      "    accuracy                           0.57        30\n",
      "   macro avg       0.63      0.57      0.58        30\n",
      "weighted avg       0.63      0.57      0.58        30\n",
      "\n"
     ]
    },
    {
     "data": {
      "application/vnd.jupyter.widget-view+json": {
       "model_id": "eacbbfe2eca542d290fc06206f426af2",
       "version_major": 2,
       "version_minor": 0
      },
      "text/plain": [
       "Validation: |          | 0/? [00:00<?, ?it/s]"
      ]
     },
     "metadata": {},
     "output_type": "display_data"
    },
    {
     "name": "stdout",
     "output_type": "stream",
     "text": [
      "              precision    recall  f1-score   support\n",
      "\n",
      "           0       0.00      0.00      0.00        10\n",
      "           1       0.00      0.00      0.00        10\n",
      "           2       0.33      1.00      0.50        10\n",
      "\n",
      "    accuracy                           0.33        30\n",
      "   macro avg       0.11      0.33      0.17        30\n",
      "weighted avg       0.11      0.33      0.17        30\n",
      "\n"
     ]
    },
    {
     "data": {
      "image/png": "[encoded data removed]",
      "text/plain": [
       "<Figure size 640x480 with 2 Axes>"
      ]
     },
     "metadata": {},
     "output_type": "display_data"
    }
   ],
   "source": [
    "# training loop\n",
    "import gc\n",
    "import warnings\n",
    "gc.collect()\n",
    "torch.cuda.empty_cache()\n",
    "\n",
    "from lightning.pytorch.callbacks import ModelCheckpoint, EarlyStopping\n",
    "from lightning.pytorch.loggers import TensorBoardLogger\n",
    "from lightning.pytorch.profilers import AdvancedProfiler\n",
    "\n",
    "experimentDirectory = \"n\"\n",
    "logDirectory = f\"lightning_logs/{experimentDirectory}\"\n",
    "\n",
    "with warnings.catch_warnings():\n",
    "    warnings.filterwarnings(\"ignore\", message = r\".*ill-defined and being set to 0.0\")\n",
    "                            \n",
    "    for x in ExperimentModel.existingModels:\n",
    "        \n",
    "        try:\n",
    "            os.mkdir(f\"./lightning_logs/{x.name}\")\n",
    "            \n",
    "        except FileExistsError:\n",
    "            pass\n",
    "\n",
    "        logDirectory = f\"./lightning_logs/{x.name}\"\n",
    "        versionList = os.listdir(logDirectory)\n",
    "        versionList.sort(key=lambda x: int(re.search(r'\\d+', x).group()))\n",
    "\n",
    "        try:\n",
    "            buffer = int(re.search(r'\\d+', versionList[-1]).group())\n",
    "            versionToLog = (f'version_{buffer+1}')\n",
    "\n",
    "        except IndexError:\n",
    "            versionToLog = 'version_0'\n",
    "\n",
    "        LOGPATH = r'/'.join([logDirectory,versionToLog]) # this is based on the tbLogger path scheme\n",
    "\n",
    "        x.setLogPath(LOGPATH)\n",
    "            \n",
    "        gc.collect()\n",
    "        torch.cuda.empty_cache()\n",
    "        early_stopping = EarlyStopping(\n",
    "            monitor='val_acc_F1_macro',  # Metric to monitor\n",
    "            patience=10,          # Number of epochs with no improvement after which training will be stopped\n",
    "            verbose=False,        # Verbosity mode\n",
    "            mode='max'           # Mode can be 'min', 'max', or 'auto'\n",
    "        )\n",
    "\n",
    "        checkpoint_callback = ModelCheckpoint(dirpath=LOGPATH, save_top_k=1, monitor=\"val_acc_F1_macro\",mode='max') #idk why but no, checkpoint_callback cannot infer logPath from tblogger\n",
    "\n",
    "        profiler = AdvancedProfiler(dirpath=LOGPATH, filename=\"profiler_logs\")\n",
    "        \n",
    "        tbLogger = TensorBoardLogger(\"lightning_logs\",name=f\"{x.name}\") \n",
    "\n",
    "        trainer = L.Trainer(\n",
    "                            # profiler = \"simple\",\n",
    "                            # profiler = profiler,\n",
    "                            max_epochs = 75,\n",
    "                            min_epochs = 30,\n",
    "                            accelerator ='gpu', \n",
    "                            devices = 'auto', \n",
    "                            precision = '16-mixed',\n",
    "                            logger = tbLogger,\n",
    "                            callbacks = [early_stopping,checkpoint_callback],\n",
    "                        )\n",
    "        \n",
    "        \n",
    "        trainer.fit(model=x,train_dataloaders=(x.trainLoader if x.trainLoader != None else trainLoader),val_dataloaders=(x.valLoader if x.valLoader != None else valLoader))\n",
    "\n",
    "        \n",
    "        # trainer.test(model = x, dataloaders=(x.valLoader if x.valLoader != None else valLoader))"
   ]
  },
  {
   "cell_type": "code",
   "execution_count": 188,
   "metadata": {},
   "outputs": [
    {
     "name": "stderr",
     "output_type": "stream",
     "text": [
      "LOCAL_RANK: 0 - CUDA_VISIBLE_DEVICES: [0]\n",
      "c:\\Users\\assaw\\.conda\\envs\\AI\\lib\\site-packages\\lightning\\pytorch\\trainer\\connectors\\data_connector.py:424: The 'test_dataloader' does not have many workers which may be a bottleneck. Consider increasing the value of the `num_workers` argument` to `num_workers=15` in the `DataLoader` to improve performance.\n"
     ]
    },
    {
     "data": {
      "application/vnd.jupyter.widget-view+json": {
       "model_id": "c23d8f0e925e42118eaed93212ba90ab",
       "version_major": 2,
       "version_minor": 0
      },
      "text/plain": [
       "Testing: |          | 0/? [00:00<?, ?it/s]"
      ]
     },
     "metadata": {},
     "output_type": "display_data"
    },
    {
     "name": "stdout",
     "output_type": "stream",
     "text": [
      "              precision    recall  f1-score   support\n",
      "\n",
      "           0       0.90      0.90      0.90        10\n",
      "           1       0.54      0.70      0.61        10\n",
      "           2       0.71      0.50      0.59        10\n",
      "\n",
      "    accuracy                           0.70        30\n",
      "   macro avg       0.72      0.70      0.70        30\n",
      "weighted avg       0.72      0.70      0.70        30\n",
      "\n"
     ]
    },
    {
     "data": {
      "text/html": [
       "<pre style=\"white-space:pre;overflow-x:auto;line-height:normal;font-family:Menlo,'DejaVu Sans Mono',consolas,'Courier New',monospace\">┏━━━━━━━━━━━━━━━━━━━━━━━━━━━┳━━━━━━━━━━━━━━━━━━━━━━━━━━━┓\n",
       "┃<span style=\"font-weight: bold\">        Test metric        </span>┃<span style=\"font-weight: bold\">       DataLoader 0        </span>┃\n",
       "┡━━━━━━━━━━━━━━━━━━━━━━━━━━━╇━━━━━━━━━━━━━━━━━━━━━━━━━━━┩\n",
       "│<span style=\"color: #008080; text-decoration-color: #008080\">          val_acc          </span>│<span style=\"color: #800080; text-decoration-color: #800080\">     0.699999988079071     </span>│\n",
       "│<span style=\"color: #008080; text-decoration-color: #008080\">     val_acc_F1_macro      </span>│<span style=\"color: #800080; text-decoration-color: #800080\">     0.698976993560791     </span>│\n",
       "└───────────────────────────┴───────────────────────────┘\n",
       "</pre>\n"
      ],
      "text/plain": [
       "┏━━━━━━━━━━━━━━━━━━━━━━━━━━━┳━━━━━━━━━━━━━━━━━━━━━━━━━━━┓\n",
       "┃\u001b[1m \u001b[0m\u001b[1m       Test metric       \u001b[0m\u001b[1m \u001b[0m┃\u001b[1m \u001b[0m\u001b[1m      DataLoader 0       \u001b[0m\u001b[1m \u001b[0m┃\n",
       "┡━━━━━━━━━━━━━━━━━━━━━━━━━━━╇━━━━━━━━━━━━━━━━━━━━━━━━━━━┩\n",
       "│\u001b[36m \u001b[0m\u001b[36m         val_acc         \u001b[0m\u001b[36m \u001b[0m│\u001b[35m \u001b[0m\u001b[35m    0.699999988079071    \u001b[0m\u001b[35m \u001b[0m│\n",
       "│\u001b[36m \u001b[0m\u001b[36m    val_acc_F1_macro     \u001b[0m\u001b[36m \u001b[0m│\u001b[35m \u001b[0m\u001b[35m    0.698976993560791    \u001b[0m\u001b[35m \u001b[0m│\n",
       "└───────────────────────────┴───────────────────────────┘\n"
      ]
     },
     "metadata": {},
     "output_type": "display_data"
    },
    {
     "data": {
      "text/plain": [
       "[{'val_acc_F1_macro': 0.698976993560791, 'val_acc': 0.699999988079071}]"
      ]
     },
     "execution_count": 188,
     "metadata": {},
     "output_type": "execute_result"
    },
    {
     "data": {
      "image/png": "[encoded data removed]",
      "text/plain": [
       "<Figure size 640x480 with 2 Axes>"
      ]
     },
     "metadata": {},
     "output_type": "display_data"
    }
   ],
   "source": [
    "trainer.test(model = ExperimentModel.existingModels[0], dataloaders=valLoader)"
   ]
  },
  {
   "cell_type": "code",
   "execution_count": 187,
   "metadata": {},
   "outputs": [
    {
     "data": {
      "text/plain": [
       "[[[tensor([[[[-1., -1., -1.,  ..., -1., -1., -1.],\n",
       "             [-1., -1., -1.,  ..., -1., -1., -1.],\n",
       "             [-1., -1., -1.,  ..., -1., -1., -1.],\n",
       "             ...,\n",
       "             [-1., -1., -1.,  ..., -1., -1., -1.],\n",
       "             [-1., -1., -1.,  ..., -1., -1., -1.],\n",
       "             [-1., -1., -1.,  ..., -1., -1., -1.]],\n",
       "   \n",
       "            [[-1., -1., -1.,  ..., -1., -1., -1.],\n",
       "             [-1., -1., -1.,  ..., -1., -1., -1.],\n",
       "             [-1., -1., -1.,  ..., -1., -1., -1.],\n",
       "             ...,\n",
       "             [-1., -1., -1.,  ..., -1., -1., -1.],\n",
       "             [-1., -1., -1.,  ..., -1., -1., -1.],\n",
       "             [-1., -1., -1.,  ..., -1., -1., -1.]],\n",
       "   \n",
       "            [[-1., -1., -1.,  ..., -1., -1., -1.],\n",
       "             [-1., -1., -1.,  ..., -1., -1., -1.],\n",
       "             [-1., -1., -1.,  ..., -1., -1., -1.],\n",
       "             ...,\n",
       "             [-1., -1., -1.,  ..., -1., -1., -1.],\n",
       "             [-1., -1., -1.,  ..., -1., -1., -1.],\n",
       "             [-1., -1., -1.,  ..., -1., -1., -1.]]],\n",
       "   \n",
       "   \n",
       "           [[[-1., -1., -1.,  ..., -1., -1., -1.],\n",
       "             [-1., -1., -1.,  ..., -1., -1., -1.],\n",
       "             [-1., -1., -1.,  ..., -1., -1., -1.],\n",
       "             ...,\n",
       "             [-1., -1., -1.,  ..., -1., -1., -1.],\n",
       "             [-1., -1., -1.,  ..., -1., -1., -1.],\n",
       "             [-1., -1., -1.,  ..., -1., -1., -1.]],\n",
       "   \n",
       "            [[-1., -1., -1.,  ..., -1., -1., -1.],\n",
       "             [-1., -1., -1.,  ..., -1., -1., -1.],\n",
       "             [-1., -1., -1.,  ..., -1., -1., -1.],\n",
       "             ...,\n",
       "             [-1., -1., -1.,  ..., -1., -1., -1.],\n",
       "             [-1., -1., -1.,  ..., -1., -1., -1.],\n",
       "             [-1., -1., -1.,  ..., -1., -1., -1.]],\n",
       "   \n",
       "            [[-1., -1., -1.,  ..., -1., -1., -1.],\n",
       "             [-1., -1., -1.,  ..., -1., -1., -1.],\n",
       "             [-1., -1., -1.,  ..., -1., -1., -1.],\n",
       "             ...,\n",
       "             [-1., -1., -1.,  ..., -1., -1., -1.],\n",
       "             [-1., -1., -1.,  ..., -1., -1., -1.],\n",
       "             [-1., -1., -1.,  ..., -1., -1., -1.]]],\n",
       "   \n",
       "   \n",
       "           [[[-1., -1., -1.,  ..., -1., -1., -1.],\n",
       "             [-1., -1., -1.,  ..., -1., -1., -1.],\n",
       "             [-1., -1., -1.,  ..., -1., -1., -1.],\n",
       "             ...,\n",
       "             [-1., -1., -1.,  ..., -1., -1., -1.],\n",
       "             [-1., -1., -1.,  ..., -1., -1., -1.],\n",
       "             [-1., -1., -1.,  ..., -1., -1., -1.]],\n",
       "   \n",
       "            [[-1., -1., -1.,  ..., -1., -1., -1.],\n",
       "             [-1., -1., -1.,  ..., -1., -1., -1.],\n",
       "             [-1., -1., -1.,  ..., -1., -1., -1.],\n",
       "             ...,\n",
       "             [-1., -1., -1.,  ..., -1., -1., -1.],\n",
       "             [-1., -1., -1.,  ..., -1., -1., -1.],\n",
       "             [-1., -1., -1.,  ..., -1., -1., -1.]],\n",
       "   \n",
       "            [[-1., -1., -1.,  ..., -1., -1., -1.],\n",
       "             [-1., -1., -1.,  ..., -1., -1., -1.],\n",
       "             [-1., -1., -1.,  ..., -1., -1., -1.],\n",
       "             ...,\n",
       "             [-1., -1., -1.,  ..., -1., -1., -1.],\n",
       "             [-1., -1., -1.,  ..., -1., -1., -1.],\n",
       "             [-1., -1., -1.,  ..., -1., -1., -1.]]],\n",
       "   \n",
       "   \n",
       "           ...,\n",
       "   \n",
       "   \n",
       "           [[[-1., -1., -1.,  ..., -1., -1., -1.],\n",
       "             [-1., -1., -1.,  ..., -1., -1., -1.],\n",
       "             [-1., -1., -1.,  ..., -1., -1., -1.],\n",
       "             ...,\n",
       "             [-1., -1., -1.,  ..., -1., -1., -1.],\n",
       "             [-1., -1., -1.,  ..., -1., -1., -1.],\n",
       "             [-1., -1., -1.,  ..., -1., -1., -1.]],\n",
       "   \n",
       "            [[-1., -1., -1.,  ..., -1., -1., -1.],\n",
       "             [-1., -1., -1.,  ..., -1., -1., -1.],\n",
       "             [-1., -1., -1.,  ..., -1., -1., -1.],\n",
       "             ...,\n",
       "             [-1., -1., -1.,  ..., -1., -1., -1.],\n",
       "             [-1., -1., -1.,  ..., -1., -1., -1.],\n",
       "             [-1., -1., -1.,  ..., -1., -1., -1.]],\n",
       "   \n",
       "            [[-1., -1., -1.,  ..., -1., -1., -1.],\n",
       "             [-1., -1., -1.,  ..., -1., -1., -1.],\n",
       "             [-1., -1., -1.,  ..., -1., -1., -1.],\n",
       "             ...,\n",
       "             [-1., -1., -1.,  ..., -1., -1., -1.],\n",
       "             [-1., -1., -1.,  ..., -1., -1., -1.],\n",
       "             [-1., -1., -1.,  ..., -1., -1., -1.]]],\n",
       "   \n",
       "   \n",
       "           [[[-1., -1., -1.,  ..., -1., -1., -1.],\n",
       "             [-1., -1., -1.,  ..., -1., -1., -1.],\n",
       "             [-1., -1., -1.,  ..., -1., -1., -1.],\n",
       "             ...,\n",
       "             [-1., -1., -1.,  ..., -1., -1., -1.],\n",
       "             [-1., -1., -1.,  ..., -1., -1., -1.],\n",
       "             [-1., -1., -1.,  ..., -1., -1., -1.]],\n",
       "   \n",
       "            [[-1., -1., -1.,  ..., -1., -1., -1.],\n",
       "             [-1., -1., -1.,  ..., -1., -1., -1.],\n",
       "             [-1., -1., -1.,  ..., -1., -1., -1.],\n",
       "             ...,\n",
       "             [-1., -1., -1.,  ..., -1., -1., -1.],\n",
       "             [-1., -1., -1.,  ..., -1., -1., -1.],\n",
       "             [-1., -1., -1.,  ..., -1., -1., -1.]],\n",
       "   \n",
       "            [[-1., -1., -1.,  ..., -1., -1., -1.],\n",
       "             [-1., -1., -1.,  ..., -1., -1., -1.],\n",
       "             [-1., -1., -1.,  ..., -1., -1., -1.],\n",
       "             ...,\n",
       "             [-1., -1., -1.,  ..., -1., -1., -1.],\n",
       "             [-1., -1., -1.,  ..., -1., -1., -1.],\n",
       "             [-1., -1., -1.,  ..., -1., -1., -1.]]],\n",
       "   \n",
       "   \n",
       "           [[[-1., -1., -1.,  ..., -1., -1., -1.],\n",
       "             [-1., -1., -1.,  ..., -1., -1., -1.],\n",
       "             [-1., -1., -1.,  ..., -1., -1., -1.],\n",
       "             ...,\n",
       "             [-1., -1., -1.,  ..., -1., -1., -1.],\n",
       "             [-1., -1., -1.,  ..., -1., -1., -1.],\n",
       "             [-1., -1., -1.,  ..., -1., -1., -1.]],\n",
       "   \n",
       "            [[-1., -1., -1.,  ..., -1., -1., -1.],\n",
       "             [-1., -1., -1.,  ..., -1., -1., -1.],\n",
       "             [-1., -1., -1.,  ..., -1., -1., -1.],\n",
       "             ...,\n",
       "             [-1., -1., -1.,  ..., -1., -1., -1.],\n",
       "             [-1., -1., -1.,  ..., -1., -1., -1.],\n",
       "             [-1., -1., -1.,  ..., -1., -1., -1.]],\n",
       "   \n",
       "            [[-1., -1., -1.,  ..., -1., -1., -1.],\n",
       "             [-1., -1., -1.,  ..., -1., -1., -1.],\n",
       "             [-1., -1., -1.,  ..., -1., -1., -1.],\n",
       "             ...,\n",
       "             [-1., -1., -1.,  ..., -1., -1., -1.],\n",
       "             [-1., -1., -1.,  ..., -1., -1., -1.],\n",
       "             [-1., -1., -1.,  ..., -1., -1., -1.]]]]),\n",
       "   tensor([[0.0000, 0.4497, 0.4993, 0.0000],\n",
       "           [0.0000, 0.0970, 0.4846, 0.0000],\n",
       "           [1.0000, 0.4888, 0.7163, 0.0000],\n",
       "           [0.0000, 0.3713, 0.3254, 0.0000],\n",
       "           [0.0000, 0.3713, 0.5571, 1.0000],\n",
       "           [0.0000, 0.4497, 0.3398, 1.0000],\n",
       "           [1.0000, 0.5674, 0.4846, 0.0000],\n",
       "           [0.0000, 0.5278, 0.4993, 1.0000]], dtype=torch.float16)],\n",
       "  tensor([0, 0, 0, 0, 0, 0, 0, 0]),\n",
       "  ('.\\\\ValidationSet/normal/N180.jpg',\n",
       "   '.\\\\ValidationSet/normal/N20.jpg',\n",
       "   '.\\\\ValidationSet/normal/N220.jpg',\n",
       "   '.\\\\ValidationSet/normal/N240.jpg',\n",
       "   '.\\\\ValidationSet/normal/N260.jpg',\n",
       "   '.\\\\ValidationSet/normal/N270.jpg',\n",
       "   '.\\\\ValidationSet/normal/N290.jpg',\n",
       "   '.\\\\ValidationSet/normal/N320.jpg')],\n",
       " [[tensor([[[[-1., -1., -1.,  ..., -1., -1., -1.],\n",
       "             [-1., -1., -1.,  ..., -1., -1., -1.],\n",
       "             [-1., -1., -1.,  ..., -1., -1., -1.],\n",
       "             ...,\n",
       "             [-1., -1., -1.,  ..., -1., -1., -1.],\n",
       "             [-1., -1., -1.,  ..., -1., -1., -1.],\n",
       "             [-1., -1., -1.,  ..., -1., -1., -1.]],\n",
       "   \n",
       "            [[-1., -1., -1.,  ..., -1., -1., -1.],\n",
       "             [-1., -1., -1.,  ..., -1., -1., -1.],\n",
       "             [-1., -1., -1.,  ..., -1., -1., -1.],\n",
       "             ...,\n",
       "             [-1., -1., -1.,  ..., -1., -1., -1.],\n",
       "             [-1., -1., -1.,  ..., -1., -1., -1.],\n",
       "             [-1., -1., -1.,  ..., -1., -1., -1.]],\n",
       "   \n",
       "            [[-1., -1., -1.,  ..., -1., -1., -1.],\n",
       "             [-1., -1., -1.,  ..., -1., -1., -1.],\n",
       "             [-1., -1., -1.,  ..., -1., -1., -1.],\n",
       "             ...,\n",
       "             [-1., -1., -1.,  ..., -1., -1., -1.],\n",
       "             [-1., -1., -1.,  ..., -1., -1., -1.],\n",
       "             [-1., -1., -1.,  ..., -1., -1., -1.]]],\n",
       "   \n",
       "   \n",
       "           [[[-1., -1., -1.,  ..., -1., -1., -1.],\n",
       "             [-1., -1., -1.,  ..., -1., -1., -1.],\n",
       "             [-1., -1., -1.,  ..., -1., -1., -1.],\n",
       "             ...,\n",
       "             [-1., -1., -1.,  ..., -1., -1., -1.],\n",
       "             [-1., -1., -1.,  ..., -1., -1., -1.],\n",
       "             [-1., -1., -1.,  ..., -1., -1., -1.]],\n",
       "   \n",
       "            [[-1., -1., -1.,  ..., -1., -1., -1.],\n",
       "             [-1., -1., -1.,  ..., -1., -1., -1.],\n",
       "             [-1., -1., -1.,  ..., -1., -1., -1.],\n",
       "             ...,\n",
       "             [-1., -1., -1.,  ..., -1., -1., -1.],\n",
       "             [-1., -1., -1.,  ..., -1., -1., -1.],\n",
       "             [-1., -1., -1.,  ..., -1., -1., -1.]],\n",
       "   \n",
       "            [[-1., -1., -1.,  ..., -1., -1., -1.],\n",
       "             [-1., -1., -1.,  ..., -1., -1., -1.],\n",
       "             [-1., -1., -1.,  ..., -1., -1., -1.],\n",
       "             ...,\n",
       "             [-1., -1., -1.,  ..., -1., -1., -1.],\n",
       "             [-1., -1., -1.,  ..., -1., -1., -1.],\n",
       "             [-1., -1., -1.,  ..., -1., -1., -1.]]],\n",
       "   \n",
       "   \n",
       "           [[[-1., -1., -1.,  ..., -1., -1., -1.],\n",
       "             [-1., -1., -1.,  ..., -1., -1., -1.],\n",
       "             [-1., -1., -1.,  ..., -1., -1., -1.],\n",
       "             ...,\n",
       "             [-1., -1., -1.,  ..., -1., -1., -1.],\n",
       "             [-1., -1., -1.,  ..., -1., -1., -1.],\n",
       "             [-1., -1., -1.,  ..., -1., -1., -1.]],\n",
       "   \n",
       "            [[-1., -1., -1.,  ..., -1., -1., -1.],\n",
       "             [-1., -1., -1.,  ..., -1., -1., -1.],\n",
       "             [-1., -1., -1.,  ..., -1., -1., -1.],\n",
       "             ...,\n",
       "             [-1., -1., -1.,  ..., -1., -1., -1.],\n",
       "             [-1., -1., -1.,  ..., -1., -1., -1.],\n",
       "             [-1., -1., -1.,  ..., -1., -1., -1.]],\n",
       "   \n",
       "            [[-1., -1., -1.,  ..., -1., -1., -1.],\n",
       "             [-1., -1., -1.,  ..., -1., -1., -1.],\n",
       "             [-1., -1., -1.,  ..., -1., -1., -1.],\n",
       "             ...,\n",
       "             [-1., -1., -1.,  ..., -1., -1., -1.],\n",
       "             [-1., -1., -1.,  ..., -1., -1., -1.],\n",
       "             [-1., -1., -1.,  ..., -1., -1., -1.]]],\n",
       "   \n",
       "   \n",
       "           ...,\n",
       "   \n",
       "   \n",
       "           [[[-1., -1., -1.,  ..., -1., -1., -1.],\n",
       "             [-1., -1., -1.,  ..., -1., -1., -1.],\n",
       "             [-1., -1., -1.,  ..., -1., -1., -1.],\n",
       "             ...,\n",
       "             [-1., -1., -1.,  ..., -1., -1., -1.],\n",
       "             [-1., -1., -1.,  ..., -1., -1., -1.],\n",
       "             [-1., -1., -1.,  ..., -1., -1., -1.]],\n",
       "   \n",
       "            [[-1., -1., -1.,  ..., -1., -1., -1.],\n",
       "             [-1., -1., -1.,  ..., -1., -1., -1.],\n",
       "             [-1., -1., -1.,  ..., -1., -1., -1.],\n",
       "             ...,\n",
       "             [-1., -1., -1.,  ..., -1., -1., -1.],\n",
       "             [-1., -1., -1.,  ..., -1., -1., -1.],\n",
       "             [-1., -1., -1.,  ..., -1., -1., -1.]],\n",
       "   \n",
       "            [[-1., -1., -1.,  ..., -1., -1., -1.],\n",
       "             [-1., -1., -1.,  ..., -1., -1., -1.],\n",
       "             [-1., -1., -1.,  ..., -1., -1., -1.],\n",
       "             ...,\n",
       "             [-1., -1., -1.,  ..., -1., -1., -1.],\n",
       "             [-1., -1., -1.,  ..., -1., -1., -1.],\n",
       "             [-1., -1., -1.,  ..., -1., -1., -1.]]],\n",
       "   \n",
       "   \n",
       "           [[[-1., -1., -1.,  ..., -1., -1., -1.],\n",
       "             [-1., -1., -1.,  ..., -1., -1., -1.],\n",
       "             [-1., -1., -1.,  ..., -1., -1., -1.],\n",
       "             ...,\n",
       "             [-1., -1., -1.,  ..., -1., -1., -1.],\n",
       "             [-1., -1., -1.,  ..., -1., -1., -1.],\n",
       "             [-1., -1., -1.,  ..., -1., -1., -1.]],\n",
       "   \n",
       "            [[-1., -1., -1.,  ..., -1., -1., -1.],\n",
       "             [-1., -1., -1.,  ..., -1., -1., -1.],\n",
       "             [-1., -1., -1.,  ..., -1., -1., -1.],\n",
       "             ...,\n",
       "             [-1., -1., -1.,  ..., -1., -1., -1.],\n",
       "             [-1., -1., -1.,  ..., -1., -1., -1.],\n",
       "             [-1., -1., -1.,  ..., -1., -1., -1.]],\n",
       "   \n",
       "            [[-1., -1., -1.,  ..., -1., -1., -1.],\n",
       "             [-1., -1., -1.,  ..., -1., -1., -1.],\n",
       "             [-1., -1., -1.,  ..., -1., -1., -1.],\n",
       "             ...,\n",
       "             [-1., -1., -1.,  ..., -1., -1., -1.],\n",
       "             [-1., -1., -1.,  ..., -1., -1., -1.],\n",
       "             [-1., -1., -1.,  ..., -1., -1., -1.]]],\n",
       "   \n",
       "   \n",
       "           [[[-1., -1., -1.,  ..., -1., -1., -1.],\n",
       "             [-1., -1., -1.,  ..., -1., -1., -1.],\n",
       "             [-1., -1., -1.,  ..., -1., -1., -1.],\n",
       "             ...,\n",
       "             [-1., -1., -1.,  ..., -1., -1., -1.],\n",
       "             [-1., -1., -1.,  ..., -1., -1., -1.],\n",
       "             [-1., -1., -1.,  ..., -1., -1., -1.]],\n",
       "   \n",
       "            [[-1., -1., -1.,  ..., -1., -1., -1.],\n",
       "             [-1., -1., -1.,  ..., -1., -1., -1.],\n",
       "             [-1., -1., -1.,  ..., -1., -1., -1.],\n",
       "             ...,\n",
       "             [-1., -1., -1.,  ..., -1., -1., -1.],\n",
       "             [-1., -1., -1.,  ..., -1., -1., -1.],\n",
       "             [-1., -1., -1.,  ..., -1., -1., -1.]],\n",
       "   \n",
       "            [[-1., -1., -1.,  ..., -1., -1., -1.],\n",
       "             [-1., -1., -1.,  ..., -1., -1., -1.],\n",
       "             [-1., -1., -1.,  ..., -1., -1., -1.],\n",
       "             ...,\n",
       "             [-1., -1., -1.,  ..., -1., -1., -1.],\n",
       "             [-1., -1., -1.,  ..., -1., -1., -1.],\n",
       "             [-1., -1., -1.,  ..., -1., -1., -1.]]]]),\n",
       "   tensor([[1.0000, 0.1754, 0.3542, 1.0000],\n",
       "           [0.0000, 0.0579, 0.2096, 1.0000],\n",
       "           [0.0000, 1.1553, 0.4846, 0.0000],\n",
       "           [0.0000, 0.9590, 0.4846, 0.0000],\n",
       "           [1.0000, 1.2725, 0.6294, 0.0000],\n",
       "           [1.0000, 1.1553, 0.4268, 0.0000],\n",
       "           [0.0000, 0.8809, 0.5137, 0.0000],\n",
       "           [0.0000, 0.5674, 0.3833, 1.0000]], dtype=torch.float16)],\n",
       "  tensor([0, 0, 1, 1, 1, 1, 1, 1]),\n",
       "  ('.\\\\ValidationSet/normal/N330.jpg',\n",
       "   '.\\\\ValidationSet/normal/N360.jpg',\n",
       "   '.\\\\ValidationSet/osteopenia/OP1000.jpg',\n",
       "   '.\\\\ValidationSet/osteopenia/OP1010.jpg',\n",
       "   '.\\\\ValidationSet/osteopenia/OP1050.jpg',\n",
       "   '.\\\\ValidationSet/osteopenia/OP1060.jpg',\n",
       "   '.\\\\ValidationSet/osteopenia/OP1080.jpg',\n",
       "   '.\\\\ValidationSet/osteopenia/OP1100.jpg')],\n",
       " [[tensor([[[[-1., -1., -1.,  ..., -1., -1., -1.],\n",
       "             [-1., -1., -1.,  ..., -1., -1., -1.],\n",
       "             [-1., -1., -1.,  ..., -1., -1., -1.],\n",
       "             ...,\n",
       "             [-1., -1., -1.,  ..., -1., -1., -1.],\n",
       "             [-1., -1., -1.,  ..., -1., -1., -1.],\n",
       "             [-1., -1., -1.,  ..., -1., -1., -1.]],\n",
       "   \n",
       "            [[-1., -1., -1.,  ..., -1., -1., -1.],\n",
       "             [-1., -1., -1.,  ..., -1., -1., -1.],\n",
       "             [-1., -1., -1.,  ..., -1., -1., -1.],\n",
       "             ...,\n",
       "             [-1., -1., -1.,  ..., -1., -1., -1.],\n",
       "             [-1., -1., -1.,  ..., -1., -1., -1.],\n",
       "             [-1., -1., -1.,  ..., -1., -1., -1.]],\n",
       "   \n",
       "            [[-1., -1., -1.,  ..., -1., -1., -1.],\n",
       "             [-1., -1., -1.,  ..., -1., -1., -1.],\n",
       "             [-1., -1., -1.,  ..., -1., -1., -1.],\n",
       "             ...,\n",
       "             [-1., -1., -1.,  ..., -1., -1., -1.],\n",
       "             [-1., -1., -1.,  ..., -1., -1., -1.],\n",
       "             [-1., -1., -1.,  ..., -1., -1., -1.]]],\n",
       "   \n",
       "   \n",
       "           [[[-1., -1., -1.,  ..., -1., -1., -1.],\n",
       "             [-1., -1., -1.,  ..., -1., -1., -1.],\n",
       "             [-1., -1., -1.,  ..., -1., -1., -1.],\n",
       "             ...,\n",
       "             [-1., -1., -1.,  ..., -1., -1., -1.],\n",
       "             [-1., -1., -1.,  ..., -1., -1., -1.],\n",
       "             [-1., -1., -1.,  ..., -1., -1., -1.]],\n",
       "   \n",
       "            [[-1., -1., -1.,  ..., -1., -1., -1.],\n",
       "             [-1., -1., -1.,  ..., -1., -1., -1.],\n",
       "             [-1., -1., -1.,  ..., -1., -1., -1.],\n",
       "             ...,\n",
       "             [-1., -1., -1.,  ..., -1., -1., -1.],\n",
       "             [-1., -1., -1.,  ..., -1., -1., -1.],\n",
       "             [-1., -1., -1.,  ..., -1., -1., -1.]],\n",
       "   \n",
       "            [[-1., -1., -1.,  ..., -1., -1., -1.],\n",
       "             [-1., -1., -1.,  ..., -1., -1., -1.],\n",
       "             [-1., -1., -1.,  ..., -1., -1., -1.],\n",
       "             ...,\n",
       "             [-1., -1., -1.,  ..., -1., -1., -1.],\n",
       "             [-1., -1., -1.,  ..., -1., -1., -1.],\n",
       "             [-1., -1., -1.,  ..., -1., -1., -1.]]],\n",
       "   \n",
       "   \n",
       "           [[[-1., -1., -1.,  ..., -1., -1., -1.],\n",
       "             [-1., -1., -1.,  ..., -1., -1., -1.],\n",
       "             [-1., -1., -1.,  ..., -1., -1., -1.],\n",
       "             ...,\n",
       "             [-1., -1., -1.,  ..., -1., -1., -1.],\n",
       "             [-1., -1., -1.,  ..., -1., -1., -1.],\n",
       "             [-1., -1., -1.,  ..., -1., -1., -1.]],\n",
       "   \n",
       "            [[-1., -1., -1.,  ..., -1., -1., -1.],\n",
       "             [-1., -1., -1.,  ..., -1., -1., -1.],\n",
       "             [-1., -1., -1.,  ..., -1., -1., -1.],\n",
       "             ...,\n",
       "             [-1., -1., -1.,  ..., -1., -1., -1.],\n",
       "             [-1., -1., -1.,  ..., -1., -1., -1.],\n",
       "             [-1., -1., -1.,  ..., -1., -1., -1.]],\n",
       "   \n",
       "            [[-1., -1., -1.,  ..., -1., -1., -1.],\n",
       "             [-1., -1., -1.,  ..., -1., -1., -1.],\n",
       "             [-1., -1., -1.,  ..., -1., -1., -1.],\n",
       "             ...,\n",
       "             [-1., -1., -1.,  ..., -1., -1., -1.],\n",
       "             [-1., -1., -1.,  ..., -1., -1., -1.],\n",
       "             [-1., -1., -1.,  ..., -1., -1., -1.]]],\n",
       "   \n",
       "   \n",
       "           ...,\n",
       "   \n",
       "   \n",
       "           [[[-1., -1., -1.,  ..., -1., -1., -1.],\n",
       "             [-1., -1., -1.,  ..., -1., -1., -1.],\n",
       "             [-1., -1., -1.,  ..., -1., -1., -1.],\n",
       "             ...,\n",
       "             [-1., -1., -1.,  ..., -1., -1., -1.],\n",
       "             [-1., -1., -1.,  ..., -1., -1., -1.],\n",
       "             [-1., -1., -1.,  ..., -1., -1., -1.]],\n",
       "   \n",
       "            [[-1., -1., -1.,  ..., -1., -1., -1.],\n",
       "             [-1., -1., -1.,  ..., -1., -1., -1.],\n",
       "             [-1., -1., -1.,  ..., -1., -1., -1.],\n",
       "             ...,\n",
       "             [-1., -1., -1.,  ..., -1., -1., -1.],\n",
       "             [-1., -1., -1.,  ..., -1., -1., -1.],\n",
       "             [-1., -1., -1.,  ..., -1., -1., -1.]],\n",
       "   \n",
       "            [[-1., -1., -1.,  ..., -1., -1., -1.],\n",
       "             [-1., -1., -1.,  ..., -1., -1., -1.],\n",
       "             [-1., -1., -1.,  ..., -1., -1., -1.],\n",
       "             ...,\n",
       "             [-1., -1., -1.,  ..., -1., -1., -1.],\n",
       "             [-1., -1., -1.,  ..., -1., -1., -1.],\n",
       "             [-1., -1., -1.,  ..., -1., -1., -1.]]],\n",
       "   \n",
       "   \n",
       "           [[[-1., -1., -1.,  ..., -1., -1., -1.],\n",
       "             [-1., -1., -1.,  ..., -1., -1., -1.],\n",
       "             [-1., -1., -1.,  ..., -1., -1., -1.],\n",
       "             ...,\n",
       "             [-1., -1., -1.,  ..., -1., -1., -1.],\n",
       "             [-1., -1., -1.,  ..., -1., -1., -1.],\n",
       "             [-1., -1., -1.,  ..., -1., -1., -1.]],\n",
       "   \n",
       "            [[-1., -1., -1.,  ..., -1., -1., -1.],\n",
       "             [-1., -1., -1.,  ..., -1., -1., -1.],\n",
       "             [-1., -1., -1.,  ..., -1., -1., -1.],\n",
       "             ...,\n",
       "             [-1., -1., -1.,  ..., -1., -1., -1.],\n",
       "             [-1., -1., -1.,  ..., -1., -1., -1.],\n",
       "             [-1., -1., -1.,  ..., -1., -1., -1.]],\n",
       "   \n",
       "            [[-1., -1., -1.,  ..., -1., -1., -1.],\n",
       "             [-1., -1., -1.,  ..., -1., -1., -1.],\n",
       "             [-1., -1., -1.,  ..., -1., -1., -1.],\n",
       "             ...,\n",
       "             [-1., -1., -1.,  ..., -1., -1., -1.],\n",
       "             [-1., -1., -1.,  ..., -1., -1., -1.],\n",
       "             [-1., -1., -1.,  ..., -1., -1., -1.]]],\n",
       "   \n",
       "   \n",
       "           [[[-1., -1., -1.,  ..., -1., -1., -1.],\n",
       "             [-1., -1., -1.,  ..., -1., -1., -1.],\n",
       "             [-1., -1., -1.,  ..., -1., -1., -1.],\n",
       "             ...,\n",
       "             [-1., -1., -1.,  ..., -1., -1., -1.],\n",
       "             [-1., -1., -1.,  ..., -1., -1., -1.],\n",
       "             [-1., -1., -1.,  ..., -1., -1., -1.]],\n",
       "   \n",
       "            [[-1., -1., -1.,  ..., -1., -1., -1.],\n",
       "             [-1., -1., -1.,  ..., -1., -1., -1.],\n",
       "             [-1., -1., -1.,  ..., -1., -1., -1.],\n",
       "             ...,\n",
       "             [-1., -1., -1.,  ..., -1., -1., -1.],\n",
       "             [-1., -1., -1.,  ..., -1., -1., -1.],\n",
       "             [-1., -1., -1.,  ..., -1., -1., -1.]],\n",
       "   \n",
       "            [[-1., -1., -1.,  ..., -1., -1., -1.],\n",
       "             [-1., -1., -1.,  ..., -1., -1., -1.],\n",
       "             [-1., -1., -1.,  ..., -1., -1., -1.],\n",
       "             ...,\n",
       "             [-1., -1., -1.,  ..., -1., -1., -1.],\n",
       "             [-1., -1., -1.,  ..., -1., -1., -1.],\n",
       "             [-1., -1., -1.,  ..., -1., -1., -1.]]]]),\n",
       "   tensor([[0.0000, 0.9199, 0.4268, 1.0000],\n",
       "           [1.0000, 1.7422, 0.3108, 0.0000],\n",
       "           [1.0000, 1.4287, 0.5283, 1.0000],\n",
       "           [0.0000, 0.1754, 0.4124, 0.0000],\n",
       "           [1.0000, 1.9385, 0.3542, 0.0000],\n",
       "           [1.0000, 3.1914, 0.3398, 0.0000],\n",
       "           [1.0000, 1.1553, 0.7163, 0.0000],\n",
       "           [1.0000, 1.7422, 0.6152, 1.0000]], dtype=torch.float16)],\n",
       "  tensor([1, 1, 1, 1, 2, 2, 2, 2]),\n",
       "  ('.\\\\ValidationSet/osteopenia/OP1120.jpg',\n",
       "   '.\\\\ValidationSet/osteopenia/OP1470.jpg',\n",
       "   '.\\\\ValidationSet/osteopenia/OP940.jpg',\n",
       "   '.\\\\ValidationSet/osteopenia/OP950.jpg',\n",
       "   '.\\\\ValidationSet/osteoporosis/OS230.jpg',\n",
       "   '.\\\\ValidationSet/osteoporosis/OS270.jpg',\n",
       "   '.\\\\ValidationSet/osteoporosis/OS310.jpg',\n",
       "   '.\\\\ValidationSet/osteoporosis/OS400.jpg')],\n",
       " [[tensor([[[[-1., -1., -1.,  ..., -1., -1., -1.],\n",
       "             [-1., -1., -1.,  ..., -1., -1., -1.],\n",
       "             [-1., -1., -1.,  ..., -1., -1., -1.],\n",
       "             ...,\n",
       "             [-1., -1., -1.,  ..., -1., -1., -1.],\n",
       "             [-1., -1., -1.,  ..., -1., -1., -1.],\n",
       "             [-1., -1., -1.,  ..., -1., -1., -1.]],\n",
       "   \n",
       "            [[-1., -1., -1.,  ..., -1., -1., -1.],\n",
       "             [-1., -1., -1.,  ..., -1., -1., -1.],\n",
       "             [-1., -1., -1.,  ..., -1., -1., -1.],\n",
       "             ...,\n",
       "             [-1., -1., -1.,  ..., -1., -1., -1.],\n",
       "             [-1., -1., -1.,  ..., -1., -1., -1.],\n",
       "             [-1., -1., -1.,  ..., -1., -1., -1.]],\n",
       "   \n",
       "            [[-1., -1., -1.,  ..., -1., -1., -1.],\n",
       "             [-1., -1., -1.,  ..., -1., -1., -1.],\n",
       "             [-1., -1., -1.,  ..., -1., -1., -1.],\n",
       "             ...,\n",
       "             [-1., -1., -1.,  ..., -1., -1., -1.],\n",
       "             [-1., -1., -1.,  ..., -1., -1., -1.],\n",
       "             [-1., -1., -1.,  ..., -1., -1., -1.]]],\n",
       "   \n",
       "   \n",
       "           [[[-1., -1., -1.,  ..., -1., -1., -1.],\n",
       "             [-1., -1., -1.,  ..., -1., -1., -1.],\n",
       "             [-1., -1., -1.,  ..., -1., -1., -1.],\n",
       "             ...,\n",
       "             [-1., -1., -1.,  ..., -1., -1., -1.],\n",
       "             [-1., -1., -1.,  ..., -1., -1., -1.],\n",
       "             [-1., -1., -1.,  ..., -1., -1., -1.]],\n",
       "   \n",
       "            [[-1., -1., -1.,  ..., -1., -1., -1.],\n",
       "             [-1., -1., -1.,  ..., -1., -1., -1.],\n",
       "             [-1., -1., -1.,  ..., -1., -1., -1.],\n",
       "             ...,\n",
       "             [-1., -1., -1.,  ..., -1., -1., -1.],\n",
       "             [-1., -1., -1.,  ..., -1., -1., -1.],\n",
       "             [-1., -1., -1.,  ..., -1., -1., -1.]],\n",
       "   \n",
       "            [[-1., -1., -1.,  ..., -1., -1., -1.],\n",
       "             [-1., -1., -1.,  ..., -1., -1., -1.],\n",
       "             [-1., -1., -1.,  ..., -1., -1., -1.],\n",
       "             ...,\n",
       "             [-1., -1., -1.,  ..., -1., -1., -1.],\n",
       "             [-1., -1., -1.,  ..., -1., -1., -1.],\n",
       "             [-1., -1., -1.,  ..., -1., -1., -1.]]],\n",
       "   \n",
       "   \n",
       "           [[[-1., -1., -1.,  ..., -1., -1., -1.],\n",
       "             [-1., -1., -1.,  ..., -1., -1., -1.],\n",
       "             [-1., -1., -1.,  ..., -1., -1., -1.],\n",
       "             ...,\n",
       "             [-1., -1., -1.,  ..., -1., -1., -1.],\n",
       "             [-1., -1., -1.,  ..., -1., -1., -1.],\n",
       "             [-1., -1., -1.,  ..., -1., -1., -1.]],\n",
       "   \n",
       "            [[-1., -1., -1.,  ..., -1., -1., -1.],\n",
       "             [-1., -1., -1.,  ..., -1., -1., -1.],\n",
       "             [-1., -1., -1.,  ..., -1., -1., -1.],\n",
       "             ...,\n",
       "             [-1., -1., -1.,  ..., -1., -1., -1.],\n",
       "             [-1., -1., -1.,  ..., -1., -1., -1.],\n",
       "             [-1., -1., -1.,  ..., -1., -1., -1.]],\n",
       "   \n",
       "            [[-1., -1., -1.,  ..., -1., -1., -1.],\n",
       "             [-1., -1., -1.,  ..., -1., -1., -1.],\n",
       "             [-1., -1., -1.,  ..., -1., -1., -1.],\n",
       "             ...,\n",
       "             [-1., -1., -1.,  ..., -1., -1., -1.],\n",
       "             [-1., -1., -1.,  ..., -1., -1., -1.],\n",
       "             [-1., -1., -1.,  ..., -1., -1., -1.]]],\n",
       "   \n",
       "   \n",
       "           [[[-1., -1., -1.,  ..., -1., -1., -1.],\n",
       "             [-1., -1., -1.,  ..., -1., -1., -1.],\n",
       "             [-1., -1., -1.,  ..., -1., -1., -1.],\n",
       "             ...,\n",
       "             [-1., -1., -1.,  ..., -1., -1., -1.],\n",
       "             [-1., -1., -1.,  ..., -1., -1., -1.],\n",
       "             [-1., -1., -1.,  ..., -1., -1., -1.]],\n",
       "   \n",
       "            [[-1., -1., -1.,  ..., -1., -1., -1.],\n",
       "             [-1., -1., -1.,  ..., -1., -1., -1.],\n",
       "             [-1., -1., -1.,  ..., -1., -1., -1.],\n",
       "             ...,\n",
       "             [-1., -1., -1.,  ..., -1., -1., -1.],\n",
       "             [-1., -1., -1.,  ..., -1., -1., -1.],\n",
       "             [-1., -1., -1.,  ..., -1., -1., -1.]],\n",
       "   \n",
       "            [[-1., -1., -1.,  ..., -1., -1., -1.],\n",
       "             [-1., -1., -1.,  ..., -1., -1., -1.],\n",
       "             [-1., -1., -1.,  ..., -1., -1., -1.],\n",
       "             ...,\n",
       "             [-1., -1., -1.,  ..., -1., -1., -1.],\n",
       "             [-1., -1., -1.,  ..., -1., -1., -1.],\n",
       "             [-1., -1., -1.,  ..., -1., -1., -1.]]],\n",
       "   \n",
       "   \n",
       "           [[[-1., -1., -1.,  ..., -1., -1., -1.],\n",
       "             [-1., -1., -1.,  ..., -1., -1., -1.],\n",
       "             [-1., -1., -1.,  ..., -1., -1., -1.],\n",
       "             ...,\n",
       "             [-1., -1., -1.,  ..., -1., -1., -1.],\n",
       "             [-1., -1., -1.,  ..., -1., -1., -1.],\n",
       "             [-1., -1., -1.,  ..., -1., -1., -1.]],\n",
       "   \n",
       "            [[-1., -1., -1.,  ..., -1., -1., -1.],\n",
       "             [-1., -1., -1.,  ..., -1., -1., -1.],\n",
       "             [-1., -1., -1.,  ..., -1., -1., -1.],\n",
       "             ...,\n",
       "             [-1., -1., -1.,  ..., -1., -1., -1.],\n",
       "             [-1., -1., -1.,  ..., -1., -1., -1.],\n",
       "             [-1., -1., -1.,  ..., -1., -1., -1.]],\n",
       "   \n",
       "            [[-1., -1., -1.,  ..., -1., -1., -1.],\n",
       "             [-1., -1., -1.,  ..., -1., -1., -1.],\n",
       "             [-1., -1., -1.,  ..., -1., -1., -1.],\n",
       "             ...,\n",
       "             [-1., -1., -1.,  ..., -1., -1., -1.],\n",
       "             [-1., -1., -1.,  ..., -1., -1., -1.],\n",
       "             [-1., -1., -1.,  ..., -1., -1., -1.]]],\n",
       "   \n",
       "   \n",
       "           [[[-1., -1., -1.,  ..., -1., -1., -1.],\n",
       "             [-1., -1., -1.,  ..., -1., -1., -1.],\n",
       "             [-1., -1., -1.,  ..., -1., -1., -1.],\n",
       "             ...,\n",
       "             [-1., -1., -1.,  ..., -1., -1., -1.],\n",
       "             [-1., -1., -1.,  ..., -1., -1., -1.],\n",
       "             [-1., -1., -1.,  ..., -1., -1., -1.]],\n",
       "   \n",
       "            [[-1., -1., -1.,  ..., -1., -1., -1.],\n",
       "             [-1., -1., -1.,  ..., -1., -1., -1.],\n",
       "             [-1., -1., -1.,  ..., -1., -1., -1.],\n",
       "             ...,\n",
       "             [-1., -1., -1.,  ..., -1., -1., -1.],\n",
       "             [-1., -1., -1.,  ..., -1., -1., -1.],\n",
       "             [-1., -1., -1.,  ..., -1., -1., -1.]],\n",
       "   \n",
       "            [[-1., -1., -1.,  ..., -1., -1., -1.],\n",
       "             [-1., -1., -1.,  ..., -1., -1., -1.],\n",
       "             [-1., -1., -1.,  ..., -1., -1., -1.],\n",
       "             ...,\n",
       "             [-1., -1., -1.,  ..., -1., -1., -1.],\n",
       "             [-1., -1., -1.,  ..., -1., -1., -1.],\n",
       "             [-1., -1., -1.,  ..., -1., -1., -1.]]]]),\n",
       "   tensor([[0.0000, 1.1553, 0.5718, 0.0000],\n",
       "           [0.0000, 1.5469, 0.3398, 0.0000],\n",
       "           [1.0000, 0.9590, 0.5283, 0.0000],\n",
       "           [0.0000, 0.9590, 0.4268, 0.0000],\n",
       "           [1.0000, 1.5469, 0.6440, 1.0000],\n",
       "           [1.0000, 1.1553, 0.4124, 0.0000]], dtype=torch.float16)],\n",
       "  tensor([2, 2, 2, 2, 2, 2]),\n",
       "  ('.\\\\ValidationSet/osteoporosis/OS410.jpg',\n",
       "   '.\\\\ValidationSet/osteoporosis/OS420.jpg',\n",
       "   '.\\\\ValidationSet/osteoporosis/OS450.jpg',\n",
       "   '.\\\\ValidationSet/osteoporosis/OS470.jpg',\n",
       "   '.\\\\ValidationSet/osteoporosis/OS480.jpg',\n",
       "   '.\\\\ValidationSet/osteoporosis/OS490.jpg')]]"
      ]
     },
     "execution_count": 187,
     "metadata": {},
     "output_type": "execute_result"
    }
   ],
   "source": [
    "valDataset = OsteoSetWithPatientDetails(valPathList,valLabelList,valTransform)\n",
    "valLoader = DataLoader(valDataset, batch_size = 8,shuffle=False,num_workers=0)\n",
    "vgg193.name = 'ckptTesst'\n",
    "[x for x in valLoader]"
   ]
  },
  {
   "cell_type": "code",
   "execution_count": null,
   "metadata": {},
   "outputs": [],
   "source": [
    "raise AssertionError(\"Training Complete\")"
   ]
  },
  {
   "cell_type": "code",
   "execution_count": null,
   "metadata": {},
   "outputs": [],
   "source": [
    "index = -1\n",
    "[x.name for x in ExperimentModel.existingModels]"
   ]
  },
  {
   "cell_type": "code",
   "execution_count": null,
   "metadata": {},
   "outputs": [],
   "source": [
    "import os \n",
    "import re \n",
    "index += 1\n",
    "models = [x.name for x in ExperimentModel.existingModels][index]\n",
    "logDirectory = f\"./lightning_logs/{models}\"\n",
    "# logDirectory = f\"./lightning_logs/VGGModelMax\"\n",
    "versionList = os.listdir(logDirectory)\n",
    "versionList.sort(key=lambda x: int(re.search(r'\\d+', x).group()))\n",
    "# print(versionList[-1])\n",
    "tbDir = f\"{logDirectory}/{versionList[-1]}\"\n",
    "port = f'610{index}'\n",
    "\n",
    "print(index)\n",
    "!echo $tbDir\n",
    "!taskkill /F /IM tensorboard.exe    \n",
    "%load_ext tensorboard\n",
    "%tensorboard --logdir $tbDir --port=$port"
   ]
  },
  {
   "cell_type": "code",
   "execution_count": null,
   "metadata": {},
   "outputs": [],
   "source": [
    "[x.name for x in ExperimentModel.existingModels]"
   ]
  },
  {
   "cell_type": "markdown",
   "metadata": {},
   "source": [
    "# GradCam Visualization"
   ]
  },
  {
   "cell_type": "code",
   "execution_count": null,
   "metadata": {},
   "outputs": [],
   "source": [
    "\n",
    "import torch\n",
    "model = torch.hub.load('pytorch/vision:v0.19.0', 'resnet50', pretrained=True)\n",
    "resnetPath = r'C:\\Users\\assaw\\Documents\\c_stuff\\Python\\machine learning\\ISAIConference\\tb_logs\\ResnetModel\\version_22\\checkpoints'\n",
    "resnet101 = ResnetModel.load_from_checkpoint('\\\\'.join([resnetPath,os.listdir(resnetPath)[-1]]),resnet = model)\n",
    "torch.cuda.empty_cache()\n",
    "resnet101.to(device = torch.device('cuda'))\n",
    "# out,label = resnet50.visualize(valLoader)\n",
    "resnet101.on_validation_epoch_end()"
   ]
  },
  {
   "cell_type": "code",
   "execution_count": null,
   "metadata": {},
   "outputs": [],
   "source": [
    "torch.cuda.empty_cache()\n",
    "model = VGGModel.load_from_checkpoint(r'tb_logs\\VGGModel\\version_26\\checkpoints\\epoch=19-step=720.ckpt',vgg = torchvision.models.vgg19(pretrained=False))\n",
    "outvgg,path = model.visualize(valLoader)\n",
    "\n",
    "plt.imshow(outvgg[0])"
   ]
  },
  {
   "cell_type": "code",
   "execution_count": 26,
   "metadata": {},
   "outputs": [],
   "source": [
    "model = vgg193\n"
   ]
  },
  {
   "cell_type": "markdown",
   "metadata": {},
   "source": [
    "# Classic pytorch for debugging"
   ]
  },
  {
   "cell_type": "code",
   "execution_count": null,
   "metadata": {},
   "outputs": [],
   "source": [
    "\n",
    "import torch\n",
    "import torch.nn as nn\n",
    "import torch.optim as optim\n",
    "torch.cuda.empty_cache()\n",
    "# Define the loss function\n",
    "criterion = nn.CrossEntropyLoss(weight=torch.tensor([0.204, 0.052, 0.175],device='cuda'))\n",
    "\n",
    "# Define the optimizer\n",
    "optimizer = optim.SGD(model.parameters(), lr=0.001, momentum=0.9)\n",
    "\n",
    "# Set the device to GPU if available\n",
    "device = torch.device(\"cuda\")\n",
    "\n",
    "# Move the model to the device\n",
    "model = model.to(device)\n",
    "\n",
    "# Set the model to training mode\n",
    "model.train()\n",
    "\n",
    "num_epochs = 25\n",
    "\n",
    "accHistory = []\n",
    "lossHistory = []\n",
    "valAccHistory = []\n",
    "valLabs = []\n",
    "valPreds = []\n",
    "print(\"Starting training...\")\n",
    "\n",
    "# Training loop\n",
    "for epoch in range(num_epochs):\n",
    "    model.train()\n",
    "    running_loss = 0.0\n",
    "    running_accuracy = []\n",
    "    \n",
    "    # Iterate over the training dataset\n",
    "    for inputs, labels, _ in trainLoader:\n",
    "        # Move the inputs and labels to the device\n",
    "        inputs = inputs.to(device)\n",
    "        labels = labels.to(device)\n",
    "        \n",
    "        # Zero the gradients\n",
    "        optimizer.zero_grad()\n",
    "        \n",
    "        print(inputs.shape)\n",
    "        # Forward pass\n",
    "        outputs = model(inputs.float())\n",
    "        predicted_labels = torch.argmax(outputs, dim=1)\n",
    "        accuracy = torch.sum(predicted_labels == labels).item() / labels.size(0)\n",
    "        running_accuracy.append(accuracy)\n",
    "        # Compute the loss\n",
    "        loss = criterion(outputs, labels)\n",
    "        \n",
    "        # Backward pass\n",
    "        loss.backward()\n",
    "        \n",
    "        # Update the weights\n",
    "        optimizer.step()\n",
    "        \n",
    "        # Update the running loss\n",
    "        running_loss += loss.item()\n",
    "    \n",
    "    # Print the average loss for the epoch\n",
    "    print(f\"Epoch {epoch+1} - Loss: {running_loss / len(trainLoader)}\")\n",
    "    print(F\"Accuracy: {sum(running_accuracy)/len(running_accuracy)}\")\n",
    "    accHistory.append(sum(running_accuracy)/len(running_accuracy))\n",
    "    lossHistory.append(running_loss / len(trainLoader))\n",
    "\n",
    "    # Set the model to evaluation mode\n",
    "    model.eval()\n",
    "\n",
    "    # Disable gradient calculation\n",
    "    with torch.no_grad():\n",
    "        \n",
    "        runningValAccHistory = []\n",
    "        runningValLabs = []\n",
    "        runningValPreds = []\n",
    "        for inputs, labels, _ in valLoader:\n",
    "\n",
    "            # Move the inputs and labels to the device\n",
    "            inputs = inputs.to(device)\n",
    "            labels = labels.to(device)\n",
    "\n",
    "            # Forward pass\n",
    "            outputs = model(inputs.float())\n",
    "\n",
    "            # Compute the loss\n",
    "            loss = criterion(outputs, labels)\n",
    "\n",
    "            # Compute the predicted labels\n",
    "            predicted_labels = torch.argmax(outputs, dim=1)\n",
    "\n",
    "            # Compute the accuracy\n",
    "            accuracy = torch.sum(predicted_labels == labels).item() / labels.size(0)\n",
    "\n",
    "            runningValAccHistory.append(accuracy)\n",
    "            runningValLabs.append(labels)\n",
    "            runningValPreds.append(predicted_labels)\n",
    "\n",
    "        # print(f\"Validation Loss: {loss.item()}\")\n",
    "        valPreds.append(runningValPreds)\n",
    "        valLabs.append(runningValLabs)\n",
    "        print(f\"Validation Accuracy: {sum(runningValAccHistory)/len(valLoader)}\")\n",
    "        valAccHistory.append(sum(runningValAccHistory)/len(valLoader))"
   ]
  },
  {
   "cell_type": "code",
   "execution_count": null,
   "metadata": {},
   "outputs": [],
   "source": [
    "import seaborn as sns\n",
    "idx = 25\n",
    "predsTest = torch.cat(valPreds[idx-1])\n",
    "labelsTest = torch.cat(valLabs[idx-1])\n",
    "print(valAccHistory[idx-1])\n",
    "print(classification_report(predsTest.cpu(),labelsTest.cpu()))\n",
    "cm= confusion_matrix(predsTest.cpu(),labelsTest.cpu(),normalize='true')\n",
    "sns.heatmap(cm, annot=True, cmap='Blues', fmt='.2f',)\n",
    "plt.xlabel('Predicted')\n",
    "plt.ylabel('Actual')\n",
    "plt.title('Confusion Matrix')\n",
    "plt.show()"
   ]
  },
  {
   "cell_type": "code",
   "execution_count": null,
   "metadata": {},
   "outputs": [],
   "source": [
    "import seaborn as sns\n",
    "import pandas as pd\n",
    "\n",
    "# Create a dataframe with the data\n",
    "df = pd.DataFrame({'Epoch': range(len(accHistory)), 'Accuracy': accHistory, 'Loss': lossHistory, 'Validation Accuracy': valAccHistory})\n",
    "\n",
    "# Create the line plot\n",
    "sns.relplot(data=df, x='Epoch', y='Accuracy', kind='line')\n",
    "sns.relplot(data=df, x='Epoch', y='Loss', kind='line')\n",
    "sns.relplot(data=df, x='Epoch', y='Validation Accuracy', kind='line')"
   ]
  }
 ],
 "metadata": {
  "kernelspec": {
   "display_name": "AI",
   "language": "python",
   "name": "python3"
  },
  "language_info": {
   "codemirror_mode": {
    "name": "ipython",
    "version": 3
   },
   "file_extension": ".py",
   "mimetype": "text/x-python",
   "name": "python",
   "nbconvert_exporter": "python",
   "pygments_lexer": "ipython3",
   "version": "3.10.14"
  }
 },
 "nbformat": 4,
 "nbformat_minor": 2
}
