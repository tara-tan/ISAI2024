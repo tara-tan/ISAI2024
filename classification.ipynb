{
 "cells": [
  {
   "cell_type": "code",
   "execution_count": null,
   "metadata": {},
   "outputs": [],
   "source": [
    "import pandas as pd\n",
    "import numpy as np\n",
    "import matplotlib.pyplot as plt\n",
    "import os\n",
    "from sklearn.metrics import classification_report,confusion_matrix\n",
    "from sklearn.model_selection import train_test_split\n",
    "# from transformers import AutoImageProcessor, ResNetForImageClassification,ResNetConfig\n",
    "import torch\n",
    "from abc import ABC,abstractmethod"
   ]
  },
  {
   "cell_type": "code",
   "execution_count": null,
   "metadata": {},
   "outputs": [],
   "source": [
    "#TODO check if layers are actually being trained\n",
    "#TODO add more models\n",
    "#TODO compare metrics\n",
    "#TODO test out prediction loop\n",
    "#TODO learn how to use tensorboard\n",
    "\n",
    "#TODO week2 Balance Dataset\n",
    "#TODO day2 Implement checkpointing and checkpoint loading\n",
    "#TODO day2 implement an actually good and modular pipeline\n",
    "#TODO day2 EDA + explore augments\n",
    "#TODO day2 normalize and test out mean/median/std of pixel values\n",
    "#TODO day2 Actually implement additional layers and finish what i started\n",
    "#TODO Verify data is sent correctly (esp labels)\n",
    "\n",
    "#TODO day2 implement localization/segmentation + research more abt osteopenia\n",
    "#interesting models: yolo v5, medsam"
   ]
  },
  {
   "cell_type": "markdown",
   "metadata": {},
   "source": [
    "###DATASET PREP###"
   ]
  },
  {
   "cell_type": "code",
   "execution_count": null,
   "metadata": {},
   "outputs": [],
   "source": [
    "# projectPath = r\"OsteoBinary\"\n",
    "# pathList = []\n",
    "# labelList = []\n",
    "# dirList = os.listdir(projectPath)[:3]\n",
    "# for idx, x in enumerate(dirList):\n",
    "#     for xx in os.listdir(f\"{projectPath}/{x}\"):\n",
    "#         pathList.append(f\"{projectPath}/{x}/{xx}\")\n",
    "#         labelList.append(idx)"
   ]
  },
  {
   "cell_type": "code",
   "execution_count": 163,
   "metadata": {},
   "outputs": [],
   "source": [
    "projectPath = r\"C:\\Users\\assaw\\Documents\\c_stuff\\Python\\machine learning\\ISAIConference\\testIm\"\n",
    "pathList = []\n",
    "labelList = []\n",
    "dirList = os.listdir(projectPath)[:3]\n",
    "for idx, x in enumerate(dirList):\n",
    "    for xx in os.listdir(f\"{projectPath}/{x}\"):\n",
    "        pathList.append(f\"{projectPath}/{x}/{xx}\")\n",
    "        labelList.append(idx)"
   ]
  },
  {
   "cell_type": "code",
   "execution_count": 164,
   "metadata": {},
   "outputs": [
    {
     "data": {
      "text/plain": [
       "['C:\\\\Users\\\\assaw\\\\Documents\\\\c_stuff\\\\Python\\\\machine learning\\\\ISAIConference\\\\testIm/normal/N10.jpg',\n",
       " 'C:\\\\Users\\\\assaw\\\\Documents\\\\c_stuff\\\\Python\\\\machine learning\\\\ISAIConference\\\\testIm/normal/N100.jpg',\n",
       " 'C:\\\\Users\\\\assaw\\\\Documents\\\\c_stuff\\\\Python\\\\machine learning\\\\ISAIConference\\\\testIm/normal/N101.jpg',\n",
       " 'C:\\\\Users\\\\assaw\\\\Documents\\\\c_stuff\\\\Python\\\\machine learning\\\\ISAIConference\\\\testIm/normal/N11.jpg',\n",
       " 'C:\\\\Users\\\\assaw\\\\Documents\\\\c_stuff\\\\Python\\\\machine learning\\\\ISAIConference\\\\testIm/normal/N110.jpg',\n",
       " 'C:\\\\Users\\\\assaw\\\\Documents\\\\c_stuff\\\\Python\\\\machine learning\\\\ISAIConference\\\\testIm/normal/N111.jpg',\n",
       " 'C:\\\\Users\\\\assaw\\\\Documents\\\\c_stuff\\\\Python\\\\machine learning\\\\ISAIConference\\\\testIm/normal/N120.jpg',\n",
       " 'C:\\\\Users\\\\assaw\\\\Documents\\\\c_stuff\\\\Python\\\\machine learning\\\\ISAIConference\\\\testIm/normal/N121.jpg',\n",
       " 'C:\\\\Users\\\\assaw\\\\Documents\\\\c_stuff\\\\Python\\\\machine learning\\\\ISAIConference\\\\testIm/normal/N130.jpg',\n",
       " 'C:\\\\Users\\\\assaw\\\\Documents\\\\c_stuff\\\\Python\\\\machine learning\\\\ISAIConference\\\\testIm/normal/N131.jpg',\n",
       " 'C:\\\\Users\\\\assaw\\\\Documents\\\\c_stuff\\\\Python\\\\machine learning\\\\ISAIConference\\\\testIm/normal/N140.jpg',\n",
       " 'C:\\\\Users\\\\assaw\\\\Documents\\\\c_stuff\\\\Python\\\\machine learning\\\\ISAIConference\\\\testIm/normal/N141.jpg',\n",
       " 'C:\\\\Users\\\\assaw\\\\Documents\\\\c_stuff\\\\Python\\\\machine learning\\\\ISAIConference\\\\testIm/normal/N150.jpg',\n",
       " 'C:\\\\Users\\\\assaw\\\\Documents\\\\c_stuff\\\\Python\\\\machine learning\\\\ISAIConference\\\\testIm/normal/N151.jpg',\n",
       " 'C:\\\\Users\\\\assaw\\\\Documents\\\\c_stuff\\\\Python\\\\machine learning\\\\ISAIConference\\\\testIm/normal/N160.jpg',\n",
       " 'C:\\\\Users\\\\assaw\\\\Documents\\\\c_stuff\\\\Python\\\\machine learning\\\\ISAIConference\\\\testIm/normal/N161.jpg',\n",
       " 'C:\\\\Users\\\\assaw\\\\Documents\\\\c_stuff\\\\Python\\\\machine learning\\\\ISAIConference\\\\testIm/normal/N170.jpg',\n",
       " 'C:\\\\Users\\\\assaw\\\\Documents\\\\c_stuff\\\\Python\\\\machine learning\\\\ISAIConference\\\\testIm/normal/N171.jpg',\n",
       " 'C:\\\\Users\\\\assaw\\\\Documents\\\\c_stuff\\\\Python\\\\machine learning\\\\ISAIConference\\\\testIm/normal/N180.jpg',\n",
       " 'C:\\\\Users\\\\assaw\\\\Documents\\\\c_stuff\\\\Python\\\\machine learning\\\\ISAIConference\\\\testIm/normal/N190.jpg',\n",
       " 'C:\\\\Users\\\\assaw\\\\Documents\\\\c_stuff\\\\Python\\\\machine learning\\\\ISAIConference\\\\testIm/normal/N191.jpg',\n",
       " 'C:\\\\Users\\\\assaw\\\\Documents\\\\c_stuff\\\\Python\\\\machine learning\\\\ISAIConference\\\\testIm/normal/N20.jpg',\n",
       " 'C:\\\\Users\\\\assaw\\\\Documents\\\\c_stuff\\\\Python\\\\machine learning\\\\ISAIConference\\\\testIm/normal/N200.jpg',\n",
       " 'C:\\\\Users\\\\assaw\\\\Documents\\\\c_stuff\\\\Python\\\\machine learning\\\\ISAIConference\\\\testIm/normal/N201.jpg',\n",
       " 'C:\\\\Users\\\\assaw\\\\Documents\\\\c_stuff\\\\Python\\\\machine learning\\\\ISAIConference\\\\testIm/normal/N210.jpg',\n",
       " 'C:\\\\Users\\\\assaw\\\\Documents\\\\c_stuff\\\\Python\\\\machine learning\\\\ISAIConference\\\\testIm/normal/N211.jpg',\n",
       " 'C:\\\\Users\\\\assaw\\\\Documents\\\\c_stuff\\\\Python\\\\machine learning\\\\ISAIConference\\\\testIm/normal/N220.jpg',\n",
       " 'C:\\\\Users\\\\assaw\\\\Documents\\\\c_stuff\\\\Python\\\\machine learning\\\\ISAIConference\\\\testIm/normal/N230.jpg',\n",
       " 'C:\\\\Users\\\\assaw\\\\Documents\\\\c_stuff\\\\Python\\\\machine learning\\\\ISAIConference\\\\testIm/normal/N231.jpg',\n",
       " 'C:\\\\Users\\\\assaw\\\\Documents\\\\c_stuff\\\\Python\\\\machine learning\\\\ISAIConference\\\\testIm/normal/N240.jpg',\n",
       " 'C:\\\\Users\\\\assaw\\\\Documents\\\\c_stuff\\\\Python\\\\machine learning\\\\ISAIConference\\\\testIm/normal/N250.jpg',\n",
       " 'C:\\\\Users\\\\assaw\\\\Documents\\\\c_stuff\\\\Python\\\\machine learning\\\\ISAIConference\\\\testIm/normal/N260.jpg',\n",
       " 'C:\\\\Users\\\\assaw\\\\Documents\\\\c_stuff\\\\Python\\\\machine learning\\\\ISAIConference\\\\testIm/normal/N270.jpg',\n",
       " 'C:\\\\Users\\\\assaw\\\\Documents\\\\c_stuff\\\\Python\\\\machine learning\\\\ISAIConference\\\\testIm/normal/N280.jpg',\n",
       " 'C:\\\\Users\\\\assaw\\\\Documents\\\\c_stuff\\\\Python\\\\machine learning\\\\ISAIConference\\\\testIm/normal/N290.jpg',\n",
       " 'C:\\\\Users\\\\assaw\\\\Documents\\\\c_stuff\\\\Python\\\\machine learning\\\\ISAIConference\\\\testIm/normal/N30.jpg',\n",
       " 'C:\\\\Users\\\\assaw\\\\Documents\\\\c_stuff\\\\Python\\\\machine learning\\\\ISAIConference\\\\testIm/normal/N300.jpg',\n",
       " 'C:\\\\Users\\\\assaw\\\\Documents\\\\c_stuff\\\\Python\\\\machine learning\\\\ISAIConference\\\\testIm/normal/N301.jpg',\n",
       " 'C:\\\\Users\\\\assaw\\\\Documents\\\\c_stuff\\\\Python\\\\machine learning\\\\ISAIConference\\\\testIm/normal/N31.jpg',\n",
       " 'C:\\\\Users\\\\assaw\\\\Documents\\\\c_stuff\\\\Python\\\\machine learning\\\\ISAIConference\\\\testIm/normal/N310.jpg',\n",
       " 'C:\\\\Users\\\\assaw\\\\Documents\\\\c_stuff\\\\Python\\\\machine learning\\\\ISAIConference\\\\testIm/normal/N320.jpg',\n",
       " 'C:\\\\Users\\\\assaw\\\\Documents\\\\c_stuff\\\\Python\\\\machine learning\\\\ISAIConference\\\\testIm/normal/N330.jpg',\n",
       " 'C:\\\\Users\\\\assaw\\\\Documents\\\\c_stuff\\\\Python\\\\machine learning\\\\ISAIConference\\\\testIm/normal/N340.jpg',\n",
       " 'C:\\\\Users\\\\assaw\\\\Documents\\\\c_stuff\\\\Python\\\\machine learning\\\\ISAIConference\\\\testIm/normal/N350.jpg',\n",
       " 'C:\\\\Users\\\\assaw\\\\Documents\\\\c_stuff\\\\Python\\\\machine learning\\\\ISAIConference\\\\testIm/normal/N360.jpg',\n",
       " 'C:\\\\Users\\\\assaw\\\\Documents\\\\c_stuff\\\\Python\\\\machine learning\\\\ISAIConference\\\\testIm/normal/N40.jpg',\n",
       " 'C:\\\\Users\\\\assaw\\\\Documents\\\\c_stuff\\\\Python\\\\machine learning\\\\ISAIConference\\\\testIm/normal/N41.jpg',\n",
       " 'C:\\\\Users\\\\assaw\\\\Documents\\\\c_stuff\\\\Python\\\\machine learning\\\\ISAIConference\\\\testIm/normal/N50.jpg',\n",
       " 'C:\\\\Users\\\\assaw\\\\Documents\\\\c_stuff\\\\Python\\\\machine learning\\\\ISAIConference\\\\testIm/normal/N51.jpg',\n",
       " 'C:\\\\Users\\\\assaw\\\\Documents\\\\c_stuff\\\\Python\\\\machine learning\\\\ISAIConference\\\\testIm/normal/N61.jpg',\n",
       " 'C:\\\\Users\\\\assaw\\\\Documents\\\\c_stuff\\\\Python\\\\machine learning\\\\ISAIConference\\\\testIm/normal/N62.jpg',\n",
       " 'C:\\\\Users\\\\assaw\\\\Documents\\\\c_stuff\\\\Python\\\\machine learning\\\\ISAIConference\\\\testIm/normal/N70.jpg',\n",
       " 'C:\\\\Users\\\\assaw\\\\Documents\\\\c_stuff\\\\Python\\\\machine learning\\\\ISAIConference\\\\testIm/normal/N71.jpg',\n",
       " 'C:\\\\Users\\\\assaw\\\\Documents\\\\c_stuff\\\\Python\\\\machine learning\\\\ISAIConference\\\\testIm/normal/N80.jpg',\n",
       " 'C:\\\\Users\\\\assaw\\\\Documents\\\\c_stuff\\\\Python\\\\machine learning\\\\ISAIConference\\\\testIm/normal/N81.jpg',\n",
       " 'C:\\\\Users\\\\assaw\\\\Documents\\\\c_stuff\\\\Python\\\\machine learning\\\\ISAIConference\\\\testIm/normal/N90.jpg',\n",
       " 'C:\\\\Users\\\\assaw\\\\Documents\\\\c_stuff\\\\Python\\\\machine learning\\\\ISAIConference\\\\testIm/normal/N91.jpg',\n",
       " 'C:\\\\Users\\\\assaw\\\\Documents\\\\c_stuff\\\\Python\\\\machine learning\\\\ISAIConference\\\\testIm/osteopenia/OP10.jpg',\n",
       " 'C:\\\\Users\\\\assaw\\\\Documents\\\\c_stuff\\\\Python\\\\machine learning\\\\ISAIConference\\\\testIm/osteopenia/OP100.jpg',\n",
       " 'C:\\\\Users\\\\assaw\\\\Documents\\\\c_stuff\\\\Python\\\\machine learning\\\\ISAIConference\\\\testIm/osteopenia/OP1000.jpg',\n",
       " 'C:\\\\Users\\\\assaw\\\\Documents\\\\c_stuff\\\\Python\\\\machine learning\\\\ISAIConference\\\\testIm/osteopenia/OP101.jpg',\n",
       " 'C:\\\\Users\\\\assaw\\\\Documents\\\\c_stuff\\\\Python\\\\machine learning\\\\ISAIConference\\\\testIm/osteopenia/OP1010.jpg',\n",
       " 'C:\\\\Users\\\\assaw\\\\Documents\\\\c_stuff\\\\Python\\\\machine learning\\\\ISAIConference\\\\testIm/osteopenia/OP1020.jpg',\n",
       " 'C:\\\\Users\\\\assaw\\\\Documents\\\\c_stuff\\\\Python\\\\machine learning\\\\ISAIConference\\\\testIm/osteopenia/OP1030.jpg',\n",
       " 'C:\\\\Users\\\\assaw\\\\Documents\\\\c_stuff\\\\Python\\\\machine learning\\\\ISAIConference\\\\testIm/osteopenia/OP1040.jpg',\n",
       " 'C:\\\\Users\\\\assaw\\\\Documents\\\\c_stuff\\\\Python\\\\machine learning\\\\ISAIConference\\\\testIm/osteopenia/OP1050.jpg',\n",
       " 'C:\\\\Users\\\\assaw\\\\Documents\\\\c_stuff\\\\Python\\\\machine learning\\\\ISAIConference\\\\testIm/osteopenia/OP1060.jpg',\n",
       " 'C:\\\\Users\\\\assaw\\\\Documents\\\\c_stuff\\\\Python\\\\machine learning\\\\ISAIConference\\\\testIm/osteopenia/OP1070.jpg',\n",
       " 'C:\\\\Users\\\\assaw\\\\Documents\\\\c_stuff\\\\Python\\\\machine learning\\\\ISAIConference\\\\testIm/osteopenia/OP1071.jpg',\n",
       " 'C:\\\\Users\\\\assaw\\\\Documents\\\\c_stuff\\\\Python\\\\machine learning\\\\ISAIConference\\\\testIm/osteopenia/OP1080.jpg',\n",
       " 'C:\\\\Users\\\\assaw\\\\Documents\\\\c_stuff\\\\Python\\\\machine learning\\\\ISAIConference\\\\testIm/osteopenia/OP1090.jpg',\n",
       " 'C:\\\\Users\\\\assaw\\\\Documents\\\\c_stuff\\\\Python\\\\machine learning\\\\ISAIConference\\\\testIm/osteopenia/OP11.jpg',\n",
       " 'C:\\\\Users\\\\assaw\\\\Documents\\\\c_stuff\\\\Python\\\\machine learning\\\\ISAIConference\\\\testIm/osteopenia/OP1100.jpg',\n",
       " 'C:\\\\Users\\\\assaw\\\\Documents\\\\c_stuff\\\\Python\\\\machine learning\\\\ISAIConference\\\\testIm/osteopenia/OP1110.jpg',\n",
       " 'C:\\\\Users\\\\assaw\\\\Documents\\\\c_stuff\\\\Python\\\\machine learning\\\\ISAIConference\\\\testIm/osteopenia/OP1120.jpg',\n",
       " 'C:\\\\Users\\\\assaw\\\\Documents\\\\c_stuff\\\\Python\\\\machine learning\\\\ISAIConference\\\\testIm/osteopenia/OP1130.jpg',\n",
       " 'C:\\\\Users\\\\assaw\\\\Documents\\\\c_stuff\\\\Python\\\\machine learning\\\\ISAIConference\\\\testIm/osteopenia/OP1140.jpg',\n",
       " 'C:\\\\Users\\\\assaw\\\\Documents\\\\c_stuff\\\\Python\\\\machine learning\\\\ISAIConference\\\\testIm/osteopenia/OP1150.jpg',\n",
       " 'C:\\\\Users\\\\assaw\\\\Documents\\\\c_stuff\\\\Python\\\\machine learning\\\\ISAIConference\\\\testIm/osteopenia/OP1160.jpg',\n",
       " 'C:\\\\Users\\\\assaw\\\\Documents\\\\c_stuff\\\\Python\\\\machine learning\\\\ISAIConference\\\\testIm/osteopenia/OP1170.jpg',\n",
       " 'C:\\\\Users\\\\assaw\\\\Documents\\\\c_stuff\\\\Python\\\\machine learning\\\\ISAIConference\\\\testIm/osteopenia/OP1180.jpg',\n",
       " 'C:\\\\Users\\\\assaw\\\\Documents\\\\c_stuff\\\\Python\\\\machine learning\\\\ISAIConference\\\\testIm/osteopenia/OP1190.jpg',\n",
       " 'C:\\\\Users\\\\assaw\\\\Documents\\\\c_stuff\\\\Python\\\\machine learning\\\\ISAIConference\\\\testIm/osteopenia/OP120.jpg',\n",
       " 'C:\\\\Users\\\\assaw\\\\Documents\\\\c_stuff\\\\Python\\\\machine learning\\\\ISAIConference\\\\testIm/osteopenia/OP1200.jpg',\n",
       " 'C:\\\\Users\\\\assaw\\\\Documents\\\\c_stuff\\\\Python\\\\machine learning\\\\ISAIConference\\\\testIm/osteopenia/OP121.jpg',\n",
       " 'C:\\\\Users\\\\assaw\\\\Documents\\\\c_stuff\\\\Python\\\\machine learning\\\\ISAIConference\\\\testIm/osteopenia/OP1210.jpg',\n",
       " 'C:\\\\Users\\\\assaw\\\\Documents\\\\c_stuff\\\\Python\\\\machine learning\\\\ISAIConference\\\\testIm/osteopenia/OP1220.jpg',\n",
       " 'C:\\\\Users\\\\assaw\\\\Documents\\\\c_stuff\\\\Python\\\\machine learning\\\\ISAIConference\\\\testIm/osteopenia/OP1221.jpg',\n",
       " 'C:\\\\Users\\\\assaw\\\\Documents\\\\c_stuff\\\\Python\\\\machine learning\\\\ISAIConference\\\\testIm/osteopenia/OP1230.jpg',\n",
       " 'C:\\\\Users\\\\assaw\\\\Documents\\\\c_stuff\\\\Python\\\\machine learning\\\\ISAIConference\\\\testIm/osteopenia/OP1231.jpg',\n",
       " 'C:\\\\Users\\\\assaw\\\\Documents\\\\c_stuff\\\\Python\\\\machine learning\\\\ISAIConference\\\\testIm/osteopenia/OP1240.jpg',\n",
       " 'C:\\\\Users\\\\assaw\\\\Documents\\\\c_stuff\\\\Python\\\\machine learning\\\\ISAIConference\\\\testIm/osteopenia/OP1250.jpg',\n",
       " 'C:\\\\Users\\\\assaw\\\\Documents\\\\c_stuff\\\\Python\\\\machine learning\\\\ISAIConference\\\\testIm/osteopenia/OP1260.jpg',\n",
       " 'C:\\\\Users\\\\assaw\\\\Documents\\\\c_stuff\\\\Python\\\\machine learning\\\\ISAIConference\\\\testIm/osteopenia/OP1270.jpg',\n",
       " 'C:\\\\Users\\\\assaw\\\\Documents\\\\c_stuff\\\\Python\\\\machine learning\\\\ISAIConference\\\\testIm/osteopenia/OP1280.jpg',\n",
       " 'C:\\\\Users\\\\assaw\\\\Documents\\\\c_stuff\\\\Python\\\\machine learning\\\\ISAIConference\\\\testIm/osteopenia/OP1290.jpg',\n",
       " 'C:\\\\Users\\\\assaw\\\\Documents\\\\c_stuff\\\\Python\\\\machine learning\\\\ISAIConference\\\\testIm/osteopenia/OP130.jpg',\n",
       " 'C:\\\\Users\\\\assaw\\\\Documents\\\\c_stuff\\\\Python\\\\machine learning\\\\ISAIConference\\\\testIm/osteopenia/OP1300.jpg',\n",
       " 'C:\\\\Users\\\\assaw\\\\Documents\\\\c_stuff\\\\Python\\\\machine learning\\\\ISAIConference\\\\testIm/osteopenia/OP131.jpg',\n",
       " 'C:\\\\Users\\\\assaw\\\\Documents\\\\c_stuff\\\\Python\\\\machine learning\\\\ISAIConference\\\\testIm/osteopenia/OP1310.jpg',\n",
       " 'C:\\\\Users\\\\assaw\\\\Documents\\\\c_stuff\\\\Python\\\\machine learning\\\\ISAIConference\\\\testIm/osteopenia/OP1320.jpg',\n",
       " 'C:\\\\Users\\\\assaw\\\\Documents\\\\c_stuff\\\\Python\\\\machine learning\\\\ISAIConference\\\\testIm/osteopenia/OP1330.jpg',\n",
       " 'C:\\\\Users\\\\assaw\\\\Documents\\\\c_stuff\\\\Python\\\\machine learning\\\\ISAIConference\\\\testIm/osteopenia/OP1340.jpg',\n",
       " 'C:\\\\Users\\\\assaw\\\\Documents\\\\c_stuff\\\\Python\\\\machine learning\\\\ISAIConference\\\\testIm/osteopenia/OP1350.jpg',\n",
       " 'C:\\\\Users\\\\assaw\\\\Documents\\\\c_stuff\\\\Python\\\\machine learning\\\\ISAIConference\\\\testIm/osteopenia/OP1360.jpg',\n",
       " 'C:\\\\Users\\\\assaw\\\\Documents\\\\c_stuff\\\\Python\\\\machine learning\\\\ISAIConference\\\\testIm/osteopenia/OP1370.jpg',\n",
       " 'C:\\\\Users\\\\assaw\\\\Documents\\\\c_stuff\\\\Python\\\\machine learning\\\\ISAIConference\\\\testIm/osteopenia/OP1380.jpg',\n",
       " 'C:\\\\Users\\\\assaw\\\\Documents\\\\c_stuff\\\\Python\\\\machine learning\\\\ISAIConference\\\\testIm/osteopenia/OP1390.jpg',\n",
       " 'C:\\\\Users\\\\assaw\\\\Documents\\\\c_stuff\\\\Python\\\\machine learning\\\\ISAIConference\\\\testIm/osteopenia/OP140.jpg',\n",
       " 'C:\\\\Users\\\\assaw\\\\Documents\\\\c_stuff\\\\Python\\\\machine learning\\\\ISAIConference\\\\testIm/osteopenia/OP1400.jpg',\n",
       " 'C:\\\\Users\\\\assaw\\\\Documents\\\\c_stuff\\\\Python\\\\machine learning\\\\ISAIConference\\\\testIm/osteopenia/OP141.jpg',\n",
       " 'C:\\\\Users\\\\assaw\\\\Documents\\\\c_stuff\\\\Python\\\\machine learning\\\\ISAIConference\\\\testIm/osteopenia/OP1410.jpg',\n",
       " 'C:\\\\Users\\\\assaw\\\\Documents\\\\c_stuff\\\\Python\\\\machine learning\\\\ISAIConference\\\\testIm/osteopenia/OP1420.jpg',\n",
       " 'C:\\\\Users\\\\assaw\\\\Documents\\\\c_stuff\\\\Python\\\\machine learning\\\\ISAIConference\\\\testIm/osteopenia/OP1430.jpg',\n",
       " 'C:\\\\Users\\\\assaw\\\\Documents\\\\c_stuff\\\\Python\\\\machine learning\\\\ISAIConference\\\\testIm/osteopenia/OP1440.jpg',\n",
       " 'C:\\\\Users\\\\assaw\\\\Documents\\\\c_stuff\\\\Python\\\\machine learning\\\\ISAIConference\\\\testIm/osteopenia/OP1450.jpg',\n",
       " 'C:\\\\Users\\\\assaw\\\\Documents\\\\c_stuff\\\\Python\\\\machine learning\\\\ISAIConference\\\\testIm/osteopenia/OP1451.jpg',\n",
       " 'C:\\\\Users\\\\assaw\\\\Documents\\\\c_stuff\\\\Python\\\\machine learning\\\\ISAIConference\\\\testIm/osteopenia/OP1460.jpg',\n",
       " 'C:\\\\Users\\\\assaw\\\\Documents\\\\c_stuff\\\\Python\\\\machine learning\\\\ISAIConference\\\\testIm/osteopenia/OP1470.jpg',\n",
       " 'C:\\\\Users\\\\assaw\\\\Documents\\\\c_stuff\\\\Python\\\\machine learning\\\\ISAIConference\\\\testIm/osteopenia/OP1480.jpg',\n",
       " 'C:\\\\Users\\\\assaw\\\\Documents\\\\c_stuff\\\\Python\\\\machine learning\\\\ISAIConference\\\\testIm/osteopenia/OP1490.jpg',\n",
       " 'C:\\\\Users\\\\assaw\\\\Documents\\\\c_stuff\\\\Python\\\\machine learning\\\\ISAIConference\\\\testIm/osteopenia/OP150.jpg',\n",
       " 'C:\\\\Users\\\\assaw\\\\Documents\\\\c_stuff\\\\Python\\\\machine learning\\\\ISAIConference\\\\testIm/osteopenia/OP1500.jpg',\n",
       " 'C:\\\\Users\\\\assaw\\\\Documents\\\\c_stuff\\\\Python\\\\machine learning\\\\ISAIConference\\\\testIm/osteopenia/OP151.jpg',\n",
       " 'C:\\\\Users\\\\assaw\\\\Documents\\\\c_stuff\\\\Python\\\\machine learning\\\\ISAIConference\\\\testIm/osteopenia/OP1510.jpg',\n",
       " 'C:\\\\Users\\\\assaw\\\\Documents\\\\c_stuff\\\\Python\\\\machine learning\\\\ISAIConference\\\\testIm/osteopenia/OP1520.jpg',\n",
       " 'C:\\\\Users\\\\assaw\\\\Documents\\\\c_stuff\\\\Python\\\\machine learning\\\\ISAIConference\\\\testIm/osteopenia/OP1530.jpg',\n",
       " 'C:\\\\Users\\\\assaw\\\\Documents\\\\c_stuff\\\\Python\\\\machine learning\\\\ISAIConference\\\\testIm/osteopenia/OP1540.jpg',\n",
       " 'C:\\\\Users\\\\assaw\\\\Documents\\\\c_stuff\\\\Python\\\\machine learning\\\\ISAIConference\\\\testIm/osteopenia/OP161.jpg',\n",
       " 'C:\\\\Users\\\\assaw\\\\Documents\\\\c_stuff\\\\Python\\\\machine learning\\\\ISAIConference\\\\testIm/osteopenia/OP162.jpg',\n",
       " 'C:\\\\Users\\\\assaw\\\\Documents\\\\c_stuff\\\\Python\\\\machine learning\\\\ISAIConference\\\\testIm/osteopenia/OP170.jpg',\n",
       " 'C:\\\\Users\\\\assaw\\\\Documents\\\\c_stuff\\\\Python\\\\machine learning\\\\ISAIConference\\\\testIm/osteopenia/OP171.jpg',\n",
       " 'C:\\\\Users\\\\assaw\\\\Documents\\\\c_stuff\\\\Python\\\\machine learning\\\\ISAIConference\\\\testIm/osteopenia/OP180.jpg',\n",
       " 'C:\\\\Users\\\\assaw\\\\Documents\\\\c_stuff\\\\Python\\\\machine learning\\\\ISAIConference\\\\testIm/osteopenia/OP181.jpg',\n",
       " 'C:\\\\Users\\\\assaw\\\\Documents\\\\c_stuff\\\\Python\\\\machine learning\\\\ISAIConference\\\\testIm/osteopenia/OP190.jpg',\n",
       " 'C:\\\\Users\\\\assaw\\\\Documents\\\\c_stuff\\\\Python\\\\machine learning\\\\ISAIConference\\\\testIm/osteopenia/OP191.jpg',\n",
       " 'C:\\\\Users\\\\assaw\\\\Documents\\\\c_stuff\\\\Python\\\\machine learning\\\\ISAIConference\\\\testIm/osteopenia/OP20.jpg',\n",
       " 'C:\\\\Users\\\\assaw\\\\Documents\\\\c_stuff\\\\Python\\\\machine learning\\\\ISAIConference\\\\testIm/osteopenia/OP200.jpg',\n",
       " 'C:\\\\Users\\\\assaw\\\\Documents\\\\c_stuff\\\\Python\\\\machine learning\\\\ISAIConference\\\\testIm/osteopenia/OP201.jpg',\n",
       " 'C:\\\\Users\\\\assaw\\\\Documents\\\\c_stuff\\\\Python\\\\machine learning\\\\ISAIConference\\\\testIm/osteopenia/OP21.jpg',\n",
       " 'C:\\\\Users\\\\assaw\\\\Documents\\\\c_stuff\\\\Python\\\\machine learning\\\\ISAIConference\\\\testIm/osteopenia/OP210.jpg',\n",
       " 'C:\\\\Users\\\\assaw\\\\Documents\\\\c_stuff\\\\Python\\\\machine learning\\\\ISAIConference\\\\testIm/osteopenia/OP211.jpg',\n",
       " 'C:\\\\Users\\\\assaw\\\\Documents\\\\c_stuff\\\\Python\\\\machine learning\\\\ISAIConference\\\\testIm/osteopenia/OP220.jpg',\n",
       " 'C:\\\\Users\\\\assaw\\\\Documents\\\\c_stuff\\\\Python\\\\machine learning\\\\ISAIConference\\\\testIm/osteopenia/OP221.jpg',\n",
       " 'C:\\\\Users\\\\assaw\\\\Documents\\\\c_stuff\\\\Python\\\\machine learning\\\\ISAIConference\\\\testIm/osteopenia/OP230.jpg',\n",
       " 'C:\\\\Users\\\\assaw\\\\Documents\\\\c_stuff\\\\Python\\\\machine learning\\\\ISAIConference\\\\testIm/osteopenia/OP231.jpg',\n",
       " 'C:\\\\Users\\\\assaw\\\\Documents\\\\c_stuff\\\\Python\\\\machine learning\\\\ISAIConference\\\\testIm/osteopenia/OP240.jpg',\n",
       " 'C:\\\\Users\\\\assaw\\\\Documents\\\\c_stuff\\\\Python\\\\machine learning\\\\ISAIConference\\\\testIm/osteopenia/OP241.jpg',\n",
       " 'C:\\\\Users\\\\assaw\\\\Documents\\\\c_stuff\\\\Python\\\\machine learning\\\\ISAIConference\\\\testIm/osteopenia/OP250.jpg',\n",
       " 'C:\\\\Users\\\\assaw\\\\Documents\\\\c_stuff\\\\Python\\\\machine learning\\\\ISAIConference\\\\testIm/osteopenia/OP251.jpg',\n",
       " 'C:\\\\Users\\\\assaw\\\\Documents\\\\c_stuff\\\\Python\\\\machine learning\\\\ISAIConference\\\\testIm/osteopenia/OP260.jpg',\n",
       " 'C:\\\\Users\\\\assaw\\\\Documents\\\\c_stuff\\\\Python\\\\machine learning\\\\ISAIConference\\\\testIm/osteopenia/OP261.jpg',\n",
       " 'C:\\\\Users\\\\assaw\\\\Documents\\\\c_stuff\\\\Python\\\\machine learning\\\\ISAIConference\\\\testIm/osteopenia/OP270.jpg',\n",
       " 'C:\\\\Users\\\\assaw\\\\Documents\\\\c_stuff\\\\Python\\\\machine learning\\\\ISAIConference\\\\testIm/osteopenia/OP271.jpg',\n",
       " 'C:\\\\Users\\\\assaw\\\\Documents\\\\c_stuff\\\\Python\\\\machine learning\\\\ISAIConference\\\\testIm/osteopenia/OP280.jpg',\n",
       " 'C:\\\\Users\\\\assaw\\\\Documents\\\\c_stuff\\\\Python\\\\machine learning\\\\ISAIConference\\\\testIm/osteopenia/OP281.jpg',\n",
       " 'C:\\\\Users\\\\assaw\\\\Documents\\\\c_stuff\\\\Python\\\\machine learning\\\\ISAIConference\\\\testIm/osteopenia/OP290.jpg',\n",
       " 'C:\\\\Users\\\\assaw\\\\Documents\\\\c_stuff\\\\Python\\\\machine learning\\\\ISAIConference\\\\testIm/osteopenia/OP291.jpg',\n",
       " 'C:\\\\Users\\\\assaw\\\\Documents\\\\c_stuff\\\\Python\\\\machine learning\\\\ISAIConference\\\\testIm/osteopenia/OP30.jpg',\n",
       " 'C:\\\\Users\\\\assaw\\\\Documents\\\\c_stuff\\\\Python\\\\machine learning\\\\ISAIConference\\\\testIm/osteopenia/OP300.jpg',\n",
       " 'C:\\\\Users\\\\assaw\\\\Documents\\\\c_stuff\\\\Python\\\\machine learning\\\\ISAIConference\\\\testIm/osteopenia/OP301.jpg',\n",
       " 'C:\\\\Users\\\\assaw\\\\Documents\\\\c_stuff\\\\Python\\\\machine learning\\\\ISAIConference\\\\testIm/osteopenia/OP31.jpg',\n",
       " 'C:\\\\Users\\\\assaw\\\\Documents\\\\c_stuff\\\\Python\\\\machine learning\\\\ISAIConference\\\\testIm/osteopenia/OP310.jpg',\n",
       " 'C:\\\\Users\\\\assaw\\\\Documents\\\\c_stuff\\\\Python\\\\machine learning\\\\ISAIConference\\\\testIm/osteopenia/OP311.jpg',\n",
       " 'C:\\\\Users\\\\assaw\\\\Documents\\\\c_stuff\\\\Python\\\\machine learning\\\\ISAIConference\\\\testIm/osteopenia/OP320.jpg',\n",
       " 'C:\\\\Users\\\\assaw\\\\Documents\\\\c_stuff\\\\Python\\\\machine learning\\\\ISAIConference\\\\testIm/osteopenia/OP321.jpg',\n",
       " 'C:\\\\Users\\\\assaw\\\\Documents\\\\c_stuff\\\\Python\\\\machine learning\\\\ISAIConference\\\\testIm/osteopenia/OP330.jpg',\n",
       " 'C:\\\\Users\\\\assaw\\\\Documents\\\\c_stuff\\\\Python\\\\machine learning\\\\ISAIConference\\\\testIm/osteopenia/OP331.jpg',\n",
       " 'C:\\\\Users\\\\assaw\\\\Documents\\\\c_stuff\\\\Python\\\\machine learning\\\\ISAIConference\\\\testIm/osteopenia/OP340.jpg',\n",
       " 'C:\\\\Users\\\\assaw\\\\Documents\\\\c_stuff\\\\Python\\\\machine learning\\\\ISAIConference\\\\testIm/osteopenia/OP341.jpg',\n",
       " 'C:\\\\Users\\\\assaw\\\\Documents\\\\c_stuff\\\\Python\\\\machine learning\\\\ISAIConference\\\\testIm/osteopenia/OP350.jpg',\n",
       " 'C:\\\\Users\\\\assaw\\\\Documents\\\\c_stuff\\\\Python\\\\machine learning\\\\ISAIConference\\\\testIm/osteopenia/OP351.jpg',\n",
       " 'C:\\\\Users\\\\assaw\\\\Documents\\\\c_stuff\\\\Python\\\\machine learning\\\\ISAIConference\\\\testIm/osteopenia/OP360.jpg',\n",
       " 'C:\\\\Users\\\\assaw\\\\Documents\\\\c_stuff\\\\Python\\\\machine learning\\\\ISAIConference\\\\testIm/osteopenia/OP361.jpg',\n",
       " 'C:\\\\Users\\\\assaw\\\\Documents\\\\c_stuff\\\\Python\\\\machine learning\\\\ISAIConference\\\\testIm/osteopenia/OP370.jpg',\n",
       " 'C:\\\\Users\\\\assaw\\\\Documents\\\\c_stuff\\\\Python\\\\machine learning\\\\ISAIConference\\\\testIm/osteopenia/OP371.jpg',\n",
       " 'C:\\\\Users\\\\assaw\\\\Documents\\\\c_stuff\\\\Python\\\\machine learning\\\\ISAIConference\\\\testIm/osteopenia/OP40.jpg',\n",
       " 'C:\\\\Users\\\\assaw\\\\Documents\\\\c_stuff\\\\Python\\\\machine learning\\\\ISAIConference\\\\testIm/osteopenia/OP400.jpg',\n",
       " 'C:\\\\Users\\\\assaw\\\\Documents\\\\c_stuff\\\\Python\\\\machine learning\\\\ISAIConference\\\\testIm/osteopenia/OP401.jpg',\n",
       " 'C:\\\\Users\\\\assaw\\\\Documents\\\\c_stuff\\\\Python\\\\machine learning\\\\ISAIConference\\\\testIm/osteopenia/OP41.jpg',\n",
       " 'C:\\\\Users\\\\assaw\\\\Documents\\\\c_stuff\\\\Python\\\\machine learning\\\\ISAIConference\\\\testIm/osteopenia/OP410.jpg',\n",
       " 'C:\\\\Users\\\\assaw\\\\Documents\\\\c_stuff\\\\Python\\\\machine learning\\\\ISAIConference\\\\testIm/osteopenia/OP411.jpg',\n",
       " 'C:\\\\Users\\\\assaw\\\\Documents\\\\c_stuff\\\\Python\\\\machine learning\\\\ISAIConference\\\\testIm/osteopenia/OP420.jpg',\n",
       " 'C:\\\\Users\\\\assaw\\\\Documents\\\\c_stuff\\\\Python\\\\machine learning\\\\ISAIConference\\\\testIm/osteopenia/OP430.jpg',\n",
       " 'C:\\\\Users\\\\assaw\\\\Documents\\\\c_stuff\\\\Python\\\\machine learning\\\\ISAIConference\\\\testIm/osteopenia/OP431.jpg',\n",
       " 'C:\\\\Users\\\\assaw\\\\Documents\\\\c_stuff\\\\Python\\\\machine learning\\\\ISAIConference\\\\testIm/osteopenia/OP450.jpg',\n",
       " 'C:\\\\Users\\\\assaw\\\\Documents\\\\c_stuff\\\\Python\\\\machine learning\\\\ISAIConference\\\\testIm/osteopenia/OP451.jpg',\n",
       " 'C:\\\\Users\\\\assaw\\\\Documents\\\\c_stuff\\\\Python\\\\machine learning\\\\ISAIConference\\\\testIm/osteopenia/OP460.jpg',\n",
       " 'C:\\\\Users\\\\assaw\\\\Documents\\\\c_stuff\\\\Python\\\\machine learning\\\\ISAIConference\\\\testIm/osteopenia/OP461.jpg',\n",
       " 'C:\\\\Users\\\\assaw\\\\Documents\\\\c_stuff\\\\Python\\\\machine learning\\\\ISAIConference\\\\testIm/osteopenia/OP470.jpg',\n",
       " 'C:\\\\Users\\\\assaw\\\\Documents\\\\c_stuff\\\\Python\\\\machine learning\\\\ISAIConference\\\\testIm/osteopenia/OP471.jpg',\n",
       " 'C:\\\\Users\\\\assaw\\\\Documents\\\\c_stuff\\\\Python\\\\machine learning\\\\ISAIConference\\\\testIm/osteopenia/OP480.jpg',\n",
       " 'C:\\\\Users\\\\assaw\\\\Documents\\\\c_stuff\\\\Python\\\\machine learning\\\\ISAIConference\\\\testIm/osteopenia/OP481.jpg',\n",
       " 'C:\\\\Users\\\\assaw\\\\Documents\\\\c_stuff\\\\Python\\\\machine learning\\\\ISAIConference\\\\testIm/osteopenia/OP490.jpg',\n",
       " 'C:\\\\Users\\\\assaw\\\\Documents\\\\c_stuff\\\\Python\\\\machine learning\\\\ISAIConference\\\\testIm/osteopenia/OP491.jpg',\n",
       " 'C:\\\\Users\\\\assaw\\\\Documents\\\\c_stuff\\\\Python\\\\machine learning\\\\ISAIConference\\\\testIm/osteopenia/OP50.jpg',\n",
       " 'C:\\\\Users\\\\assaw\\\\Documents\\\\c_stuff\\\\Python\\\\machine learning\\\\ISAIConference\\\\testIm/osteopenia/OP500.jpg',\n",
       " 'C:\\\\Users\\\\assaw\\\\Documents\\\\c_stuff\\\\Python\\\\machine learning\\\\ISAIConference\\\\testIm/osteopenia/OP501.jpg',\n",
       " 'C:\\\\Users\\\\assaw\\\\Documents\\\\c_stuff\\\\Python\\\\machine learning\\\\ISAIConference\\\\testIm/osteopenia/OP51.jpg',\n",
       " 'C:\\\\Users\\\\assaw\\\\Documents\\\\c_stuff\\\\Python\\\\machine learning\\\\ISAIConference\\\\testIm/osteopenia/OP510.jpg',\n",
       " 'C:\\\\Users\\\\assaw\\\\Documents\\\\c_stuff\\\\Python\\\\machine learning\\\\ISAIConference\\\\testIm/osteopenia/OP511.jpg',\n",
       " 'C:\\\\Users\\\\assaw\\\\Documents\\\\c_stuff\\\\Python\\\\machine learning\\\\ISAIConference\\\\testIm/osteopenia/OP520.jpg',\n",
       " 'C:\\\\Users\\\\assaw\\\\Documents\\\\c_stuff\\\\Python\\\\machine learning\\\\ISAIConference\\\\testIm/osteopenia/OP530.jpg',\n",
       " 'C:\\\\Users\\\\assaw\\\\Documents\\\\c_stuff\\\\Python\\\\machine learning\\\\ISAIConference\\\\testIm/osteopenia/OP531.jpg',\n",
       " 'C:\\\\Users\\\\assaw\\\\Documents\\\\c_stuff\\\\Python\\\\machine learning\\\\ISAIConference\\\\testIm/osteopenia/OP540.jpg',\n",
       " 'C:\\\\Users\\\\assaw\\\\Documents\\\\c_stuff\\\\Python\\\\machine learning\\\\ISAIConference\\\\testIm/osteopenia/OP541.jpg',\n",
       " 'C:\\\\Users\\\\assaw\\\\Documents\\\\c_stuff\\\\Python\\\\machine learning\\\\ISAIConference\\\\testIm/osteopenia/OP550.jpg',\n",
       " 'C:\\\\Users\\\\assaw\\\\Documents\\\\c_stuff\\\\Python\\\\machine learning\\\\ISAIConference\\\\testIm/osteopenia/OP551.jpg',\n",
       " 'C:\\\\Users\\\\assaw\\\\Documents\\\\c_stuff\\\\Python\\\\machine learning\\\\ISAIConference\\\\testIm/osteopenia/OP560.jpg',\n",
       " 'C:\\\\Users\\\\assaw\\\\Documents\\\\c_stuff\\\\Python\\\\machine learning\\\\ISAIConference\\\\testIm/osteopenia/OP561.jpg',\n",
       " 'C:\\\\Users\\\\assaw\\\\Documents\\\\c_stuff\\\\Python\\\\machine learning\\\\ISAIConference\\\\testIm/osteopenia/OP570.jpg',\n",
       " 'C:\\\\Users\\\\assaw\\\\Documents\\\\c_stuff\\\\Python\\\\machine learning\\\\ISAIConference\\\\testIm/osteopenia/OP571.jpg',\n",
       " 'C:\\\\Users\\\\assaw\\\\Documents\\\\c_stuff\\\\Python\\\\machine learning\\\\ISAIConference\\\\testIm/osteopenia/OP580.jpg',\n",
       " 'C:\\\\Users\\\\assaw\\\\Documents\\\\c_stuff\\\\Python\\\\machine learning\\\\ISAIConference\\\\testIm/osteopenia/OP590.jpg',\n",
       " 'C:\\\\Users\\\\assaw\\\\Documents\\\\c_stuff\\\\Python\\\\machine learning\\\\ISAIConference\\\\testIm/osteopenia/OP591.jpg',\n",
       " 'C:\\\\Users\\\\assaw\\\\Documents\\\\c_stuff\\\\Python\\\\machine learning\\\\ISAIConference\\\\testIm/osteopenia/OP60.jpg',\n",
       " 'C:\\\\Users\\\\assaw\\\\Documents\\\\c_stuff\\\\Python\\\\machine learning\\\\ISAIConference\\\\testIm/osteopenia/OP600.jpg',\n",
       " 'C:\\\\Users\\\\assaw\\\\Documents\\\\c_stuff\\\\Python\\\\machine learning\\\\ISAIConference\\\\testIm/osteopenia/OP602.jpg',\n",
       " 'C:\\\\Users\\\\assaw\\\\Documents\\\\c_stuff\\\\Python\\\\machine learning\\\\ISAIConference\\\\testIm/osteopenia/OP61.jpg',\n",
       " 'C:\\\\Users\\\\assaw\\\\Documents\\\\c_stuff\\\\Python\\\\machine learning\\\\ISAIConference\\\\testIm/osteopenia/OP610.jpg',\n",
       " 'C:\\\\Users\\\\assaw\\\\Documents\\\\c_stuff\\\\Python\\\\machine learning\\\\ISAIConference\\\\testIm/osteopenia/OP611.jpg',\n",
       " 'C:\\\\Users\\\\assaw\\\\Documents\\\\c_stuff\\\\Python\\\\machine learning\\\\ISAIConference\\\\testIm/osteopenia/OP620.jpg',\n",
       " 'C:\\\\Users\\\\assaw\\\\Documents\\\\c_stuff\\\\Python\\\\machine learning\\\\ISAIConference\\\\testIm/osteopenia/OP621.jpg',\n",
       " 'C:\\\\Users\\\\assaw\\\\Documents\\\\c_stuff\\\\Python\\\\machine learning\\\\ISAIConference\\\\testIm/osteopenia/OP630.jpg',\n",
       " 'C:\\\\Users\\\\assaw\\\\Documents\\\\c_stuff\\\\Python\\\\machine learning\\\\ISAIConference\\\\testIm/osteopenia/OP631.jpg',\n",
       " 'C:\\\\Users\\\\assaw\\\\Documents\\\\c_stuff\\\\Python\\\\machine learning\\\\ISAIConference\\\\testIm/osteopenia/OP640.jpg',\n",
       " 'C:\\\\Users\\\\assaw\\\\Documents\\\\c_stuff\\\\Python\\\\machine learning\\\\ISAIConference\\\\testIm/osteopenia/OP641.jpg',\n",
       " 'C:\\\\Users\\\\assaw\\\\Documents\\\\c_stuff\\\\Python\\\\machine learning\\\\ISAIConference\\\\testIm/osteopenia/OP650.jpg',\n",
       " 'C:\\\\Users\\\\assaw\\\\Documents\\\\c_stuff\\\\Python\\\\machine learning\\\\ISAIConference\\\\testIm/osteopenia/OP651.jpg',\n",
       " 'C:\\\\Users\\\\assaw\\\\Documents\\\\c_stuff\\\\Python\\\\machine learning\\\\ISAIConference\\\\testIm/osteopenia/OP660.jpg',\n",
       " 'C:\\\\Users\\\\assaw\\\\Documents\\\\c_stuff\\\\Python\\\\machine learning\\\\ISAIConference\\\\testIm/osteopenia/OP661.jpg',\n",
       " 'C:\\\\Users\\\\assaw\\\\Documents\\\\c_stuff\\\\Python\\\\machine learning\\\\ISAIConference\\\\testIm/osteopenia/OP670.jpg',\n",
       " 'C:\\\\Users\\\\assaw\\\\Documents\\\\c_stuff\\\\Python\\\\machine learning\\\\ISAIConference\\\\testIm/osteopenia/OP671.jpg',\n",
       " 'C:\\\\Users\\\\assaw\\\\Documents\\\\c_stuff\\\\Python\\\\machine learning\\\\ISAIConference\\\\testIm/osteopenia/OP680.jpg',\n",
       " 'C:\\\\Users\\\\assaw\\\\Documents\\\\c_stuff\\\\Python\\\\machine learning\\\\ISAIConference\\\\testIm/osteopenia/OP681.jpg',\n",
       " 'C:\\\\Users\\\\assaw\\\\Documents\\\\c_stuff\\\\Python\\\\machine learning\\\\ISAIConference\\\\testIm/osteopenia/OP690.jpg',\n",
       " 'C:\\\\Users\\\\assaw\\\\Documents\\\\c_stuff\\\\Python\\\\machine learning\\\\ISAIConference\\\\testIm/osteopenia/OP691.jpg',\n",
       " 'C:\\\\Users\\\\assaw\\\\Documents\\\\c_stuff\\\\Python\\\\machine learning\\\\ISAIConference\\\\testIm/osteopenia/OP70.jpg',\n",
       " 'C:\\\\Users\\\\assaw\\\\Documents\\\\c_stuff\\\\Python\\\\machine learning\\\\ISAIConference\\\\testIm/osteopenia/OP700.jpg',\n",
       " 'C:\\\\Users\\\\assaw\\\\Documents\\\\c_stuff\\\\Python\\\\machine learning\\\\ISAIConference\\\\testIm/osteopenia/OP701.jpg',\n",
       " 'C:\\\\Users\\\\assaw\\\\Documents\\\\c_stuff\\\\Python\\\\machine learning\\\\ISAIConference\\\\testIm/osteopenia/OP71.jpg',\n",
       " 'C:\\\\Users\\\\assaw\\\\Documents\\\\c_stuff\\\\Python\\\\machine learning\\\\ISAIConference\\\\testIm/osteopenia/OP710.jpg',\n",
       " 'C:\\\\Users\\\\assaw\\\\Documents\\\\c_stuff\\\\Python\\\\machine learning\\\\ISAIConference\\\\testIm/osteopenia/OP711.jpg',\n",
       " 'C:\\\\Users\\\\assaw\\\\Documents\\\\c_stuff\\\\Python\\\\machine learning\\\\ISAIConference\\\\testIm/osteopenia/OP720.jpg',\n",
       " 'C:\\\\Users\\\\assaw\\\\Documents\\\\c_stuff\\\\Python\\\\machine learning\\\\ISAIConference\\\\testIm/osteopenia/OP721.jpg',\n",
       " 'C:\\\\Users\\\\assaw\\\\Documents\\\\c_stuff\\\\Python\\\\machine learning\\\\ISAIConference\\\\testIm/osteopenia/OP730.jpg',\n",
       " 'C:\\\\Users\\\\assaw\\\\Documents\\\\c_stuff\\\\Python\\\\machine learning\\\\ISAIConference\\\\testIm/osteopenia/OP731.jpg',\n",
       " 'C:\\\\Users\\\\assaw\\\\Documents\\\\c_stuff\\\\Python\\\\machine learning\\\\ISAIConference\\\\testIm/osteopenia/OP740.jpg',\n",
       " 'C:\\\\Users\\\\assaw\\\\Documents\\\\c_stuff\\\\Python\\\\machine learning\\\\ISAIConference\\\\testIm/osteopenia/OP741.jpg',\n",
       " 'C:\\\\Users\\\\assaw\\\\Documents\\\\c_stuff\\\\Python\\\\machine learning\\\\ISAIConference\\\\testIm/osteopenia/OP750.jpg',\n",
       " 'C:\\\\Users\\\\assaw\\\\Documents\\\\c_stuff\\\\Python\\\\machine learning\\\\ISAIConference\\\\testIm/osteopenia/OP751.jpg',\n",
       " 'C:\\\\Users\\\\assaw\\\\Documents\\\\c_stuff\\\\Python\\\\machine learning\\\\ISAIConference\\\\testIm/osteopenia/OP760.jpg',\n",
       " 'C:\\\\Users\\\\assaw\\\\Documents\\\\c_stuff\\\\Python\\\\machine learning\\\\ISAIConference\\\\testIm/osteopenia/OP762.jpg',\n",
       " 'C:\\\\Users\\\\assaw\\\\Documents\\\\c_stuff\\\\Python\\\\machine learning\\\\ISAIConference\\\\testIm/osteopenia/OP770.jpg',\n",
       " 'C:\\\\Users\\\\assaw\\\\Documents\\\\c_stuff\\\\Python\\\\machine learning\\\\ISAIConference\\\\testIm/osteopenia/OP771.jpg',\n",
       " 'C:\\\\Users\\\\assaw\\\\Documents\\\\c_stuff\\\\Python\\\\machine learning\\\\ISAIConference\\\\testIm/osteopenia/OP780.jpg',\n",
       " 'C:\\\\Users\\\\assaw\\\\Documents\\\\c_stuff\\\\Python\\\\machine learning\\\\ISAIConference\\\\testIm/osteopenia/OP781.jpg',\n",
       " 'C:\\\\Users\\\\assaw\\\\Documents\\\\c_stuff\\\\Python\\\\machine learning\\\\ISAIConference\\\\testIm/osteopenia/OP790.jpg',\n",
       " 'C:\\\\Users\\\\assaw\\\\Documents\\\\c_stuff\\\\Python\\\\machine learning\\\\ISAIConference\\\\testIm/osteopenia/OP791.jpg',\n",
       " 'C:\\\\Users\\\\assaw\\\\Documents\\\\c_stuff\\\\Python\\\\machine learning\\\\ISAIConference\\\\testIm/osteopenia/OP80.jpg',\n",
       " 'C:\\\\Users\\\\assaw\\\\Documents\\\\c_stuff\\\\Python\\\\machine learning\\\\ISAIConference\\\\testIm/osteopenia/OP800.jpg',\n",
       " 'C:\\\\Users\\\\assaw\\\\Documents\\\\c_stuff\\\\Python\\\\machine learning\\\\ISAIConference\\\\testIm/osteopenia/OP801.jpg',\n",
       " 'C:\\\\Users\\\\assaw\\\\Documents\\\\c_stuff\\\\Python\\\\machine learning\\\\ISAIConference\\\\testIm/osteopenia/OP81.jpg',\n",
       " 'C:\\\\Users\\\\assaw\\\\Documents\\\\c_stuff\\\\Python\\\\machine learning\\\\ISAIConference\\\\testIm/osteopenia/OP810.jpg',\n",
       " 'C:\\\\Users\\\\assaw\\\\Documents\\\\c_stuff\\\\Python\\\\machine learning\\\\ISAIConference\\\\testIm/osteopenia/OP811.jpg',\n",
       " 'C:\\\\Users\\\\assaw\\\\Documents\\\\c_stuff\\\\Python\\\\machine learning\\\\ISAIConference\\\\testIm/osteopenia/OP820.jpg',\n",
       " 'C:\\\\Users\\\\assaw\\\\Documents\\\\c_stuff\\\\Python\\\\machine learning\\\\ISAIConference\\\\testIm/osteopenia/OP821.jpg',\n",
       " 'C:\\\\Users\\\\assaw\\\\Documents\\\\c_stuff\\\\Python\\\\machine learning\\\\ISAIConference\\\\testIm/osteopenia/OP830.jpg',\n",
       " 'C:\\\\Users\\\\assaw\\\\Documents\\\\c_stuff\\\\Python\\\\machine learning\\\\ISAIConference\\\\testIm/osteopenia/OP831.jpg',\n",
       " 'C:\\\\Users\\\\assaw\\\\Documents\\\\c_stuff\\\\Python\\\\machine learning\\\\ISAIConference\\\\testIm/osteopenia/OP840.jpg',\n",
       " 'C:\\\\Users\\\\assaw\\\\Documents\\\\c_stuff\\\\Python\\\\machine learning\\\\ISAIConference\\\\testIm/osteopenia/OP841.jpg',\n",
       " 'C:\\\\Users\\\\assaw\\\\Documents\\\\c_stuff\\\\Python\\\\machine learning\\\\ISAIConference\\\\testIm/osteopenia/OP850.jpg',\n",
       " 'C:\\\\Users\\\\assaw\\\\Documents\\\\c_stuff\\\\Python\\\\machine learning\\\\ISAIConference\\\\testIm/osteopenia/OP851.jpg',\n",
       " 'C:\\\\Users\\\\assaw\\\\Documents\\\\c_stuff\\\\Python\\\\machine learning\\\\ISAIConference\\\\testIm/osteopenia/OP860.jpg',\n",
       " 'C:\\\\Users\\\\assaw\\\\Documents\\\\c_stuff\\\\Python\\\\machine learning\\\\ISAIConference\\\\testIm/osteopenia/OP861.jpg',\n",
       " 'C:\\\\Users\\\\assaw\\\\Documents\\\\c_stuff\\\\Python\\\\machine learning\\\\ISAIConference\\\\testIm/osteopenia/OP870.jpg',\n",
       " 'C:\\\\Users\\\\assaw\\\\Documents\\\\c_stuff\\\\Python\\\\machine learning\\\\ISAIConference\\\\testIm/osteopenia/OP871.jpg',\n",
       " 'C:\\\\Users\\\\assaw\\\\Documents\\\\c_stuff\\\\Python\\\\machine learning\\\\ISAIConference\\\\testIm/osteopenia/OP882.jpg',\n",
       " 'C:\\\\Users\\\\assaw\\\\Documents\\\\c_stuff\\\\Python\\\\machine learning\\\\ISAIConference\\\\testIm/osteopenia/OP885.jpg',\n",
       " 'C:\\\\Users\\\\assaw\\\\Documents\\\\c_stuff\\\\Python\\\\machine learning\\\\ISAIConference\\\\testIm/osteopenia/OP890.jpg',\n",
       " 'C:\\\\Users\\\\assaw\\\\Documents\\\\c_stuff\\\\Python\\\\machine learning\\\\ISAIConference\\\\testIm/osteopenia/OP891.jpg',\n",
       " 'C:\\\\Users\\\\assaw\\\\Documents\\\\c_stuff\\\\Python\\\\machine learning\\\\ISAIConference\\\\testIm/osteopenia/OP90.jpg',\n",
       " 'C:\\\\Users\\\\assaw\\\\Documents\\\\c_stuff\\\\Python\\\\machine learning\\\\ISAIConference\\\\testIm/osteopenia/OP900.jpg',\n",
       " 'C:\\\\Users\\\\assaw\\\\Documents\\\\c_stuff\\\\Python\\\\machine learning\\\\ISAIConference\\\\testIm/osteopenia/OP901.jpg',\n",
       " 'C:\\\\Users\\\\assaw\\\\Documents\\\\c_stuff\\\\Python\\\\machine learning\\\\ISAIConference\\\\testIm/osteopenia/OP91.jpg',\n",
       " 'C:\\\\Users\\\\assaw\\\\Documents\\\\c_stuff\\\\Python\\\\machine learning\\\\ISAIConference\\\\testIm/osteopenia/OP910.jpg',\n",
       " 'C:\\\\Users\\\\assaw\\\\Documents\\\\c_stuff\\\\Python\\\\machine learning\\\\ISAIConference\\\\testIm/osteopenia/OP911.jpg',\n",
       " 'C:\\\\Users\\\\assaw\\\\Documents\\\\c_stuff\\\\Python\\\\machine learning\\\\ISAIConference\\\\testIm/osteopenia/OP920.jpg',\n",
       " 'C:\\\\Users\\\\assaw\\\\Documents\\\\c_stuff\\\\Python\\\\machine learning\\\\ISAIConference\\\\testIm/osteopenia/OP921.jpg',\n",
       " 'C:\\\\Users\\\\assaw\\\\Documents\\\\c_stuff\\\\Python\\\\machine learning\\\\ISAIConference\\\\testIm/osteopenia/OP930.jpg',\n",
       " 'C:\\\\Users\\\\assaw\\\\Documents\\\\c_stuff\\\\Python\\\\machine learning\\\\ISAIConference\\\\testIm/osteopenia/OP931.jpg',\n",
       " 'C:\\\\Users\\\\assaw\\\\Documents\\\\c_stuff\\\\Python\\\\machine learning\\\\ISAIConference\\\\testIm/osteopenia/OP940.jpg',\n",
       " 'C:\\\\Users\\\\assaw\\\\Documents\\\\c_stuff\\\\Python\\\\machine learning\\\\ISAIConference\\\\testIm/osteopenia/OP950.jpg',\n",
       " 'C:\\\\Users\\\\assaw\\\\Documents\\\\c_stuff\\\\Python\\\\machine learning\\\\ISAIConference\\\\testIm/osteopenia/OP960.jpg',\n",
       " 'C:\\\\Users\\\\assaw\\\\Documents\\\\c_stuff\\\\Python\\\\machine learning\\\\ISAIConference\\\\testIm/osteopenia/OP961.jpg',\n",
       " 'C:\\\\Users\\\\assaw\\\\Documents\\\\c_stuff\\\\Python\\\\machine learning\\\\ISAIConference\\\\testIm/osteopenia/OP970.jpg',\n",
       " 'C:\\\\Users\\\\assaw\\\\Documents\\\\c_stuff\\\\Python\\\\machine learning\\\\ISAIConference\\\\testIm/osteopenia/OP980.jpg',\n",
       " 'C:\\\\Users\\\\assaw\\\\Documents\\\\c_stuff\\\\Python\\\\machine learning\\\\ISAIConference\\\\testIm/osteopenia/OP990.jpg',\n",
       " 'C:\\\\Users\\\\assaw\\\\Documents\\\\c_stuff\\\\Python\\\\machine learning\\\\ISAIConference\\\\testIm/osteoporosis/OS10.jpg',\n",
       " 'C:\\\\Users\\\\assaw\\\\Documents\\\\c_stuff\\\\Python\\\\machine learning\\\\ISAIConference\\\\testIm/osteoporosis/OS100.jpg',\n",
       " 'C:\\\\Users\\\\assaw\\\\Documents\\\\c_stuff\\\\Python\\\\machine learning\\\\ISAIConference\\\\testIm/osteoporosis/OS101.jpg',\n",
       " 'C:\\\\Users\\\\assaw\\\\Documents\\\\c_stuff\\\\Python\\\\machine learning\\\\ISAIConference\\\\testIm/osteoporosis/OS11.jpg',\n",
       " 'C:\\\\Users\\\\assaw\\\\Documents\\\\c_stuff\\\\Python\\\\machine learning\\\\ISAIConference\\\\testIm/osteoporosis/OS110.jpg',\n",
       " 'C:\\\\Users\\\\assaw\\\\Documents\\\\c_stuff\\\\Python\\\\machine learning\\\\ISAIConference\\\\testIm/osteoporosis/OS111.jpg',\n",
       " 'C:\\\\Users\\\\assaw\\\\Documents\\\\c_stuff\\\\Python\\\\machine learning\\\\ISAIConference\\\\testIm/osteoporosis/OS120.jpg',\n",
       " 'C:\\\\Users\\\\assaw\\\\Documents\\\\c_stuff\\\\Python\\\\machine learning\\\\ISAIConference\\\\testIm/osteoporosis/OS121.jpg',\n",
       " 'C:\\\\Users\\\\assaw\\\\Documents\\\\c_stuff\\\\Python\\\\machine learning\\\\ISAIConference\\\\testIm/osteoporosis/OS130.jpg',\n",
       " 'C:\\\\Users\\\\assaw\\\\Documents\\\\c_stuff\\\\Python\\\\machine learning\\\\ISAIConference\\\\testIm/osteoporosis/OS131.jpg',\n",
       " 'C:\\\\Users\\\\assaw\\\\Documents\\\\c_stuff\\\\Python\\\\machine learning\\\\ISAIConference\\\\testIm/osteoporosis/OS140.jpg',\n",
       " 'C:\\\\Users\\\\assaw\\\\Documents\\\\c_stuff\\\\Python\\\\machine learning\\\\ISAIConference\\\\testIm/osteoporosis/OS141.jpg',\n",
       " 'C:\\\\Users\\\\assaw\\\\Documents\\\\c_stuff\\\\Python\\\\machine learning\\\\ISAIConference\\\\testIm/osteoporosis/OS150.jpg',\n",
       " 'C:\\\\Users\\\\assaw\\\\Documents\\\\c_stuff\\\\Python\\\\machine learning\\\\ISAIConference\\\\testIm/osteoporosis/OS151.jpg',\n",
       " 'C:\\\\Users\\\\assaw\\\\Documents\\\\c_stuff\\\\Python\\\\machine learning\\\\ISAIConference\\\\testIm/osteoporosis/OS160.jpg',\n",
       " 'C:\\\\Users\\\\assaw\\\\Documents\\\\c_stuff\\\\Python\\\\machine learning\\\\ISAIConference\\\\testIm/osteoporosis/OS161.jpg',\n",
       " 'C:\\\\Users\\\\assaw\\\\Documents\\\\c_stuff\\\\Python\\\\machine learning\\\\ISAIConference\\\\testIm/osteoporosis/OS170.jpg',\n",
       " 'C:\\\\Users\\\\assaw\\\\Documents\\\\c_stuff\\\\Python\\\\machine learning\\\\ISAIConference\\\\testIm/osteoporosis/OS171.jpg',\n",
       " 'C:\\\\Users\\\\assaw\\\\Documents\\\\c_stuff\\\\Python\\\\machine learning\\\\ISAIConference\\\\testIm/osteoporosis/OS180.jpg',\n",
       " 'C:\\\\Users\\\\assaw\\\\Documents\\\\c_stuff\\\\Python\\\\machine learning\\\\ISAIConference\\\\testIm/osteoporosis/OS181.jpg',\n",
       " 'C:\\\\Users\\\\assaw\\\\Documents\\\\c_stuff\\\\Python\\\\machine learning\\\\ISAIConference\\\\testIm/osteoporosis/OS190.jpg',\n",
       " 'C:\\\\Users\\\\assaw\\\\Documents\\\\c_stuff\\\\Python\\\\machine learning\\\\ISAIConference\\\\testIm/osteoporosis/OS191.jpg',\n",
       " 'C:\\\\Users\\\\assaw\\\\Documents\\\\c_stuff\\\\Python\\\\machine learning\\\\ISAIConference\\\\testIm/osteoporosis/OS20.jpg',\n",
       " 'C:\\\\Users\\\\assaw\\\\Documents\\\\c_stuff\\\\Python\\\\machine learning\\\\ISAIConference\\\\testIm/osteoporosis/OS200.jpg',\n",
       " 'C:\\\\Users\\\\assaw\\\\Documents\\\\c_stuff\\\\Python\\\\machine learning\\\\ISAIConference\\\\testIm/osteoporosis/OS201.jpg',\n",
       " 'C:\\\\Users\\\\assaw\\\\Documents\\\\c_stuff\\\\Python\\\\machine learning\\\\ISAIConference\\\\testIm/osteoporosis/OS21.jpg',\n",
       " 'C:\\\\Users\\\\assaw\\\\Documents\\\\c_stuff\\\\Python\\\\machine learning\\\\ISAIConference\\\\testIm/osteoporosis/OS210.jpg',\n",
       " 'C:\\\\Users\\\\assaw\\\\Documents\\\\c_stuff\\\\Python\\\\machine learning\\\\ISAIConference\\\\testIm/osteoporosis/OS211.jpg',\n",
       " 'C:\\\\Users\\\\assaw\\\\Documents\\\\c_stuff\\\\Python\\\\machine learning\\\\ISAIConference\\\\testIm/osteoporosis/OS220.jpg',\n",
       " 'C:\\\\Users\\\\assaw\\\\Documents\\\\c_stuff\\\\Python\\\\machine learning\\\\ISAIConference\\\\testIm/osteoporosis/OS221.jpg',\n",
       " 'C:\\\\Users\\\\assaw\\\\Documents\\\\c_stuff\\\\Python\\\\machine learning\\\\ISAIConference\\\\testIm/osteoporosis/OS230.jpg',\n",
       " 'C:\\\\Users\\\\assaw\\\\Documents\\\\c_stuff\\\\Python\\\\machine learning\\\\ISAIConference\\\\testIm/osteoporosis/OS240.jpg',\n",
       " 'C:\\\\Users\\\\assaw\\\\Documents\\\\c_stuff\\\\Python\\\\machine learning\\\\ISAIConference\\\\testIm/osteoporosis/OS241.jpg',\n",
       " 'C:\\\\Users\\\\assaw\\\\Documents\\\\c_stuff\\\\Python\\\\machine learning\\\\ISAIConference\\\\testIm/osteoporosis/OS250.jpg',\n",
       " 'C:\\\\Users\\\\assaw\\\\Documents\\\\c_stuff\\\\Python\\\\machine learning\\\\ISAIConference\\\\testIm/osteoporosis/OS260.jpg',\n",
       " 'C:\\\\Users\\\\assaw\\\\Documents\\\\c_stuff\\\\Python\\\\machine learning\\\\ISAIConference\\\\testIm/osteoporosis/OS270.jpg',\n",
       " 'C:\\\\Users\\\\assaw\\\\Documents\\\\c_stuff\\\\Python\\\\machine learning\\\\ISAIConference\\\\testIm/osteoporosis/OS280.jpg',\n",
       " 'C:\\\\Users\\\\assaw\\\\Documents\\\\c_stuff\\\\Python\\\\machine learning\\\\ISAIConference\\\\testIm/osteoporosis/OS290.jpg',\n",
       " 'C:\\\\Users\\\\assaw\\\\Documents\\\\c_stuff\\\\Python\\\\machine learning\\\\ISAIConference\\\\testIm/osteoporosis/OS291.jpg',\n",
       " 'C:\\\\Users\\\\assaw\\\\Documents\\\\c_stuff\\\\Python\\\\machine learning\\\\ISAIConference\\\\testIm/osteoporosis/OS300.jpg',\n",
       " 'C:\\\\Users\\\\assaw\\\\Documents\\\\c_stuff\\\\Python\\\\machine learning\\\\ISAIConference\\\\testIm/osteoporosis/OS310.jpg',\n",
       " 'C:\\\\Users\\\\assaw\\\\Documents\\\\c_stuff\\\\Python\\\\machine learning\\\\ISAIConference\\\\testIm/osteoporosis/OS320.jpg',\n",
       " 'C:\\\\Users\\\\assaw\\\\Documents\\\\c_stuff\\\\Python\\\\machine learning\\\\ISAIConference\\\\testIm/osteoporosis/OS330.jpg',\n",
       " 'C:\\\\Users\\\\assaw\\\\Documents\\\\c_stuff\\\\Python\\\\machine learning\\\\ISAIConference\\\\testIm/osteoporosis/OS340.jpg',\n",
       " 'C:\\\\Users\\\\assaw\\\\Documents\\\\c_stuff\\\\Python\\\\machine learning\\\\ISAIConference\\\\testIm/osteoporosis/OS350.jpg',\n",
       " 'C:\\\\Users\\\\assaw\\\\Documents\\\\c_stuff\\\\Python\\\\machine learning\\\\ISAIConference\\\\testIm/osteoporosis/OS360.jpg',\n",
       " 'C:\\\\Users\\\\assaw\\\\Documents\\\\c_stuff\\\\Python\\\\machine learning\\\\ISAIConference\\\\testIm/osteoporosis/OS370.jpg',\n",
       " 'C:\\\\Users\\\\assaw\\\\Documents\\\\c_stuff\\\\Python\\\\machine learning\\\\ISAIConference\\\\testIm/osteoporosis/OS380.jpg',\n",
       " 'C:\\\\Users\\\\assaw\\\\Documents\\\\c_stuff\\\\Python\\\\machine learning\\\\ISAIConference\\\\testIm/osteoporosis/OS381.jpg',\n",
       " 'C:\\\\Users\\\\assaw\\\\Documents\\\\c_stuff\\\\Python\\\\machine learning\\\\ISAIConference\\\\testIm/osteoporosis/OS390.jpg',\n",
       " 'C:\\\\Users\\\\assaw\\\\Documents\\\\c_stuff\\\\Python\\\\machine learning\\\\ISAIConference\\\\testIm/osteoporosis/OS40.jpg',\n",
       " 'C:\\\\Users\\\\assaw\\\\Documents\\\\c_stuff\\\\Python\\\\machine learning\\\\ISAIConference\\\\testIm/osteoporosis/OS400.jpg',\n",
       " 'C:\\\\Users\\\\assaw\\\\Documents\\\\c_stuff\\\\Python\\\\machine learning\\\\ISAIConference\\\\testIm/osteoporosis/OS41.jpg',\n",
       " 'C:\\\\Users\\\\assaw\\\\Documents\\\\c_stuff\\\\Python\\\\machine learning\\\\ISAIConference\\\\testIm/osteoporosis/OS410.jpg',\n",
       " 'C:\\\\Users\\\\assaw\\\\Documents\\\\c_stuff\\\\Python\\\\machine learning\\\\ISAIConference\\\\testIm/osteoporosis/OS420.jpg',\n",
       " 'C:\\\\Users\\\\assaw\\\\Documents\\\\c_stuff\\\\Python\\\\machine learning\\\\ISAIConference\\\\testIm/osteoporosis/OS430.jpg',\n",
       " 'C:\\\\Users\\\\assaw\\\\Documents\\\\c_stuff\\\\Python\\\\machine learning\\\\ISAIConference\\\\testIm/osteoporosis/OS440.jpg',\n",
       " 'C:\\\\Users\\\\assaw\\\\Documents\\\\c_stuff\\\\Python\\\\machine learning\\\\ISAIConference\\\\testIm/osteoporosis/OS450.jpg',\n",
       " 'C:\\\\Users\\\\assaw\\\\Documents\\\\c_stuff\\\\Python\\\\machine learning\\\\ISAIConference\\\\testIm/osteoporosis/OS460.jpg',\n",
       " 'C:\\\\Users\\\\assaw\\\\Documents\\\\c_stuff\\\\Python\\\\machine learning\\\\ISAIConference\\\\testIm/osteoporosis/OS461.jpg',\n",
       " 'C:\\\\Users\\\\assaw\\\\Documents\\\\c_stuff\\\\Python\\\\machine learning\\\\ISAIConference\\\\testIm/osteoporosis/OS470.jpg',\n",
       " 'C:\\\\Users\\\\assaw\\\\Documents\\\\c_stuff\\\\Python\\\\machine learning\\\\ISAIConference\\\\testIm/osteoporosis/OS480.jpg',\n",
       " 'C:\\\\Users\\\\assaw\\\\Documents\\\\c_stuff\\\\Python\\\\machine learning\\\\ISAIConference\\\\testIm/osteoporosis/OS490.jpg',\n",
       " 'C:\\\\Users\\\\assaw\\\\Documents\\\\c_stuff\\\\Python\\\\machine learning\\\\ISAIConference\\\\testIm/osteoporosis/OS50.jpg',\n",
       " 'C:\\\\Users\\\\assaw\\\\Documents\\\\c_stuff\\\\Python\\\\machine learning\\\\ISAIConference\\\\testIm/osteoporosis/OS51.jpg',\n",
       " 'C:\\\\Users\\\\assaw\\\\Documents\\\\c_stuff\\\\Python\\\\machine learning\\\\ISAIConference\\\\testIm/osteoporosis/OS60.jpg',\n",
       " 'C:\\\\Users\\\\assaw\\\\Documents\\\\c_stuff\\\\Python\\\\machine learning\\\\ISAIConference\\\\testIm/osteoporosis/OS61.jpg',\n",
       " 'C:\\\\Users\\\\assaw\\\\Documents\\\\c_stuff\\\\Python\\\\machine learning\\\\ISAIConference\\\\testIm/osteoporosis/OS70.jpg',\n",
       " 'C:\\\\Users\\\\assaw\\\\Documents\\\\c_stuff\\\\Python\\\\machine learning\\\\ISAIConference\\\\testIm/osteoporosis/OS71.jpg',\n",
       " 'C:\\\\Users\\\\assaw\\\\Documents\\\\c_stuff\\\\Python\\\\machine learning\\\\ISAIConference\\\\testIm/osteoporosis/OS80.jpg',\n",
       " 'C:\\\\Users\\\\assaw\\\\Documents\\\\c_stuff\\\\Python\\\\machine learning\\\\ISAIConference\\\\testIm/osteoporosis/OS81.jpg',\n",
       " 'C:\\\\Users\\\\assaw\\\\Documents\\\\c_stuff\\\\Python\\\\machine learning\\\\ISAIConference\\\\testIm/osteoporosis/OS90.jpg',\n",
       " 'C:\\\\Users\\\\assaw\\\\Documents\\\\c_stuff\\\\Python\\\\machine learning\\\\ISAIConference\\\\testIm/osteoporosis/OS91.jpg']"
      ]
     },
     "execution_count": 164,
     "metadata": {},
     "output_type": "execute_result"
    }
   ],
   "source": [
    "pathList"
   ]
  },
  {
   "cell_type": "code",
   "execution_count": 165,
   "metadata": {},
   "outputs": [
    {
     "name": "stdout",
     "output_type": "stream",
     "text": [
      "0\n",
      "normal: 57\n",
      "1\n",
      "osteopenia: 241\n",
      "2\n",
      "osteoporosis: 73\n"
     ]
    }
   ],
   "source": [
    "for idx,x in enumerate(dirList):\n",
    "    print(idx)\n",
    "    print(f\"{x}: {len(os.listdir(f'{projectPath}/{x}'))}\")"
   ]
  },
  {
   "cell_type": "code",
   "execution_count": 168,
   "metadata": {},
   "outputs": [
    {
     "data": {
      "text/plain": [
       "{'(244, 244)': 371}"
      ]
     },
     "execution_count": 168,
     "metadata": {},
     "output_type": "execute_result"
    }
   ],
   "source": [
    "from PIL import Image\n",
    "imageSizes = {}\n",
    "for x in pathList:\n",
    "    img = Image.open(x).size\n",
    "    try:\n",
    "        imageSizes[str(img)] = imageSizes[str(img)] + 1\n",
    "    except KeyError:\n",
    "        imageSizes[str(img)] = 1\n",
    "imageSizes #varied image sizes, have to resize to 1024,1024"
   ]
  },
  {
   "cell_type": "code",
   "execution_count": 175,
   "metadata": {},
   "outputs": [],
   "source": [
    "import torchvision\n",
    "import torch\n",
    "import torchvision.transforms.functional as vF\n",
    "\n",
    "\n",
    "class OsteoTorchDataset(torch.utils.data.Dataset):\n",
    "    def __init__(self, itemsPath:list, labels:list, transform=None, std = False, mean = False): #mean on if mean needs to be scaled, same goes for std\n",
    "        \n",
    "        self.itemsPath = itemsPath\n",
    "        self.labels = labels\n",
    "        self.transform = transform\n",
    "        self.std = std\n",
    "        self.mean = mean\n",
    "\n",
    "    def __len__(self):\n",
    "        return len(self.itemsPath)\n",
    "\n",
    "    def __getitem__(self,idx)->tuple[Image.Image,int]:\n",
    "        # if torch.is_tensor(idx):\n",
    "        #     idx = idx.tolist()\n",
    "        image = Image.open(self.itemsPath[idx]).convert('RGB')\n",
    "        # image = torchvision.transforms.functional.pil_to_tensor(image)\n",
    "\n",
    "        if self.transform:\n",
    "            image = self.transform(image)  \n",
    "        \n",
    "        image.to(device = torch.device('cuda'))\n",
    "\n",
    "        if self.mean or self.std:\n",
    "            image = self.scaler(image,self.mean,self.std)\n",
    "        \n",
    "\n",
    "        return image, self.labels[idx], self.itemsPath[idx]          \n",
    "    \n",
    "    def scaler(self,image:torch.tensor,normMean = False,normStd = False): #TODO better way to do this? also huge bottleneck without cuda\n",
    "        imageSum = torch.sum(image,dim=(1,2))\n",
    "        mean = imageSum/(image.shape[1]*image.shape[2])\n",
    "        sum_squared_tensor = torch.sum((imageSum - mean)**2)\n",
    "        std = torch.sqrt(sum_squared_tensor/image.shape[1]*image.shape[2])\n",
    "\n",
    "        if not normMean:\n",
    "            mean = torch.zeros_like(mean,device='cuda')\n",
    "\n",
    "        if not normStd:\n",
    "            std = torch.ones_like(std,device='cuda')\n",
    "\n",
    "        image = torchvision.transforms.functional.normalize(image.float(),mean,std)\n",
    "        return image\n",
    "\n",
    "transform = torchvision.transforms.Compose([\n",
    "                                            torchvision.transforms.ToTensor(),\n",
    "                                            torchvision.transforms.Normalize((0.5,0.5,0.5), (0.5,0.5,0.5)),\n",
    "                                            # ,torchvision.transforms.Grayscale()\n",
    "                                            ])\n",
    "osteoDataset = OsteoTorchDataset(pathList,labelList,transform,std=True,mean=True)                                  "
   ]
  },
  {
   "cell_type": "code",
   "execution_count": 176,
   "metadata": {},
   "outputs": [
    {
     "data": {
      "text/plain": [
       "tensor([ 90, 101, 106])"
      ]
     },
     "execution_count": 176,
     "metadata": {},
     "output_type": "execute_result"
    }
   ],
   "source": [
    "from torch.utils.data.dataloader import DataLoader\n",
    "from torch.utils.data import WeightedRandomSampler\n",
    "\n",
    "osteoDataset = OsteoTorchDataset(pathList,labelList,transform,std=False,mean=False)      \n",
    "train,val = torch.utils.data.random_split(osteoDataset,[0.8,0.2])#MAY BUG\n",
    "trainLabels = [y for x,y,z in train]\n",
    "unique_elements, counts = torch.unique(torch.tensor(trainLabels), return_counts=True)\n",
    "sampleWeights = 1. / counts.float() #I HAVE NO IDEA WHY THIS WORKS BUT IT DOES\n",
    "# MORAL OF THE STORY: FOLLOW THE FUCKING TUTORIAL DONT TRY CHANGING SHIT ON YOUR OWN ***EVEN IF THE DOCUMENTATION SAYS YOU SHOULD***\n",
    "trainSampler = WeightedRandomSampler(weights=[sampleWeights[x] for x in trainLabels],num_samples=len(train),replacement=True)\n",
    "\n",
    "trainLoader = DataLoader(train, batch_size = 8,shuffle=False,num_workers=0,sampler=trainSampler)\n",
    "valLoader = DataLoader(val, batch_size = 8,shuffle=False,num_workers=0)\n",
    "\n",
    "unique_elements, counts = torch.unique(torch.cat([x for y,x,z in trainLoader]), return_counts=True)#delet this\n",
    "counts"
   ]
  },
  {
   "cell_type": "code",
   "execution_count": null,
   "metadata": {},
   "outputs": [],
   "source": [
    "unique_elements, counts = torch.unique(torch.cat([x for y,x,z in valLoader]), return_counts=True)#delet this\n",
    "counts"
   ]
  },
  {
   "cell_type": "code",
   "execution_count": 203,
   "metadata": {},
   "outputs": [],
   "source": [
    "temp = next(iter(trainLoader))"
   ]
  },
  {
   "cell_type": "code",
   "execution_count": 212,
   "metadata": {},
   "outputs": [
    {
     "data": {
      "text/plain": [
       "tensor(0.9216)"
      ]
     },
     "execution_count": 212,
     "metadata": {},
     "output_type": "execute_result"
    }
   ],
   "source": [
    "temp[0][0].max()"
   ]
  },
  {
   "cell_type": "code",
   "execution_count": null,
   "metadata": {},
   "outputs": [],
   "source": [
    "index = -1"
   ]
  },
  {
   "cell_type": "code",
   "execution_count": 188,
   "metadata": {},
   "outputs": [
    {
     "name": "stderr",
     "output_type": "stream",
     "text": [
      "Clipping input data to the valid range for imshow with RGB data ([0..1] for floats or [0..255] for integers). Got range [-0.5..1.1313726].\n"
     ]
    },
    {
     "name": "stdout",
     "output_type": "stream",
     "text": [
      "161\n",
      "C:\\Users\\assaw\\Documents\\c_stuff\\Python\\machine learning\\ISAIConference\\testIm/normal/N51.jpg\n"
     ]
    },
    {
     "data": {
      "image/png": "[encoded data removed]",
      "text/plain": [
       "<Figure size 640x480 with 2 Axes>"
      ]
     },
     "metadata": {},
     "output_type": "display_data"
    }
   ],
   "source": [
    "# temp[0][0].min()\n",
    "import matplotlib.pyplot as plt\n",
    "index += 1\n",
    "# print(temp[1][index],temp[2][index])\n",
    "print((temp[0][index].numpy()*255).max().astype(np.uint8))\n",
    "\n",
    "fig, axs = plt.subplots(1, 2)\n",
    "\n",
    "print(str(temp[2][index]))\n",
    "# Plot the first image\n",
    "axs[0].imshow((temp[0][index]+0.5).permute(1, 2, 0))\n",
    "axs[0].set_title('Image 1')\n",
    "\n",
    "# Plot the second image\n",
    "axs[1].imshow(Image.open(temp[2][index]).convert('RGB'))\n",
    "axs[1].set_title('Image 2')\n",
    "\n",
    "plt.show()"
   ]
  },
  {
   "cell_type": "code",
   "execution_count": 218,
   "metadata": {},
   "outputs": [
    {
     "name": "stdout",
     "output_type": "stream",
     "text": [
      "using model as-is\n"
     ]
    }
   ],
   "source": [
    "# import models here\n",
    "from models import AlexNet,resnetWrapper\n",
    "from resnetModel import ResNet50\n",
    "import lightning as L\n",
    "from lightning.pytorch.callbacks import ModelCheckpoint\n",
    "from torcheval.metrics.functional import multiclass_f1_score,multiclass_confusion_matrix,multiclass_accuracy\n",
    "from torchmetrics.classification import MulticlassConfusionMatrix\n",
    "from matplotlib import pyplot as plt\n",
    "from torch import mode\n",
    "import torch.nn.functional as F\n",
    "import itertools\n",
    "import seaborn as sns\n",
    "\n",
    "#FIXME identify bottleneck\n",
    "#FIXME clean up my fucking code ffs its so UGLY\n",
    "\n",
    "class ExperimentModel(L.LightningModule):\n",
    "\n",
    "    existingModels = []\n",
    "\n",
    "    def __init__(self,pretrainedModel,resize = False,num_class = 3,outputSize = 1000,pretrained = False) -> None:\n",
    "        ExperimentModel.existingModels.append(self)\n",
    "        super().__init__()\n",
    "        if type(pretrainedModel) != str:\n",
    "            print(\"using model as-is\")\n",
    "            self.model = pretrainedModel\n",
    "        else:\n",
    "            self.model = torch.hub.load('pytorch/vision:v0.19.0', pretrainedModel, pretrained=pretrained)\n",
    "            \n",
    "            \n",
    "        # if pretrainedPreprocess:\n",
    "        #     self.preprocess = pretrainedPreprocess  \n",
    "        # for param in self.model.parameters():\n",
    "        #     param.requires_grad = False\n",
    "        self.resize = resize\n",
    "\n",
    "        if self.resize:\n",
    "            linear1 = None\n",
    "            try: \n",
    "                linear1 = torch.nn.Linear(self.model.fc.out_features, 256)\n",
    "            except AttributeError:\n",
    "                print(\"no fc detected, switcing to provided outputSize\")\n",
    "                linear1 = torch.nn.Linear(outputSize, 256)\n",
    "            self.customHead = torch.nn.Sequential(linear1,torch.nn.ReLU(),torch.nn.Linear(256,num_class))\n",
    "\n",
    "        self.num_class = num_class\n",
    "        self.criterion = torch.nn.CrossEntropyLoss()\n",
    "\n",
    "        # self.resize = resize\n",
    "        # if self.resize:\n",
    "        #     self.linear1 = torch.nn.Linear(1000,256)\n",
    "        #     self.relu1= torch.nn.ReLU()\n",
    "        #     self.linear2 = torch.nn.Linear(256,3)\n",
    "\n",
    "        self.valLog = []\n",
    "        self.epoch = []\n",
    "        self.valPreds = []\n",
    "        self.valLabels = []\n",
    "        self.valScore = []\n",
    "\n",
    "        self.bestValPreds = [[]]\n",
    "        self.bestValLabels = [[]]\n",
    "        self.bestValScore = []\n",
    "\n",
    "        self.dump = []\n",
    "        \n",
    "    def forward(self,input):\n",
    "        out = self.model(input.float())\n",
    "        if self.resize:\n",
    "            out = self.customHead(out)\n",
    "        return out\n",
    "        \n",
    "    def training_step(self,batch):\n",
    "        data,label,path = batch\n",
    "\n",
    "        output = self(data)\n",
    "        # print('\\n train pred vs label')\n",
    "        # print(output.argmax(1))\n",
    "        # print(data[0])\n",
    "        # print(label[0])\n",
    "        self.dump.append([path,label])\n",
    "        loss = self.criterion(output,label)\n",
    "        # print(loss)\n",
    "        self.log(\"train_loss\", loss, on_step=True, on_epoch=True, prog_bar=True, logger=True)\n",
    "        return loss\n",
    "\n",
    "    def validation_step(self, batch, batch_idx) -> None:\n",
    "        data,label,path = batch\n",
    "        output = self(data)\n",
    "\n",
    "        preds = output.argmax(1)\n",
    "        # print(f\"output:{output}, preds:{preds}\")\n",
    "        # f1 = multiclass_f1_score(preds,label,num_classes=self.num_class,average = 'macro')\n",
    "        # print('\\npred vs label')\n",
    "        # print(preds)\n",
    "        # print(label)\n",
    "        # print(f'f1:{f1}')\n",
    "        loss = F.cross_entropy(output,label)\n",
    "        self.valLabels.append(label)\n",
    "        self.valPreds.append(preds)\n",
    "        self.valScore.append(multiclass_f1_score(preds,label,num_classes=self.num_class,average = 'macro'))\n",
    "        self.log(\"val_loss\", loss, on_step=False, on_epoch=True, prog_bar=True, logger=True)\n",
    "        self.log(\"val_acc_F1\", multiclass_f1_score(preds,label,num_classes=self.num_class,average = 'macro'), on_step=False, on_epoch=True, prog_bar=True, logger=True)\n",
    "        self.log(\"val_acc\", multiclass_accuracy(preds,label,num_classes=self.num_class), on_step=False, on_epoch=True, prog_bar=True, logger=True)\n",
    "\n",
    "    \n",
    "    def on_validation_epoch_end(self) -> None:\n",
    "        if len(self.valScore) == 2:\n",
    "            return None\n",
    "        \n",
    "        accuracy = torch.stack(self.valScore).mean()\n",
    "        self.bestValScore.append(accuracy)\n",
    "        self.bestValPreds.append(torch.cat(self.valPreds))\n",
    "        self.bestValLabels.append(torch.cat(self.valLabels))\n",
    "        print(f\"preds: {torch.cat(self.valPreds)}\\n labels: {torch.cat(self.valLabels)}\")\n",
    "        # self.log(\"val_acc_F1\", multiclass_f1_score(torch.cat(self.valPreds),torch.cat(self.valLabels),num_classes=self.num_class,average = 'macro'), on_step=False, on_epoch=True, prog_bar=True, logger=True)\n",
    "       \n",
    "        # print(f\"\\n Validation accuracy: {accuracy}\")\n",
    "        # print(f\"bestValScore: {self.bestValScore}\")\n",
    "        self.valPreds = []\n",
    "        self.valLabels = []\n",
    "        self.valScore = []\n",
    "        \n",
    "\n",
    "    def configure_optimizers(self):\n",
    "        return torch.optim.Adagrad(self.parameters(), lr=0.005)\n",
    "\n",
    "    def predict_step(self, batch):\n",
    "        data,label = batch\n",
    "        return self(data.float())\n",
    "\n",
    "# class ResNetCallbacks(L.Callback): #TODO implement callbacks\n",
    "#     def on_validation_epoch_end(trainer, pl_module):\n",
    "#         valLog.append(sum(self.cumLog)/len(self.cumlog))\n",
    "\n",
    "# alexNet = ExperimentAlexNet(AlexNet(num_classes=3))\n",
    "# resNet = ExperimentAlexNet(ResNet50(num_classes=3))\n",
    "# preResNet = ExperimentModel(ResNet50(num_classes=3),num_class=3)\n",
    "# resnet50 = ExperimentModel(\"resnet50\",resize=True,pretrained=True,num_class=3)\n",
    "vgg19 = ExperimentModel(model,resize=False,pretrained=False,num_class=3)\n",
    "# effnet = ExperimentModel(\"efficientnet_v2_m\",resize=True,pretrained=True,num_class=3)\n",
    "# mobilenet = ExperimentModel(\"mobilenet_v3_large\",resize=True,pretrained=True,num_class=3)"
   ]
  },
  {
   "cell_type": "code",
   "execution_count": 217,
   "metadata": {},
   "outputs": [
    {
     "name": "stderr",
     "output_type": "stream",
     "text": [
      "Using cache found in C:\\Users\\assaw/.cache\\torch\\hub\\pytorch_vision_v0.19.0\n"
     ]
    },
    {
     "data": {
      "text/plain": [
       "VGG(\n",
       "  (features): Sequential(\n",
       "    (0): Conv2d(3, 64, kernel_size=(3, 3), stride=(1, 1), padding=(1, 1))\n",
       "    (1): ReLU(inplace=True)\n",
       "    (2): Conv2d(64, 64, kernel_size=(3, 3), stride=(1, 1), padding=(1, 1))\n",
       "    (3): ReLU(inplace=True)\n",
       "    (4): MaxPool2d(kernel_size=2, stride=2, padding=0, dilation=1, ceil_mode=False)\n",
       "    (5): Conv2d(64, 128, kernel_size=(3, 3), stride=(1, 1), padding=(1, 1))\n",
       "    (6): ReLU(inplace=True)\n",
       "    (7): Conv2d(128, 128, kernel_size=(3, 3), stride=(1, 1), padding=(1, 1))\n",
       "    (8): ReLU(inplace=True)\n",
       "    (9): MaxPool2d(kernel_size=2, stride=2, padding=0, dilation=1, ceil_mode=False)\n",
       "    (10): Conv2d(128, 256, kernel_size=(3, 3), stride=(1, 1), padding=(1, 1))\n",
       "    (11): ReLU(inplace=True)\n",
       "    (12): Conv2d(256, 256, kernel_size=(3, 3), stride=(1, 1), padding=(1, 1))\n",
       "    (13): ReLU(inplace=True)\n",
       "    (14): Conv2d(256, 256, kernel_size=(3, 3), stride=(1, 1), padding=(1, 1))\n",
       "    (15): ReLU(inplace=True)\n",
       "    (16): Conv2d(256, 256, kernel_size=(3, 3), stride=(1, 1), padding=(1, 1))\n",
       "    (17): ReLU(inplace=True)\n",
       "    (18): MaxPool2d(kernel_size=2, stride=2, padding=0, dilation=1, ceil_mode=False)\n",
       "    (19): Conv2d(256, 512, kernel_size=(3, 3), stride=(1, 1), padding=(1, 1))\n",
       "    (20): ReLU(inplace=True)\n",
       "    (21): Conv2d(512, 512, kernel_size=(3, 3), stride=(1, 1), padding=(1, 1))\n",
       "    (22): ReLU(inplace=True)\n",
       "    (23): Conv2d(512, 512, kernel_size=(3, 3), stride=(1, 1), padding=(1, 1))\n",
       "    (24): ReLU(inplace=True)\n",
       "    (25): Conv2d(512, 512, kernel_size=(3, 3), stride=(1, 1), padding=(1, 1))\n",
       "    (26): ReLU(inplace=True)\n",
       "    (27): MaxPool2d(kernel_size=2, stride=2, padding=0, dilation=1, ceil_mode=False)\n",
       "    (28): Conv2d(512, 512, kernel_size=(3, 3), stride=(1, 1), padding=(1, 1))\n",
       "    (29): ReLU(inplace=True)\n",
       "    (30): Conv2d(512, 512, kernel_size=(3, 3), stride=(1, 1), padding=(1, 1))\n",
       "    (31): ReLU(inplace=True)\n",
       "    (32): Conv2d(512, 512, kernel_size=(3, 3), stride=(1, 1), padding=(1, 1))\n",
       "    (33): ReLU(inplace=True)\n",
       "    (34): Conv2d(512, 512, kernel_size=(3, 3), stride=(1, 1), padding=(1, 1))\n",
       "    (35): ReLU(inplace=True)\n",
       "    (36): MaxPool2d(kernel_size=2, stride=2, padding=0, dilation=1, ceil_mode=False)\n",
       "  )\n",
       "  (avgpool): AdaptiveAvgPool2d(output_size=(7, 7))\n",
       "  (classifier): Sequential(\n",
       "    (0): Linear(in_features=25088, out_features=4096, bias=True)\n",
       "    (1): ReLU(inplace=True)\n",
       "    (2): Dropout(p=0.5, inplace=False)\n",
       "    (3): Linear(in_features=4096, out_features=4096, bias=True)\n",
       "    (4): ReLU(inplace=True)\n",
       "    (5): Dropout(p=0.5, inplace=False)\n",
       "    (6): Linear(in_features=4096, out_features=3, bias=True)\n",
       "  )\n",
       ")"
      ]
     },
     "execution_count": 217,
     "metadata": {},
     "output_type": "execute_result"
    }
   ],
   "source": [
    "model = torch.hub.load('pytorch/vision:v0.19.0', \"vgg19\",{\"num_classes\":3}, pretrained=True, )\n",
    "model.classifier[6] = torch.nn.Linear(4096,3)\n",
    "model"
   ]
  },
  {
   "cell_type": "code",
   "execution_count": null,
   "metadata": {},
   "outputs": [],
   "source": [
    "ExperimentModel.existingModels[0].model.__class__.__name__"
   ]
  },
  {
   "cell_type": "code",
   "execution_count": null,
   "metadata": {},
   "outputs": [],
   "source": [
    "# import re\n",
    "# labelProcess = [re.search(r'\\/.*\\/',x)[0] for x in preResNet.dump[0][0]]\n",
    "# [x.strip('\\/') for x in labelProcess]"
   ]
  },
  {
   "cell_type": "code",
   "execution_count": 219,
   "metadata": {},
   "outputs": [
    {
     "name": "stderr",
     "output_type": "stream",
     "text": [
      "Using 16bit Automatic Mixed Precision (AMP)\n",
      "GPU available: True (cuda), used: True\n",
      "TPU available: False, using: 0 TPU cores\n",
      "HPU available: False, using: 0 HPUs\n",
      "LOCAL_RANK: 0 - CUDA_VISIBLE_DEVICES: [0]\n",
      "\n",
      "  | Name      | Type             | Params | Mode \n",
      "-------------------------------------------------------\n",
      "0 | model     | VGG              | 139 M  | train\n",
      "1 | criterion | CrossEntropyLoss | 0      | train\n",
      "-------------------------------------------------------\n",
      "139 M     Trainable params\n",
      "0         Non-trainable params\n",
      "139 M     Total params\n",
      "558.330   Total estimated model params size (MB)\n"
     ]
    },
    {
     "data": {
      "application/vnd.jupyter.widget-view+json": {
       "model_id": "ae01213505144e4dbda3c6524cefb0bd",
       "version_major": 2,
       "version_minor": 0
      },
      "text/plain": [
       "Sanity Checking: |          | 0/? [00:00<?, ?it/s]"
      ]
     },
     "metadata": {},
     "output_type": "display_data"
    },
    {
     "name": "stderr",
     "output_type": "stream",
     "text": [
      "WARNING:root:Warning: Some classes do not exist in the target. F1 scores for these classes will be cast to zeros.\n",
      "WARNING:root:Warning: Some classes do not exist in the target. F1 scores for these classes will be cast to zeros.\n"
     ]
    },
    {
     "data": {
      "application/vnd.jupyter.widget-view+json": {
       "model_id": "4e23bf9db4f54f189b318442a61a0114",
       "version_major": 2,
       "version_minor": 0
      },
      "text/plain": [
       "Training: |          | 0/? [00:00<?, ?it/s]"
      ]
     },
     "metadata": {},
     "output_type": "display_data"
    },
    {
     "data": {
      "application/vnd.jupyter.widget-view+json": {
       "model_id": "257a32382b1048eda7ca65dde5416e32",
       "version_major": 2,
       "version_minor": 0
      },
      "text/plain": [
       "Validation: |          | 0/? [00:00<?, ?it/s]"
      ]
     },
     "metadata": {},
     "output_type": "display_data"
    },
    {
     "name": "stderr",
     "output_type": "stream",
     "text": [
      "WARNING:root:Warning: Some classes do not exist in the target. F1 scores for these classes will be cast to zeros.\n",
      "WARNING:root:Warning: Some classes do not exist in the target. F1 scores for these classes will be cast to zeros.\n",
      "WARNING:root:Warning: Some classes do not exist in the target. F1 scores for these classes will be cast to zeros.\n",
      "WARNING:root:Warning: Some classes do not exist in the target. F1 scores for these classes will be cast to zeros.\n",
      "WARNING:root:Warning: Some classes do not exist in the target. F1 scores for these classes will be cast to zeros.\n",
      "WARNING:root:Warning: Some classes do not exist in the target. F1 scores for these classes will be cast to zeros.\n",
      "WARNING:root:Warning: Some classes do not exist in the target. F1 scores for these classes will be cast to zeros.\n",
      "WARNING:root:Warning: Some classes do not exist in the target. F1 scores for these classes will be cast to zeros.\n",
      "WARNING:root:Warning: Some classes do not exist in the target. F1 scores for these classes will be cast to zeros.\n",
      "WARNING:root:Warning: Some classes do not exist in the target. F1 scores for these classes will be cast to zeros.\n",
      "WARNING:root:Warning: Some classes do not exist in the target. F1 scores for these classes will be cast to zeros.\n",
      "WARNING:root:Warning: Some classes do not exist in the target. F1 scores for these classes will be cast to zeros.\n"
     ]
    },
    {
     "name": "stdout",
     "output_type": "stream",
     "text": [
      "preds: tensor([0, 0, 0, 0, 0, 2, 0, 0, 0, 0, 0, 0, 0, 0, 0, 0, 0, 0, 0, 0, 0, 0, 0, 0,\n",
      "        0, 0, 0, 0, 0, 0, 0, 0, 0, 0, 0, 0, 0, 0, 0, 0, 0, 0, 0, 0, 0, 0, 0, 0,\n",
      "        0, 0, 0, 0, 0, 0, 0, 0, 0, 0, 0, 0, 0, 0, 0, 0, 0, 0, 0, 0, 0, 0, 0, 0,\n",
      "        0, 0, 0, 0, 0, 0, 0, 0, 0, 0, 0, 0, 0, 0, 0, 0, 0, 0], device='cuda:0')\n",
      " labels: tensor([0, 1, 1, 1, 1, 1, 1, 1, 1, 1, 1, 1, 0, 2, 1, 0, 0, 1, 1, 1, 1, 1, 1, 1,\n",
      "        1, 1, 1, 1, 0, 2, 1, 0, 1, 2, 2, 1, 2, 1, 1, 1, 1, 1, 1, 1, 2, 1, 1, 2,\n",
      "        1, 1, 2, 0, 0, 2, 2, 0, 1, 1, 2, 2, 1, 1, 0, 2, 0, 1, 1, 1, 1, 1, 0, 1,\n",
      "        1, 1, 2, 1, 1, 1, 0, 1, 1, 1, 0, 1, 1, 0, 1, 1, 1, 1], device='cuda:0')\n"
     ]
    },
    {
     "data": {
      "application/vnd.jupyter.widget-view+json": {
       "model_id": "de156f9b419044ef83f364e51d59b8cf",
       "version_major": 2,
       "version_minor": 0
      },
      "text/plain": [
       "Validation: |          | 0/? [00:00<?, ?it/s]"
      ]
     },
     "metadata": {},
     "output_type": "display_data"
    },
    {
     "name": "stderr",
     "output_type": "stream",
     "text": [
      "WARNING:root:Warning: Some classes do not exist in the target. F1 scores for these classes will be cast to zeros.\n",
      "WARNING:root:Warning: Some classes do not exist in the target. F1 scores for these classes will be cast to zeros.\n",
      "WARNING:root:Warning: Some classes do not exist in the target. F1 scores for these classes will be cast to zeros.\n",
      "WARNING:root:Warning: Some classes do not exist in the target. F1 scores for these classes will be cast to zeros.\n",
      "WARNING:root:Warning: Some classes do not exist in the target. F1 scores for these classes will be cast to zeros.\n",
      "WARNING:root:Warning: Some classes do not exist in the target. F1 scores for these classes will be cast to zeros.\n",
      "WARNING:root:Warning: Some classes do not exist in the target. F1 scores for these classes will be cast to zeros.\n",
      "WARNING:root:Warning: Some classes do not exist in the target. F1 scores for these classes will be cast to zeros.\n",
      "WARNING:root:Warning: Some classes do not exist in the target. F1 scores for these classes will be cast to zeros.\n",
      "WARNING:root:Warning: Some classes do not exist in the target. F1 scores for these classes will be cast to zeros.\n",
      "WARNING:root:Warning: Some classes do not exist in the target. F1 scores for these classes will be cast to zeros.\n",
      "WARNING:root:Warning: Some classes do not exist in the target. F1 scores for these classes will be cast to zeros.\n"
     ]
    },
    {
     "name": "stdout",
     "output_type": "stream",
     "text": [
      "preds: tensor([0, 0, 0, 0, 0, 0, 0, 0, 0, 0, 0, 0, 0, 0, 0, 0, 0, 0, 0, 0, 0, 0, 0, 0,\n",
      "        0, 0, 0, 0, 0, 0, 0, 0, 0, 0, 0, 0, 0, 0, 0, 0, 0, 0, 0, 0, 0, 0, 0, 0,\n",
      "        0, 0, 0, 0, 0, 0, 0, 0, 0, 0, 0, 0, 0, 0, 0, 0, 0, 0, 0, 0, 0, 0, 0, 0,\n",
      "        0, 0], device='cuda:0')\n",
      " labels: tensor([0, 1, 1, 1, 1, 1, 1, 1, 1, 1, 1, 1, 0, 2, 1, 0, 1, 2, 2, 1, 2, 1, 1, 1,\n",
      "        1, 1, 1, 1, 2, 1, 1, 2, 1, 1, 2, 0, 0, 2, 2, 0, 1, 1, 2, 2, 1, 1, 0, 2,\n",
      "        0, 1, 1, 1, 1, 1, 0, 1, 1, 1, 2, 1, 1, 1, 0, 1, 1, 1, 0, 1, 1, 0, 1, 1,\n",
      "        1, 1], device='cuda:0')\n"
     ]
    },
    {
     "data": {
      "application/vnd.jupyter.widget-view+json": {
       "model_id": "d8b86249c0d5496a9b3eb7fd69a66204",
       "version_major": 2,
       "version_minor": 0
      },
      "text/plain": [
       "Validation: |          | 0/? [00:00<?, ?it/s]"
      ]
     },
     "metadata": {},
     "output_type": "display_data"
    },
    {
     "name": "stderr",
     "output_type": "stream",
     "text": [
      "WARNING:root:Warning: Some classes do not exist in the target. F1 scores for these classes will be cast to zeros.\n",
      "WARNING:root:Warning: Some classes do not exist in the target. F1 scores for these classes will be cast to zeros.\n",
      "WARNING:root:Warning: Some classes do not exist in the target. F1 scores for these classes will be cast to zeros.\n",
      "WARNING:root:Warning: Some classes do not exist in the target. F1 scores for these classes will be cast to zeros.\n",
      "WARNING:root:Warning: Some classes do not exist in the target. F1 scores for these classes will be cast to zeros.\n",
      "WARNING:root:Warning: Some classes do not exist in the target. F1 scores for these classes will be cast to zeros.\n",
      "WARNING:root:Warning: Some classes do not exist in the target. F1 scores for these classes will be cast to zeros.\n",
      "WARNING:root:Warning: Some classes do not exist in the target. F1 scores for these classes will be cast to zeros.\n",
      "WARNING:root:Warning: Some classes do not exist in the target. F1 scores for these classes will be cast to zeros.\n",
      "WARNING:root:Warning: Some classes do not exist in the target. F1 scores for these classes will be cast to zeros.\n",
      "WARNING:root:Warning: Some classes do not exist in the target. F1 scores for these classes will be cast to zeros.\n",
      "WARNING:root:Warning: Some classes do not exist in the target. F1 scores for these classes will be cast to zeros.\n"
     ]
    },
    {
     "name": "stdout",
     "output_type": "stream",
     "text": [
      "preds: tensor([0, 0, 0, 0, 0, 0, 0, 0, 0, 0, 0, 0, 0, 0, 0, 0, 0, 0, 0, 0, 0, 0, 0, 0,\n",
      "        0, 0, 0, 0, 0, 0, 0, 0, 0, 0, 0, 0, 0, 0, 0, 0, 0, 0, 0, 0, 0, 0, 0, 0,\n",
      "        0, 0, 0, 0, 0, 0, 0, 0, 0, 0, 0, 0, 0, 0, 0, 0, 0, 0, 0, 0, 0, 0, 0, 0,\n",
      "        0, 0], device='cuda:0')\n",
      " labels: tensor([0, 1, 1, 1, 1, 1, 1, 1, 1, 1, 1, 1, 0, 2, 1, 0, 1, 2, 2, 1, 2, 1, 1, 1,\n",
      "        1, 1, 1, 1, 2, 1, 1, 2, 1, 1, 2, 0, 0, 2, 2, 0, 1, 1, 2, 2, 1, 1, 0, 2,\n",
      "        0, 1, 1, 1, 1, 1, 0, 1, 1, 1, 2, 1, 1, 1, 0, 1, 1, 1, 0, 1, 1, 0, 1, 1,\n",
      "        1, 1], device='cuda:0')\n"
     ]
    },
    {
     "data": {
      "application/vnd.jupyter.widget-view+json": {
       "model_id": "a4145411f9fb4eb8b069e5f78bb58d28",
       "version_major": 2,
       "version_minor": 0
      },
      "text/plain": [
       "Validation: |          | 0/? [00:00<?, ?it/s]"
      ]
     },
     "metadata": {},
     "output_type": "display_data"
    },
    {
     "name": "stderr",
     "output_type": "stream",
     "text": [
      "WARNING:root:Warning: Some classes do not exist in the target. F1 scores for these classes will be cast to zeros.\n",
      "WARNING:root:Warning: Some classes do not exist in the target. F1 scores for these classes will be cast to zeros.\n",
      "WARNING:root:Warning: Some classes do not exist in the target. F1 scores for these classes will be cast to zeros.\n",
      "WARNING:root:Warning: Some classes do not exist in the target. F1 scores for these classes will be cast to zeros.\n",
      "WARNING:root:Warning: Some classes do not exist in the target. F1 scores for these classes will be cast to zeros.\n",
      "WARNING:root:Warning: Some classes do not exist in the target. F1 scores for these classes will be cast to zeros.\n",
      "WARNING:root:Warning: Some classes do not exist in the target. F1 scores for these classes will be cast to zeros.\n",
      "WARNING:root:Warning: Some classes do not exist in the target. F1 scores for these classes will be cast to zeros.\n",
      "WARNING:root:Warning: Some classes do not exist in the target. F1 scores for these classes will be cast to zeros.\n",
      "WARNING:root:Warning: Some classes do not exist in the target. F1 scores for these classes will be cast to zeros.\n",
      "WARNING:root:Warning: Some classes do not exist in the target. F1 scores for these classes will be cast to zeros.\n",
      "WARNING:root:Warning: Some classes do not exist in the target. F1 scores for these classes will be cast to zeros.\n"
     ]
    },
    {
     "name": "stdout",
     "output_type": "stream",
     "text": [
      "preds: tensor([0, 0, 0, 0, 0, 0, 0, 0, 0, 0, 0, 0, 0, 0, 0, 0, 0, 0, 0, 0, 0, 0, 0, 0,\n",
      "        0, 0, 0, 0, 0, 0, 0, 0, 0, 0, 0, 0, 0, 0, 0, 0, 0, 0, 0, 0, 0, 0, 0, 0,\n",
      "        0, 0, 0, 0, 0, 0, 0, 0, 0, 0, 0, 0, 0, 0, 0, 0, 0, 0, 0, 0, 0, 0, 0, 0,\n",
      "        0, 0], device='cuda:0')\n",
      " labels: tensor([0, 1, 1, 1, 1, 1, 1, 1, 1, 1, 1, 1, 0, 2, 1, 0, 1, 2, 2, 1, 2, 1, 1, 1,\n",
      "        1, 1, 1, 1, 2, 1, 1, 2, 1, 1, 2, 0, 0, 2, 2, 0, 1, 1, 2, 2, 1, 1, 0, 2,\n",
      "        0, 1, 1, 1, 1, 1, 0, 1, 1, 1, 2, 1, 1, 1, 0, 1, 1, 1, 0, 1, 1, 0, 1, 1,\n",
      "        1, 1], device='cuda:0')\n"
     ]
    },
    {
     "data": {
      "application/vnd.jupyter.widget-view+json": {
       "model_id": "e1f0c6b847bd47be89f1f33d441a03a4",
       "version_major": 2,
       "version_minor": 0
      },
      "text/plain": [
       "Validation: |          | 0/? [00:00<?, ?it/s]"
      ]
     },
     "metadata": {},
     "output_type": "display_data"
    },
    {
     "name": "stderr",
     "output_type": "stream",
     "text": [
      "WARNING:root:Warning: Some classes do not exist in the target. F1 scores for these classes will be cast to zeros.\n",
      "WARNING:root:Warning: Some classes do not exist in the target. F1 scores for these classes will be cast to zeros.\n",
      "WARNING:root:Warning: Some classes do not exist in the target. F1 scores for these classes will be cast to zeros.\n",
      "WARNING:root:Warning: Some classes do not exist in the target. F1 scores for these classes will be cast to zeros.\n",
      "WARNING:root:Warning: Some classes do not exist in the target. F1 scores for these classes will be cast to zeros.\n",
      "WARNING:root:Warning: Some classes do not exist in the target. F1 scores for these classes will be cast to zeros.\n",
      "WARNING:root:Warning: Some classes do not exist in the target. F1 scores for these classes will be cast to zeros.\n",
      "WARNING:root:Warning: Some classes do not exist in the target. F1 scores for these classes will be cast to zeros.\n",
      "WARNING:root:Warning: Some classes do not exist in the target. F1 scores for these classes will be cast to zeros.\n",
      "WARNING:root:Warning: Some classes do not exist in the target. F1 scores for these classes will be cast to zeros.\n",
      "WARNING:root:Warning: Some classes do not exist in the target. F1 scores for these classes will be cast to zeros.\n",
      "WARNING:root:Warning: Some classes do not exist in the target. F1 scores for these classes will be cast to zeros.\n"
     ]
    },
    {
     "name": "stdout",
     "output_type": "stream",
     "text": [
      "preds: tensor([0, 0, 0, 0, 0, 0, 0, 0, 0, 0, 0, 0, 0, 0, 0, 0, 0, 0, 0, 0, 0, 0, 0, 0,\n",
      "        0, 0, 0, 0, 0, 0, 0, 0, 0, 0, 0, 0, 0, 0, 0, 0, 0, 0, 0, 0, 0, 0, 0, 0,\n",
      "        0, 0, 0, 0, 0, 0, 0, 0, 0, 0, 0, 0, 0, 0, 0, 0, 0, 0, 0, 0, 0, 0, 0, 0,\n",
      "        0, 0], device='cuda:0')\n",
      " labels: tensor([0, 1, 1, 1, 1, 1, 1, 1, 1, 1, 1, 1, 0, 2, 1, 0, 1, 2, 2, 1, 2, 1, 1, 1,\n",
      "        1, 1, 1, 1, 2, 1, 1, 2, 1, 1, 2, 0, 0, 2, 2, 0, 1, 1, 2, 2, 1, 1, 0, 2,\n",
      "        0, 1, 1, 1, 1, 1, 0, 1, 1, 1, 2, 1, 1, 1, 0, 1, 1, 1, 0, 1, 1, 0, 1, 1,\n",
      "        1, 1], device='cuda:0')\n"
     ]
    },
    {
     "data": {
      "application/vnd.jupyter.widget-view+json": {
       "model_id": "88e96c54842d439e9a7920d7391b278c",
       "version_major": 2,
       "version_minor": 0
      },
      "text/plain": [
       "Validation: |          | 0/? [00:00<?, ?it/s]"
      ]
     },
     "metadata": {},
     "output_type": "display_data"
    },
    {
     "name": "stderr",
     "output_type": "stream",
     "text": [
      "WARNING:root:Warning: Some classes do not exist in the target. F1 scores for these classes will be cast to zeros.\n",
      "WARNING:root:Warning: Some classes do not exist in the target. F1 scores for these classes will be cast to zeros.\n",
      "WARNING:root:Warning: Some classes do not exist in the target. F1 scores for these classes will be cast to zeros.\n",
      "WARNING:root:Warning: Some classes do not exist in the target. F1 scores for these classes will be cast to zeros.\n",
      "WARNING:root:Warning: Some classes do not exist in the target. F1 scores for these classes will be cast to zeros.\n",
      "WARNING:root:Warning: Some classes do not exist in the target. F1 scores for these classes will be cast to zeros.\n",
      "WARNING:root:Warning: Some classes do not exist in the target. F1 scores for these classes will be cast to zeros.\n",
      "WARNING:root:Warning: Some classes do not exist in the target. F1 scores for these classes will be cast to zeros.\n",
      "WARNING:root:Warning: Some classes do not exist in the target. F1 scores for these classes will be cast to zeros.\n",
      "WARNING:root:Warning: Some classes do not exist in the target. F1 scores for these classes will be cast to zeros.\n",
      "WARNING:root:Warning: Some classes do not exist in the target. F1 scores for these classes will be cast to zeros.\n",
      "WARNING:root:Warning: Some classes do not exist in the target. F1 scores for these classes will be cast to zeros.\n"
     ]
    },
    {
     "name": "stdout",
     "output_type": "stream",
     "text": [
      "preds: tensor([0, 0, 0, 0, 0, 0, 0, 0, 0, 0, 0, 0, 0, 0, 0, 0, 0, 0, 0, 0, 0, 0, 0, 0,\n",
      "        0, 0, 0, 0, 0, 0, 0, 0, 0, 0, 0, 0, 0, 0, 0, 0, 0, 0, 0, 0, 0, 0, 0, 0,\n",
      "        0, 0, 0, 0, 0, 0, 0, 0, 0, 0, 0, 0, 0, 0, 0, 0, 0, 0, 0, 0, 0, 0, 0, 0,\n",
      "        0, 0], device='cuda:0')\n",
      " labels: tensor([0, 1, 1, 1, 1, 1, 1, 1, 1, 1, 1, 1, 0, 2, 1, 0, 1, 2, 2, 1, 2, 1, 1, 1,\n",
      "        1, 1, 1, 1, 2, 1, 1, 2, 1, 1, 2, 0, 0, 2, 2, 0, 1, 1, 2, 2, 1, 1, 0, 2,\n",
      "        0, 1, 1, 1, 1, 1, 0, 1, 1, 1, 2, 1, 1, 1, 0, 1, 1, 1, 0, 1, 1, 0, 1, 1,\n",
      "        1, 1], device='cuda:0')\n"
     ]
    },
    {
     "data": {
      "application/vnd.jupyter.widget-view+json": {
       "model_id": "599fb0c816574f12902b43f4f4b3df2e",
       "version_major": 2,
       "version_minor": 0
      },
      "text/plain": [
       "Validation: |          | 0/? [00:00<?, ?it/s]"
      ]
     },
     "metadata": {},
     "output_type": "display_data"
    },
    {
     "name": "stderr",
     "output_type": "stream",
     "text": [
      "WARNING:root:Warning: Some classes do not exist in the target. F1 scores for these classes will be cast to zeros.\n",
      "WARNING:root:Warning: Some classes do not exist in the target. F1 scores for these classes will be cast to zeros.\n",
      "WARNING:root:Warning: Some classes do not exist in the target. F1 scores for these classes will be cast to zeros.\n",
      "WARNING:root:Warning: Some classes do not exist in the target. F1 scores for these classes will be cast to zeros.\n",
      "WARNING:root:Warning: Some classes do not exist in the target. F1 scores for these classes will be cast to zeros.\n",
      "WARNING:root:Warning: Some classes do not exist in the target. F1 scores for these classes will be cast to zeros.\n",
      "WARNING:root:Warning: Some classes do not exist in the target. F1 scores for these classes will be cast to zeros.\n",
      "WARNING:root:Warning: Some classes do not exist in the target. F1 scores for these classes will be cast to zeros.\n",
      "WARNING:root:Warning: Some classes do not exist in the target. F1 scores for these classes will be cast to zeros.\n",
      "WARNING:root:Warning: Some classes do not exist in the target. F1 scores for these classes will be cast to zeros.\n",
      "WARNING:root:Warning: Some classes do not exist in the target. F1 scores for these classes will be cast to zeros.\n",
      "WARNING:root:Warning: Some classes do not exist in the target. F1 scores for these classes will be cast to zeros.\n"
     ]
    },
    {
     "name": "stdout",
     "output_type": "stream",
     "text": [
      "preds: tensor([0, 0, 0, 0, 0, 0, 0, 0, 0, 0, 0, 0, 0, 0, 0, 0, 0, 0, 0, 0, 0, 0, 0, 0,\n",
      "        0, 0, 0, 0, 0, 0, 0, 0, 0, 0, 0, 0, 0, 0, 0, 0, 0, 0, 0, 0, 0, 0, 0, 0,\n",
      "        0, 0, 0, 0, 0, 0, 0, 0, 0, 0, 0, 0, 0, 0, 0, 0, 0, 0, 0, 0, 0, 0, 0, 0,\n",
      "        0, 0], device='cuda:0')\n",
      " labels: tensor([0, 1, 1, 1, 1, 1, 1, 1, 1, 1, 1, 1, 0, 2, 1, 0, 1, 2, 2, 1, 2, 1, 1, 1,\n",
      "        1, 1, 1, 1, 2, 1, 1, 2, 1, 1, 2, 0, 0, 2, 2, 0, 1, 1, 2, 2, 1, 1, 0, 2,\n",
      "        0, 1, 1, 1, 1, 1, 0, 1, 1, 1, 2, 1, 1, 1, 0, 1, 1, 1, 0, 1, 1, 0, 1, 1,\n",
      "        1, 1], device='cuda:0')\n"
     ]
    },
    {
     "data": {
      "application/vnd.jupyter.widget-view+json": {
       "model_id": "bb20c88efb7e4a5d87cc44084d5135d7",
       "version_major": 2,
       "version_minor": 0
      },
      "text/plain": [
       "Validation: |          | 0/? [00:00<?, ?it/s]"
      ]
     },
     "metadata": {},
     "output_type": "display_data"
    },
    {
     "name": "stderr",
     "output_type": "stream",
     "text": [
      "WARNING:root:Warning: Some classes do not exist in the target. F1 scores for these classes will be cast to zeros.\n",
      "WARNING:root:Warning: Some classes do not exist in the target. F1 scores for these classes will be cast to zeros.\n",
      "WARNING:root:Warning: Some classes do not exist in the target. F1 scores for these classes will be cast to zeros.\n",
      "WARNING:root:Warning: Some classes do not exist in the target. F1 scores for these classes will be cast to zeros.\n",
      "WARNING:root:Warning: Some classes do not exist in the target. F1 scores for these classes will be cast to zeros.\n",
      "WARNING:root:Warning: Some classes do not exist in the target. F1 scores for these classes will be cast to zeros.\n",
      "WARNING:root:Warning: Some classes do not exist in the target. F1 scores for these classes will be cast to zeros.\n",
      "WARNING:root:Warning: Some classes do not exist in the target. F1 scores for these classes will be cast to zeros.\n",
      "WARNING:root:Warning: Some classes do not exist in the target. F1 scores for these classes will be cast to zeros.\n",
      "WARNING:root:Warning: Some classes do not exist in the target. F1 scores for these classes will be cast to zeros.\n",
      "WARNING:root:Warning: Some classes do not exist in the target. F1 scores for these classes will be cast to zeros.\n",
      "WARNING:root:Warning: Some classes do not exist in the target. F1 scores for these classes will be cast to zeros.\n"
     ]
    },
    {
     "name": "stdout",
     "output_type": "stream",
     "text": [
      "preds: tensor([0, 0, 0, 0, 0, 0, 0, 0, 0, 0, 0, 0, 0, 0, 0, 0, 0, 0, 0, 0, 0, 0, 0, 0,\n",
      "        0, 0, 0, 0, 0, 0, 0, 0, 0, 0, 0, 0, 0, 0, 0, 0, 0, 0, 0, 0, 0, 0, 0, 0,\n",
      "        0, 0, 0, 0, 0, 0, 0, 0, 0, 0, 0, 0, 0, 0, 0, 0, 0, 0, 0, 0, 0, 0, 0, 0,\n",
      "        0, 0], device='cuda:0')\n",
      " labels: tensor([0, 1, 1, 1, 1, 1, 1, 1, 1, 1, 1, 1, 0, 2, 1, 0, 1, 2, 2, 1, 2, 1, 1, 1,\n",
      "        1, 1, 1, 1, 2, 1, 1, 2, 1, 1, 2, 0, 0, 2, 2, 0, 1, 1, 2, 2, 1, 1, 0, 2,\n",
      "        0, 1, 1, 1, 1, 1, 0, 1, 1, 1, 2, 1, 1, 1, 0, 1, 1, 1, 0, 1, 1, 0, 1, 1,\n",
      "        1, 1], device='cuda:0')\n"
     ]
    },
    {
     "data": {
      "application/vnd.jupyter.widget-view+json": {
       "model_id": "0f4494d9231c43a29d50414ab8bf12a2",
       "version_major": 2,
       "version_minor": 0
      },
      "text/plain": [
       "Validation: |          | 0/? [00:00<?, ?it/s]"
      ]
     },
     "metadata": {},
     "output_type": "display_data"
    },
    {
     "name": "stderr",
     "output_type": "stream",
     "text": [
      "WARNING:root:Warning: Some classes do not exist in the target. F1 scores for these classes will be cast to zeros.\n",
      "WARNING:root:Warning: Some classes do not exist in the target. F1 scores for these classes will be cast to zeros.\n",
      "WARNING:root:Warning: Some classes do not exist in the target. F1 scores for these classes will be cast to zeros.\n",
      "WARNING:root:Warning: Some classes do not exist in the target. F1 scores for these classes will be cast to zeros.\n",
      "WARNING:root:Warning: Some classes do not exist in the target. F1 scores for these classes will be cast to zeros.\n",
      "WARNING:root:Warning: Some classes do not exist in the target. F1 scores for these classes will be cast to zeros.\n",
      "WARNING:root:Warning: Some classes do not exist in the target. F1 scores for these classes will be cast to zeros.\n",
      "WARNING:root:Warning: Some classes do not exist in the target. F1 scores for these classes will be cast to zeros.\n",
      "WARNING:root:Warning: Some classes do not exist in the target. F1 scores for these classes will be cast to zeros.\n",
      "WARNING:root:Warning: Some classes do not exist in the target. F1 scores for these classes will be cast to zeros.\n",
      "WARNING:root:Warning: Some classes do not exist in the target. F1 scores for these classes will be cast to zeros.\n",
      "WARNING:root:Warning: Some classes do not exist in the target. F1 scores for these classes will be cast to zeros.\n"
     ]
    },
    {
     "name": "stdout",
     "output_type": "stream",
     "text": [
      "preds: tensor([0, 0, 0, 0, 0, 0, 0, 0, 0, 0, 0, 0, 0, 0, 0, 0, 0, 0, 0, 0, 0, 0, 0, 0,\n",
      "        0, 0, 0, 0, 0, 0, 0, 0, 0, 0, 0, 0, 0, 0, 0, 0, 0, 0, 0, 0, 0, 0, 0, 0,\n",
      "        0, 0, 0, 0, 0, 0, 0, 0, 0, 0, 0, 0, 0, 0, 0, 0, 0, 0, 0, 0, 0, 0, 0, 0,\n",
      "        0, 0], device='cuda:0')\n",
      " labels: tensor([0, 1, 1, 1, 1, 1, 1, 1, 1, 1, 1, 1, 0, 2, 1, 0, 1, 2, 2, 1, 2, 1, 1, 1,\n",
      "        1, 1, 1, 1, 2, 1, 1, 2, 1, 1, 2, 0, 0, 2, 2, 0, 1, 1, 2, 2, 1, 1, 0, 2,\n",
      "        0, 1, 1, 1, 1, 1, 0, 1, 1, 1, 2, 1, 1, 1, 0, 1, 1, 1, 0, 1, 1, 0, 1, 1,\n",
      "        1, 1], device='cuda:0')\n"
     ]
    },
    {
     "data": {
      "application/vnd.jupyter.widget-view+json": {
       "model_id": "32dbf55166f14585ac3f7aeeb9bfa303",
       "version_major": 2,
       "version_minor": 0
      },
      "text/plain": [
       "Validation: |          | 0/? [00:00<?, ?it/s]"
      ]
     },
     "metadata": {},
     "output_type": "display_data"
    },
    {
     "name": "stderr",
     "output_type": "stream",
     "text": [
      "WARNING:root:Warning: Some classes do not exist in the target. F1 scores for these classes will be cast to zeros.\n",
      "WARNING:root:Warning: Some classes do not exist in the target. F1 scores for these classes will be cast to zeros.\n",
      "WARNING:root:Warning: Some classes do not exist in the target. F1 scores for these classes will be cast to zeros.\n",
      "WARNING:root:Warning: Some classes do not exist in the target. F1 scores for these classes will be cast to zeros.\n",
      "WARNING:root:Warning: Some classes do not exist in the target. F1 scores for these classes will be cast to zeros.\n",
      "WARNING:root:Warning: Some classes do not exist in the target. F1 scores for these classes will be cast to zeros.\n",
      "WARNING:root:Warning: Some classes do not exist in the target. F1 scores for these classes will be cast to zeros.\n",
      "WARNING:root:Warning: Some classes do not exist in the target. F1 scores for these classes will be cast to zeros.\n",
      "WARNING:root:Warning: Some classes do not exist in the target. F1 scores for these classes will be cast to zeros.\n",
      "WARNING:root:Warning: Some classes do not exist in the target. F1 scores for these classes will be cast to zeros.\n",
      "WARNING:root:Warning: Some classes do not exist in the target. F1 scores for these classes will be cast to zeros.\n",
      "WARNING:root:Warning: Some classes do not exist in the target. F1 scores for these classes will be cast to zeros.\n"
     ]
    },
    {
     "name": "stdout",
     "output_type": "stream",
     "text": [
      "preds: tensor([0, 0, 0, 0, 0, 0, 0, 0, 0, 0, 0, 0, 0, 0, 0, 0, 0, 0, 0, 0, 0, 0, 0, 0,\n",
      "        0, 0, 0, 0, 0, 0, 0, 0, 0, 0, 0, 0, 0, 0, 0, 0, 0, 0, 0, 0, 0, 0, 0, 0,\n",
      "        0, 0, 0, 0, 0, 0, 0, 0, 0, 0, 0, 0, 0, 0, 0, 0, 0, 0, 0, 0, 0, 0, 0, 0,\n",
      "        0, 0], device='cuda:0')\n",
      " labels: tensor([0, 1, 1, 1, 1, 1, 1, 1, 1, 1, 1, 1, 0, 2, 1, 0, 1, 2, 2, 1, 2, 1, 1, 1,\n",
      "        1, 1, 1, 1, 2, 1, 1, 2, 1, 1, 2, 0, 0, 2, 2, 0, 1, 1, 2, 2, 1, 1, 0, 2,\n",
      "        0, 1, 1, 1, 1, 1, 0, 1, 1, 1, 2, 1, 1, 1, 0, 1, 1, 1, 0, 1, 1, 0, 1, 1,\n",
      "        1, 1], device='cuda:0')\n"
     ]
    },
    {
     "data": {
      "application/vnd.jupyter.widget-view+json": {
       "model_id": "49e1f6cf715149959121bd3cc0589a48",
       "version_major": 2,
       "version_minor": 0
      },
      "text/plain": [
       "Validation: |          | 0/? [00:00<?, ?it/s]"
      ]
     },
     "metadata": {},
     "output_type": "display_data"
    },
    {
     "name": "stderr",
     "output_type": "stream",
     "text": [
      "WARNING:root:Warning: Some classes do not exist in the target. F1 scores for these classes will be cast to zeros.\n",
      "WARNING:root:Warning: Some classes do not exist in the target. F1 scores for these classes will be cast to zeros.\n",
      "WARNING:root:Warning: Some classes do not exist in the target. F1 scores for these classes will be cast to zeros.\n",
      "WARNING:root:Warning: Some classes do not exist in the target. F1 scores for these classes will be cast to zeros.\n",
      "WARNING:root:Warning: Some classes do not exist in the target. F1 scores for these classes will be cast to zeros.\n",
      "WARNING:root:Warning: Some classes do not exist in the target. F1 scores for these classes will be cast to zeros.\n",
      "WARNING:root:Warning: Some classes do not exist in the target. F1 scores for these classes will be cast to zeros.\n",
      "WARNING:root:Warning: Some classes do not exist in the target. F1 scores for these classes will be cast to zeros.\n",
      "WARNING:root:Warning: Some classes do not exist in the target. F1 scores for these classes will be cast to zeros.\n",
      "WARNING:root:Warning: Some classes do not exist in the target. F1 scores for these classes will be cast to zeros.\n",
      "WARNING:root:Warning: Some classes do not exist in the target. F1 scores for these classes will be cast to zeros.\n",
      "WARNING:root:Warning: Some classes do not exist in the target. F1 scores for these classes will be cast to zeros.\n"
     ]
    },
    {
     "name": "stdout",
     "output_type": "stream",
     "text": [
      "preds: tensor([0, 0, 0, 0, 0, 0, 0, 0, 0, 0, 0, 0, 0, 0, 0, 0, 0, 0, 0, 0, 0, 0, 0, 0,\n",
      "        0, 0, 0, 0, 0, 0, 0, 0, 0, 0, 0, 0, 0, 0, 0, 0, 0, 0, 0, 0, 0, 0, 0, 0,\n",
      "        0, 0, 0, 0, 0, 0, 0, 0, 0, 0, 0, 0, 0, 0, 0, 0, 0, 0, 0, 0, 0, 0, 0, 0,\n",
      "        0, 0], device='cuda:0')\n",
      " labels: tensor([0, 1, 1, 1, 1, 1, 1, 1, 1, 1, 1, 1, 0, 2, 1, 0, 1, 2, 2, 1, 2, 1, 1, 1,\n",
      "        1, 1, 1, 1, 2, 1, 1, 2, 1, 1, 2, 0, 0, 2, 2, 0, 1, 1, 2, 2, 1, 1, 0, 2,\n",
      "        0, 1, 1, 1, 1, 1, 0, 1, 1, 1, 2, 1, 1, 1, 0, 1, 1, 1, 0, 1, 1, 0, 1, 1,\n",
      "        1, 1], device='cuda:0')\n"
     ]
    },
    {
     "data": {
      "application/vnd.jupyter.widget-view+json": {
       "model_id": "64701e6ee32448f2bbe7e8e6122c1b1c",
       "version_major": 2,
       "version_minor": 0
      },
      "text/plain": [
       "Validation: |          | 0/? [00:00<?, ?it/s]"
      ]
     },
     "metadata": {},
     "output_type": "display_data"
    },
    {
     "name": "stderr",
     "output_type": "stream",
     "text": [
      "WARNING:root:Warning: Some classes do not exist in the target. F1 scores for these classes will be cast to zeros.\n",
      "WARNING:root:Warning: Some classes do not exist in the target. F1 scores for these classes will be cast to zeros.\n",
      "WARNING:root:Warning: Some classes do not exist in the target. F1 scores for these classes will be cast to zeros.\n",
      "WARNING:root:Warning: Some classes do not exist in the target. F1 scores for these classes will be cast to zeros.\n",
      "WARNING:root:Warning: Some classes do not exist in the target. F1 scores for these classes will be cast to zeros.\n",
      "WARNING:root:Warning: Some classes do not exist in the target. F1 scores for these classes will be cast to zeros.\n",
      "WARNING:root:Warning: Some classes do not exist in the target. F1 scores for these classes will be cast to zeros.\n",
      "WARNING:root:Warning: Some classes do not exist in the target. F1 scores for these classes will be cast to zeros.\n",
      "WARNING:root:Warning: Some classes do not exist in the target. F1 scores for these classes will be cast to zeros.\n",
      "WARNING:root:Warning: Some classes do not exist in the target. F1 scores for these classes will be cast to zeros.\n",
      "WARNING:root:Warning: Some classes do not exist in the target. F1 scores for these classes will be cast to zeros.\n",
      "WARNING:root:Warning: Some classes do not exist in the target. F1 scores for these classes will be cast to zeros.\n"
     ]
    },
    {
     "name": "stdout",
     "output_type": "stream",
     "text": [
      "preds: tensor([0, 0, 0, 0, 0, 0, 0, 0, 0, 0, 0, 0, 0, 0, 0, 0, 0, 0, 0, 0, 0, 0, 0, 0,\n",
      "        0, 0, 0, 0, 0, 0, 0, 0, 0, 0, 0, 0, 0, 0, 0, 0, 0, 0, 0, 0, 0, 0, 0, 0,\n",
      "        0, 0, 0, 0, 0, 0, 0, 0, 0, 0, 0, 0, 0, 0, 0, 0, 0, 0, 0, 0, 0, 0, 0, 0,\n",
      "        0, 0], device='cuda:0')\n",
      " labels: tensor([0, 1, 1, 1, 1, 1, 1, 1, 1, 1, 1, 1, 0, 2, 1, 0, 1, 2, 2, 1, 2, 1, 1, 1,\n",
      "        1, 1, 1, 1, 2, 1, 1, 2, 1, 1, 2, 0, 0, 2, 2, 0, 1, 1, 2, 2, 1, 1, 0, 2,\n",
      "        0, 1, 1, 1, 1, 1, 0, 1, 1, 1, 2, 1, 1, 1, 0, 1, 1, 1, 0, 1, 1, 0, 1, 1,\n",
      "        1, 1], device='cuda:0')\n"
     ]
    },
    {
     "data": {
      "application/vnd.jupyter.widget-view+json": {
       "model_id": "34411a1b9c014e9f99134b7a797f1c13",
       "version_major": 2,
       "version_minor": 0
      },
      "text/plain": [
       "Validation: |          | 0/? [00:00<?, ?it/s]"
      ]
     },
     "metadata": {},
     "output_type": "display_data"
    },
    {
     "name": "stderr",
     "output_type": "stream",
     "text": [
      "WARNING:root:Warning: Some classes do not exist in the target. F1 scores for these classes will be cast to zeros.\n",
      "WARNING:root:Warning: Some classes do not exist in the target. F1 scores for these classes will be cast to zeros.\n",
      "WARNING:root:Warning: Some classes do not exist in the target. F1 scores for these classes will be cast to zeros.\n",
      "WARNING:root:Warning: Some classes do not exist in the target. F1 scores for these classes will be cast to zeros.\n",
      "WARNING:root:Warning: Some classes do not exist in the target. F1 scores for these classes will be cast to zeros.\n",
      "WARNING:root:Warning: Some classes do not exist in the target. F1 scores for these classes will be cast to zeros.\n",
      "WARNING:root:Warning: Some classes do not exist in the target. F1 scores for these classes will be cast to zeros.\n",
      "WARNING:root:Warning: Some classes do not exist in the target. F1 scores for these classes will be cast to zeros.\n",
      "WARNING:root:Warning: Some classes do not exist in the target. F1 scores for these classes will be cast to zeros.\n",
      "WARNING:root:Warning: Some classes do not exist in the target. F1 scores for these classes will be cast to zeros.\n",
      "WARNING:root:Warning: Some classes do not exist in the target. F1 scores for these classes will be cast to zeros.\n",
      "WARNING:root:Warning: Some classes do not exist in the target. F1 scores for these classes will be cast to zeros.\n"
     ]
    },
    {
     "name": "stdout",
     "output_type": "stream",
     "text": [
      "preds: tensor([0, 0, 0, 0, 0, 0, 0, 0, 0, 0, 0, 0, 0, 0, 0, 0, 0, 0, 0, 0, 0, 0, 0, 0,\n",
      "        0, 0, 0, 0, 0, 0, 0, 0, 0, 0, 0, 0, 0, 0, 0, 0, 0, 0, 0, 0, 0, 0, 0, 0,\n",
      "        0, 0, 0, 0, 0, 0, 0, 0, 0, 0, 0, 0, 0, 0, 0, 0, 0, 0, 0, 0, 0, 0, 0, 0,\n",
      "        0, 0], device='cuda:0')\n",
      " labels: tensor([0, 1, 1, 1, 1, 1, 1, 1, 1, 1, 1, 1, 0, 2, 1, 0, 1, 2, 2, 1, 2, 1, 1, 1,\n",
      "        1, 1, 1, 1, 2, 1, 1, 2, 1, 1, 2, 0, 0, 2, 2, 0, 1, 1, 2, 2, 1, 1, 0, 2,\n",
      "        0, 1, 1, 1, 1, 1, 0, 1, 1, 1, 2, 1, 1, 1, 0, 1, 1, 1, 0, 1, 1, 0, 1, 1,\n",
      "        1, 1], device='cuda:0')\n"
     ]
    },
    {
     "data": {
      "application/vnd.jupyter.widget-view+json": {
       "model_id": "3a8df04ab9a74fad99b618b359fd3ca0",
       "version_major": 2,
       "version_minor": 0
      },
      "text/plain": [
       "Validation: |          | 0/? [00:00<?, ?it/s]"
      ]
     },
     "metadata": {},
     "output_type": "display_data"
    },
    {
     "name": "stderr",
     "output_type": "stream",
     "text": [
      "WARNING:root:Warning: Some classes do not exist in the target. F1 scores for these classes will be cast to zeros.\n",
      "WARNING:root:Warning: Some classes do not exist in the target. F1 scores for these classes will be cast to zeros.\n",
      "WARNING:root:Warning: Some classes do not exist in the target. F1 scores for these classes will be cast to zeros.\n",
      "WARNING:root:Warning: Some classes do not exist in the target. F1 scores for these classes will be cast to zeros.\n",
      "WARNING:root:Warning: Some classes do not exist in the target. F1 scores for these classes will be cast to zeros.\n",
      "WARNING:root:Warning: Some classes do not exist in the target. F1 scores for these classes will be cast to zeros.\n",
      "WARNING:root:Warning: Some classes do not exist in the target. F1 scores for these classes will be cast to zeros.\n",
      "WARNING:root:Warning: Some classes do not exist in the target. F1 scores for these classes will be cast to zeros.\n",
      "WARNING:root:Warning: Some classes do not exist in the target. F1 scores for these classes will be cast to zeros.\n",
      "WARNING:root:Warning: Some classes do not exist in the target. F1 scores for these classes will be cast to zeros.\n",
      "WARNING:root:Warning: Some classes do not exist in the target. F1 scores for these classes will be cast to zeros.\n",
      "WARNING:root:Warning: Some classes do not exist in the target. F1 scores for these classes will be cast to zeros.\n"
     ]
    },
    {
     "name": "stdout",
     "output_type": "stream",
     "text": [
      "preds: tensor([0, 0, 0, 0, 0, 0, 0, 0, 0, 0, 0, 0, 0, 0, 0, 0, 0, 0, 0, 0, 0, 0, 0, 0,\n",
      "        0, 0, 0, 0, 0, 0, 0, 0, 0, 0, 0, 0, 0, 0, 0, 0, 0, 0, 0, 0, 0, 0, 0, 0,\n",
      "        0, 0, 0, 0, 0, 0, 0, 0, 0, 0, 0, 0, 0, 0, 0, 0, 0, 0, 0, 0, 0, 0, 0, 0,\n",
      "        0, 0], device='cuda:0')\n",
      " labels: tensor([0, 1, 1, 1, 1, 1, 1, 1, 1, 1, 1, 1, 0, 2, 1, 0, 1, 2, 2, 1, 2, 1, 1, 1,\n",
      "        1, 1, 1, 1, 2, 1, 1, 2, 1, 1, 2, 0, 0, 2, 2, 0, 1, 1, 2, 2, 1, 1, 0, 2,\n",
      "        0, 1, 1, 1, 1, 1, 0, 1, 1, 1, 2, 1, 1, 1, 0, 1, 1, 1, 0, 1, 1, 0, 1, 1,\n",
      "        1, 1], device='cuda:0')\n"
     ]
    },
    {
     "data": {
      "application/vnd.jupyter.widget-view+json": {
       "model_id": "3860f8e80bc54e8f94274b894ffe2585",
       "version_major": 2,
       "version_minor": 0
      },
      "text/plain": [
       "Validation: |          | 0/? [00:00<?, ?it/s]"
      ]
     },
     "metadata": {},
     "output_type": "display_data"
    },
    {
     "name": "stderr",
     "output_type": "stream",
     "text": [
      "WARNING:root:Warning: Some classes do not exist in the target. F1 scores for these classes will be cast to zeros.\n",
      "WARNING:root:Warning: Some classes do not exist in the target. F1 scores for these classes will be cast to zeros.\n",
      "WARNING:root:Warning: Some classes do not exist in the target. F1 scores for these classes will be cast to zeros.\n",
      "WARNING:root:Warning: Some classes do not exist in the target. F1 scores for these classes will be cast to zeros.\n",
      "WARNING:root:Warning: Some classes do not exist in the target. F1 scores for these classes will be cast to zeros.\n",
      "WARNING:root:Warning: Some classes do not exist in the target. F1 scores for these classes will be cast to zeros.\n",
      "WARNING:root:Warning: Some classes do not exist in the target. F1 scores for these classes will be cast to zeros.\n",
      "WARNING:root:Warning: Some classes do not exist in the target. F1 scores for these classes will be cast to zeros.\n",
      "WARNING:root:Warning: Some classes do not exist in the target. F1 scores for these classes will be cast to zeros.\n",
      "WARNING:root:Warning: Some classes do not exist in the target. F1 scores for these classes will be cast to zeros.\n",
      "WARNING:root:Warning: Some classes do not exist in the target. F1 scores for these classes will be cast to zeros.\n",
      "WARNING:root:Warning: Some classes do not exist in the target. F1 scores for these classes will be cast to zeros.\n"
     ]
    },
    {
     "name": "stdout",
     "output_type": "stream",
     "text": [
      "preds: tensor([0, 0, 0, 0, 0, 0, 0, 0, 0, 0, 0, 0, 0, 0, 0, 0, 0, 0, 0, 0, 0, 0, 0, 0,\n",
      "        0, 0, 0, 0, 0, 0, 0, 0, 0, 0, 0, 0, 0, 0, 0, 0, 0, 0, 0, 0, 0, 0, 0, 0,\n",
      "        0, 0, 0, 0, 0, 0, 0, 0, 0, 0, 0, 0, 0, 0, 0, 0, 0, 0, 0, 0, 0, 0, 0, 0,\n",
      "        0, 0], device='cuda:0')\n",
      " labels: tensor([0, 1, 1, 1, 1, 1, 1, 1, 1, 1, 1, 1, 0, 2, 1, 0, 1, 2, 2, 1, 2, 1, 1, 1,\n",
      "        1, 1, 1, 1, 2, 1, 1, 2, 1, 1, 2, 0, 0, 2, 2, 0, 1, 1, 2, 2, 1, 1, 0, 2,\n",
      "        0, 1, 1, 1, 1, 1, 0, 1, 1, 1, 2, 1, 1, 1, 0, 1, 1, 1, 0, 1, 1, 0, 1, 1,\n",
      "        1, 1], device='cuda:0')\n"
     ]
    }
   ],
   "source": [
    "import gc\n",
    "gc.collect()\n",
    "torch.cuda.empty_cache()\n",
    "\n",
    "from lightning.pytorch.callbacks import ModelCheckpoint, EarlyStopping\n",
    "from lightning.pytorch.loggers import TensorBoardLogger\n",
    "for x in ExperimentModel.existingModels:\n",
    "    gc.collect()\n",
    "    torch.cuda.empty_cache()\n",
    "    # early_stopping = EarlyStopping(\n",
    "    #     monitor='val_loss',  # Metric to monitor\n",
    "    #     patience=5000,          # Number of epochs with no improvement after which training will be stopped\n",
    "    #     verbose=False,        # Verbosity mode\n",
    "    #     mode='min'           # Mode can be 'min', 'max', or 'auto'\n",
    "    # )\n",
    "\n",
    "    logger = TensorBoardLogger(\"tb_logs\", name=f\"{x.model.__class__.__name__}\")\n",
    "\n",
    "\n",
    "    trainer = L.Trainer(max_epochs = 75,accelerator='gpu', devices='auto', precision='16-mixed',logger=logger)\n",
    "    trainer.fit(model=x,train_dataloaders=trainLoader,val_dataloaders=valLoader)\n"
   ]
  },
  {
   "cell_type": "code",
   "execution_count": null,
   "metadata": {},
   "outputs": [],
   "source": [
    "from sklearn.metrics import confusion_matrix\n",
    "import seaborn as sns\n",
    "\n",
    "# [[y.argmax().item() for y in w] for w in x.bestValPreds]\n",
    "# ([1, 2, 0, 1, 2, 2, 1, 1, 1, 1, 2, 1, 1, 1, 1, 2, 1, 1, 1, 1, 0, 0, 2, 1,\n",
    "#          1, 1, 1, 1, 1, 1, 0, 1, 1, 2, 0, 1, 1, 1, 1, 1, 1, 0, 1, 1, 0, 0, 1]\n",
    "# [[y.argmax().item() for y in w] for w in x.bestValPreds]\n",
    "preds = torch.tensor([0, 1, 0, 1, 1, 1, 1, 0, 1, 1, 2, 1, 1, 1, 1, 1, 1, 1, 1, 1, 1, 1, 1, 1,\n",
    "        1, 1, 1, 1, 1, 1, 1, 0, 0, 1, 0, 0, 1, 1, 1, 1, 1, 1, 1, 1, 0, 1, 1, 0,\n",
    "        1, 1, 1, 1, 0, 2, 0, 1, 1, 1, 2, 1, 1, 1, 1, 0, 1, 2, 2, 0, 2, 2, 1, 1,\n",
    "        1, 1])\n",
    "labels = torch.tensor([0, 1, 1, 1, 1, 1, 1, 1, 1, 1, 1, 1, 0, 2, 1, 0, 1, 2, 2, 1, 2, 1, 1, 1,\n",
    "        1, 1, 1, 1, 2, 1, 1, 2, 1, 1, 2, 0, 0, 2, 2, 0, 1, 1, 2, 2, 1, 1, 0, 2,\n",
    "        0, 1, 1, 1, 1, 1, 0, 1, 1, 1, 2, 1, 1, 1, 0, 1, 1, 1, 0, 1, 1, 0, 1, 1,\n",
    "        1, 1])\n",
    "index = 50\n",
    "cm = confusion_matrix(preds,labels)\n",
    "plt.figure(figsize=(8, 6))\n",
    "sns.heatmap(cm, annot=True, cmap='Blues', fmt='g')\n",
    "plt.xlabel('Predicted')\n",
    "plt.ylabel('Actual')\n",
    "plt.title('Confusion Matrix')\n",
    "plt.show()\n",
    "# plt.plot(confusion_matrix([[y.argmax().item() for y in w] for w in x.bestValPreds][index],x.bestValLabels[1].cpu()))\n",
    "print(classification_report(preds,labels))\n"
   ]
  },
  {
   "cell_type": "code",
   "execution_count": null,
   "metadata": {},
   "outputs": [],
   "source": [
    "# raise AssertionError(\"Stop here\")\n",
    "# alex net acc F1 = 0.62 loss = 0.923\n",
    "# resnet18 acc F1 = ? loss = 1\n",
    "# resnet50 acc F1 = 0.29 loss = 3\n",
    "# resnet50 Custom acc F1 = 0.62 loss = 0.957\n",
    "# resnet50 Custom acc oversampled F1 = 0.78 loss = 0.759\n",
    "# mobilenet \n",
    "# effnet\n",
    "# Vits \n",
    "\n",
    "# model = alexNetNonMod.load_from_checkpoint(\"/path/to/checkpoint.ckpt\")"
   ]
  },
  {
   "cell_type": "code",
   "execution_count": 220,
   "metadata": {},
   "outputs": [
    {
     "name": "stderr",
     "output_type": "stream",
     "text": [
      "Using cache found in C:\\Users\\assaw/.cache\\torch\\hub\\pytorch_vision_v0.19.0\n",
      "C:\\Users\\assaw\\AppData\\Roaming\\Python\\Python310\\site-packages\\torchvision\\models\\_utils.py:208: UserWarning: The parameter 'pretrained' is deprecated since 0.13 and may be removed in the future, please use 'weights' instead.\n",
      "  warnings.warn(\n",
      "C:\\Users\\assaw\\AppData\\Roaming\\Python\\Python310\\site-packages\\torchvision\\models\\_utils.py:223: UserWarning: Arguments other than a weight enum or `None` for 'weights' are deprecated since 0.13 and may be removed in the future. The current behavior is equivalent to passing `weights=ResNet50_Weights.IMAGENET1K_V1`. You can also use `weights=ResNet50_Weights.DEFAULT` to get the most up-to-date weights.\n",
      "  warnings.warn(msg)\n"
     ]
    }
   ],
   "source": [
    "# from resnetModel import ResNet50\n",
    "model = ExperimentModel(\"resnet50\",resize=True,pretrained=True,num_class=3)"
   ]
  },
  {
   "cell_type": "code",
   "execution_count": 221,
   "metadata": {},
   "outputs": [
    {
     "data": {
      "text/plain": [
       "ExperimentModel(\n",
       "  (model): ResNet(\n",
       "    (conv1): Conv2d(3, 64, kernel_size=(7, 7), stride=(2, 2), padding=(3, 3), bias=False)\n",
       "    (bn1): BatchNorm2d(64, eps=1e-05, momentum=0.1, affine=True, track_running_stats=True)\n",
       "    (relu): ReLU(inplace=True)\n",
       "    (maxpool): MaxPool2d(kernel_size=3, stride=2, padding=1, dilation=1, ceil_mode=False)\n",
       "    (layer1): Sequential(\n",
       "      (0): Bottleneck(\n",
       "        (conv1): Conv2d(64, 64, kernel_size=(1, 1), stride=(1, 1), bias=False)\n",
       "        (bn1): BatchNorm2d(64, eps=1e-05, momentum=0.1, affine=True, track_running_stats=True)\n",
       "        (conv2): Conv2d(64, 64, kernel_size=(3, 3), stride=(1, 1), padding=(1, 1), bias=False)\n",
       "        (bn2): BatchNorm2d(64, eps=1e-05, momentum=0.1, affine=True, track_running_stats=True)\n",
       "        (conv3): Conv2d(64, 256, kernel_size=(1, 1), stride=(1, 1), bias=False)\n",
       "        (bn3): BatchNorm2d(256, eps=1e-05, momentum=0.1, affine=True, track_running_stats=True)\n",
       "        (relu): ReLU(inplace=True)\n",
       "        (downsample): Sequential(\n",
       "          (0): Conv2d(64, 256, kernel_size=(1, 1), stride=(1, 1), bias=False)\n",
       "          (1): BatchNorm2d(256, eps=1e-05, momentum=0.1, affine=True, track_running_stats=True)\n",
       "        )\n",
       "      )\n",
       "      (1): Bottleneck(\n",
       "        (conv1): Conv2d(256, 64, kernel_size=(1, 1), stride=(1, 1), bias=False)\n",
       "        (bn1): BatchNorm2d(64, eps=1e-05, momentum=0.1, affine=True, track_running_stats=True)\n",
       "        (conv2): Conv2d(64, 64, kernel_size=(3, 3), stride=(1, 1), padding=(1, 1), bias=False)\n",
       "        (bn2): BatchNorm2d(64, eps=1e-05, momentum=0.1, affine=True, track_running_stats=True)\n",
       "        (conv3): Conv2d(64, 256, kernel_size=(1, 1), stride=(1, 1), bias=False)\n",
       "        (bn3): BatchNorm2d(256, eps=1e-05, momentum=0.1, affine=True, track_running_stats=True)\n",
       "        (relu): ReLU(inplace=True)\n",
       "      )\n",
       "      (2): Bottleneck(\n",
       "        (conv1): Conv2d(256, 64, kernel_size=(1, 1), stride=(1, 1), bias=False)\n",
       "        (bn1): BatchNorm2d(64, eps=1e-05, momentum=0.1, affine=True, track_running_stats=True)\n",
       "        (conv2): Conv2d(64, 64, kernel_size=(3, 3), stride=(1, 1), padding=(1, 1), bias=False)\n",
       "        (bn2): BatchNorm2d(64, eps=1e-05, momentum=0.1, affine=True, track_running_stats=True)\n",
       "        (conv3): Conv2d(64, 256, kernel_size=(1, 1), stride=(1, 1), bias=False)\n",
       "        (bn3): BatchNorm2d(256, eps=1e-05, momentum=0.1, affine=True, track_running_stats=True)\n",
       "        (relu): ReLU(inplace=True)\n",
       "      )\n",
       "    )\n",
       "    (layer2): Sequential(\n",
       "      (0): Bottleneck(\n",
       "        (conv1): Conv2d(256, 128, kernel_size=(1, 1), stride=(1, 1), bias=False)\n",
       "        (bn1): BatchNorm2d(128, eps=1e-05, momentum=0.1, affine=True, track_running_stats=True)\n",
       "        (conv2): Conv2d(128, 128, kernel_size=(3, 3), stride=(2, 2), padding=(1, 1), bias=False)\n",
       "        (bn2): BatchNorm2d(128, eps=1e-05, momentum=0.1, affine=True, track_running_stats=True)\n",
       "        (conv3): Conv2d(128, 512, kernel_size=(1, 1), stride=(1, 1), bias=False)\n",
       "        (bn3): BatchNorm2d(512, eps=1e-05, momentum=0.1, affine=True, track_running_stats=True)\n",
       "        (relu): ReLU(inplace=True)\n",
       "        (downsample): Sequential(\n",
       "          (0): Conv2d(256, 512, kernel_size=(1, 1), stride=(2, 2), bias=False)\n",
       "          (1): BatchNorm2d(512, eps=1e-05, momentum=0.1, affine=True, track_running_stats=True)\n",
       "        )\n",
       "      )\n",
       "      (1): Bottleneck(\n",
       "        (conv1): Conv2d(512, 128, kernel_size=(1, 1), stride=(1, 1), bias=False)\n",
       "        (bn1): BatchNorm2d(128, eps=1e-05, momentum=0.1, affine=True, track_running_stats=True)\n",
       "        (conv2): Conv2d(128, 128, kernel_size=(3, 3), stride=(1, 1), padding=(1, 1), bias=False)\n",
       "        (bn2): BatchNorm2d(128, eps=1e-05, momentum=0.1, affine=True, track_running_stats=True)\n",
       "        (conv3): Conv2d(128, 512, kernel_size=(1, 1), stride=(1, 1), bias=False)\n",
       "        (bn3): BatchNorm2d(512, eps=1e-05, momentum=0.1, affine=True, track_running_stats=True)\n",
       "        (relu): ReLU(inplace=True)\n",
       "      )\n",
       "      (2): Bottleneck(\n",
       "        (conv1): Conv2d(512, 128, kernel_size=(1, 1), stride=(1, 1), bias=False)\n",
       "        (bn1): BatchNorm2d(128, eps=1e-05, momentum=0.1, affine=True, track_running_stats=True)\n",
       "        (conv2): Conv2d(128, 128, kernel_size=(3, 3), stride=(1, 1), padding=(1, 1), bias=False)\n",
       "        (bn2): BatchNorm2d(128, eps=1e-05, momentum=0.1, affine=True, track_running_stats=True)\n",
       "        (conv3): Conv2d(128, 512, kernel_size=(1, 1), stride=(1, 1), bias=False)\n",
       "        (bn3): BatchNorm2d(512, eps=1e-05, momentum=0.1, affine=True, track_running_stats=True)\n",
       "        (relu): ReLU(inplace=True)\n",
       "      )\n",
       "      (3): Bottleneck(\n",
       "        (conv1): Conv2d(512, 128, kernel_size=(1, 1), stride=(1, 1), bias=False)\n",
       "        (bn1): BatchNorm2d(128, eps=1e-05, momentum=0.1, affine=True, track_running_stats=True)\n",
       "        (conv2): Conv2d(128, 128, kernel_size=(3, 3), stride=(1, 1), padding=(1, 1), bias=False)\n",
       "        (bn2): BatchNorm2d(128, eps=1e-05, momentum=0.1, affine=True, track_running_stats=True)\n",
       "        (conv3): Conv2d(128, 512, kernel_size=(1, 1), stride=(1, 1), bias=False)\n",
       "        (bn3): BatchNorm2d(512, eps=1e-05, momentum=0.1, affine=True, track_running_stats=True)\n",
       "        (relu): ReLU(inplace=True)\n",
       "      )\n",
       "    )\n",
       "    (layer3): Sequential(\n",
       "      (0): Bottleneck(\n",
       "        (conv1): Conv2d(512, 256, kernel_size=(1, 1), stride=(1, 1), bias=False)\n",
       "        (bn1): BatchNorm2d(256, eps=1e-05, momentum=0.1, affine=True, track_running_stats=True)\n",
       "        (conv2): Conv2d(256, 256, kernel_size=(3, 3), stride=(2, 2), padding=(1, 1), bias=False)\n",
       "        (bn2): BatchNorm2d(256, eps=1e-05, momentum=0.1, affine=True, track_running_stats=True)\n",
       "        (conv3): Conv2d(256, 1024, kernel_size=(1, 1), stride=(1, 1), bias=False)\n",
       "        (bn3): BatchNorm2d(1024, eps=1e-05, momentum=0.1, affine=True, track_running_stats=True)\n",
       "        (relu): ReLU(inplace=True)\n",
       "        (downsample): Sequential(\n",
       "          (0): Conv2d(512, 1024, kernel_size=(1, 1), stride=(2, 2), bias=False)\n",
       "          (1): BatchNorm2d(1024, eps=1e-05, momentum=0.1, affine=True, track_running_stats=True)\n",
       "        )\n",
       "      )\n",
       "      (1): Bottleneck(\n",
       "        (conv1): Conv2d(1024, 256, kernel_size=(1, 1), stride=(1, 1), bias=False)\n",
       "        (bn1): BatchNorm2d(256, eps=1e-05, momentum=0.1, affine=True, track_running_stats=True)\n",
       "        (conv2): Conv2d(256, 256, kernel_size=(3, 3), stride=(1, 1), padding=(1, 1), bias=False)\n",
       "        (bn2): BatchNorm2d(256, eps=1e-05, momentum=0.1, affine=True, track_running_stats=True)\n",
       "        (conv3): Conv2d(256, 1024, kernel_size=(1, 1), stride=(1, 1), bias=False)\n",
       "        (bn3): BatchNorm2d(1024, eps=1e-05, momentum=0.1, affine=True, track_running_stats=True)\n",
       "        (relu): ReLU(inplace=True)\n",
       "      )\n",
       "      (2): Bottleneck(\n",
       "        (conv1): Conv2d(1024, 256, kernel_size=(1, 1), stride=(1, 1), bias=False)\n",
       "        (bn1): BatchNorm2d(256, eps=1e-05, momentum=0.1, affine=True, track_running_stats=True)\n",
       "        (conv2): Conv2d(256, 256, kernel_size=(3, 3), stride=(1, 1), padding=(1, 1), bias=False)\n",
       "        (bn2): BatchNorm2d(256, eps=1e-05, momentum=0.1, affine=True, track_running_stats=True)\n",
       "        (conv3): Conv2d(256, 1024, kernel_size=(1, 1), stride=(1, 1), bias=False)\n",
       "        (bn3): BatchNorm2d(1024, eps=1e-05, momentum=0.1, affine=True, track_running_stats=True)\n",
       "        (relu): ReLU(inplace=True)\n",
       "      )\n",
       "      (3): Bottleneck(\n",
       "        (conv1): Conv2d(1024, 256, kernel_size=(1, 1), stride=(1, 1), bias=False)\n",
       "        (bn1): BatchNorm2d(256, eps=1e-05, momentum=0.1, affine=True, track_running_stats=True)\n",
       "        (conv2): Conv2d(256, 256, kernel_size=(3, 3), stride=(1, 1), padding=(1, 1), bias=False)\n",
       "        (bn2): BatchNorm2d(256, eps=1e-05, momentum=0.1, affine=True, track_running_stats=True)\n",
       "        (conv3): Conv2d(256, 1024, kernel_size=(1, 1), stride=(1, 1), bias=False)\n",
       "        (bn3): BatchNorm2d(1024, eps=1e-05, momentum=0.1, affine=True, track_running_stats=True)\n",
       "        (relu): ReLU(inplace=True)\n",
       "      )\n",
       "      (4): Bottleneck(\n",
       "        (conv1): Conv2d(1024, 256, kernel_size=(1, 1), stride=(1, 1), bias=False)\n",
       "        (bn1): BatchNorm2d(256, eps=1e-05, momentum=0.1, affine=True, track_running_stats=True)\n",
       "        (conv2): Conv2d(256, 256, kernel_size=(3, 3), stride=(1, 1), padding=(1, 1), bias=False)\n",
       "        (bn2): BatchNorm2d(256, eps=1e-05, momentum=0.1, affine=True, track_running_stats=True)\n",
       "        (conv3): Conv2d(256, 1024, kernel_size=(1, 1), stride=(1, 1), bias=False)\n",
       "        (bn3): BatchNorm2d(1024, eps=1e-05, momentum=0.1, affine=True, track_running_stats=True)\n",
       "        (relu): ReLU(inplace=True)\n",
       "      )\n",
       "      (5): Bottleneck(\n",
       "        (conv1): Conv2d(1024, 256, kernel_size=(1, 1), stride=(1, 1), bias=False)\n",
       "        (bn1): BatchNorm2d(256, eps=1e-05, momentum=0.1, affine=True, track_running_stats=True)\n",
       "        (conv2): Conv2d(256, 256, kernel_size=(3, 3), stride=(1, 1), padding=(1, 1), bias=False)\n",
       "        (bn2): BatchNorm2d(256, eps=1e-05, momentum=0.1, affine=True, track_running_stats=True)\n",
       "        (conv3): Conv2d(256, 1024, kernel_size=(1, 1), stride=(1, 1), bias=False)\n",
       "        (bn3): BatchNorm2d(1024, eps=1e-05, momentum=0.1, affine=True, track_running_stats=True)\n",
       "        (relu): ReLU(inplace=True)\n",
       "      )\n",
       "    )\n",
       "    (layer4): Sequential(\n",
       "      (0): Bottleneck(\n",
       "        (conv1): Conv2d(1024, 512, kernel_size=(1, 1), stride=(1, 1), bias=False)\n",
       "        (bn1): BatchNorm2d(512, eps=1e-05, momentum=0.1, affine=True, track_running_stats=True)\n",
       "        (conv2): Conv2d(512, 512, kernel_size=(3, 3), stride=(2, 2), padding=(1, 1), bias=False)\n",
       "        (bn2): BatchNorm2d(512, eps=1e-05, momentum=0.1, affine=True, track_running_stats=True)\n",
       "        (conv3): Conv2d(512, 2048, kernel_size=(1, 1), stride=(1, 1), bias=False)\n",
       "        (bn3): BatchNorm2d(2048, eps=1e-05, momentum=0.1, affine=True, track_running_stats=True)\n",
       "        (relu): ReLU(inplace=True)\n",
       "        (downsample): Sequential(\n",
       "          (0): Conv2d(1024, 2048, kernel_size=(1, 1), stride=(2, 2), bias=False)\n",
       "          (1): BatchNorm2d(2048, eps=1e-05, momentum=0.1, affine=True, track_running_stats=True)\n",
       "        )\n",
       "      )\n",
       "      (1): Bottleneck(\n",
       "        (conv1): Conv2d(2048, 512, kernel_size=(1, 1), stride=(1, 1), bias=False)\n",
       "        (bn1): BatchNorm2d(512, eps=1e-05, momentum=0.1, affine=True, track_running_stats=True)\n",
       "        (conv2): Conv2d(512, 512, kernel_size=(3, 3), stride=(1, 1), padding=(1, 1), bias=False)\n",
       "        (bn2): BatchNorm2d(512, eps=1e-05, momentum=0.1, affine=True, track_running_stats=True)\n",
       "        (conv3): Conv2d(512, 2048, kernel_size=(1, 1), stride=(1, 1), bias=False)\n",
       "        (bn3): BatchNorm2d(2048, eps=1e-05, momentum=0.1, affine=True, track_running_stats=True)\n",
       "        (relu): ReLU(inplace=True)\n",
       "      )\n",
       "      (2): Bottleneck(\n",
       "        (conv1): Conv2d(2048, 512, kernel_size=(1, 1), stride=(1, 1), bias=False)\n",
       "        (bn1): BatchNorm2d(512, eps=1e-05, momentum=0.1, affine=True, track_running_stats=True)\n",
       "        (conv2): Conv2d(512, 512, kernel_size=(3, 3), stride=(1, 1), padding=(1, 1), bias=False)\n",
       "        (bn2): BatchNorm2d(512, eps=1e-05, momentum=0.1, affine=True, track_running_stats=True)\n",
       "        (conv3): Conv2d(512, 2048, kernel_size=(1, 1), stride=(1, 1), bias=False)\n",
       "        (bn3): BatchNorm2d(2048, eps=1e-05, momentum=0.1, affine=True, track_running_stats=True)\n",
       "        (relu): ReLU(inplace=True)\n",
       "      )\n",
       "    )\n",
       "    (avgpool): AdaptiveAvgPool2d(output_size=(1, 1))\n",
       "    (fc): Linear(in_features=2048, out_features=1000, bias=True)\n",
       "  )\n",
       "  (customHead): Sequential(\n",
       "    (0): Linear(in_features=1000, out_features=256, bias=True)\n",
       "    (1): ReLU()\n",
       "    (2): Linear(in_features=256, out_features=3, bias=True)\n",
       "  )\n",
       "  (criterion): CrossEntropyLoss()\n",
       ")"
      ]
     },
     "execution_count": 221,
     "metadata": {},
     "output_type": "execute_result"
    }
   ],
   "source": [
    "model"
   ]
  },
  {
   "cell_type": "code",
   "execution_count": 192,
   "metadata": {},
   "outputs": [
    {
     "name": "stderr",
     "output_type": "stream",
     "text": [
      "Using cache found in C:\\Users\\assaw/.cache\\torch\\hub\\pytorch_vision_v0.19.0\n",
      "C:\\Users\\assaw\\AppData\\Roaming\\Python\\Python310\\site-packages\\torchvision\\models\\_utils.py:135: UserWarning: Using 'weights' as positional parameter(s) is deprecated since 0.13 and may be removed in the future. Please use keyword parameter(s) instead.\n",
      "  warnings.warn(\n",
      "C:\\Users\\assaw\\AppData\\Roaming\\Python\\Python310\\site-packages\\torchvision\\models\\_utils.py:223: UserWarning: Arguments other than a weight enum or `None` for 'weights' are deprecated since 0.13 and may be removed in the future. The current behavior is equivalent to passing `weights=VGG19_Weights.IMAGENET1K_V1`. You can also use `weights=VGG19_Weights.DEFAULT` to get the most up-to-date weights.\n",
      "  warnings.warn(msg)\n"
     ]
    }
   ],
   "source": [
    "model = torch.hub.load('pytorch/vision:v0.19.0', \"vgg19\",{\"num_classes\":3}, pretrained=True, )\n",
    "model.classifier[6] = torch.nn.Linear(4096,3)\n",
    "model"
   ]
  },
  {
   "cell_type": "code",
   "execution_count": 222,
   "metadata": {},
   "outputs": [
    {
     "name": "stdout",
     "output_type": "stream",
     "text": [
      "Starting training...\n",
      "Epoch 1 - Loss: 1.066170102671573\n",
      "Accuracy: 0.4276315789473684\n",
      "Validation Accuracy: 0.2375\n",
      "Epoch 2 - Loss: 0.8016804997858248\n",
      "Accuracy: 0.6447368421052632\n",
      "Validation Accuracy: 0.55\n",
      "Epoch 3 - Loss: 0.6675796767598704\n",
      "Accuracy: 0.7598684210526315\n",
      "Validation Accuracy: 0.65\n",
      "Epoch 4 - Loss: 0.6571114435791969\n",
      "Accuracy: 0.6973684210526315\n",
      "Validation Accuracy: 0.2125\n",
      "Epoch 5 - Loss: 0.6206596383922979\n",
      "Accuracy: 0.7236842105263158\n",
      "Validation Accuracy: 0.15\n",
      "Epoch 6 - Loss: 0.54367513150761\n",
      "Accuracy: 0.756578947368421\n",
      "Validation Accuracy: 0.35\n",
      "Epoch 7 - Loss: 0.4009143591515328\n",
      "Accuracy: 0.8486842105263158\n",
      "Validation Accuracy: 0.3875\n",
      "Epoch 8 - Loss: 0.3494174995606667\n",
      "Accuracy: 0.8717105263157895\n",
      "Validation Accuracy: 0.525\n",
      "Epoch 9 - Loss: 0.2371271579085212\n",
      "Accuracy: 0.9210526315789473\n",
      "Validation Accuracy: 0.675\n",
      "Epoch 10 - Loss: 0.27236147862123816\n",
      "Accuracy: 0.9046052631578947\n",
      "Validation Accuracy: 0.6\n",
      "Epoch 11 - Loss: 0.3953373232660325\n",
      "Accuracy: 0.8552631578947368\n",
      "Validation Accuracy: 0.6125\n",
      "Epoch 12 - Loss: 0.35000190379000023\n",
      "Accuracy: 0.9013157894736842\n",
      "Validation Accuracy: 0.65\n",
      "Epoch 13 - Loss: 0.271623607822939\n",
      "Accuracy: 0.9210526315789473\n",
      "Validation Accuracy: 0.6625\n",
      "Epoch 14 - Loss: 0.15495764581780685\n",
      "Accuracy: 0.9342105263157895\n",
      "Validation Accuracy: 0.625\n",
      "Epoch 15 - Loss: 0.18260724131802195\n",
      "Accuracy: 0.944078947368421\n",
      "Validation Accuracy: 0.525\n",
      "Epoch 16 - Loss: 0.265647918831459\n",
      "Accuracy: 0.8914473684210527\n",
      "Validation Accuracy: 0.625\n",
      "Epoch 17 - Loss: 0.20109935717559174\n",
      "Accuracy: 0.944078947368421\n",
      "Validation Accuracy: 0.5125\n",
      "Epoch 18 - Loss: 0.19562803855852076\n",
      "Accuracy: 0.9177631578947368\n",
      "Validation Accuracy: 0.625\n",
      "Epoch 19 - Loss: 0.10678092162369897\n",
      "Accuracy: 0.9671052631578947\n",
      "Validation Accuracy: 0.5875\n",
      "Epoch 20 - Loss: 0.09791937623307795\n",
      "Accuracy: 0.9703947368421053\n",
      "Validation Accuracy: 0.5875\n",
      "Epoch 21 - Loss: 0.17962853544955387\n",
      "Accuracy: 0.9375\n",
      "Validation Accuracy: 0.65\n",
      "Epoch 22 - Loss: 0.1950445178847172\n",
      "Accuracy: 0.9210526315789473\n",
      "Validation Accuracy: 0.6125\n",
      "Epoch 23 - Loss: 0.12432557601775777\n",
      "Accuracy: 0.9638157894736842\n",
      "Validation Accuracy: 0.575\n",
      "Epoch 24 - Loss: 0.13525702243082618\n",
      "Accuracy: 0.9375\n",
      "Validation Accuracy: 0.45\n",
      "Epoch 25 - Loss: 0.16500968691329226\n",
      "Accuracy: 0.9506578947368421\n",
      "Validation Accuracy: 0.5375\n",
      "Epoch 26 - Loss: 0.13124850723206213\n",
      "Accuracy: 0.9375\n",
      "Validation Accuracy: 0.6\n",
      "Epoch 27 - Loss: 0.11654394415152063\n",
      "Accuracy: 0.9572368421052632\n",
      "Validation Accuracy: 0.5375\n",
      "Epoch 28 - Loss: 0.14513397194126523\n",
      "Accuracy: 0.9407894736842105\n",
      "Validation Accuracy: 0.6375\n",
      "Epoch 29 - Loss: 0.14869402084916242\n",
      "Accuracy: 0.944078947368421\n",
      "Validation Accuracy: 0.6625\n",
      "Epoch 30 - Loss: 0.23682838289900437\n",
      "Accuracy: 0.8914473684210527\n",
      "Validation Accuracy: 0.5625\n",
      "Epoch 31 - Loss: 0.21883498666513906\n",
      "Accuracy: 0.9210526315789473\n",
      "Validation Accuracy: 0.5125\n",
      "Epoch 32 - Loss: 0.13444709988605036\n",
      "Accuracy: 0.930921052631579\n",
      "Validation Accuracy: 0.5125\n",
      "Epoch 33 - Loss: 0.14788329462202168\n",
      "Accuracy: 0.9407894736842105\n",
      "Validation Accuracy: 0.5625\n",
      "Epoch 34 - Loss: 0.13477441196109316\n",
      "Accuracy: 0.9671052631578947\n",
      "Validation Accuracy: 0.575\n",
      "Epoch 35 - Loss: 0.116813225071191\n",
      "Accuracy: 0.9671052631578947\n",
      "Validation Accuracy: 0.575\n",
      "Epoch 36 - Loss: 0.13509701450330844\n",
      "Accuracy: 0.944078947368421\n",
      "Validation Accuracy: 0.6375\n",
      "Epoch 37 - Loss: 0.12445423029681765\n",
      "Accuracy: 0.9605263157894737\n",
      "Validation Accuracy: 0.6\n",
      "Epoch 38 - Loss: 0.09936504295144818\n",
      "Accuracy: 0.944078947368421\n",
      "Validation Accuracy: 0.5375\n",
      "Epoch 39 - Loss: 0.08183806355871064\n",
      "Accuracy: 0.9506578947368421\n",
      "Validation Accuracy: 0.6125\n",
      "Epoch 40 - Loss: 0.057456672833435925\n",
      "Accuracy: 0.9835526315789473\n",
      "Validation Accuracy: 0.6375\n",
      "Epoch 41 - Loss: 0.18621807783768562\n",
      "Accuracy: 0.9243421052631579\n",
      "Validation Accuracy: 0.575\n",
      "Epoch 42 - Loss: 0.08806666155731746\n",
      "Accuracy: 0.9769736842105263\n",
      "Validation Accuracy: 0.525\n",
      "Epoch 43 - Loss: 0.0695756467014833\n",
      "Accuracy: 0.9835526315789473\n",
      "Validation Accuracy: 0.575\n",
      "Epoch 44 - Loss: 0.08579686177376732\n",
      "Accuracy: 0.9539473684210527\n",
      "Validation Accuracy: 0.55\n",
      "Epoch 45 - Loss: 0.08528061839598722\n",
      "Accuracy: 0.9506578947368421\n",
      "Validation Accuracy: 0.55\n",
      "Epoch 46 - Loss: 0.04821270947324688\n",
      "Accuracy: 0.9901315789473685\n",
      "Validation Accuracy: 0.55\n",
      "Epoch 47 - Loss: 0.12544483569026374\n",
      "Accuracy: 0.9605263157894737\n",
      "Validation Accuracy: 0.5\n",
      "Epoch 48 - Loss: 0.07211450815176297\n",
      "Accuracy: 0.9638157894736842\n",
      "Validation Accuracy: 0.6125\n",
      "Epoch 49 - Loss: 0.09119145722951016\n",
      "Accuracy: 0.9539473684210527\n",
      "Validation Accuracy: 0.6625\n",
      "Epoch 50 - Loss: 0.11556497606828711\n",
      "Accuracy: 0.9736842105263158\n",
      "Validation Accuracy: 0.625\n"
     ]
    }
   ],
   "source": [
    "import torch\n",
    "\n",
    "import torch.nn as nn\n",
    "import torch.optim as optim\n",
    "torch.cuda.empty_cache()\n",
    "# Define the loss function\n",
    "criterion = nn.CrossEntropyLoss()\n",
    "\n",
    "# Define the optimizer\n",
    "optimizer = optim.SGD(model.parameters(), lr=0.001, momentum=0.9)\n",
    "\n",
    "# Set the device to GPU if available\n",
    "device = torch.device(\"cuda\")\n",
    "\n",
    "# Move the model to the device\n",
    "model = model.to(device)\n",
    "\n",
    "# Set the model to training mode\n",
    "model.train()\n",
    "\n",
    "num_epochs = 50\n",
    "\n",
    "accHistory = []\n",
    "lossHistory = []\n",
    "valAccHistory = []\n",
    "valLabs = []\n",
    "valPreds = []\n",
    "print(\"Starting training...\")\n",
    "\n",
    "# Training loop\n",
    "for epoch in range(num_epochs):\n",
    "    model.train()\n",
    "    running_loss = 0.0\n",
    "    running_accuracy = []\n",
    "    \n",
    "    # Iterate over the training dataset\n",
    "    for inputs, labels, _ in trainLoader:\n",
    "        # Move the inputs and labels to the device\n",
    "        inputs = inputs.to(device)\n",
    "        labels = labels.to(device)\n",
    "        \n",
    "        # Zero the gradients\n",
    "        optimizer.zero_grad()\n",
    "        \n",
    "        # Forward pass\n",
    "        outputs = model(inputs.float())\n",
    "        predicted_labels = torch.argmax(outputs, dim=1)\n",
    "        accuracy = torch.sum(predicted_labels == labels).item() / labels.size(0)\n",
    "        running_accuracy.append(accuracy)\n",
    "        # Compute the loss\n",
    "        loss = criterion(outputs, labels)\n",
    "        \n",
    "        # Backward pass\n",
    "        loss.backward()\n",
    "        \n",
    "        # Update the weights\n",
    "        optimizer.step()\n",
    "        \n",
    "        # Update the running loss\n",
    "        running_loss += loss.item()\n",
    "    \n",
    "    # Print the average loss for the epoch\n",
    "    print(f\"Epoch {epoch+1} - Loss: {running_loss / len(trainLoader)}\")\n",
    "    print(F\"Accuracy: {sum(running_accuracy)/len(running_accuracy)}\")\n",
    "    accHistory.append(sum(running_accuracy)/len(running_accuracy))\n",
    "    lossHistory.append(running_loss / len(trainLoader))\n",
    "\n",
    "    # Set the model to evaluation mode\n",
    "    model.eval()\n",
    "\n",
    "    # Disable gradient calculation\n",
    "    with torch.no_grad():\n",
    "        \n",
    "        runningValAccHistory = []\n",
    "        runningValLabs = []\n",
    "        runningValPreds = []\n",
    "        for inputs, labels, _ in valLoader:\n",
    "\n",
    "            # Move the inputs and labels to the device\n",
    "            inputs = inputs.to(device)\n",
    "            labels = labels.to(device)\n",
    "\n",
    "            # Forward pass\n",
    "            outputs = model(inputs.float())\n",
    "\n",
    "            # Compute the loss\n",
    "            loss = criterion(outputs, labels)\n",
    "\n",
    "            # Compute the predicted labels\n",
    "            predicted_labels = torch.argmax(outputs, dim=1)\n",
    "\n",
    "            # Compute the accuracy\n",
    "            accuracy = torch.sum(predicted_labels == labels).item() / labels.size(0)\n",
    "\n",
    "            runningValAccHistory.append(accuracy)\n",
    "            runningValLabs.append(labels)\n",
    "            runningValPreds.append(predicted_labels)\n",
    "\n",
    "        # print(f\"Validation Loss: {loss.item()}\")\n",
    "        valPreds.append(runningValPreds)\n",
    "        valLabs.append(runningValLabs)\n",
    "        print(f\"Validation Accuracy: {sum(runningValAccHistory)/len(valLoader)}\")\n",
    "        valAccHistory.append(sum(runningValAccHistory)/len(valLoader))"
   ]
  },
  {
   "cell_type": "code",
   "execution_count": 226,
   "metadata": {},
   "outputs": [
    {
     "name": "stdout",
     "output_type": "stream",
     "text": [
      "              precision    recall  f1-score   support\n",
      "\n",
      "           0       0.33      0.50      0.40         8\n",
      "           1       0.88      0.69      0.77        62\n",
      "           2       0.00      0.00      0.00         4\n",
      "\n",
      "    accuracy                           0.64        74\n",
      "   macro avg       0.40      0.40      0.39        74\n",
      "weighted avg       0.77      0.64      0.69        74\n",
      "\n"
     ]
    },
    {
     "data": {
      "image/png": "[encoded data removed]",
      "text/plain": [
       "<Figure size 640x480 with 2 Axes>"
      ]
     },
     "metadata": {},
     "output_type": "display_data"
    }
   ],
   "source": [
    "valAccHistory[-5]\n",
    "predsTest = torch.cat(valPreds[48])\n",
    "labelsTest = torch.cat(valLabs[48])\n",
    "print(classification_report(predsTest.cpu(),labelsTest.cpu()))\n",
    "cm= confusion_matrix(predsTest.cpu(),labelsTest.cpu(),normalize='true')\n",
    "sns.heatmap(cm, annot=True, cmap='Blues', fmt='.2f',)\n",
    "plt.xlabel('Predicted')\n",
    "plt.ylabel('Actual')\n",
    "plt.title('Confusion Matrix')\n",
    "plt.show()\n"
   ]
  },
  {
   "cell_type": "code",
   "execution_count": 197,
   "metadata": {},
   "outputs": [
    {
     "data": {
      "text/plain": [
       "tensor([0, 1, 1, 1, 1, 1, 1, 1, 1, 1, 1, 1, 0, 2, 1, 0, 1, 2, 2, 1, 2, 1, 1, 1,\n",
       "        1, 1, 1, 1, 2, 1, 1, 2, 1, 1, 2, 0, 0, 2, 2, 0, 1, 1, 2, 2, 1, 1, 0, 2,\n",
       "        0, 1, 1, 1, 1, 1, 0, 1, 1, 1, 2, 1, 1, 1, 0, 1, 1, 1, 0, 1, 1, 0, 1, 1,\n",
       "        1, 1], device='cuda:0')"
      ]
     },
     "execution_count": 197,
     "metadata": {},
     "output_type": "execute_result"
    }
   ],
   "source": [
    "labelsTest"
   ]
  },
  {
   "cell_type": "code",
   "execution_count": null,
   "metadata": {},
   "outputs": [],
   "source": [
    "plt.plot(valAccHistory)"
   ]
  },
  {
   "cell_type": "code",
   "execution_count": null,
   "metadata": {},
   "outputs": [],
   "source": [
    "input , label, _ = next(iter(valLoader))\n",
    "# Move the inputs and labels to the device\n",
    "inputs = inputs.to(device)\n",
    "labels = labels.to(device)\n",
    "\n",
    "# Forward pass\n",
    "outputs = model(inputs)\n",
    "predicted_labels = torch.argmax(outputs, dim=1)\n",
    "print(predicted_labels)\n"
   ]
  },
  {
   "cell_type": "code",
   "execution_count": null,
   "metadata": {},
   "outputs": [],
   "source": [
    "import seaborn as sns\n",
    "import pandas as pd\n",
    "\n",
    "# Create a dataframe with the data\n",
    "df = pd.DataFrame({'Epoch': range(len(accHistory)), 'Accuracy': accHistory, 'Loss': lossHistory, 'Validation Accuracy': valAccHistory})\n",
    "\n",
    "# Create the line plot\n",
    "sns.relplot(data=df, x='Epoch', y='Accuracy', kind='line')\n",
    "sns.relplot(data=df, x='Epoch', y='Loss', kind='line')\n",
    "sns.relplot(data=df, x='Epoch', y='Validation Accuracy', kind='line')"
   ]
  },
  {
   "cell_type": "code",
   "execution_count": null,
   "metadata": {},
   "outputs": [],
   "source": [
    "torch.save(model.state_dict(), \"resnetClassic.pth\")\n"
   ]
  },
  {
   "cell_type": "code",
   "execution_count": null,
   "metadata": {},
   "outputs": [],
   "source": [
    "outputs = []\n",
    "label = []\n",
    "import gc\n",
    "gc.collect()\n",
    "torch.cuda.empty_cache()\n",
    "with torch.no_grad():\n",
    "    for inputs, labels, _ in valLoader:\n",
    "        # Move the inputs and labels to the device\n",
    "        inputs = inputs.to(device)\n",
    "        labels = labels.to(device)\n",
    "        label = labels\n",
    "        # Forward pass\n",
    "        outputs = model(inputs)\n",
    "\n",
    "        # Compute the loss\n",
    "        loss = criterion(outputs, labels)\n",
    "\n",
    "        # Compute the predicted labels\n",
    "        predicted_labels = torch.argmax(outputs, dim=1)\n",
    "\n",
    "        # Compute the accuracy\n",
    "        accuracy = torch.sum(predicted_labels == labels).item() / labels.size(0)"
   ]
  },
  {
   "cell_type": "code",
   "execution_count": null,
   "metadata": {},
   "outputs": [],
   "source": [
    "print(outputs.argmax(1))\n",
    "print(label)"
   ]
  }
 ],
 "metadata": {
  "kernelspec": {
   "display_name": "AI",
   "language": "python",
   "name": "python3"
  },
  "language_info": {
   "codemirror_mode": {
    "name": "ipython",
    "version": 3
   },
   "file_extension": ".py",
   "mimetype": "text/x-python",
   "name": "python",
   "nbconvert_exporter": "python",
   "pygments_lexer": "ipython3",
   "version": "3.10.14"
  }
 },
 "nbformat": 4,
 "nbformat_minor": 2
}
