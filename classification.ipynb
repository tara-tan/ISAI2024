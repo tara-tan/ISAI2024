{
 "cells": [
  {
   "cell_type": "code",
   "execution_count": 13,
   "metadata": {},
   "outputs": [],
   "source": [
    "import pandas as pd\n",
    "import numpy as np\n",
    "import os\n",
    "from sklearn.metrics import classification_report,confusion_matrix\n",
    "from sklearn.model_selection import train_test_split\n",
    "from transformers import AutoImageProcessor, ResNetForImageClassification,ResNetConfig\n",
    "import torch\n",
    "from abc import ABC,abstractmethod"
   ]
  },
  {
   "cell_type": "code",
   "execution_count": 14,
   "metadata": {},
   "outputs": [],
   "source": [
    "#TODO check if layers are actually being trained\n",
    "#TODO add more models\n",
    "#TODO compare metrics\n",
    "#TODO test out prediction loop\n",
    "#TODO learn how to use tensorboard"
   ]
  },
  {
   "cell_type": "markdown",
   "metadata": {},
   "source": [
    "###DATASET PREP###"
   ]
  },
  {
   "cell_type": "code",
   "execution_count": 15,
   "metadata": {},
   "outputs": [],
   "source": [
    "projectPath = r\"Osteoporosis Knee X-ray\"\n",
    "pathList = []\n",
    "labelList = []\n",
    "dirList = os.listdir(projectPath)[:3]\n",
    "for idx, x in enumerate(dirList):\n",
    "    for xx in os.listdir(f\"{projectPath}/{x}\"):\n",
    "        pathList.append(f\"{projectPath}/{x}/{xx}\")\n",
    "        labelList.append(idx)"
   ]
  },
  {
   "cell_type": "code",
   "execution_count": 16,
   "metadata": {},
   "outputs": [
    {
     "data": {
      "text/plain": [
       "{'(1024, 1024)': 63,\n",
       " '(2180, 2660)': 61,\n",
       " '(2660, 2180)': 10,\n",
       " '(2430, 1994)': 94,\n",
       " '(2386, 1994)': 1,\n",
       " '(1994, 2430)': 2,\n",
       " '(2430, 1910)': 2,\n",
       " '(2402, 1994)': 1,\n",
       " '(2378, 1994)': 2,\n",
       " '(2362, 1994)': 1,\n",
       " '(2430, 1958)': 1,\n",
       " '(2398, 1994)': 1}"
      ]
     },
     "execution_count": 16,
     "metadata": {},
     "output_type": "execute_result"
    }
   ],
   "source": [
    "from PIL import Image\n",
    "imageSizes = {}\n",
    "for x in pathList:\n",
    "    img = Image.open(x).size\n",
    "    try:\n",
    "        imageSizes[str(img)] = imageSizes[str(img)] + 1\n",
    "    except KeyError:\n",
    "        imageSizes[str(img)] = 1\n",
    "imageSizes #varied image sizes, have to resize to 1024,1024"
   ]
  },
  {
   "cell_type": "markdown",
   "metadata": {},
   "source": [
    "# old code starts here"
   ]
  },
  {
   "cell_type": "code",
   "execution_count": 17,
   "metadata": {},
   "outputs": [],
   "source": [
    "import torchvision\n",
    "import torch\n",
    "\n",
    "class OsteoTorchDataset(torch.utils.data.Dataset):\n",
    "    def __init__(self, itemsPath:list, labels:list, transform=None):\n",
    "        \n",
    "        self.itemsPath = itemsPath\n",
    "        self.labels = labels\n",
    "        self.transform = transform\n",
    "\n",
    "    def __len__(self):\n",
    "        return len(self.itemsPath)\n",
    "\n",
    "    def __getitem__(self,idx)->tuple[Image.Image,int]:\n",
    "        # if torch.is_tensor(idx):\n",
    "        #     idx = idx.tolist()\n",
    "        image = Image.open(self.itemsPath[idx]).convert('RGB')\n",
    "        if self.transform:\n",
    "            image = self.transform(image)\n",
    "        \n",
    "        return torchvision.transforms.functional.pil_to_tensor(image), self.labels[idx]\n",
    "        \n",
    "    \n",
    "\n",
    "transform = torchvision.transforms.Compose([torchvision.transforms.Resize([244,244])\n",
    "                                            # ,torchvision.transforms.Grayscale()\n",
    "                                            ])\n",
    "osteoDataset = OsteoTorchDataset(pathList,labelList,transform)\n",
    "                                            "
   ]
  },
  {
   "cell_type": "code",
   "execution_count": 18,
   "metadata": {},
   "outputs": [],
   "source": [
    "from torch.utils.data.dataloader import DataLoader\n",
    "\n",
    "train,val = torch.utils.data.random_split(osteoDataset,[0.7,0.3])#MAY BUG\n",
    "\n",
    "trainLoader = DataLoader(train, batch_size = 16,shuffle=False,num_workers=0)\n",
    "valLoader = DataLoader(val, batch_size = 16,shuffle=False,num_workers=0)"
   ]
  },
  {
   "cell_type": "markdown",
   "metadata": {},
   "source": [
    "# New code starts here instead"
   ]
  },
  {
   "cell_type": "code",
   "execution_count": 19,
   "metadata": {},
   "outputs": [],
   "source": [
    "# from dataWrapper import DataWrapper\n",
    "# BUG still dosent work, does not fix the Num_workers issue\n",
    "# loader = DataWrapper(pathList,labelList, batch_size = 16,shuffle=False,num_workers=15)"
   ]
  },
  {
   "cell_type": "code",
   "execution_count": 20,
   "metadata": {},
   "outputs": [
    {
     "ename": "ImportError",
     "evalue": "cannot import name 'AlexNet' from 'models' (c:\\Users\\assaw\\Documents\\c_stuff\\Python\\machine learning\\ISAIConference\\models.py)",
     "output_type": "error",
     "traceback": [
      "\u001b[1;31m---------------------------------------------------------------------------\u001b[0m",
      "\u001b[1;31mImportError\u001b[0m                               Traceback (most recent call last)",
      "Cell \u001b[1;32mIn[20], line 2\u001b[0m\n\u001b[0;32m      1\u001b[0m \u001b[38;5;66;03m# import models here\u001b[39;00m\n\u001b[1;32m----> 2\u001b[0m \u001b[38;5;28;01mfrom\u001b[39;00m \u001b[38;5;21;01mmodels\u001b[39;00m \u001b[38;5;28;01mimport\u001b[39;00m AlexNet\n",
      "\u001b[1;31mImportError\u001b[0m: cannot import name 'AlexNet' from 'models' (c:\\Users\\assaw\\Documents\\c_stuff\\Python\\machine learning\\ISAIConference\\models.py)"
     ]
    }
   ],
   "source": [
    "# import models here\n",
    "from models import AlexNet"
   ]
  },
  {
   "cell_type": "code",
   "execution_count": null,
   "metadata": {},
   "outputs": [],
   "source": [
    "import lightning as L\n",
    "from lightning.pytorch.callbacks import ModelCheckpoint\n",
    "from torch import mode\n",
    "import torch.nn.functional as F\n",
    "import itertools\n",
    "\n",
    "class ExperimentModel(L.LightningModule):\n",
    "    def __init__(self,pretrainedModel,pretrainedPreprocess,outputSize,resize = False) -> None:\n",
    "        super().__init__()\n",
    "        self.model = pretrainedModel\n",
    "        # if pretrainedPreprocess:\n",
    "        #     self.preprocess = pretrainedPreprocess  \n",
    "        # for param in self.model.parameters():\n",
    "        #     param.requires_grad = False\n",
    "        # self.resize = resize\n",
    "        # if self.resize:\n",
    "        #     self.linear1 = torch.nn.Linear(outputSize, 256)\n",
    "        #     self.linear2 = torch.nn.Linear(256, 16)\n",
    "        #     self.linear3 = torch.nn.Linear(16, 3) \n",
    "        self.valLog = []\n",
    "        self.epoch = []\n",
    "        self.cumLog = []\n",
    "        \n",
    "    def forward(self,input):\n",
    "        out = self.model(input)\n",
    "        # if self.resize:\n",
    "        #     out = self.linear1(out)\n",
    "        #     out = self.linear2(out)\n",
    "        #     out = self.linear3(out)\n",
    "        return out\n",
    "\n",
    "        \n",
    "    def training_step(self,batch):\n",
    "        data,label = batch\n",
    "        print(data.size())\n",
    "        output = self(data.float())\n",
    "        loss= F.cross_entropy(output,label)\n",
    "        # self.log(\"train_loss\", loss, on_step=True, on_epoch=True, prog_bar=True, logger=True)\n",
    "        return loss\n",
    "\n",
    "    def validation_step(self, batch, batch_idx):\n",
    "        data,label = batch\n",
    "        output = self(data.float())\n",
    "        loss= F.cross_entropy(output,label)\n",
    "        self.cumLog.append(loss)\n",
    "        # self.log(\"val_loss\", loss, on_step=True, on_epoch=True, prog_bar=True, logger=True)\n",
    "\n",
    "    # def predict(self)\n",
    "    def on_test_epoch_end(self) -> None:\n",
    "        # self.log(\"cust\",self.linear3.weight.sum(),logger=True)\n",
    "        return super().on_train_end()\n",
    "\n",
    "    def get_self_variables(self):\n",
    "        linear_variables = [x for x in dir(self) if 'linear' in x]\n",
    "        return [getattr(self, x, None).parameters() for x in linear_variables]\n",
    "        \n",
    "\n",
    "    def configure_optimizers(self):\n",
    "        return torch.optim.AdamW(self.parameters(),lr=0.001)\n",
    "        # return torch.optim.AdamW(itertools.chain(self.model.parameters(),*self.get_self_variables()), lr=0.001)\n",
    "        pass\n",
    "\n",
    "    def predict_step(self, batch):\n",
    "        data,label = batch\n",
    "        return self(data.float())\n",
    "\n",
    "# class ResNetCallbacks(L.Callback): #TODO implement callbacks\n",
    "#     def on_validation_epoch_end(trainer, pl_module):\n",
    "#         valLog.append(sum(self.cumLog)/len(self.cumlog))\n",
    "\n",
    "    \n",
    "# alexNet = ExperimentModel(AlexNet(num_classes=1000),None,1000,True)\n",
    "alexNetNonMod = ExperimentModel(AlexNet(num_classes=3),None,3)"
   ]
  },
  {
   "cell_type": "code",
   "execution_count": null,
   "metadata": {},
   "outputs": [
    {
     "name": "stderr",
     "output_type": "stream",
     "text": [
      "Using 16bit Automatic Mixed Precision (AMP)\n",
      "c:\\Users\\assaw\\.conda\\envs\\AI\\lib\\site-packages\\lightning\\pytorch\\plugins\\precision\\amp.py:52: `torch.cuda.amp.GradScaler(args...)` is deprecated. Please use `torch.amp.GradScaler('cuda', args...)` instead.\n",
      "GPU available: True (cuda), used: True\n",
      "TPU available: False, using: 0 TPU cores\n",
      "HPU available: False, using: 0 HPUs\n",
      "You are using a CUDA device ('NVIDIA GeForce RTX 3050 Laptop GPU') that has Tensor Cores. To properly utilize them, you should set `torch.set_float32_matmul_precision('medium' | 'high')` which will trade-off precision for performance. For more details, read https://pytorch.org/docs/stable/generated/torch.set_float32_matmul_precision.html#torch.set_float32_matmul_precision\n",
      "LOCAL_RANK: 0 - CUDA_VISIBLE_DEVICES: [0]\n",
      "\n",
      "  | Name  | Type    | Params | Mode \n",
      "------------------------------------------\n",
      "0 | model | AlexNet | 57.0 M | train\n",
      "------------------------------------------\n",
      "57.0 M    Trainable params\n",
      "0         Non-trainable params\n",
      "57.0 M    Total params\n",
      "228.065   Total estimated model params size (MB)\n"
     ]
    },
    {
     "name": "stdout",
     "output_type": "stream",
     "text": [
      "Sanity Checking: |          | 0/? [00:00<?, ?it/s]"
     ]
    },
    {
     "name": "stderr",
     "output_type": "stream",
     "text": [
      "c:\\Users\\assaw\\.conda\\envs\\AI\\lib\\site-packages\\lightning\\pytorch\\trainer\\connectors\\data_connector.py:424: The 'val_dataloader' does not have many workers which may be a bottleneck. Consider increasing the value of the `num_workers` argument` to `num_workers=15` in the `DataLoader` to improve performance.\n"
     ]
    },
    {
     "name": "stdout",
     "output_type": "stream",
     "text": [
      "                                                                           "
     ]
    },
    {
     "name": "stderr",
     "output_type": "stream",
     "text": [
      "c:\\Users\\assaw\\.conda\\envs\\AI\\lib\\site-packages\\lightning\\pytorch\\trainer\\connectors\\data_connector.py:424: The 'train_dataloader' does not have many workers which may be a bottleneck. Consider increasing the value of the `num_workers` argument` to `num_workers=15` in the `DataLoader` to improve performance.\n",
      "c:\\Users\\assaw\\.conda\\envs\\AI\\lib\\site-packages\\lightning\\pytorch\\loops\\fit_loop.py:298: The number of training batches (11) is smaller than the logging interval Trainer(log_every_n_steps=50). Set a lower value for log_every_n_steps if you want to see logs for the training epoch.\n"
     ]
    },
    {
     "name": "stdout",
     "output_type": "stream",
     "text": [
      "Epoch 0:   0%|          | 0/11 [00:00<?, ?it/s] torch.Size([16, 3, 244, 244])\n",
      "Epoch 0:   9%|▉         | 1/11 [00:00<00:09,  1.02it/s, v_num=22, train_loss_step=1.320]torch.Size([16, 3, 244, 244])\n",
      "Epoch 0:  18%|█▊        | 2/11 [00:01<00:06,  1.35it/s, v_num=22, train_loss_step=139.0]torch.Size([16, 3, 244, 244])\n",
      "Epoch 0:  27%|██▋       | 3/11 [00:02<00:05,  1.42it/s, v_num=22, train_loss_step=123.0]torch.Size([16, 3, 244, 244])\n",
      "Epoch 0:  36%|███▋      | 4/11 [00:02<00:04,  1.45it/s, v_num=22, train_loss_step=216.0]torch.Size([16, 3, 244, 244])\n",
      "Epoch 0:  45%|████▌     | 5/11 [00:03<00:03,  1.55it/s, v_num=22, train_loss_step=242.0]torch.Size([16, 3, 244, 244])\n",
      "Epoch 0:  55%|█████▍    | 6/11 [00:03<00:03,  1.61it/s, v_num=22, train_loss_step=215.0]torch.Size([16, 3, 244, 244])\n",
      "Epoch 0:  64%|██████▎   | 7/11 [00:04<00:02,  1.65it/s, v_num=22, train_loss_step=237.0]torch.Size([16, 3, 244, 244])\n",
      "Epoch 0:  73%|███████▎  | 8/11 [00:04<00:01,  1.63it/s, v_num=22, train_loss_step=104.0]torch.Size([16, 3, 244, 244])\n",
      "Epoch 0:  82%|████████▏ | 9/11 [00:05<00:01,  1.61it/s, v_num=22, train_loss_step=1.230]torch.Size([16, 3, 244, 244])\n",
      "Epoch 0:  91%|█████████ | 10/11 [00:06<00:00,  1.58it/s, v_num=22, train_loss_step=1.100]torch.Size([8, 3, 244, 244])\n",
      "Epoch 0: 100%|██████████| 11/11 [00:09<00:00,  1.13it/s, v_num=22, train_loss_step=1.040, val_loss_step=0.881, val_loss_epoch=1.030, train_loss_epoch=122.0]"
     ]
    },
    {
     "name": "stderr",
     "output_type": "stream",
     "text": [
      "Metric val_loss improved. New best score: 1.027\n"
     ]
    },
    {
     "name": "stdout",
     "output_type": "stream",
     "text": [
      "Epoch 1:   0%|          | 0/11 [00:00<?, ?it/s, v_num=22, train_loss_step=1.040, val_loss_step=0.881, val_loss_epoch=1.030, train_loss_epoch=122.0]         torch.Size([16, 3, 244, 244])\n",
      "Epoch 1:   9%|▉         | 1/11 [00:00<00:08,  1.23it/s, v_num=22, train_loss_step=0.960, val_loss_step=0.881, val_loss_epoch=1.030, train_loss_epoch=122.0]torch.Size([16, 3, 244, 244])\n",
      "Epoch 1:  18%|█▊        | 2/11 [00:01<00:05,  1.55it/s, v_num=22, train_loss_step=1.370, val_loss_step=0.881, val_loss_epoch=1.030, train_loss_epoch=122.0]torch.Size([16, 3, 244, 244])\n",
      "Epoch 1:  27%|██▋       | 3/11 [00:01<00:05,  1.56it/s, v_num=22, train_loss_step=0.847, val_loss_step=0.881, val_loss_epoch=1.030, train_loss_epoch=122.0]torch.Size([16, 3, 244, 244])\n",
      "Epoch 1:  36%|███▋      | 4/11 [00:02<00:04,  1.54it/s, v_num=22, train_loss_step=0.998, val_loss_step=0.881, val_loss_epoch=1.030, train_loss_epoch=122.0]torch.Size([16, 3, 244, 244])\n",
      "Epoch 1:  45%|████▌     | 5/11 [00:03<00:03,  1.62it/s, v_num=22, train_loss_step=0.919, val_loss_step=0.881, val_loss_epoch=1.030, train_loss_epoch=122.0]torch.Size([16, 3, 244, 244])\n",
      "Epoch 1:  55%|█████▍    | 6/11 [00:03<00:03,  1.63it/s, v_num=22, train_loss_step=1.050, val_loss_step=0.881, val_loss_epoch=1.030, train_loss_epoch=122.0]torch.Size([16, 3, 244, 244])\n",
      "Epoch 1:  64%|██████▎   | 7/11 [00:04<00:02,  1.64it/s, v_num=22, train_loss_step=1.050, val_loss_step=0.881, val_loss_epoch=1.030, train_loss_epoch=122.0]torch.Size([16, 3, 244, 244])\n",
      "Epoch 1:  73%|███████▎  | 8/11 [00:04<00:01,  1.62it/s, v_num=22, train_loss_step=1.000, val_loss_step=0.881, val_loss_epoch=1.030, train_loss_epoch=122.0]torch.Size([16, 3, 244, 244])\n",
      "Epoch 1:  82%|████████▏ | 9/11 [00:05<00:01,  1.60it/s, v_num=22, train_loss_step=1.010, val_loss_step=0.881, val_loss_epoch=1.030, train_loss_epoch=122.0]torch.Size([16, 3, 244, 244])\n",
      "Epoch 1:  91%|█████████ | 10/11 [00:06<00:00,  1.56it/s, v_num=22, train_loss_step=1.070, val_loss_step=0.881, val_loss_epoch=1.030, train_loss_epoch=122.0]torch.Size([8, 3, 244, 244])\n",
      "Epoch 1: 100%|██████████| 11/11 [00:09<00:00,  1.15it/s, v_num=22, train_loss_step=1.090, val_loss_step=0.805, val_loss_epoch=0.964, train_loss_epoch=1.030]"
     ]
    },
    {
     "name": "stderr",
     "output_type": "stream",
     "text": [
      "Metric val_loss improved by 0.063 >= min_delta = 0.0. New best score: 0.964\n"
     ]
    },
    {
     "name": "stdout",
     "output_type": "stream",
     "text": [
      "Epoch 2:   0%|          | 0/11 [00:00<?, ?it/s, v_num=22, train_loss_step=1.090, val_loss_step=0.805, val_loss_epoch=0.964, train_loss_epoch=1.030]         torch.Size([16, 3, 244, 244])\n",
      "Epoch 2:   9%|▉         | 1/11 [00:00<00:08,  1.19it/s, v_num=22, train_loss_step=0.930, val_loss_step=0.805, val_loss_epoch=0.964, train_loss_epoch=1.030]torch.Size([16, 3, 244, 244])\n",
      "Epoch 2:  18%|█▊        | 2/11 [00:01<00:06,  1.44it/s, v_num=22, train_loss_step=0.907, val_loss_step=0.805, val_loss_epoch=0.964, train_loss_epoch=1.030]torch.Size([16, 3, 244, 244])\n",
      "Epoch 2:  27%|██▋       | 3/11 [00:02<00:05,  1.48it/s, v_num=22, train_loss_step=0.775, val_loss_step=0.805, val_loss_epoch=0.964, train_loss_epoch=1.030]torch.Size([16, 3, 244, 244])\n",
      "Epoch 2:  36%|███▋      | 4/11 [00:02<00:04,  1.47it/s, v_num=22, train_loss_step=1.260, val_loss_step=0.805, val_loss_epoch=0.964, train_loss_epoch=1.030]torch.Size([16, 3, 244, 244])\n",
      "Epoch 2:  45%|████▌     | 5/11 [00:03<00:03,  1.54it/s, v_num=22, train_loss_step=0.933, val_loss_step=0.805, val_loss_epoch=0.964, train_loss_epoch=1.030]torch.Size([16, 3, 244, 244])\n",
      "Epoch 2:  55%|█████▍    | 6/11 [00:03<00:03,  1.57it/s, v_num=22, train_loss_step=0.927, val_loss_step=0.805, val_loss_epoch=0.964, train_loss_epoch=1.030]torch.Size([16, 3, 244, 244])\n",
      "Epoch 2:  64%|██████▎   | 7/11 [00:04<00:02,  1.58it/s, v_num=22, train_loss_step=0.998, val_loss_step=0.805, val_loss_epoch=0.964, train_loss_epoch=1.030]torch.Size([16, 3, 244, 244])\n",
      "Epoch 2:  73%|███████▎  | 8/11 [00:05<00:01,  1.56it/s, v_num=22, train_loss_step=0.975, val_loss_step=0.805, val_loss_epoch=0.964, train_loss_epoch=1.030]torch.Size([16, 3, 244, 244])\n",
      "Epoch 2:  82%|████████▏ | 9/11 [00:05<00:01,  1.55it/s, v_num=22, train_loss_step=1.060, val_loss_step=0.805, val_loss_epoch=0.964, train_loss_epoch=1.030]torch.Size([16, 3, 244, 244])\n",
      "Epoch 2:  91%|█████████ | 10/11 [00:06<00:00,  1.52it/s, v_num=22, train_loss_step=1.030, val_loss_step=0.805, val_loss_epoch=0.964, train_loss_epoch=1.030]torch.Size([8, 3, 244, 244])\n",
      "Epoch 2: 100%|██████████| 11/11 [00:09<00:00,  1.13it/s, v_num=22, train_loss_step=1.110, val_loss_step=0.905, val_loss_epoch=0.947, train_loss_epoch=0.985]"
     ]
    },
    {
     "name": "stderr",
     "output_type": "stream",
     "text": [
      "Metric val_loss improved by 0.017 >= min_delta = 0.0. New best score: 0.947\n"
     ]
    },
    {
     "name": "stdout",
     "output_type": "stream",
     "text": [
      "Epoch 3:   0%|          | 0/11 [00:00<?, ?it/s, v_num=22, train_loss_step=1.110, val_loss_step=0.905, val_loss_epoch=0.947, train_loss_epoch=0.985]         torch.Size([16, 3, 244, 244])\n",
      "Epoch 3:   9%|▉         | 1/11 [00:00<00:08,  1.20it/s, v_num=22, train_loss_step=1.020, val_loss_step=0.905, val_loss_epoch=0.947, train_loss_epoch=0.985]torch.Size([16, 3, 244, 244])\n",
      "Epoch 3:  18%|█▊        | 2/11 [00:01<00:06,  1.46it/s, v_num=22, train_loss_step=0.881, val_loss_step=0.905, val_loss_epoch=0.947, train_loss_epoch=0.985]torch.Size([16, 3, 244, 244])\n",
      "Epoch 3:  27%|██▋       | 3/11 [00:02<00:05,  1.47it/s, v_num=22, train_loss_step=0.803, val_loss_step=0.905, val_loss_epoch=0.947, train_loss_epoch=0.985]torch.Size([16, 3, 244, 244])\n",
      "Epoch 3:  36%|███▋      | 4/11 [00:02<00:04,  1.48it/s, v_num=22, train_loss_step=1.030, val_loss_step=0.905, val_loss_epoch=0.947, train_loss_epoch=0.985]torch.Size([16, 3, 244, 244])\n",
      "Epoch 3:  45%|████▌     | 5/11 [00:03<00:03,  1.55it/s, v_num=22, train_loss_step=1.200, val_loss_step=0.905, val_loss_epoch=0.947, train_loss_epoch=0.985]torch.Size([16, 3, 244, 244])\n",
      "Epoch 3:  55%|█████▍    | 6/11 [00:03<00:03,  1.60it/s, v_num=22, train_loss_step=0.864, val_loss_step=0.905, val_loss_epoch=0.947, train_loss_epoch=0.985]torch.Size([16, 3, 244, 244])\n",
      "Epoch 3:  64%|██████▎   | 7/11 [00:04<00:02,  1.61it/s, v_num=22, train_loss_step=1.000, val_loss_step=0.905, val_loss_epoch=0.947, train_loss_epoch=0.985]torch.Size([16, 3, 244, 244])\n",
      "Epoch 3:  73%|███████▎  | 8/11 [00:05<00:01,  1.59it/s, v_num=22, train_loss_step=0.869, val_loss_step=0.905, val_loss_epoch=0.947, train_loss_epoch=0.985]torch.Size([16, 3, 244, 244])\n",
      "Epoch 3:  82%|████████▏ | 9/11 [00:05<00:01,  1.58it/s, v_num=22, train_loss_step=1.010, val_loss_step=0.905, val_loss_epoch=0.947, train_loss_epoch=0.985]torch.Size([16, 3, 244, 244])\n",
      "Epoch 3:  91%|█████████ | 10/11 [00:06<00:00,  1.54it/s, v_num=22, train_loss_step=1.020, val_loss_step=0.905, val_loss_epoch=0.947, train_loss_epoch=0.985]torch.Size([8, 3, 244, 244])\n",
      "Epoch 3: 100%|██████████| 11/11 [00:09<00:00,  1.14it/s, v_num=22, train_loss_step=1.060, val_loss_step=0.829, val_loss_epoch=0.927, train_loss_epoch=0.974]"
     ]
    },
    {
     "name": "stderr",
     "output_type": "stream",
     "text": [
      "Metric val_loss improved by 0.020 >= min_delta = 0.0. New best score: 0.927\n"
     ]
    },
    {
     "name": "stdout",
     "output_type": "stream",
     "text": [
      "Epoch 4:   0%|          | 0/11 [00:00<?, ?it/s, v_num=22, train_loss_step=1.060, val_loss_step=0.829, val_loss_epoch=0.927, train_loss_epoch=0.974]         torch.Size([16, 3, 244, 244])\n",
      "Epoch 4:   9%|▉         | 1/11 [00:00<00:09,  1.11it/s, v_num=22, train_loss_step=0.965, val_loss_step=0.829, val_loss_epoch=0.927, train_loss_epoch=0.974]torch.Size([16, 3, 244, 244])\n",
      "Epoch 4:  18%|█▊        | 2/11 [00:01<00:06,  1.43it/s, v_num=22, train_loss_step=0.846, val_loss_step=0.829, val_loss_epoch=0.927, train_loss_epoch=0.974]torch.Size([16, 3, 244, 244])\n",
      "Epoch 4:  27%|██▋       | 3/11 [00:02<00:05,  1.46it/s, v_num=22, train_loss_step=0.828, val_loss_step=0.829, val_loss_epoch=0.927, train_loss_epoch=0.974]torch.Size([16, 3, 244, 244])\n",
      "Epoch 4:  36%|███▋      | 4/11 [00:02<00:04,  1.50it/s, v_num=22, train_loss_step=1.020, val_loss_step=0.829, val_loss_epoch=0.927, train_loss_epoch=0.974]torch.Size([16, 3, 244, 244])\n",
      "Epoch 4:  45%|████▌     | 5/11 [00:03<00:03,  1.57it/s, v_num=22, train_loss_step=1.010, val_loss_step=0.829, val_loss_epoch=0.927, train_loss_epoch=0.974]torch.Size([16, 3, 244, 244])\n",
      "Epoch 4:  55%|█████▍    | 6/11 [00:03<00:03,  1.62it/s, v_num=22, train_loss_step=1.010, val_loss_step=0.829, val_loss_epoch=0.927, train_loss_epoch=0.974]torch.Size([16, 3, 244, 244])\n",
      "Epoch 4:  64%|██████▎   | 7/11 [00:04<00:02,  1.63it/s, v_num=22, train_loss_step=0.933, val_loss_step=0.829, val_loss_epoch=0.927, train_loss_epoch=0.974]torch.Size([16, 3, 244, 244])\n",
      "Epoch 4:  73%|███████▎  | 8/11 [00:04<00:01,  1.60it/s, v_num=22, train_loss_step=0.819, val_loss_step=0.829, val_loss_epoch=0.927, train_loss_epoch=0.974]torch.Size([16, 3, 244, 244])\n",
      "Epoch 4:  82%|████████▏ | 9/11 [00:05<00:01,  1.59it/s, v_num=22, train_loss_step=0.995, val_loss_step=0.829, val_loss_epoch=0.927, train_loss_epoch=0.974]torch.Size([16, 3, 244, 244])\n",
      "Epoch 4:  91%|█████████ | 10/11 [00:06<00:00,  1.56it/s, v_num=22, train_loss_step=1.010, val_loss_step=0.829, val_loss_epoch=0.927, train_loss_epoch=0.974]torch.Size([8, 3, 244, 244])\n",
      "Epoch 4: 100%|██████████| 11/11 [00:09<00:00,  1.16it/s, v_num=22, train_loss_step=1.070, val_loss_step=0.822, val_loss_epoch=0.924, train_loss_epoch=0.950]"
     ]
    },
    {
     "name": "stderr",
     "output_type": "stream",
     "text": [
      "Metric val_loss improved by 0.003 >= min_delta = 0.0. New best score: 0.924\n"
     ]
    },
    {
     "name": "stdout",
     "output_type": "stream",
     "text": [
      "Epoch 5:   0%|          | 0/11 [00:00<?, ?it/s, v_num=22, train_loss_step=1.070, val_loss_step=0.822, val_loss_epoch=0.924, train_loss_epoch=0.950]         torch.Size([16, 3, 244, 244])\n",
      "Epoch 5:   9%|▉         | 1/11 [00:00<00:07,  1.26it/s, v_num=22, train_loss_step=0.941, val_loss_step=0.822, val_loss_epoch=0.924, train_loss_epoch=0.950]torch.Size([16, 3, 244, 244])\n",
      "Epoch 5:  18%|█▊        | 2/11 [00:01<00:05,  1.56it/s, v_num=22, train_loss_step=0.873, val_loss_step=0.822, val_loss_epoch=0.924, train_loss_epoch=0.950]torch.Size([16, 3, 244, 244])\n",
      "Epoch 5:  27%|██▋       | 3/11 [00:01<00:05,  1.50it/s, v_num=22, train_loss_step=0.867, val_loss_step=0.822, val_loss_epoch=0.924, train_loss_epoch=0.950]torch.Size([16, 3, 244, 244])\n",
      "Epoch 5:  36%|███▋      | 4/11 [00:02<00:04,  1.47it/s, v_num=22, train_loss_step=0.982, val_loss_step=0.822, val_loss_epoch=0.924, train_loss_epoch=0.950]torch.Size([16, 3, 244, 244])\n",
      "Epoch 5:  45%|████▌     | 5/11 [00:03<00:03,  1.54it/s, v_num=22, train_loss_step=0.928, val_loss_step=0.822, val_loss_epoch=0.924, train_loss_epoch=0.950]torch.Size([16, 3, 244, 244])\n",
      "Epoch 5:  55%|█████▍    | 6/11 [00:03<00:03,  1.59it/s, v_num=22, train_loss_step=0.898, val_loss_step=0.822, val_loss_epoch=0.924, train_loss_epoch=0.950]torch.Size([16, 3, 244, 244])\n",
      "Epoch 5:  64%|██████▎   | 7/11 [00:04<00:02,  1.59it/s, v_num=22, train_loss_step=0.956, val_loss_step=0.822, val_loss_epoch=0.924, train_loss_epoch=0.950]torch.Size([16, 3, 244, 244])\n",
      "Epoch 5:  73%|███████▎  | 8/11 [00:05<00:01,  1.56it/s, v_num=22, train_loss_step=0.705, val_loss_step=0.822, val_loss_epoch=0.924, train_loss_epoch=0.950]torch.Size([16, 3, 244, 244])\n",
      "Epoch 5:  82%|████████▏ | 9/11 [00:05<00:01,  1.54it/s, v_num=22, train_loss_step=1.090, val_loss_step=0.822, val_loss_epoch=0.924, train_loss_epoch=0.950]torch.Size([16, 3, 244, 244])\n",
      "Epoch 5:  91%|█████████ | 10/11 [00:06<00:00,  1.51it/s, v_num=22, train_loss_step=1.040, val_loss_step=0.822, val_loss_epoch=0.924, train_loss_epoch=0.950]torch.Size([8, 3, 244, 244])\n",
      "Epoch 5: 100%|██████████| 11/11 [00:09<00:00,  1.13it/s, v_num=22, train_loss_step=1.050, val_loss_step=0.702, val_loss_epoch=0.865, train_loss_epoch=0.934]"
     ]
    },
    {
     "name": "stderr",
     "output_type": "stream",
     "text": [
      "Metric val_loss improved by 0.059 >= min_delta = 0.0. New best score: 0.865\n"
     ]
    },
    {
     "name": "stdout",
     "output_type": "stream",
     "text": [
      "Epoch 6:   0%|          | 0/11 [00:00<?, ?it/s, v_num=22, train_loss_step=1.050, val_loss_step=0.702, val_loss_epoch=0.865, train_loss_epoch=0.934]         torch.Size([16, 3, 244, 244])\n",
      "Epoch 6:   9%|▉         | 1/11 [00:00<00:09,  1.04it/s, v_num=22, train_loss_step=0.903, val_loss_step=0.702, val_loss_epoch=0.865, train_loss_epoch=0.934]torch.Size([16, 3, 244, 244])\n",
      "Epoch 6:  18%|█▊        | 2/11 [00:01<00:06,  1.31it/s, v_num=22, train_loss_step=0.856, val_loss_step=0.702, val_loss_epoch=0.865, train_loss_epoch=0.934]torch.Size([16, 3, 244, 244])\n",
      "Epoch 6:  27%|██▋       | 3/11 [00:02<00:05,  1.36it/s, v_num=22, train_loss_step=0.806, val_loss_step=0.702, val_loss_epoch=0.865, train_loss_epoch=0.934]torch.Size([16, 3, 244, 244])\n",
      "Epoch 6:  36%|███▋      | 4/11 [00:02<00:05,  1.39it/s, v_num=22, train_loss_step=1.010, val_loss_step=0.702, val_loss_epoch=0.865, train_loss_epoch=0.934]torch.Size([16, 3, 244, 244])\n",
      "Epoch 6:  45%|████▌     | 5/11 [00:03<00:04,  1.48it/s, v_num=22, train_loss_step=1.170, val_loss_step=0.702, val_loss_epoch=0.865, train_loss_epoch=0.934]torch.Size([16, 3, 244, 244])\n",
      "Epoch 6:  55%|█████▍    | 6/11 [00:03<00:03,  1.53it/s, v_num=22, train_loss_step=0.894, val_loss_step=0.702, val_loss_epoch=0.865, train_loss_epoch=0.934]torch.Size([16, 3, 244, 244])\n",
      "Epoch 6:  64%|██████▎   | 7/11 [00:04<00:02,  1.56it/s, v_num=22, train_loss_step=0.970, val_loss_step=0.702, val_loss_epoch=0.865, train_loss_epoch=0.934]torch.Size([16, 3, 244, 244])\n",
      "Epoch 6:  73%|███████▎  | 8/11 [00:05<00:01,  1.56it/s, v_num=22, train_loss_step=0.698, val_loss_step=0.702, val_loss_epoch=0.865, train_loss_epoch=0.934]torch.Size([16, 3, 244, 244])\n",
      "Epoch 6:  82%|████████▏ | 9/11 [00:05<00:01,  1.55it/s, v_num=22, train_loss_step=0.955, val_loss_step=0.702, val_loss_epoch=0.865, train_loss_epoch=0.934]torch.Size([16, 3, 244, 244])\n",
      "Epoch 6:  91%|█████████ | 10/11 [00:06<00:00,  1.52it/s, v_num=22, train_loss_step=1.380, val_loss_step=0.702, val_loss_epoch=0.865, train_loss_epoch=0.934]torch.Size([8, 3, 244, 244])\n",
      "Epoch 7:   0%|          | 0/11 [00:00<?, ?it/s, v_num=22, train_loss_step=0.985, val_loss_step=0.788, val_loss_epoch=0.897, train_loss_epoch=0.964]         torch.Size([16, 3, 244, 244])\n",
      "Epoch 7:   9%|▉         | 1/11 [00:00<00:08,  1.15it/s, v_num=22, train_loss_step=0.933, val_loss_step=0.788, val_loss_epoch=0.897, train_loss_epoch=0.964]torch.Size([16, 3, 244, 244])\n",
      "Epoch 7:  18%|█▊        | 2/11 [00:01<00:06,  1.38it/s, v_num=22, train_loss_step=0.843, val_loss_step=0.788, val_loss_epoch=0.897, train_loss_epoch=0.964]torch.Size([16, 3, 244, 244])\n",
      "Epoch 7:  27%|██▋       | 3/11 [00:02<00:05,  1.34it/s, v_num=22, train_loss_step=0.817, val_loss_step=0.788, val_loss_epoch=0.897, train_loss_epoch=0.964]torch.Size([16, 3, 244, 244])\n",
      "Epoch 7:  36%|███▋      | 4/11 [00:02<00:05,  1.35it/s, v_num=22, train_loss_step=1.000, val_loss_step=0.788, val_loss_epoch=0.897, train_loss_epoch=0.964]torch.Size([16, 3, 244, 244])\n",
      "Epoch 7:  45%|████▌     | 5/11 [00:03<00:04,  1.44it/s, v_num=22, train_loss_step=1.040, val_loss_step=0.788, val_loss_epoch=0.897, train_loss_epoch=0.964]torch.Size([16, 3, 244, 244])\n",
      "Epoch 7:  55%|█████▍    | 6/11 [00:04<00:03,  1.50it/s, v_num=22, train_loss_step=0.914, val_loss_step=0.788, val_loss_epoch=0.897, train_loss_epoch=0.964]torch.Size([16, 3, 244, 244])\n",
      "Epoch 7:  64%|██████▎   | 7/11 [00:04<00:02,  1.52it/s, v_num=22, train_loss_step=0.914, val_loss_step=0.788, val_loss_epoch=0.897, train_loss_epoch=0.964]torch.Size([16, 3, 244, 244])\n",
      "Epoch 7:  73%|███████▎  | 8/11 [00:05<00:01,  1.51it/s, v_num=22, train_loss_step=0.867, val_loss_step=0.788, val_loss_epoch=0.897, train_loss_epoch=0.964]torch.Size([16, 3, 244, 244])\n",
      "Epoch 7:  82%|████████▏ | 9/11 [00:05<00:01,  1.51it/s, v_num=22, train_loss_step=1.130, val_loss_step=0.788, val_loss_epoch=0.897, train_loss_epoch=0.964]torch.Size([16, 3, 244, 244])\n",
      "Epoch 7:  91%|█████████ | 10/11 [00:06<00:00,  1.49it/s, v_num=22, train_loss_step=0.997, val_loss_step=0.788, val_loss_epoch=0.897, train_loss_epoch=0.964]torch.Size([8, 3, 244, 244])\n",
      "Epoch 8:   0%|          | 0/11 [00:00<?, ?it/s, v_num=22, train_loss_step=0.979, val_loss_step=0.828, val_loss_epoch=0.908, train_loss_epoch=0.947]         torch.Size([16, 3, 244, 244])\n",
      "Epoch 8:   9%|▉         | 1/11 [00:00<00:07,  1.27it/s, v_num=22, train_loss_step=0.932, val_loss_step=0.828, val_loss_epoch=0.908, train_loss_epoch=0.947]torch.Size([16, 3, 244, 244])\n",
      "Epoch 8:  18%|█▊        | 2/11 [00:01<00:05,  1.57it/s, v_num=22, train_loss_step=0.823, val_loss_step=0.828, val_loss_epoch=0.908, train_loss_epoch=0.947]torch.Size([16, 3, 244, 244])\n",
      "Epoch 8:  27%|██▋       | 3/11 [00:01<00:05,  1.57it/s, v_num=22, train_loss_step=0.822, val_loss_step=0.828, val_loss_epoch=0.908, train_loss_epoch=0.947]torch.Size([16, 3, 244, 244])\n",
      "Epoch 8:  36%|███▋      | 4/11 [00:02<00:04,  1.57it/s, v_num=22, train_loss_step=1.140, val_loss_step=0.828, val_loss_epoch=0.908, train_loss_epoch=0.947]torch.Size([16, 3, 244, 244])\n",
      "Epoch 8:  45%|████▌     | 5/11 [00:03<00:03,  1.65it/s, v_num=22, train_loss_step=0.932, val_loss_step=0.828, val_loss_epoch=0.908, train_loss_epoch=0.947]torch.Size([16, 3, 244, 244])\n",
      "Epoch 8:  55%|█████▍    | 6/11 [00:03<00:02,  1.69it/s, v_num=22, train_loss_step=0.878, val_loss_step=0.828, val_loss_epoch=0.908, train_loss_epoch=0.947]torch.Size([16, 3, 244, 244])\n",
      "Epoch 8:  64%|██████▎   | 7/11 [00:04<00:02,  1.70it/s, v_num=22, train_loss_step=0.984, val_loss_step=0.828, val_loss_epoch=0.908, train_loss_epoch=0.947]torch.Size([16, 3, 244, 244])\n",
      "Epoch 8:  73%|███████▎  | 8/11 [00:04<00:01,  1.66it/s, v_num=22, train_loss_step=0.732, val_loss_step=0.828, val_loss_epoch=0.908, train_loss_epoch=0.947]torch.Size([16, 3, 244, 244])\n",
      "Epoch 8:  82%|████████▏ | 9/11 [00:05<00:01,  1.63it/s, v_num=22, train_loss_step=0.996, val_loss_step=0.828, val_loss_epoch=0.908, train_loss_epoch=0.947]torch.Size([16, 3, 244, 244])\n",
      "Epoch 8:  91%|█████████ | 10/11 [00:06<00:00,  1.57it/s, v_num=22, train_loss_step=1.090, val_loss_step=0.828, val_loss_epoch=0.908, train_loss_epoch=0.947]torch.Size([8, 3, 244, 244])\n",
      "Epoch 8: 100%|██████████| 11/11 [00:09<00:00,  1.16it/s, v_num=22, train_loss_step=1.110, val_loss_step=0.786, val_loss_epoch=0.922, train_loss_epoch=0.941]"
     ]
    },
    {
     "name": "stderr",
     "output_type": "stream",
     "text": [
      "Monitored metric val_loss did not improve in the last 3 records. Best score: 0.865. Signaling Trainer to stop.\n"
     ]
    },
    {
     "name": "stdout",
     "output_type": "stream",
     "text": [
      "Epoch 8: 100%|██████████| 11/11 [00:11<00:00,  0.92it/s, v_num=22, train_loss_step=1.110, val_loss_step=0.786, val_loss_epoch=0.922, train_loss_epoch=0.941]\n"
     ]
    }
   ],
   "source": [
    "import gc\n",
    "gc.collect()\n",
    "torch.cuda.empty_cache()\n",
    "\n",
    "from lightning.pytorch.callbacks import ModelCheckpoint, EarlyStopping\n",
    "from lightning.pytorch.loggers import TensorBoardLogger\n",
    "early_stopping = EarlyStopping(\n",
    "    monitor='val_loss',  # Metric to monitor\n",
    "    patience=3,          # Number of epochs with no improvement after which training will be stopped\n",
    "    verbose=True,        # Verbosity mode\n",
    "    mode='min'           # Mode can be 'min', 'max', or 'auto'\n",
    ")\n",
    "\n",
    "logger = TensorBoardLogger(\"tb_logs\", name=\"my_model\")\n",
    "\n",
    "trainer = L.Trainer(max_epochs = 20,accelerator='gpu', devices='auto', precision='16-mixed',callbacks=[early_stopping],logger=logger)\n",
    "# trainer.fit(model=alexNet,train_dataloaders=loader.trainLoader,val_dataloaders=loader.valLoader)\n",
    "trainer.fit(model=alexNetNonMod,train_dataloaders=trainLoader,val_dataloaders=valLoader)"
   ]
  },
  {
   "cell_type": "code",
   "execution_count": null,
   "metadata": {},
   "outputs": [],
   "source": [
    "raise AssertionError(\"Stop here\")\n",
    "early_stopping = EarlyStopping(\n",
    "    monitor='val_loss',  # Metric to monitor\n",
    "    patience=3,          # Number of epochs with no improvement after which training will be stopped\n",
    "    verbose=True,        # Verbosity mode\n",
    "    mode='min'           # Mode can be 'min', 'max', or 'auto'\n",
    ")\n",
    "\n",
    "logger = TensorBoardLogger(\"tb_logs\", name=\"my_model\")\n",
    "trainer = L.Trainer(max_epochs = 20,accelerator='gpu', devices='auto', precision='16-mixed',callbacks=[early_stopping],logger=logger)\n",
    "trainer.fit(model=alexNetNonMod,train_dataloaders=trainLoader,val_dataloaders=valLoader)"
   ]
  },
  {
   "cell_type": "code",
   "execution_count": null,
   "metadata": {},
   "outputs": [],
   "source": [
    "%reload_ext tensorboard\n",
    "%tensorboard --logdir=lightning_logs//"
   ]
  },
  {
   "cell_type": "code",
   "execution_count": null,
   "metadata": {},
   "outputs": [],
   "source": [
    "data = []\n",
    "label = []\n",
    "valOutput = []\n",
    "valLabel = []\n",
    "\n",
    "from itertools import tee\n",
    "testTrainer =  L.Trainer(accelerator='gpu', devices='auto')\n",
    "out = testTrainer.predict(alexNet, valLoader)\n",
    "\n",
    "loader1, loader2 = tee(valLoader)#BUG BUG BUG INCREDIBLY MEMORY INEFFICIENT DONOT RUN THIS ON ANYTHIGN BIGGER THAN 1000 IMAGES\n",
    "\n",
    "for idx,x in enumerate(valLoader):\n",
    "    data,label = x\n",
    "    [valLabel.append(x) for x in label]\n",
    "\n",
    "valOutput = trainer.predict(alexNet, loader2)"
   ]
  },
  {
   "cell_type": "code",
   "execution_count": null,
   "metadata": {},
   "outputs": [],
   "source": [
    "label"
   ]
  }
 ],
 "metadata": {
  "kernelspec": {
   "display_name": "AI",
   "language": "python",
   "name": "python3"
  },
  "language_info": {
   "codemirror_mode": {
    "name": "ipython",
    "version": 3
   },
   "file_extension": ".py",
   "mimetype": "text/x-python",
   "name": "python",
   "nbconvert_exporter": "python",
   "pygments_lexer": "ipython3",
   "version": "3.10.14"
  }
 },
 "nbformat": 4,
 "nbformat_minor": 2
}
