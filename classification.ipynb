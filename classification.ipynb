{
 "cells": [
  {
   "cell_type": "code",
   "execution_count": 1,
   "metadata": {},
   "outputs": [],
   "source": [
    "import pandas as pd\n",
    "import numpy as np\n",
    "import matplotlib.pyplot as plt\n",
    "import os\n",
    "from sklearn.metrics import classification_report,confusion_matrix\n",
    "from sklearn.model_selection import train_test_split\n",
    "# from transformers import AutoImageProcessor, ResNetForImageClassification,ResNetConfig\n",
    "import torch\n",
    "from abc import ABC,abstractmethod"
   ]
  },
  {
   "cell_type": "markdown",
   "metadata": {},
   "source": [
    "###DATASET PREP###"
   ]
  },
  {
   "cell_type": "code",
   "execution_count": 4,
   "metadata": {},
   "outputs": [],
   "source": [
    "projectPath = r\"C:\\Users\\assaw\\Documents\\c_stuff\\Python\\machine learning\\ISAIConference\\testIm\"\n",
    "pathList = []\n",
    "labelList = []\n",
    "dirList = os.listdir(projectPath)[:3]\n",
    "for idx, x in enumerate(dirList):\n",
    "    for xx in os.listdir(f\"{projectPath}/{x}\"):\n",
    "        pathList.append(f\"{projectPath}/{x}/{xx}\")\n",
    "        labelList.append(idx)\n",
    "        \n",
    "# dir structure: projectPath/label/image"
   ]
  },
  {
   "cell_type": "code",
   "execution_count": 6,
   "metadata": {},
   "outputs": [
    {
     "name": "stdout",
     "output_type": "stream",
     "text": [
      "0\n",
      "normal: 57\n",
      "1\n",
      "osteopenia: 240\n",
      "2\n",
      "osteoporosis: 73\n"
     ]
    }
   ],
   "source": [
    "for idx,x in enumerate(dirList):\n",
    "    print(idx)\n",
    "    print(f\"{x}: {len(os.listdir(f'{projectPath}/{x}'))}\")"
   ]
  },
  {
   "cell_type": "code",
   "execution_count": 7,
   "metadata": {},
   "outputs": [
    {
     "data": {
      "text/plain": [
       "{'(244, 244)': 370}"
      ]
     },
     "execution_count": 7,
     "metadata": {},
     "output_type": "execute_result"
    }
   ],
   "source": [
    "from PIL import Image\n",
    "imageSizes = {}\n",
    "for x in pathList:\n",
    "    img = Image.open(x).size\n",
    "    try:\n",
    "        imageSizes[str(img)] = imageSizes[str(img)] + 1\n",
    "    except KeyError:\n",
    "        imageSizes[str(img)] = 1\n",
    "imageSizes #varied image sizes, have to resize to 1024,1024"
   ]
  },
  {
   "cell_type": "code",
   "execution_count": 8,
   "metadata": {},
   "outputs": [],
   "source": [
    "import torchvision\n",
    "import torch\n",
    "import torchvision.transforms.functional as vF\n",
    "\n",
    "class OsteoTorchDataset(torch.utils.data.Dataset):\n",
    "    def __init__(self, itemsPath:list, labels:list, transform=None, std = False, mean = False): #mean on if mean needs to be scaled, same goes for std\n",
    "        \n",
    "        self.itemsPath = itemsPath\n",
    "        self.labels = labels\n",
    "        self.transform = transform\n",
    "        self.std = std\n",
    "        self.mean = mean\n",
    "\n",
    "    def __len__(self):\n",
    "        return len(self.itemsPath)\n",
    "\n",
    "    def __getitem__(self,idx)->tuple[Image.Image,int]:\n",
    "        image = Image.open(self.itemsPath[idx]).convert('RGB')\n",
    "\n",
    "        if self.transform:\n",
    "            image = self.transform(image)  \n",
    "        \n",
    "        image.to(device = torch.device('cuda'))\n",
    "\n",
    "        return image, self.labels[idx], self.itemsPath[idx]          \n",
    "    \n",
    "transform = torchvision.transforms.Compose([\n",
    "                                            torchvision.transforms.ToTensor(),\n",
    "                                            # torchvision.transforms.Resize((256,256)),\n",
    "                                            # torchvision.transforms.CenterCrop((224,224)),\n",
    "                                            torchvision.transforms.Normalize((0.5,0.5,0.5), (0.5,0.5,0.5)),\n",
    "                                            ])                           "
   ]
  },
  {
   "cell_type": "code",
   "execution_count": 9,
   "metadata": {},
   "outputs": [
    {
     "data": {
      "text/plain": [
       "tensor([ 98, 101,  97])"
      ]
     },
     "execution_count": 9,
     "metadata": {},
     "output_type": "execute_result"
    }
   ],
   "source": [
    "from torch.utils.data.dataloader import DataLoader\n",
    "from torch.utils.data import WeightedRandomSampler\n",
    "\n",
    "osteoDataset = OsteoTorchDataset(pathList,labelList,transform,std=False,mean=False)      \n",
    "train,val = torch.utils.data.random_split(osteoDataset,[0.8,0.2])#MAY BUG\n",
    "trainLabels = [y for x,y,z in train]\n",
    "unique_elements, counts = torch.unique(torch.tensor(trainLabels), return_counts=True)\n",
    "sampleWeights = 1. / counts.float() #I HAVE NO IDEA WHY THIS WORKS BUT IT DOES\n",
    "# MORAL OF THE STORY: FOLLOW THE FUCKING TUTORIAL DONT TRY CHANGING SHIT ON YOUR OWN ***EVEN IF THE DOCUMENTATION SAYS YOU SHOULD***\n",
    "trainSampler = WeightedRandomSampler(weights=[sampleWeights[x] for x in trainLabels],num_samples=len(train),replacement=True)\n",
    "\n",
    "trainLoader = DataLoader(train, batch_size = 8,shuffle=False,num_workers=0,sampler=trainSampler)\n",
    "valLoader = DataLoader(val, batch_size = 8,shuffle=False,num_workers=0)\n",
    "\n",
    "unique_elements, counts = torch.unique(torch.cat([x for y,x,z in trainLoader]), return_counts=True)#delet this\n",
    "counts"
   ]
  },
  {
   "cell_type": "code",
   "execution_count": 10,
   "metadata": {},
   "outputs": [
    {
     "data": {
      "text/plain": [
       "tensor([12, 48, 14])"
      ]
     },
     "execution_count": 10,
     "metadata": {},
     "output_type": "execute_result"
    }
   ],
   "source": [
    "unique_elements, counts = torch.unique(torch.cat([x for y,x,z in valLoader]), return_counts=True)#delet this\n",
    "counts"
   ]
  },
  {
   "cell_type": "code",
   "execution_count": 13,
   "metadata": {},
   "outputs": [
    {
     "data": {
      "text/plain": [
       "tensor(1.)"
      ]
     },
     "execution_count": 13,
     "metadata": {},
     "output_type": "execute_result"
    }
   ],
   "source": [
    "temp = next(iter(trainLoader))\n",
    "temp[0][0].max()\n",
    "index = -1"
   ]
  },
  {
   "cell_type": "code",
   "execution_count": 15,
   "metadata": {},
   "outputs": [
    {
     "name": "stdout",
     "output_type": "stream",
     "text": [
      "255\n",
      "C:\\Users\\assaw\\Documents\\c_stuff\\Python\\machine learning\\ISAIConference\\testIm/osteoporosis/OS350.jpg\n"
     ]
    },
    {
     "data": {
      "image/png": "[encoded data removed]",
      "text/plain": [
       "<Figure size 640x480 with 2 Axes>"
      ]
     },
     "metadata": {},
     "output_type": "display_data"
    }
   ],
   "source": [
    "# temp[0][0].min()\n",
    "import matplotlib.pyplot as plt\n",
    "index += 1\n",
    "# print(temp[1][index],temp[2][index])\n",
    "print((temp[0][index].numpy()*255).max().astype(np.uint8))\n",
    "\n",
    "fig, axs = plt.subplots(1, 2)\n",
    "\n",
    "print(str(temp[2][index]))\n",
    "# Plot the first image\n",
    "axs[0].imshow(((temp[0][index]+1)/2).permute(1, 2, 0))\n",
    "axs[0].set_title('Image 1')\n",
    "\n",
    "# Plot the second image\n",
    "axs[1].imshow(Image.open(temp[2][index]).convert('RGB'))\n",
    "axs[1].set_title('Image 2')\n",
    "\n",
    "plt.show()"
   ]
  },
  {
   "cell_type": "code",
   "execution_count": 16,
   "metadata": {},
   "outputs": [],
   "source": [
    "# import models here\n",
    "from resnetModel import ResNet50\n",
    "import lightning as L\n",
    "from lightning.pytorch.callbacks import ModelCheckpoint\n",
    "from torcheval.metrics.functional import multiclass_f1_score,multiclass_confusion_matrix,multiclass_accuracy\n",
    "from torchmetrics.classification import MulticlassConfusionMatrix\n",
    "from matplotlib import pyplot as plt\n",
    "import cv2\n",
    "from torch import mode\n",
    "import torch.nn.functional as F\n",
    "import itertools\n",
    "import seaborn as sns\n",
    "from abc import ABC\n",
    "\n",
    "#FIXME identify bottleneck\n",
    "#FIXME clean up my fucking code ffs its so UGLY\n",
    "\n",
    "class ExperimentModel(L.LightningModule,ABC):\n",
    "\n",
    "    existingModels = []\n",
    "\n",
    "    def __init__(self) -> None:\n",
    "        ExperimentModel.existingModels.append(self)\n",
    "        super().__init__()\n",
    "\n",
    "        #init the models here in a subclass\n",
    "\n",
    "        self.num_class = 3\n",
    "        self.classWeight = torch.tensor([0.204, 0.052, 0.175],device='cuda')\n",
    "\n",
    "        self.valLog = []\n",
    "        self.epoch = []\n",
    "        self.valPreds = []\n",
    "        self.valLabels = []\n",
    "        self.valScore = []\n",
    "\n",
    "        self.bestValPreds = [[]]\n",
    "        self.bestValLabels = [[]]\n",
    "        self.bestValScore = []\n",
    "\n",
    "        self.dump = []\n",
    "\n",
    "    @abstractmethod\n",
    "    def forward():\n",
    "        pass\n",
    "        \n",
    "    # def forward(self,input):\n",
    "    #     out = self.model(input)\n",
    "    #     return out\n",
    "        \n",
    "    def training_step(self,batch):\n",
    "        data,label,path = batch\n",
    "        output = self(data)\n",
    "        self.dump.append([path,label])\n",
    "        loss = F.cross_entropy(output,label,weight=self.classWeight)\n",
    "        # print(loss)\n",
    "        self.log(\"train_loss\", loss, on_step=True, on_epoch=True, prog_bar=True, logger=True)\n",
    "        self.log(\"train_acc\", multiclass_accuracy(output.argmax(1),label,num_classes=self.num_class), on_step=False, on_epoch=True, prog_bar=True, logger=True)\n",
    "        return loss\n",
    "\n",
    "    def validation_step(self, batch, batch_idx) -> None:\n",
    "        data,label,path = batch\n",
    "        output = self(data)\n",
    "\n",
    "        preds = output.argmax(1)\n",
    "        loss = F.cross_entropy(output,label)\n",
    "        self.valLabels.append(label)\n",
    "        self.valPreds.append(preds)\n",
    "        self.valScore.append(multiclass_f1_score(preds,label,num_classes=self.num_class,average = 'macro'))\n",
    "        self.log(\"val_loss\", loss, on_step=False, on_epoch=True, prog_bar=True, logger=True)\n",
    "        self.log(\"val_acc_F1\", multiclass_f1_score(preds,label,num_classes=self.num_class,average = 'macro'), on_step=False, on_epoch=True, prog_bar=True, logger=True)\n",
    "        self.log(\"val_acc\", multiclass_accuracy(preds,label,num_classes=self.num_class), on_step=False, on_epoch=True, prog_bar=True, logger=True)\n",
    "\n",
    "    \n",
    "    # def on_validation_epoch_end(self) -> None:\n",
    "    #     if len(self.valScore) == 2:\n",
    "    #         return None\n",
    "        \n",
    "    #     accuracy = torch.stack(self.valScore).mean()\n",
    "    #     self.bestValScore.append(accuracy)\n",
    "    #     self.bestValPreds.append(torch.cat(self.valPreds))\n",
    "    #     self.bestValLabels.append(torch.cat(self.valLabels))\n",
    "    #     print(f\"preds: {torch.cat(self.valPreds)}\\n labels: {torch.cat(self.valLabels)}\")\n",
    "    #     # self.log(\"val_acc_F1\", multiclass_f1_score(torch.cat(self.valPreds),torch.cat(self.valLabels),num_classes=self.num_class,average = 'macro'), on_step=False, on_epoch=True, prog_bar=True, logger=True)\n",
    "       \n",
    "    #     # print(f\"\\n Validation accuracy: {accuracy}\")\n",
    "    #     # print(f\"bestValScore: {self.bestValScore}\")\n",
    "    #     self.valPreds = []\n",
    "    #     self.valLabels = []\n",
    "    #     self.valScore = []\n",
    "\n",
    "    def configure_optimizers(self):\n",
    "        optimizer = torch.optim.SGD(self.parameters(), lr=0.001, momentum=0.9)\n",
    "        return optimizer\n",
    "\n",
    "    def predict_step(self, batch):\n",
    "        data,label = batch\n",
    "        return self(data.float())"
   ]
  },
  {
   "cell_type": "code",
   "execution_count": 19,
   "metadata": {},
   "outputs": [],
   "source": [
    "class GradCamTrack(ExperimentModel):\n",
    "    def __init__(self,vgg:torchvision.models.vgg.VGG) -> None:\n",
    "        super().__init__()\n",
    "        self.features_conv = vgg.features[:36]\n",
    "        \n",
    "        # get the max pool of the features stem\n",
    "        self.max_pool = torch.nn.MaxPool2d(kernel_size=2, stride=2, padding=0, dilation=1, ceil_mode=False)\n",
    "        \n",
    "        # get the classifier of the vgg19\n",
    "        self.classifier = vgg.classifier\n",
    "        self.classifier[6] = torch.nn.Linear(4096,3)\n",
    "\n",
    "        self.hookedImage = []\n",
    "        \n",
    "        # placeholder for the gradients\n",
    "        self.gradients = None\n",
    "\n",
    "    def activations_hook(self, grad):\n",
    "        self.gradients = grad\n",
    "\n",
    "    # method for the gradient extraction\n",
    "    def get_activations_gradient(self):\n",
    "        return self.gradients\n",
    "    \n",
    "    # method for the activation exctraction\n",
    "    def get_activations(self, x):\n",
    "        return self.features_conv(x)\n",
    "        \n",
    "    def forward(self,inTensor):\n",
    "        x = self.features_conv(inTensor)\n",
    "        \n",
    "        # # register the hook\n",
    "        if x.requires_grad:\n",
    "            hook = x.register_hook(self.activations_hook)\n",
    "        \n",
    "        # apply the remaining pooling\n",
    "        x = self.max_pool(x)\n",
    "        x = x.flatten(1,-1)\n",
    "        x = self.classifier(x)\n",
    "        return x\n",
    "     \n",
    "    def visualize(self,dataloader:torch.utils.data.dataloader.DataLoader): #TODO FIX THIS for generalization\n",
    "        out,path = self.CAM(dataloader)\n",
    "        for x in range(len(out)):\n",
    "            self.visualizeAndWrite(out[x],path[x],666)\n",
    "    \n",
    "    def CAM(self,dataloader:torch.utils.data.dataloader.DataLoader):\n",
    "        self.eval()\n",
    "        img,label,path = next(iter(dataloader))\n",
    "        img = img.to(device = torch.device('cuda'))\n",
    "        heatmapList = []\n",
    "        for i in range(len(img)):\n",
    "            print(torch.unsqueeze(img[i],0).shape)\n",
    "            pred = self(torch.unsqueeze(img[i],0))\n",
    "            # get the gradient of the output with respect to the parameters of the model\n",
    "            print(pred.shape)\n",
    "            pred[:, label[i].item()].backward()\n",
    "\n",
    "            # pull the gradients out of the model\n",
    "            gradients = self.get_activations_gradient()\n",
    "\n",
    "            # pool the gradients across the channels\n",
    "            pooled_gradients = torch.mean(gradients, dim=[0, 2, 3])\n",
    "\n",
    "            # get the activations of the last convolutional layer\n",
    "            activations = self.get_activations(torch.unsqueeze(img[i],0)).detach() # DONT forget to apply image changes here too\n",
    "            print(activations.shape)\n",
    "            # weight the channels by corresponding gradients\n",
    "            for j in range(512):\n",
    "                activations[:, j, :, :] *= pooled_gradients[j]\n",
    "                \n",
    "            # average the channels of the activations\n",
    "            heatmap = torch.mean(activations, dim=1).squeeze()\n",
    "\n",
    "            # relu on top of the heatmap\n",
    "            # expression (2) in https://arxiv.org/pdf/1610.02391.pdf\n",
    "            heatmap = np.maximum(heatmap.cpu(), 0)\n",
    "\n",
    "            # normalize the heatmap\n",
    "            heatmap /= torch.max(heatmap)\n",
    "\n",
    "            # draw the heatmap\n",
    "            heatmapList.append(heatmap)\n",
    "\n",
    "        return heatmapList,path\n",
    "\n",
    "    def visualizeAndWrite(self,out:torch.tensor,path:str,epoch=False):\n",
    "        if not epoch:\n",
    "            epoch = self.current_epoch\n",
    "            \n",
    "        img = cv2.imread(path)\n",
    "        heatmap = cv2.resize(out.numpy(), (img.shape[1], img.shape[0]))\n",
    "        heatmap = np.uint8(255 * heatmap)\n",
    "        heatmap = cv2.applyColorMap(heatmap, cv2.COLORMAP_JET)\n",
    "        superimposed_img = heatmap * 0.4 + img\n",
    "        cv2.imwrite(rf'./visualizations/gradCam/{epoch}_{path.split(r\"/\")[-1]}', superimposed_img)"
   ]
  },
  {
   "cell_type": "code",
   "execution_count": 71,
   "metadata": {},
   "outputs": [
    {
     "name": "stderr",
     "output_type": "stream",
     "text": [
      "C:\\Users\\assaw\\AppData\\Roaming\\Python\\Python310\\site-packages\\torchvision\\models\\_utils.py:223: UserWarning: Arguments other than a weight enum or `None` for 'weights' are deprecated since 0.13 and may be removed in the future. The current behavior is equivalent to passing `weights=VGG19_Weights.IMAGENET1K_V1`. You can also use `weights=VGG19_Weights.DEFAULT` to get the most up-to-date weights.\n",
      "  warnings.warn(msg)\n"
     ]
    }
   ],
   "source": [
    "vgg19 = VGGModel(torchvision.models.vgg19(pretrained=True))"
   ]
  },
  {
   "cell_type": "code",
   "execution_count": null,
   "metadata": {},
   "outputs": [],
   "source": [
    "ExperimentModel.existingModels[0].__class__.__name__"
   ]
  },
  {
   "cell_type": "code",
   "execution_count": null,
   "metadata": {},
   "outputs": [],
   "source": [
    "ExperimentModel.existingModels[0]"
   ]
  },
  {
   "cell_type": "code",
   "execution_count": null,
   "metadata": {},
   "outputs": [],
   "source": [
    "import gc\n",
    "gc.collect()\n",
    "torch.cuda.empty_cache()\n",
    "\n",
    "from lightning.pytorch.callbacks import ModelCheckpoint, EarlyStopping\n",
    "from lightning.pytorch.loggers import TensorBoardLogger\n",
    "for x in ExperimentModel.existingModels:\n",
    "    print(x)\n",
    "    gc.collect()\n",
    "    torch.cuda.empty_cache()\n",
    "    # early_stopping = EarlyStopping(\n",
    "    #     monitor='val_loss',  # Metric to monitor\n",
    "    #     patience=5000,          # Number of epochs with no improvement after which training will be stopped\n",
    "    #     verbose=False,        # Verbosity mode\n",
    "    #     mode='min'           # Mode can be 'min', 'max', or 'auto'\n",
    "    # )\n",
    "\n",
    "    logger = TensorBoardLogger(\"tb_logs\", name=f\"{x.__class__.__name__}\")\n",
    "    \n",
    "\n",
    "    trainer = L.Trainer(max_epochs = 75,accelerator='gpu', devices='auto', precision='16-mixed',logger=logger)\n",
    "    trainer.fit(model=x,train_dataloaders=trainLoader,val_dataloaders=valLoader)\n"
   ]
  },
  {
   "cell_type": "code",
   "execution_count": 104,
   "metadata": {},
   "outputs": [
    {
     "name": "stderr",
     "output_type": "stream",
     "text": [
      "C:\\Users\\assaw\\AppData\\Roaming\\Python\\Python310\\site-packages\\torchvision\\models\\_utils.py:208: UserWarning: The parameter 'pretrained' is deprecated since 0.13 and may be removed in the future, please use 'weights' instead.\n",
      "  warnings.warn(\n",
      "C:\\Users\\assaw\\AppData\\Roaming\\Python\\Python310\\site-packages\\torchvision\\models\\_utils.py:223: UserWarning: Arguments other than a weight enum or `None` for 'weights' are deprecated since 0.13 and may be removed in the future. The current behavior is equivalent to passing `weights=None`.\n",
      "  warnings.warn(msg)\n",
      "c:\\Users\\assaw\\.conda\\envs\\AI\\lib\\site-packages\\lightning\\fabric\\utilities\\cloud_io.py:57: You are using `torch.load` with `weights_only=False` (the current default value), which uses the default pickle module implicitly. It is possible to construct malicious pickle data which will execute arbitrary code during unpickling (See https://github.com/pytorch/pytorch/blob/main/SECURITY.md#untrusted-models for more details). In a future release, the default value for `weights_only` will be flipped to `True`. This limits the functions that could be executed during unpickling. Arbitrary objects will no longer be allowed to be loaded via this mode unless they are explicitly allowlisted by the user via `torch.serialization.add_safe_globals`. We recommend you start setting `weights_only=True` for any use case where you don't have full control of the loaded file. Please open an issue on GitHub for any issues related to this experimental feature.\n"
     ]
    }
   ],
   "source": [
    "model = VGGModel.load_from_checkpoint(r'tb_logs\\VGGModel\\version_4\\checkpoints\\epoch=25-step=962.ckpt',vgg = torchvision.models.vgg19(pretrained=False))"
   ]
  },
  {
   "cell_type": "code",
   "execution_count": 52,
   "metadata": {},
   "outputs": [
    {
     "data": {
      "text/plain": [
       "tensor([1, 1, 1, 1, 1, 0, 2, 2], device='cuda:0')"
      ]
     },
     "execution_count": 52,
     "metadata": {},
     "output_type": "execute_result"
    }
   ],
   "source": [
    "x = next(iter(valLoader))\n",
    "model(x[0].to('cuda')).argmax(1)"
   ]
  },
  {
   "cell_type": "code",
   "execution_count": 68,
   "metadata": {},
   "outputs": [
    {
     "data": {
      "text/plain": [
       "1"
      ]
     },
     "execution_count": 68,
     "metadata": {},
     "output_type": "execute_result"
    }
   ],
   "source": [
    "x[1][0].item()"
   ]
  },
  {
   "cell_type": "code",
   "execution_count": 20,
   "metadata": {},
   "outputs": [
    {
     "name": "stderr",
     "output_type": "stream",
     "text": [
      "C:\\Users\\assaw\\AppData\\Roaming\\Python\\Python310\\site-packages\\torchvision\\models\\_utils.py:208: UserWarning: The parameter 'pretrained' is deprecated since 0.13 and may be removed in the future, please use 'weights' instead.\n",
      "  warnings.warn(\n",
      "C:\\Users\\assaw\\AppData\\Roaming\\Python\\Python310\\site-packages\\torchvision\\models\\_utils.py:223: UserWarning: Arguments other than a weight enum or `None` for 'weights' are deprecated since 0.13 and may be removed in the future. The current behavior is equivalent to passing `weights=None`.\n",
      "  warnings.warn(msg)\n",
      "c:\\Users\\assaw\\.conda\\envs\\AI\\lib\\site-packages\\lightning\\fabric\\utilities\\cloud_io.py:57: You are using `torch.load` with `weights_only=False` (the current default value), which uses the default pickle module implicitly. It is possible to construct malicious pickle data which will execute arbitrary code during unpickling (See https://github.com/pytorch/pytorch/blob/main/SECURITY.md#untrusted-models for more details). In a future release, the default value for `weights_only` will be flipped to `True`. This limits the functions that could be executed during unpickling. Arbitrary objects will no longer be allowed to be loaded via this mode unless they are explicitly allowlisted by the user via `torch.serialization.add_safe_globals`. We recommend you start setting `weights_only=True` for any use case where you don't have full control of the loaded file. Please open an issue on GitHub for any issues related to this experimental feature.\n"
     ]
    },
    {
     "name": "stdout",
     "output_type": "stream",
     "text": [
      "torch.Size([1, 3, 244, 244])\n",
      "torch.Size([1, 3])\n",
      "torch.Size([1, 512, 15, 15])\n",
      "torch.Size([1, 3, 244, 244])\n",
      "torch.Size([1, 3])\n",
      "torch.Size([1, 512, 15, 15])\n",
      "torch.Size([1, 3, 244, 244])\n",
      "torch.Size([1, 3])\n",
      "torch.Size([1, 512, 15, 15])\n",
      "torch.Size([1, 3, 244, 244])\n",
      "torch.Size([1, 3])\n",
      "torch.Size([1, 512, 15, 15])\n",
      "torch.Size([1, 3, 244, 244])\n",
      "torch.Size([1, 3])\n",
      "torch.Size([1, 512, 15, 15])\n",
      "torch.Size([1, 3, 244, 244])\n",
      "torch.Size([1, 3])\n",
      "torch.Size([1, 512, 15, 15])\n",
      "torch.Size([1, 3, 244, 244])\n",
      "torch.Size([1, 3])\n",
      "torch.Size([1, 512, 15, 15])\n",
      "torch.Size([1, 3, 244, 244])\n",
      "torch.Size([1, 3])\n",
      "torch.Size([1, 512, 15, 15])\n"
     ]
    }
   ],
   "source": [
    "torch.cuda.empty_cache()\n",
    "model = VGGModel.load_from_checkpoint(r'tb_logs\\VGGModel\\version_4\\checkpoints\\epoch=25-step=962.ckpt',vgg = torchvision.models.vgg19(pretrained=False))\n",
    "\n",
    "model.visualize(valLoader)"
   ]
  },
  {
   "cell_type": "code",
   "execution_count": 99,
   "metadata": {},
   "outputs": [
    {
     "data": {
      "text/plain": [
       "'OP270.jpg'"
      ]
     },
     "execution_count": 99,
     "metadata": {},
     "output_type": "execute_result"
    }
   ],
   "source": [
    "out[1][0].split('/')[-1]"
   ]
  },
  {
   "cell_type": "code",
   "execution_count": 47,
   "metadata": {},
   "outputs": [
    {
     "data": {
      "text/plain": [
       "[tensor([2, 2, 2, 2, 2, 2, 2, 2], device='cuda:0'),\n",
       " tensor([2, 2, 2, 2, 0, 2, 2, 2], device='cuda:0'),\n",
       " tensor([2, 0, 2, 0, 0, 0, 0, 0], device='cuda:0'),\n",
       " tensor([0, 0, 0, 0, 0, 0, 0, 0], device='cuda:0'),\n",
       " tensor([2, 0, 0, 0, 0, 0, 0, 0], device='cuda:0'),\n",
       " tensor([2, 0, 0, 2, 0, 0, 2, 0], device='cuda:0'),\n",
       " tensor([0, 0, 2, 2, 0, 0, 0, 2], device='cuda:0'),\n",
       " tensor([0, 0, 0, 0, 0, 2, 0, 0], device='cuda:0'),\n",
       " tensor([0, 2, 0, 0, 0, 0, 0, 2], device='cuda:0'),\n",
       " tensor([0, 0, 0, 0, 0, 0, 0, 2], device='cuda:0'),\n",
       " tensor([0, 0, 2, 2, 2, 0, 0, 0], device='cuda:0'),\n",
       " tensor([0, 0], device='cuda:0'),\n",
       " tensor([0, 0, 0, 0, 0, 0, 0, 0], device='cuda:0'),\n",
       " tensor([0, 2, 0, 0, 0, 2, 0, 0], device='cuda:0'),\n",
       " tensor([0, 2, 0, 0, 0, 0, 0, 2], device='cuda:0'),\n",
       " tensor([0, 2, 0, 0, 0, 0, 0, 2], device='cuda:0'),\n",
       " tensor([0, 0, 0, 2, 0, 0, 2, 2], device='cuda:0'),\n",
       " tensor([0, 0, 0, 0, 0, 0, 0, 0], device='cuda:0'),\n",
       " tensor([0, 0, 0, 0, 0, 0, 0, 0], device='cuda:0'),\n",
       " tensor([0, 0, 0, 0, 0, 0, 0, 2], device='cuda:0'),\n",
       " tensor([0, 0, 0, 0, 0, 0, 0, 0], device='cuda:0'),\n",
       " tensor([0, 0], device='cuda:0'),\n",
       " tensor([2, 0, 0, 0, 2, 0, 0, 0], device='cuda:0'),\n",
       " tensor([0, 0, 0, 0, 0, 0, 0, 0], device='cuda:0'),\n",
       " tensor([0, 0, 0, 0, 0, 0, 0, 0], device='cuda:0'),\n",
       " tensor([2, 0, 0, 0, 0, 0, 0, 2], device='cuda:0'),\n",
       " tensor([0, 0, 0, 0, 0, 0, 0, 2], device='cuda:0'),\n",
       " tensor([0, 0, 0, 0, 0, 2, 0, 0], device='cuda:0'),\n",
       " tensor([0, 2, 0, 0, 0, 0, 0, 0], device='cuda:0'),\n",
       " tensor([0, 0, 0, 0, 0, 2, 0, 2], device='cuda:0'),\n",
       " tensor([0, 0, 0, 0, 0, 0, 0, 0], device='cuda:0'),\n",
       " tensor([0, 0], device='cuda:0'),\n",
       " tensor([2, 0, 0, 0, 2, 0, 0, 2], device='cuda:0'),\n",
       " tensor([0, 2, 2, 2, 2, 2, 0, 2], device='cuda:0'),\n",
       " tensor([2, 2, 2, 2, 2, 0, 0, 2], device='cuda:0'),\n",
       " tensor([2, 2, 2, 0, 2, 2, 2, 2], device='cuda:0'),\n",
       " tensor([2, 2, 2, 2, 0, 2, 2, 2], device='cuda:0'),\n",
       " tensor([0, 0, 0, 2, 2, 2, 0, 2], device='cuda:0'),\n",
       " tensor([2, 2, 0, 2, 2, 0, 2, 0], device='cuda:0'),\n",
       " tensor([0, 0, 0, 2, 2, 2, 2, 2], device='cuda:0'),\n",
       " tensor([2, 0, 0, 0, 2, 0, 2, 2], device='cuda:0'),\n",
       " tensor([2, 0], device='cuda:0'),\n",
       " tensor([1, 0, 1, 0, 2, 0, 0, 2], device='cuda:0'),\n",
       " tensor([0, 2, 2, 2, 2, 2, 0, 2], device='cuda:0'),\n",
       " tensor([1, 2, 0, 1, 2, 0, 0, 2], device='cuda:0'),\n",
       " tensor([1, 2, 2, 2, 2, 2, 2, 2], device='cuda:0'),\n",
       " tensor([2, 2, 2, 2, 0, 2, 2, 2], device='cuda:0'),\n",
       " tensor([2, 0, 1, 2, 1, 2, 1, 1], device='cuda:0'),\n",
       " tensor([1, 2, 0, 2, 2, 0, 2, 2], device='cuda:0'),\n",
       " tensor([1, 1, 1, 2, 2, 2, 2, 2], device='cuda:0'),\n",
       " tensor([2, 1, 0, 0, 2, 0, 2, 2], device='cuda:0'),\n",
       " tensor([2, 2], device='cuda:0'),\n",
       " tensor([2, 1, 2, 2, 2, 2, 2, 2], device='cuda:0'),\n",
       " tensor([2, 2, 2, 2, 2, 2, 0, 2], device='cuda:0'),\n",
       " tensor([2, 2, 1, 2, 2, 2, 2, 2], device='cuda:0'),\n",
       " tensor([2, 2, 0, 1, 0, 2, 2, 2], device='cuda:0'),\n",
       " tensor([2, 2, 2, 2, 0, 2, 2, 2], device='cuda:0'),\n",
       " tensor([0, 0, 2, 0, 2, 2, 2, 2], device='cuda:0'),\n",
       " tensor([2, 2, 2, 2, 0, 0, 0, 2], device='cuda:0'),\n",
       " tensor([2, 2, 2, 2, 2, 2, 2, 2], device='cuda:0'),\n",
       " tensor([0, 2, 2, 2, 0, 0, 2, 2], device='cuda:0'),\n",
       " tensor([2, 1], device='cuda:0'),\n",
       " tensor([2, 0, 0, 0, 2, 0, 0, 2], device='cuda:0'),\n",
       " tensor([0, 2, 0, 1, 2, 2, 0, 0], device='cuda:0'),\n",
       " tensor([2, 2, 1, 2, 2, 0, 0, 0], device='cuda:0'),\n",
       " tensor([2, 2, 0, 0, 2, 2, 2, 2], device='cuda:0'),\n",
       " tensor([2, 0, 0, 2, 0, 2, 0, 2], device='cuda:0'),\n",
       " tensor([0, 0, 0, 2, 0, 2, 0, 2], device='cuda:0'),\n",
       " tensor([2, 2, 0, 0, 2, 0, 0, 0], device='cuda:0'),\n",
       " tensor([0, 0, 0, 2, 0, 2, 2, 2], device='cuda:0'),\n",
       " tensor([2, 2, 0, 0, 0, 0, 2, 1], device='cuda:0'),\n",
       " tensor([0, 0], device='cuda:0'),\n",
       " tensor([0, 0, 0, 0, 0, 0, 0, 0], device='cuda:0'),\n",
       " tensor([0, 1, 0, 0, 0, 0, 0, 0], device='cuda:0'),\n",
       " tensor([1, 0, 0, 0, 0, 0, 0, 0], device='cuda:0'),\n",
       " tensor([1, 0, 0, 0, 0, 0, 2, 2], device='cuda:0'),\n",
       " tensor([0, 0, 0, 1, 0, 0, 0, 0], device='cuda:0'),\n",
       " tensor([0, 0, 0, 0, 0, 1, 0, 0], device='cuda:0'),\n",
       " tensor([1, 1, 0, 0, 0, 0, 0, 0], device='cuda:0'),\n",
       " tensor([0, 0, 0, 0, 0, 1, 1, 2], device='cuda:0'),\n",
       " tensor([0, 0, 0, 0, 0, 0, 0, 0], device='cuda:0'),\n",
       " tensor([0, 0], device='cuda:0'),\n",
       " tensor([1, 0, 1, 1, 2, 1, 0, 0], device='cuda:0'),\n",
       " tensor([1, 2, 2, 1, 2, 2, 0, 2], device='cuda:0'),\n",
       " tensor([1, 2, 1, 1, 0, 1, 0, 0], device='cuda:0'),\n",
       " tensor([1, 2, 0, 0, 0, 2, 2, 2], device='cuda:0'),\n",
       " tensor([2, 1, 1, 2, 0, 2, 2, 2], device='cuda:0'),\n",
       " tensor([0, 0, 0, 1, 1, 1, 1, 1], device='cuda:0'),\n",
       " tensor([1, 1, 1, 2, 0, 0, 0, 1], device='cuda:0'),\n",
       " tensor([0, 1, 0, 1, 2, 2, 2, 2], device='cuda:0'),\n",
       " tensor([0, 1, 1, 0, 0, 0, 2, 1], device='cuda:0'),\n",
       " tensor([0, 0], device='cuda:0'),\n",
       " tensor([1, 1, 1, 1, 2, 1, 1, 1], device='cuda:0'),\n",
       " tensor([1, 2, 2, 2, 2, 2, 1, 1], device='cuda:0'),\n",
       " tensor([1, 2, 2, 2, 1, 1, 1, 0], device='cuda:0'),\n",
       " tensor([1, 2, 1, 2, 2, 2, 2, 2], device='cuda:0'),\n",
       " tensor([2, 2, 1, 2, 1, 2, 2, 2], device='cuda:0'),\n",
       " tensor([1, 1, 2, 2, 2, 2, 1, 1], device='cuda:0'),\n",
       " tensor([2, 2, 1, 2, 2, 0, 2, 2], device='cuda:0'),\n",
       " tensor([2, 1, 2, 1, 2, 2, 2, 2], device='cuda:0'),\n",
       " tensor([2, 1, 1, 0, 1, 1, 2, 2], device='cuda:0'),\n",
       " tensor([1, 2], device='cuda:0'),\n",
       " tensor([1, 0, 1, 1, 2, 2, 1, 2], device='cuda:0'),\n",
       " tensor([2, 2, 2, 2, 2, 2, 0, 2], device='cuda:0'),\n",
       " tensor([2, 2, 2, 2, 2, 1, 0, 0], device='cuda:0'),\n",
       " tensor([2, 2, 0, 1, 2, 2, 2, 2], device='cuda:0'),\n",
       " tensor([2, 2, 2, 2, 0, 2, 0, 2], device='cuda:0'),\n",
       " tensor([1, 0, 1, 2, 2, 2, 1, 2], device='cuda:0'),\n",
       " tensor([2, 2, 1, 2, 2, 0, 2, 1], device='cuda:0'),\n",
       " tensor([1, 2, 2, 2, 2, 2, 2, 2], device='cuda:0'),\n",
       " tensor([2, 1, 1, 0, 1, 0, 2, 2], device='cuda:0'),\n",
       " tensor([0, 0], device='cuda:0'),\n",
       " tensor([1, 0, 1, 1, 2, 1, 1, 2], device='cuda:0'),\n",
       " tensor([2, 2, 2, 1, 2, 2, 0, 1], device='cuda:0'),\n",
       " tensor([1, 2, 1, 1, 0, 1, 0, 0], device='cuda:0'),\n",
       " tensor([2, 2, 0, 1, 2, 2, 2, 2], device='cuda:0'),\n",
       " tensor([2, 2, 1, 1, 0, 2, 0, 2], device='cuda:0'),\n",
       " tensor([0, 0, 0, 1, 2, 2, 1, 1], device='cuda:0'),\n",
       " tensor([2, 2, 1, 2, 2, 0, 0, 2], device='cuda:0'),\n",
       " tensor([0, 2, 0, 2, 2, 2, 2, 2], device='cuda:0'),\n",
       " tensor([0, 1, 1, 0, 0, 0, 2, 2], device='cuda:0'),\n",
       " tensor([0, 1], device='cuda:0'),\n",
       " tensor([1, 0, 1, 1, 1, 1, 0, 1], device='cuda:0'),\n",
       " tensor([1, 2, 1, 1, 2, 2, 0, 1], device='cuda:0'),\n",
       " tensor([1, 1, 1, 1, 1, 1, 0, 0], device='cuda:0'),\n",
       " tensor([1, 1, 1, 0, 1, 1, 2, 2], device='cuda:0'),\n",
       " tensor([1, 1, 1, 1, 0, 1, 0, 2], device='cuda:0'),\n",
       " tensor([0, 0, 1, 1, 1, 1, 1, 1], device='cuda:0'),\n",
       " tensor([1, 1, 1, 1, 1, 0, 1, 1], device='cuda:0'),\n",
       " tensor([1, 1, 0, 1, 0, 1, 1, 2], device='cuda:0'),\n",
       " tensor([1, 1, 1, 0, 0, 0, 1, 1], device='cuda:0'),\n",
       " tensor([0, 0], device='cuda:0'),\n",
       " tensor([1, 1, 1, 1, 1, 1, 0, 1], device='cuda:0'),\n",
       " tensor([1, 2, 0, 1, 2, 2, 0, 1], device='cuda:0'),\n",
       " tensor([1, 1, 1, 1, 1, 1, 0, 0], device='cuda:0'),\n",
       " tensor([1, 2, 0, 1, 0, 1, 2, 2], device='cuda:0'),\n",
       " tensor([2, 1, 1, 1, 0, 2, 1, 2], device='cuda:0'),\n",
       " tensor([0, 0, 0, 1, 1, 1, 1, 2], device='cuda:0'),\n",
       " tensor([2, 1, 1, 1, 0, 0, 0, 1], device='cuda:0'),\n",
       " tensor([0, 1, 1, 1, 0, 2, 2, 2], device='cuda:0'),\n",
       " tensor([0, 1, 1, 0, 0, 0, 2, 1], device='cuda:0'),\n",
       " tensor([1, 0], device='cuda:0'),\n",
       " tensor([1, 1, 1, 1, 2, 1, 0, 1], device='cuda:0'),\n",
       " tensor([1, 2, 1, 2, 2, 2, 1, 2], device='cuda:0'),\n",
       " tensor([1, 2, 1, 1, 1, 1, 1, 0], device='cuda:0'),\n",
       " tensor([1, 2, 1, 1, 1, 2, 2, 2], device='cuda:0'),\n",
       " tensor([2, 1, 1, 1, 1, 2, 1, 2], device='cuda:0'),\n",
       " tensor([1, 0, 1, 1, 2, 1, 1, 2], device='cuda:0'),\n",
       " tensor([2, 1, 1, 1, 1, 0, 1, 1], device='cuda:0'),\n",
       " tensor([1, 1, 1, 1, 2, 2, 2, 2], device='cuda:0'),\n",
       " tensor([2, 1, 1, 0, 1, 1, 2, 2], device='cuda:0'),\n",
       " tensor([1, 1], device='cuda:0'),\n",
       " tensor([1, 1, 1, 1, 2, 1, 0, 1], device='cuda:0'),\n",
       " tensor([1, 2, 1, 1, 2, 2, 1, 1], device='cuda:0'),\n",
       " tensor([1, 1, 1, 1, 1, 1, 1, 0], device='cuda:0'),\n",
       " tensor([1, 2, 1, 1, 1, 1, 2, 2], device='cuda:0'),\n",
       " tensor([1, 1, 1, 2, 1, 2, 2, 2], device='cuda:0'),\n",
       " tensor([1, 1, 1, 1, 1, 1, 1, 1], device='cuda:0'),\n",
       " tensor([2, 1, 1, 1, 1, 1, 1, 2], device='cuda:0'),\n",
       " tensor([1, 1, 1, 1, 1, 2, 1, 2], device='cuda:0'),\n",
       " tensor([1, 1, 1, 0, 1, 1, 2, 1], device='cuda:0'),\n",
       " tensor([1, 1], device='cuda:0'),\n",
       " tensor([1, 1, 1, 1, 1, 1, 1, 1], device='cuda:0'),\n",
       " tensor([1, 2, 1, 2, 1, 2, 1, 1], device='cuda:0'),\n",
       " tensor([1, 0, 1, 1, 1, 1, 0, 0], device='cuda:0'),\n",
       " tensor([1, 0, 0, 1, 1, 1, 2, 2], device='cuda:0'),\n",
       " tensor([1, 0, 1, 0, 0, 1, 0, 2], device='cuda:0'),\n",
       " tensor([0, 0, 1, 1, 1, 1, 1, 1], device='cuda:0'),\n",
       " tensor([1, 1, 1, 1, 1, 0, 1, 1], device='cuda:0'),\n",
       " tensor([1, 1, 1, 1, 0, 1, 1, 2], device='cuda:0'),\n",
       " tensor([0, 1, 1, 1, 0, 0, 1, 1], device='cuda:0'),\n",
       " tensor([0, 0], device='cuda:0'),\n",
       " tensor([1, 0, 1, 1, 1, 1, 0, 1], device='cuda:0'),\n",
       " tensor([1, 2, 1, 1, 2, 2, 1, 1], device='cuda:0'),\n",
       " tensor([1, 1, 1, 1, 1, 1, 0, 0], device='cuda:0'),\n",
       " tensor([1, 1, 0, 0, 1, 1, 2, 2], device='cuda:0'),\n",
       " tensor([2, 1, 1, 1, 0, 1, 1, 1], device='cuda:0'),\n",
       " tensor([1, 1, 1, 1, 1, 1, 1, 1], device='cuda:0'),\n",
       " tensor([1, 1, 1, 1, 1, 0, 1, 1], device='cuda:0'),\n",
       " tensor([1, 1, 1, 1, 1, 2, 1, 2], device='cuda:0'),\n",
       " tensor([1, 1, 1, 0, 0, 1, 2, 1], device='cuda:0'),\n",
       " tensor([1, 0], device='cuda:0'),\n",
       " tensor([1, 0, 1, 1, 1, 0, 0, 1], device='cuda:0'),\n",
       " tensor([0, 2, 1, 1, 1, 2, 0, 1], device='cuda:0'),\n",
       " tensor([1, 1, 1, 1, 1, 1, 0, 0], device='cuda:0'),\n",
       " tensor([1, 1, 0, 0, 1, 1, 2, 1], device='cuda:0'),\n",
       " tensor([2, 1, 1, 1, 0, 1, 1, 1], device='cuda:0'),\n",
       " tensor([1, 0, 0, 1, 1, 1, 1, 1], device='cuda:0'),\n",
       " tensor([1, 1, 1, 1, 1, 0, 1, 1], device='cuda:0'),\n",
       " tensor([0, 0, 0, 1, 0, 1, 1, 1], device='cuda:0'),\n",
       " tensor([1, 1, 1, 0, 1, 0, 1, 1], device='cuda:0'),\n",
       " tensor([1, 0], device='cuda:0'),\n",
       " tensor([1, 1, 1, 1, 1, 1, 0, 1], device='cuda:0'),\n",
       " tensor([1, 2, 1, 1, 1, 2, 1, 1], device='cuda:0'),\n",
       " tensor([1, 1, 1, 1, 1, 1, 0, 0], device='cuda:0'),\n",
       " tensor([1, 1, 0, 1, 1, 1, 2, 2], device='cuda:0'),\n",
       " tensor([1, 1, 1, 1, 0, 1, 0, 2], device='cuda:0'),\n",
       " tensor([0, 1, 1, 1, 1, 1, 1, 1], device='cuda:0'),\n",
       " tensor([1, 1, 1, 1, 1, 0, 1, 1], device='cuda:0'),\n",
       " tensor([1, 1, 1, 1, 0, 2, 1, 2], device='cuda:0'),\n",
       " tensor([1, 1, 1, 0, 0, 0, 2, 1], device='cuda:0'),\n",
       " tensor([0, 0], device='cuda:0'),\n",
       " tensor([1, 1, 1, 1, 1, 1, 0, 2], device='cuda:0'),\n",
       " tensor([1, 2, 1, 1, 2, 2, 1, 1], device='cuda:0'),\n",
       " tensor([1, 2, 1, 1, 1, 1, 1, 0], device='cuda:0'),\n",
       " tensor([1, 2, 1, 1, 2, 2, 2, 2], device='cuda:0'),\n",
       " tensor([1, 1, 1, 1, 1, 2, 1, 2], device='cuda:0'),\n",
       " tensor([1, 1, 1, 1, 1, 1, 1, 1], device='cuda:0'),\n",
       " tensor([1, 1, 1, 1, 2, 0, 1, 1], device='cuda:0'),\n",
       " tensor([1, 1, 1, 1, 2, 1, 1, 2], device='cuda:0'),\n",
       " tensor([2, 1, 1, 0, 1, 1, 2, 1], device='cuda:0'),\n",
       " tensor([1, 1], device='cuda:0'),\n",
       " tensor([1, 1, 1, 1, 1, 1, 1, 1], device='cuda:0'),\n",
       " tensor([1, 2, 1, 1, 2, 2, 1, 1], device='cuda:0'),\n",
       " tensor([1, 1, 1, 1, 1, 1, 1, 0], device='cuda:0'),\n",
       " tensor([1, 1, 0, 1, 1, 1, 2, 2], device='cuda:0'),\n",
       " tensor([1, 1, 1, 1, 1, 1, 1, 2], device='cuda:0'),\n",
       " tensor([0, 1, 1, 1, 1, 1, 1, 1], device='cuda:0'),\n",
       " tensor([1, 1, 1, 1, 1, 0, 1, 1], device='cuda:0'),\n",
       " tensor([1, 1, 1, 1, 1, 1, 1, 1], device='cuda:0'),\n",
       " tensor([1, 1, 1, 0, 1, 1, 1, 1], device='cuda:0'),\n",
       " tensor([1, 1], device='cuda:0'),\n",
       " tensor([1, 0, 1, 1, 2, 1, 0, 1], device='cuda:0'),\n",
       " tensor([1, 2, 0, 2, 2, 2, 0, 1], device='cuda:0'),\n",
       " tensor([1, 2, 1, 1, 0, 1, 0, 0], device='cuda:0'),\n",
       " tensor([1, 1, 0, 0, 0, 2, 2, 2], device='cuda:0'),\n",
       " tensor([1, 2, 1, 2, 0, 2, 1, 2], device='cuda:0'),\n",
       " tensor([0, 0, 1, 1, 1, 1, 1, 1], device='cuda:0'),\n",
       " tensor([2, 1, 1, 1, 0, 0, 0, 1], device='cuda:0'),\n",
       " tensor([1, 1, 1, 1, 0, 1, 2, 2], device='cuda:0'),\n",
       " tensor([0, 1, 1, 0, 0, 0, 2, 1], device='cuda:0'),\n",
       " tensor([1, 0], device='cuda:0'),\n",
       " tensor([1, 1, 1, 1, 2, 1, 1, 1], device='cuda:0'),\n",
       " tensor([1, 2, 1, 2, 1, 2, 1, 1], device='cuda:0'),\n",
       " tensor([1, 1, 1, 1, 1, 1, 0, 0], device='cuda:0'),\n",
       " tensor([1, 0, 0, 0, 0, 1, 2, 2], device='cuda:0'),\n",
       " tensor([1, 1, 1, 1, 1, 1, 1, 1], device='cuda:0'),\n",
       " tensor([1, 1, 1, 1, 1, 1, 1, 1], device='cuda:0'),\n",
       " tensor([2, 1, 1, 1, 0, 0, 1, 1], device='cuda:0'),\n",
       " tensor([1, 0, 1, 1, 0, 1, 2, 2], device='cuda:0'),\n",
       " tensor([0, 1, 1, 0, 0, 0, 1, 1], device='cuda:0'),\n",
       " tensor([1, 0], device='cuda:0'),\n",
       " tensor([1, 1, 1, 1, 1, 1, 1, 1], device='cuda:0'),\n",
       " tensor([1, 2, 1, 1, 2, 2, 1, 1], device='cuda:0'),\n",
       " tensor([1, 1, 1, 1, 1, 1, 0, 0], device='cuda:0'),\n",
       " tensor([1, 1, 1, 1, 1, 1, 2, 2], device='cuda:0'),\n",
       " tensor([1, 1, 1, 1, 1, 1, 1, 2], device='cuda:0'),\n",
       " tensor([1, 1, 1, 1, 1, 1, 1, 1], device='cuda:0'),\n",
       " tensor([1, 1, 1, 1, 1, 0, 1, 1], device='cuda:0'),\n",
       " tensor([1, 1, 1, 1, 1, 1, 2, 2], device='cuda:0'),\n",
       " tensor([1, 1, 1, 0, 1, 0, 1, 1], device='cuda:0'),\n",
       " tensor([1, 0], device='cuda:0'),\n",
       " tensor([1, 1, 1, 1, 1, 1, 1, 1], device='cuda:0'),\n",
       " tensor([1, 2, 1, 1, 1, 2, 1, 1], device='cuda:0'),\n",
       " tensor([1, 1, 1, 1, 1, 1, 0, 0], device='cuda:0'),\n",
       " tensor([1, 1, 1, 1, 1, 1, 2, 2], device='cuda:0'),\n",
       " tensor([2, 1, 1, 1, 1, 1, 1, 2], device='cuda:0'),\n",
       " tensor([1, 1, 1, 1, 1, 1, 1, 1], device='cuda:0'),\n",
       " tensor([1, 1, 1, 1, 1, 0, 1, 1], device='cuda:0'),\n",
       " tensor([1, 1, 1, 1, 1, 1, 2, 1], device='cuda:0'),\n",
       " tensor([1, 1, 1, 0, 1, 1, 1, 1], device='cuda:0'),\n",
       " tensor([1, 1], device='cuda:0'),\n",
       " tensor([1, 0, 1, 1, 1, 0, 0, 1], device='cuda:0'),\n",
       " tensor([0, 2, 1, 1, 2, 2, 0, 1], device='cuda:0'),\n",
       " tensor([1, 1, 1, 1, 1, 1, 0, 0], device='cuda:0'),\n",
       " tensor([1, 1, 0, 0, 1, 1, 2, 2], device='cuda:0'),\n",
       " tensor([2, 1, 1, 1, 0, 1, 1, 2], device='cuda:0'),\n",
       " tensor([1, 0, 0, 1, 1, 1, 1, 1], device='cuda:0'),\n",
       " tensor([1, 1, 1, 1, 1, 0, 1, 1], device='cuda:0'),\n",
       " tensor([0, 0, 1, 1, 0, 1, 2, 2], device='cuda:0'),\n",
       " tensor([1, 1, 1, 0, 1, 0, 2, 1], device='cuda:0'),\n",
       " tensor([1, 0], device='cuda:0')]"
      ]
     },
     "execution_count": 47,
     "metadata": {},
     "output_type": "execute_result"
    }
   ],
   "source": [
    "ExperimentModel.existingModels[0].valPreds"
   ]
  },
  {
   "cell_type": "code",
   "execution_count": null,
   "metadata": {},
   "outputs": [],
   "source": [
    "from sklearn.metrics import confusion_matrix\n",
    "import seaborn as sns\n",
    "\n",
    "# [[y.argmax().item() for y in w] for w in x.bestValPreds]\n",
    "# ([1, 2, 0, 1, 2, 2, 1, 1, 1, 1, 2, 1, 1, 1, 1, 2, 1, 1, 1, 1, 0, 0, 2, 1,\n",
    "#          1, 1, 1, 1, 1, 1, 0, 1, 1, 2, 0, 1, 1, 1, 1, 1, 1, 0, 1, 1, 0, 0, 1]\n",
    "# [[y.argmax().item() for y in w] for w in x.bestValPreds]\n",
    "preds = torch.tensor([0, 1, 0, 1, 1, 1, 1, 0, 1, 1, 2, 1, 1, 1, 1, 1, 1, 1, 1, 1, 1, 1, 1, 1,\n",
    "        1, 1, 1, 1, 1, 1, 1, 0, 0, 1, 0, 0, 1, 1, 1, 1, 1, 1, 1, 1, 0, 1, 1, 0,\n",
    "        1, 1, 1, 1, 0, 2, 0, 1, 1, 1, 2, 1, 1, 1, 1, 0, 1, 2, 2, 0, 2, 2, 1, 1,\n",
    "        1, 1])\n",
    "labels = torch.tensor([0, 1, 1, 1, 1, 1, 1, 1, 1, 1, 1, 1, 0, 2, 1, 0, 1, 2, 2, 1, 2, 1, 1, 1,\n",
    "        1, 1, 1, 1, 2, 1, 1, 2, 1, 1, 2, 0, 0, 2, 2, 0, 1, 1, 2, 2, 1, 1, 0, 2,\n",
    "        0, 1, 1, 1, 1, 1, 0, 1, 1, 1, 2, 1, 1, 1, 0, 1, 1, 1, 0, 1, 1, 0, 1, 1,\n",
    "        1, 1])\n",
    "index = 50\n",
    "cm = confusion_matrix(preds,labels)\n",
    "plt.figure(figsize=(8, 6))\n",
    "sns.heatmap(cm, annot=True, cmap='Blues', fmt='g')\n",
    "plt.xlabel('Predicted')\n",
    "plt.ylabel('Actual')\n",
    "plt.title('Confusion Matrix')\n",
    "plt.show()\n",
    "# plt.plot(confusion_matrix([[y.argmax().item() for y in w] for w in x.bestValPreds][index],x.bestValLabels[1].cpu()))\n",
    "print(classification_report(preds,labels))\n"
   ]
  },
  {
   "cell_type": "code",
   "execution_count": null,
   "metadata": {},
   "outputs": [],
   "source": [
    "img,_,_ = next(iter(trainLoader))\n",
    "x = model.features(img)"
   ]
  },
  {
   "cell_type": "code",
   "execution_count": null,
   "metadata": {},
   "outputs": [],
   "source": [
    "x.flatten(1,-1).shape"
   ]
  },
  {
   "cell_type": "code",
   "execution_count": null,
   "metadata": {},
   "outputs": [],
   "source": [
    "c = model.classifier(x.flatten(1,-1))"
   ]
  },
  {
   "cell_type": "code",
   "execution_count": null,
   "metadata": {},
   "outputs": [],
   "source": [
    "torch.unsqueeze(img[0],0).shape"
   ]
  },
  {
   "cell_type": "code",
   "execution_count": 72,
   "metadata": {},
   "outputs": [
    {
     "name": "stdout",
     "output_type": "stream",
     "text": [
      "tensor([[ 0.4603, -0.0584,  0.0571]], grad_fn=<AddmmBackward0>)\n",
      "torch.Size([1, 512, 15, 15])\n"
     ]
    }
   ],
   "source": [
    "vgg19.eval()\n",
    "img,lab,path = next(iter(trainLoader))\n",
    "pred = vgg19(torch.unsqueeze(img[0],0))\n",
    "print(pred)\n",
    "# get the gradient of the output with respect to the parameters of the model\n",
    "pred[:, 1].backward()\n",
    "\n",
    "# pull the gradients out of the model\n",
    "gradients = vgg19.get_activations_gradient()\n",
    "\n",
    "# pool the gradients across the channels\n",
    "pooled_gradients = torch.mean(gradients, dim=[0, 2, 3])\n",
    "\n",
    "# get the activations of the last convolutional layer\n",
    "activations = vgg19.get_activations(torch.unsqueeze(img[0],0)).detach()\n",
    "print(activations.shape)\n",
    "\n",
    "# weight the channels by corresponding gradients\n",
    "for i in range(512):\n",
    "    activations[:, i, :, :] *= pooled_gradients[i]\n",
    "    \n",
    "# average the channels of the activations\n",
    "heatmap = torch.mean(activations, dim=1).squeeze()\n",
    "\n",
    "# relu on top of the heatmap\n",
    "# expression (2) in https://arxiv.org/pdf/1610.02391.pdf\n",
    "heatmap = np.maximum(heatmap, 0)"
   ]
  },
  {
   "cell_type": "code",
   "execution_count": 93,
   "metadata": {},
   "outputs": [
    {
     "data": {
      "text/plain": [
       "True"
      ]
     },
     "execution_count": 93,
     "metadata": {},
     "output_type": "execute_result"
    }
   ],
   "source": [
    "import cv2\n",
    "img = cv2.imread(out[1][0])\n",
    "heatmap = cv2.resize(out[0][0].numpy(), (img.shape[1], img.shape[0]))\n",
    "heatmap = np.uint8(255 * heatmap)\n",
    "heatmap = cv2.applyColorMap(heatmap, cv2.COLORMAP_JET)\n",
    "superimposed_img = heatmap * 0.4 + img\n",
    "cv2.imwrite('./test.jpg', superimposed_img)"
   ]
  },
  {
   "cell_type": "code",
   "execution_count": 94,
   "metadata": {},
   "outputs": [
    {
     "data": {
      "text/plain": [
       "'C:\\\\Users\\\\assaw\\\\Documents\\\\c_stuff\\\\Python\\\\machine learning\\\\ISAIConference\\\\testIm/osteopenia/OP270.jpg'"
      ]
     },
     "execution_count": 94,
     "metadata": {},
     "output_type": "execute_result"
    }
   ],
   "source": [
    "out[1][0]"
   ]
  },
  {
   "cell_type": "code",
   "execution_count": null,
   "metadata": {},
   "outputs": [],
   "source": [
    "cv2.imwrite(\"img.jpg\",superimposed_img)"
   ]
  },
  {
   "cell_type": "code",
   "execution_count": null,
   "metadata": {},
   "outputs": [],
   "source": [
    "pred.argmax(dim=1)"
   ]
  },
  {
   "cell_type": "code",
   "execution_count": null,
   "metadata": {},
   "outputs": [],
   "source": [
    "model = torch.hub.load('pytorch/vision:v0.19.0', \"vgg19\",{\"num_classes\":3}, pretrained=True, )\n",
    "model.classifier[6] = torch.nn.Linear(4096,3)\n",
    "model"
   ]
  },
  {
   "cell_type": "code",
   "execution_count": null,
   "metadata": {},
   "outputs": [],
   "source": [
    "model = vgg19"
   ]
  },
  {
   "cell_type": "code",
   "execution_count": null,
   "metadata": {},
   "outputs": [],
   "source": [
    "import torch\n",
    "\n",
    "import torch.nn as nn\n",
    "import torch.optim as optim\n",
    "torch.cuda.empty_cache()\n",
    "# Define the loss function\n",
    "criterion = nn.CrossEntropyLoss(weight=torch.tensor([0.204, 0.052, 0.175],device='cuda'))\n",
    "\n",
    "# Define the optimizer\n",
    "optimizer = optim.SGD(model.parameters(), lr=0.001, momentum=0.9)\n",
    "\n",
    "# Set the device to GPU if available\n",
    "device = torch.device(\"cuda\")\n",
    "\n",
    "# Move the model to the device\n",
    "model = model.to(device)\n",
    "\n",
    "# Set the model to training mode\n",
    "model.train()\n",
    "\n",
    "num_epochs = 15\n",
    "\n",
    "accHistory = []\n",
    "lossHistory = []\n",
    "valAccHistory = []\n",
    "valLabs = []\n",
    "valPreds = []\n",
    "print(\"Starting training...\")\n",
    "\n",
    "# Training loop\n",
    "for epoch in range(num_epochs):\n",
    "    model.train()\n",
    "    running_loss = 0.0\n",
    "    running_accuracy = []\n",
    "    \n",
    "    # Iterate over the training dataset\n",
    "    for inputs, labels, _ in trainLoader:\n",
    "        # Move the inputs and labels to the device\n",
    "        inputs = inputs.to(device)\n",
    "        labels = labels.to(device)\n",
    "        \n",
    "        # Zero the gradients\n",
    "        optimizer.zero_grad()\n",
    "        \n",
    "        # Forward pass\n",
    "        outputs = model(inputs.float())\n",
    "        predicted_labels = torch.argmax(outputs, dim=1)\n",
    "        accuracy = torch.sum(predicted_labels == labels).item() / labels.size(0)\n",
    "        running_accuracy.append(accuracy)\n",
    "        # Compute the loss\n",
    "        loss = criterion(outputs, labels)\n",
    "        \n",
    "        # Backward pass\n",
    "        loss.backward()\n",
    "        \n",
    "        # Update the weights\n",
    "        optimizer.step()\n",
    "        \n",
    "        # Update the running loss\n",
    "        running_loss += loss.item()\n",
    "    \n",
    "    # Print the average loss for the epoch\n",
    "    print(f\"Epoch {epoch+1} - Loss: {running_loss / len(trainLoader)}\")\n",
    "    print(F\"Accuracy: {sum(running_accuracy)/len(running_accuracy)}\")\n",
    "    accHistory.append(sum(running_accuracy)/len(running_accuracy))\n",
    "    lossHistory.append(running_loss / len(trainLoader))\n",
    "\n",
    "    # Set the model to evaluation mode\n",
    "    model.eval()\n",
    "\n",
    "    # Disable gradient calculation\n",
    "    with torch.no_grad():\n",
    "        \n",
    "        runningValAccHistory = []\n",
    "        runningValLabs = []\n",
    "        runningValPreds = []\n",
    "        for inputs, labels, _ in valLoader:\n",
    "\n",
    "            # Move the inputs and labels to the device\n",
    "            inputs = inputs.to(device)\n",
    "            labels = labels.to(device)\n",
    "\n",
    "            # Forward pass\n",
    "            outputs = model(inputs.float())\n",
    "\n",
    "            # Compute the loss\n",
    "            loss = criterion(outputs, labels)\n",
    "\n",
    "            # Compute the predicted labels\n",
    "            predicted_labels = torch.argmax(outputs, dim=1)\n",
    "\n",
    "            # Compute the accuracy\n",
    "            accuracy = torch.sum(predicted_labels == labels).item() / labels.size(0)\n",
    "\n",
    "            runningValAccHistory.append(accuracy)\n",
    "            runningValLabs.append(labels)\n",
    "            runningValPreds.append(predicted_labels)\n",
    "\n",
    "        # print(f\"Validation Loss: {loss.item()}\")\n",
    "        valPreds.append(runningValPreds)\n",
    "        valLabs.append(runningValLabs)\n",
    "        print(f\"Validation Accuracy: {sum(runningValAccHistory)/len(valLoader)}\")\n",
    "        valAccHistory.append(sum(runningValAccHistory)/len(valLoader))"
   ]
  },
  {
   "cell_type": "code",
   "execution_count": null,
   "metadata": {},
   "outputs": [],
   "source": [
    "import seaborn as sns\n",
    "idx = 34\n",
    "predsTest = torch.cat(valPreds[idx-1])\n",
    "labelsTest = torch.cat(valLabs[idx-1])\n",
    "print(valAccHistory[idx-1])\n",
    "print(classification_report(predsTest.cpu(),labelsTest.cpu()))\n",
    "cm= confusion_matrix(predsTest.cpu(),labelsTest.cpu(),normalize='true')\n",
    "sns.heatmap(cm, annot=True, cmap='Blues', fmt='.2f',)\n",
    "plt.xlabel('Predicted')\n",
    "plt.ylabel('Actual')\n",
    "plt.title('Confusion Matrix')\n",
    "plt.show()\n"
   ]
  },
  {
   "cell_type": "code",
   "execution_count": null,
   "metadata": {},
   "outputs": [],
   "source": [
    "labelsTest"
   ]
  },
  {
   "cell_type": "code",
   "execution_count": null,
   "metadata": {},
   "outputs": [],
   "source": [
    "plt.plot(valAccHistory)"
   ]
  },
  {
   "cell_type": "code",
   "execution_count": null,
   "metadata": {},
   "outputs": [],
   "source": [
    "input , label, _ = next(iter(valLoader))\n",
    "# Move the inputs and labels to the device\n",
    "inputs = inputs.to(device)\n",
    "labels = labels.to(device)\n",
    "\n",
    "# Forward pass\n",
    "outputs = model(inputs)\n",
    "predicted_labels = torch.argmax(outputs, dim=1)\n",
    "print(predicted_labels)\n"
   ]
  },
  {
   "cell_type": "code",
   "execution_count": null,
   "metadata": {},
   "outputs": [],
   "source": [
    "import seaborn as sns\n",
    "import pandas as pd\n",
    "\n",
    "# Create a dataframe with the data\n",
    "df = pd.DataFrame({'Epoch': range(len(accHistory)), 'Accuracy': accHistory, 'Loss': lossHistory, 'Validation Accuracy': valAccHistory})\n",
    "\n",
    "# Create the line plot\n",
    "sns.relplot(data=df, x='Epoch', y='Accuracy', kind='line')\n",
    "sns.relplot(data=df, x='Epoch', y='Loss', kind='line')\n",
    "sns.relplot(data=df, x='Epoch', y='Validation Accuracy', kind='line')"
   ]
  },
  {
   "cell_type": "code",
   "execution_count": null,
   "metadata": {},
   "outputs": [],
   "source": [
    "torch.save(model.state_dict(), \"resnetClassic.pth\")"
   ]
  },
  {
   "cell_type": "code",
   "execution_count": null,
   "metadata": {},
   "outputs": [],
   "source": [
    "outputs = []\n",
    "label = []\n",
    "import gc\n",
    "gc.collect()\n",
    "torch.cuda.empty_cache()\n",
    "with torch.no_grad():\n",
    "    for inputs, labels, _ in valLoader:\n",
    "        # Move the inputs and labels to the device\n",
    "        inputs = inputs.to(device)\n",
    "        labels = labels.to(device)\n",
    "        label = labels\n",
    "        # Forward pass\n",
    "        outputs = model(inputs)\n",
    "\n",
    "        # Compute the loss\n",
    "        loss = criterion(outputs, labels)\n",
    "\n",
    "        # Compute the predicted labels\n",
    "        predicted_labels = torch.argmax(outputs, dim=1)\n",
    "\n",
    "        # Compute the accuracy\n",
    "        accuracy = torch.sum(predicted_labels == labels).item() / labels.size(0)"
   ]
  },
  {
   "cell_type": "code",
   "execution_count": null,
   "metadata": {},
   "outputs": [],
   "source": [
    "print(outputs.argmax(1))\n",
    "print(label)"
   ]
  }
 ],
 "metadata": {
  "kernelspec": {
   "display_name": "AI",
   "language": "python",
   "name": "python3"
  },
  "language_info": {
   "codemirror_mode": {
    "name": "ipython",
    "version": 3
   },
   "file_extension": ".py",
   "mimetype": "text/x-python",
   "name": "python",
   "nbconvert_exporter": "python",
   "pygments_lexer": "ipython3",
   "version": "3.10.14"
  }
 },
 "nbformat": 4,
 "nbformat_minor": 2
}
