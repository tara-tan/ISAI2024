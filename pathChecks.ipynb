{
 "cells": [
  {
   "cell_type": "code",
   "execution_count": 147,
   "metadata": {},
   "outputs": [],
   "source": [
    "import os \n",
    "def getAllPaths(path:str, excludeList = []):\n",
    "    path = path\n",
    "    pathList = []\n",
    "    labelList = []\n",
    "    dirList = os.listdir(path)[:3]\n",
    "    for idx, x in enumerate(dirList):\n",
    "        for xx in os.listdir(f\"{path}/{x}\"):\n",
    "            if not any(xxx in xx for xxx in excludeList):\n",
    "                pathList.append(f\"{path}/{x}/{xx}\")\n",
    "                labelList.append(idx)\n",
    "    return pathList, labelList\n",
    "\n",
    "trainPath = r\".\\processedImages\"\n",
    "valPath = r\".\\ValidationSet\"\n",
    "originalPath = r\".\\Osteoporosis Knee X-ray\"\n",
    "\n",
    "# excludeList = ['Rp','Rn','Sup','Sdown','Sleft','Sright']\n",
    "trainPathList,trainLabelList = getAllPaths(trainPath)\n",
    "valPathList,valLabelList = getAllPaths(valPath)\n",
    "originalPathList,originalLabelList = getAllPaths(originalPath)\n"
   ]
  },
  {
   "cell_type": "code",
   "execution_count": 148,
   "metadata": {},
   "outputs": [
    {
     "name": "stdout",
     "output_type": "stream",
     "text": [
      "duplicates:set()\n"
     ]
    }
   ],
   "source": [
    "#test for duplicates in train and validation set\n",
    "trainProcessed = [x.split(r'/')[-1].strip(r'.jpg')[:-1] for x in trainPathList]\n",
    "valProcessed = [x.split(r'/')[-1].strip(r'.jpg').strip(r'.JPEG') for x in valPathList]\n",
    "duplicates = set(trainProcessed).intersection(valProcessed)\n",
    "print(f\"duplicates:{duplicates}\")"
   ]
  },
  {
   "cell_type": "code",
   "execution_count": 149,
   "metadata": {},
   "outputs": [],
   "source": [
    "#removes duplicates to prevent contamination\n",
    "import pathlib\n",
    "for x in duplicates:\n",
    "    occurrence_indices = [index for index, value in enumerate(trainProcessed) if value == x]\n",
    "    print(occurrence_indices)\n",
    "    for xx in occurrence_indices:\n",
    "        pathlib.Path.unlink(pathlib.Path(trainPathList[xx])) "
   ]
  },
  {
   "cell_type": "code",
   "execution_count": 154,
   "metadata": {},
   "outputs": [
    {
     "name": "stdout",
     "output_type": "stream",
     "text": [
      "missing Images:[]\n"
     ]
    }
   ],
   "source": [
    "#test for missing images in train and validation set\n",
    "originalSet = set([x.split(r'/')[-1].strip(r'.jpg').strip(r'.JPEG') for x in originalPathList])\n",
    "experimentSet = set(trainProcessed + valProcessed)\n",
    "missingPaths = [x for x in originalSet if x not in experimentSet]\n",
    "missingPathsRe = [x for x in experimentSet if x not in originalSet]\n",
    "missingPaths.sort()\n",
    "missingPathsRe.sort()\n",
    "print(f\"missing Images:{missingPaths}\")\n",
    "# print(f\"missing Images:{missingPathsRe}\")\n",
    "# print(len(missingPathsRe))"
   ]
  },
  {
   "cell_type": "code",
   "execution_count": 152,
   "metadata": {},
   "outputs": [],
   "source": [
    "#to compare two folders\n",
    "imagesOrig = [x.split(r'/')[-1][:-5].strip(r'.jpg').strip(r'.JPEG') for x in originalPathList]\n",
    "imagesOrig\n",
    "imageCountsOrig = {}\n",
    "for x in imagesOrig:\n",
    "    try:\n",
    "        imageCountsOrig[str(x)] = imageCountsOrig[str(x)] + 1\n",
    "    except KeyError:\n",
    "        imageCountsOrig[str(x)] = 1\n",
    "\n",
    "images = [x.split(r'/')[-1][:-5].strip(r'.jpg').strip(r'.JPEG') for x in trainPathList]\n",
    "images\n",
    "imageCounts = {}\n",
    "for x in images:\n",
    "    try:\n",
    "        imageCounts[str(x)] = imageCounts[str(x)] + 1\n",
    "    except KeyError:\n",
    "        imageCounts[str(x)] = 1"
   ]
  },
  {
   "cell_type": "code",
   "execution_count": 145,
   "metadata": {},
   "outputs": [
    {
     "data": {
      "text/plain": [
       "{}"
      ]
     },
     "execution_count": 145,
     "metadata": {},
     "output_type": "execute_result"
    }
   ],
   "source": [
    "difference = {k: imageCounts[k] for k in set(imageCountsOrig) - set(imageCounts)}\n",
    "difference\n"
   ]
  }
 ],
 "metadata": {
  "kernelspec": {
   "display_name": "AI",
   "language": "python",
   "name": "python3"
  },
  "language_info": {
   "codemirror_mode": {
    "name": "ipython",
    "version": 3
   },
   "file_extension": ".py",
   "mimetype": "text/x-python",
   "name": "python",
   "nbconvert_exporter": "python",
   "pygments_lexer": "ipython3",
   "version": "3.10.14"
  }
 },
 "nbformat": 4,
 "nbformat_minor": 2
}
