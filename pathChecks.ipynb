{
 "cells": [
  {
   "cell_type": "code",
   "execution_count": 20,
   "metadata": {},
   "outputs": [],
   "source": [
    "import os \n",
    "def getAllPaths(path:str, excludeList = []):\n",
    "    path = path\n",
    "    pathList = []\n",
    "    labelList = []\n",
    "    dirList = os.listdir(path)[:3]\n",
    "    for idx, x in enumerate(dirList):\n",
    "        for xx in os.listdir(f\"{path}/{x}\"):\n",
    "            if not any(xxx in xx for xxx in excludeList):\n",
    "                pathList.append(f\"{path}/{x}/{xx}\")\n",
    "                labelList.append(idx)\n",
    "    return pathList, labelList\n",
    "\n",
    "trainPath = r\".\\ExperimentSetRawNoFlip\"\n",
    "valPath = r\".\\ValidationSet\"\n",
    "originalPath = r\".\\Osteoporosis Knee X-ray\"\n",
    "\n",
    "# excludeList = ['Rp','Rn','Sup','Sdown','Sleft','Sright']\n",
    "trainPathList,trainLabelList = getAllPaths(trainPath)\n",
    "valPathList,valLabelList = getAllPaths(valPath)\n",
    "originalPathList,originalLabelList = getAllPaths(originalPath)\n"
   ]
  },
  {
   "cell_type": "code",
   "execution_count": 21,
   "metadata": {},
   "outputs": [
    {
     "name": "stdout",
     "output_type": "stream",
     "text": [
      "duplicates:set()\n"
     ]
    }
   ],
   "source": [
    "#test for duplicates in train and validation set\n",
    "trainProcessed = [x.split(r'/')[-1].strip(r'.jpg').strip(r'.JPEG')[:-1] for x in trainPathList]\n",
    "valProcessed = [x.split(r'/')[-1].strip(r'.jpg').strip(r'.JPEG')[:-1] for x in valPathList]\n",
    "duplicates = set(trainProcessed).intersection(valProcessed)\n",
    "print(f\"duplicates:{duplicates}\")"
   ]
  },
  {
   "cell_type": "code",
   "execution_count": 19,
   "metadata": {},
   "outputs": [
    {
     "name": "stdout",
     "output_type": "stream",
     "text": [
      "[360]\n",
      "[366]\n",
      "[73]\n",
      "[34]\n",
      "[349]\n",
      "[370]\n",
      "[120]\n",
      "[31]\n",
      "[69]\n",
      "[76]\n",
      "[369]\n",
      "[363]\n",
      "[18]\n",
      "[301]\n",
      "[59]\n",
      "[300]\n",
      "[362]\n",
      "[40]\n",
      "[26]\n",
      "[342]\n",
      "[66]\n",
      "[65]\n",
      "[32]\n",
      "[21]\n",
      "[44]\n",
      "[371]\n",
      "[29]\n",
      "[61]\n",
      "[41]\n",
      "[337]\n"
     ]
    }
   ],
   "source": [
    "#removes duplicates to prevent contamination\n",
    "import pathlib\n",
    "for x in duplicates:\n",
    "    occurrence_indices = [index for index, value in enumerate(trainProcessed) if value == x]\n",
    "    print(occurrence_indices)\n",
    "    for xx in occurrence_indices:\n",
    "        pathlib.Path.unlink(pathlib.Path(trainPathList[xx])) "
   ]
  },
  {
   "cell_type": "code",
   "execution_count": 16,
   "metadata": {},
   "outputs": [
    {
     "name": "stdout",
     "output_type": "stream",
     "text": [
      "missing Images:[]\n"
     ]
    }
   ],
   "source": [
    "#test for missing images in train and validation set\n",
    "originalSet = set([x.split(r'/')[-1].strip(r'.jpg').strip(r'.JPEG') for x in originalPathList])\n",
    "experimentSet = set(trainProcessed + valProcessed)\n",
    "missingPaths = [x for x in originalSet if x not in experimentSet]\n",
    "missingPathsRe = [x for x in experimentSet if x not in originalSet]\n",
    "missingPaths.sort()\n",
    "missingPathsRe.sort()\n",
    "print(f\"missing Images:{missingPaths}\")\n",
    "# print(f\"missing Images:{missingPathsRe}\")\n",
    "# print(len(missingPathsRe))"
   ]
  },
  {
   "cell_type": "code",
   "execution_count": 152,
   "metadata": {},
   "outputs": [],
   "source": [
    "#to compare two folders\n",
    "imagesOrig = [x.split(r'/')[-1][:-5].strip(r'.jpg').strip(r'.JPEG') for x in originalPathList]\n",
    "imagesOrig\n",
    "imageCountsOrig = {}\n",
    "for x in imagesOrig:\n",
    "    try:\n",
    "        imageCountsOrig[str(x)] = imageCountsOrig[str(x)] + 1\n",
    "    except KeyError:\n",
    "        imageCountsOrig[str(x)] = 1\n",
    "\n",
    "images = [x.split(r'/')[-1][:-5].strip(r'.jpg').strip(r'.JPEG') for x in trainPathList]\n",
    "images\n",
    "imageCounts = {}\n",
    "for x in images:\n",
    "    try:\n",
    "        imageCounts[str(x)] = imageCounts[str(x)] + 1\n",
    "    except KeyError:\n",
    "        imageCounts[str(x)] = 1"
   ]
  },
  {
   "cell_type": "code",
   "execution_count": 145,
   "metadata": {},
   "outputs": [
    {
     "data": {
      "text/plain": [
       "{}"
      ]
     },
     "execution_count": 145,
     "metadata": {},
     "output_type": "execute_result"
    }
   ],
   "source": [
    "difference = {k: imageCounts[k] for k in set(imageCountsOrig) - set(imageCounts)}\n",
    "difference\n"
   ]
  },
  {
   "cell_type": "code",
   "execution_count": 13,
   "metadata": {},
   "outputs": [
    {
     "name": "stdout",
     "output_type": "stream",
     "text": [
      "lightning_logs/Resnet50Aug/version_0/epoch=1-step=178.ckpt\n",
      "lightning_logs/Resnet50Flip/version_0/epoch=0-step=89.ckpt\n",
      "lightning_logs/Resnet50Raw/version_1/epoch=8-step=801.ckpt\n",
      "lightning_logs/Resnet50Seg/version_0/epoch=15-step=1424.ckpt\n",
      "lightning_logs/VGG11lNoTransform/version_3/epoch=0-step=237.ckpt\n",
      "lightning_logs/VGG19Aug/version_0/epoch=1-step=568.ckpt\n",
      "lightning_logs/VGG19Flip/version_0/epoch=3-step=164.ckpt\n",
      "lightning_logs/VGG19Raw/version_0/epoch=13-step=336.ckpt\n",
      "lightning_logs/VGG19Seg/version_0/epoch=3-step=172.ckpt\n",
      "lightning_logs/VGGModelBalanced/version_0/epoch=14-step=5670.ckpt\n",
      "lightning_logs/VGGModelBalancedCenterCrop/version_0/epoch=1-step=568.ckpt\n",
      "lightning_logs/VGGModelCenterCrop/version_2/epoch=14-step=3555.ckpt\n",
      "lightning_logs/VGGModelCenterCrop/version_2/epoch=32-step=7821.ckpt\n",
      "lightning_logs/VGGModelCenterCrop/version_4/epoch=19-step=4740.ckpt\n",
      "lightning_logs/VGGModelCenterCrop/version_6/epoch=18-step=4503.ckpt\n",
      "lightning_logs/VGGModelCenterCropBalanced/version_0/epoch=20-step=7455.ckpt\n",
      "lightning_logs/VGGModelCenterCropBalanced/version_2/epoch=0-step=284.ckpt\n",
      "lightning_logs/VGGModelCenterCropBalanced/version_5/epoch=22-step=8165.ckpt\n",
      "lightning_logs/VGGModelCenterCropBalanced/version_7/epoch=29-step=10650.ckpt\n",
      "lightning_logs/VGGModelNoAugCenterCrop/version_3/epoch=33-step=1156.ckpt\n",
      "lightning_logs/VGGModelNoAugCenterCrop/version_3/epoch=48-step=1666.ckpt\n",
      "lightning_logs/VGGModelNoAugCenterCrop/version_4/epoch=28-step=986.ckpt\n",
      "lightning_logs/VGGModelNoAugCenterCrop/version_6/epoch=27-step=952.ckpt\n",
      "lightning_logs/VGGModelNoAugNoTransform/version_3/epoch=46-step=1598.ckpt\n",
      "lightning_logs/VGGModelNoAugNoTransform/version_3/epoch=49-step=1700.ckpt\n",
      "lightning_logs/VGGModelNoAugNoTransform/version_4/epoch=23-step=816.ckpt\n",
      "lightning_logs/VGGModelNoAugNoTransform/version_6/epoch=28-step=986.ckpt\n",
      "lightning_logs/VGGModelNoTransform/version_4/epoch=13-step=3318.ckpt\n",
      "lightning_logs/VGGModelNoTransform/version_4/epoch=14-step=3555.ckpt\n",
      "lightning_logs/VGGModelNoTransform/version_5/epoch=23-step=5688.ckpt\n",
      "lightning_logs/VGGModelNoTransform/version_8/epoch=16-step=4029.ckpt\n",
      "lightning_logs/VGGModelRotate/version_0/epoch=10-step=2607.ckpt\n",
      "lightning_logs/VGGModelRotate/version_0/epoch=23-step=5688.ckpt\n",
      "lightning_logs/VGGModelRotateCrop/version_0/epoch=11-step=2844.ckpt\n",
      "lightning_logs/VGGModelRotateCrop/version_0/epoch=6-step=1659.ckpt\n"
     ]
    }
   ],
   "source": [
    "# *** WARNING : Deletes all checkpoints in log directory ****\n",
    "\n",
    "# import os\n",
    "# import pathlib\n",
    "# logDir = 'lightning_logs'\n",
    "# def recurseDelete(path:str):\n",
    "#     for x in os.listdir(path):\n",
    "#         if os.path.isdir(f\"{path}/{x}\"):\n",
    "#             recurseDelete(f\"{path}/{x}\")\n",
    "#         else:\n",
    "#             if '.ckpt' in x:\n",
    "#                 print(f\"{path}/{x}\")\n",
    "#                 pathlib.Path.unlink(pathlib.Path(f\"{path}/{x}\"))\n",
    "# recurseDelete(logDir)"
   ]
  }
 ],
 "metadata": {
  "kernelspec": {
   "display_name": "AI",
   "language": "python",
   "name": "python3"
  },
  "language_info": {
   "codemirror_mode": {
    "name": "ipython",
    "version": 3
   },
   "file_extension": ".py",
   "mimetype": "text/x-python",
   "name": "python",
   "nbconvert_exporter": "python",
   "pygments_lexer": "ipython3",
   "version": "3.10.14"
  }
 },
 "nbformat": 4,
 "nbformat_minor": 2
}
