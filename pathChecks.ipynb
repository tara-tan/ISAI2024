{
 "cells": [
  {
   "cell_type": "code",
   "execution_count": 44,
   "metadata": {},
   "outputs": [],
   "source": [
    "import os \n",
    "def getAllPaths(Path:str):\n",
    "    Path = Path\n",
    "    PathList = []\n",
    "    LabelList = []\n",
    "    DirList = os.listdir(Path)[:3]\n",
    "    for idx, x in enumerate(DirList):\n",
    "        for xx in os.listdir(f\"{Path}/{x}\"):\n",
    "            PathList.append(f\"{Path}/{x}/{xx}\")\n",
    "            LabelList.append(idx)\n",
    "    return PathList, LabelList\n",
    "\n",
    "trainPath = r\".\\ExperimentSet\"\n",
    "valPath = r\".\\ValidationSet\"\n",
    "originalPath = r\".\\Osteoporosis Knee X-ray\"\n",
    "\n",
    "trainPathList,trainLabelList = getAllPaths(trainPath)\n",
    "valPathList,valLabelList = getAllPaths(valPath)\n",
    "originalPathList,originalLabelList = getAllPaths(originalPath)\n"
   ]
  },
  {
   "cell_type": "code",
   "execution_count": 45,
   "metadata": {},
   "outputs": [
    {
     "name": "stdout",
     "output_type": "stream",
     "text": [
      "duplicates:set()\n"
     ]
    }
   ],
   "source": [
    "#test for duplicates in train and validation set\n",
    "trainProcessed = [x.split(r'/')[-1].strip(r'.jpg')[:-1] for x in trainPathList]\n",
    "valProcessed = [x.split(r'/')[-1].strip(r'.jpg').strip(r'.JPEG') for x in valPathList]\n",
    "duplicates = set(trainProcessed).intersection(valProcessed)\n",
    "print(f\"duplicates:{duplicates}\")"
   ]
  },
  {
   "cell_type": "code",
   "execution_count": 46,
   "metadata": {},
   "outputs": [
    {
     "name": "stdout",
     "output_type": "stream",
     "text": [
      "missing Images:[]\n"
     ]
    }
   ],
   "source": [
    "#test for missing images in train and validation set\n",
    "originalSet = set([x.split(r'/')[-1].strip(r'.jpg').strip(r'.JPEG') for x in originalPathList])\n",
    "experimentSet = set(trainProcessed + valProcessed)\n",
    "missingPaths = [x for x in originalSet if x not in experimentSet]\n",
    "missingPaths.sort()\n",
    "print(f\"missing Images:{missingPaths}\")"
   ]
  }
 ],
 "metadata": {
  "kernelspec": {
   "display_name": "AI",
   "language": "python",
   "name": "python3"
  },
  "language_info": {
   "codemirror_mode": {
    "name": "ipython",
    "version": 3
   },
   "file_extension": ".py",
   "mimetype": "text/x-python",
   "name": "python",
   "nbconvert_exporter": "python",
   "pygments_lexer": "ipython3",
   "version": "3.10.14"
  }
 },
 "nbformat": 4,
 "nbformat_minor": 2
}
