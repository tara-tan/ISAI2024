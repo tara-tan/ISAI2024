{
 "cells": [
  {
   "cell_type": "code",
   "execution_count": 27,
   "metadata": {},
   "outputs": [],
   "source": []
  },
  {
   "cell_type": "code",
   "execution_count": 31,
   "metadata": {},
   "outputs": [
    {
     "name": "stderr",
     "output_type": "stream",
     "text": [
      "Downloading readme: 100%|██████████| 10.5k/10.5k [00:00<00:00, 21.3MB/s]\n",
      "Downloading data: 100%|██████████| 490M/490M [00:18<00:00, 26.4MB/s] \n",
      "Downloading data: 100%|██████████| 464M/464M [00:16<00:00, 28.2MB/s] \n",
      "Downloading data: 100%|██████████| 472M/472M [00:18<00:00, 25.7MB/s] \n",
      "Downloading data: 100%|██████████| 464M/464M [00:20<00:00, 23.0MB/s] \n",
      "Downloading data: 100%|██████████| 475M/475M [00:24<00:00, 19.4MB/s] \n",
      "Downloading data: 100%|██████████| 470M/470M [00:23<00:00, 20.0MB/s] \n",
      "Downloading data: 100%|██████████| 478M/478M [00:38<00:00, 12.4MB/s] \n",
      "Downloading data: 100%|██████████| 486M/486M [00:29<00:00, 16.6MB/s] \n",
      "Downloading data: 100%|██████████| 423M/423M [00:23<00:00, 17.9MB/s] \n",
      "Downloading data: 100%|██████████| 413M/413M [00:21<00:00, 18.9MB/s] \n",
      "Downloading data: 100%|██████████| 426M/426M [00:23<00:00, 18.2MB/s] \n",
      "Generating train split: 100%|██████████| 75750/75750 [00:08<00:00, 9414.64 examples/s] \n",
      "Generating validation split: 100%|██████████| 25250/25250 [00:02<00:00, 8655.77 examples/s]\n"
     ]
    }
   ],
   "source": [
    "dataset = load_dataset(\"food101\",trust_remote_code=True,split=\"train[:5000]\")"
   ]
  }
 ],
 "metadata": {
  "kernelspec": {
   "display_name": "AI",
   "language": "python",
   "name": "python3"
  },
  "language_info": {
   "codemirror_mode": {
    "name": "ipython",
    "version": 3
   },
   "file_extension": ".py",
   "mimetype": "text/x-python",
   "name": "python",
   "nbconvert_exporter": "python",
   "pygments_lexer": "ipython3",
   "version": "3.10.14"
  }
 },
 "nbformat": 4,
 "nbformat_minor": 2
}
